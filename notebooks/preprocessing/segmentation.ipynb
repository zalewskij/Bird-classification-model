{
 "cells": [
  {
   "cell_type": "code",
   "execution_count": null,
   "metadata": {
    "ExecuteTime": {
     "end_time": "2023-11-13T20:57:34.628612410Z",
     "start_time": "2023-11-13T20:57:34.417569681Z"
    }
   },
   "outputs": [],
   "source": [
    "import librosa\n",
    "import numpy as np\n",
    "import torch\n",
    "import torchaudio\n",
    "import matplotlib.pyplot as plt\n",
    "import os\n",
    "\n",
    "from birdclassification.preprocessing.utils import *\n",
    "from birdclassification.preprocessing.spectrogram import generate_mel_spectrogram, normalize_spectrogram_for_display\n",
    "from birdclassification.visualization.plots import *"
   ]
  },
  {
   "cell_type": "code",
   "execution_count": null,
   "metadata": {
    "ExecuteTime": {
     "end_time": "2023-11-13T20:57:34.629080267Z",
     "start_time": "2023-11-13T20:57:34.459495744Z"
    }
   },
   "outputs": [],
   "source": [
    "input_filename = '../../../tests/sounds/cygnus_olor_2.mp3'\n",
    "sr = 32000\n",
    "n_fft = 512 \n",
    "hop_length = 3 * 128\n",
    "sample_length = 3"
   ]
  },
  {
   "cell_type": "code",
   "execution_count": null,
   "metadata": {
    "ExecuteTime": {
     "end_time": "2023-11-13T20:57:34.629374952Z",
     "start_time": "2023-11-13T20:57:34.459910675Z"
    }
   },
   "outputs": [],
   "source": [
    "def plot_torch_spectrogram(specgram, title=None, ylabel=\"freq_bin\", ax=None):\n",
    "    if ax is None:\n",
    "        _, ax = plt.subplots(1, 1)\n",
    "    if title is not None:\n",
    "        ax.set_title(title)\n",
    "    ax.set_ylabel(ylabel)\n",
    "    ax.imshow(librosa.power_to_db(specgram), origin=\"lower\", aspect=\"auto\", interpolation=\"nearest\")"
   ]
  },
  {
   "cell_type": "code",
   "execution_count": null,
   "metadata": {
    "ExecuteTime": {
     "end_time": "2023-11-13T20:57:35.261645195Z",
     "start_time": "2023-11-13T20:57:35.089105073Z"
    }
   },
   "outputs": [],
   "source": [
    "y, sr_original = torchaudio.load(input_filename)\n",
    "y, sr_original"
   ]
  },
  {
   "cell_type": "code",
   "execution_count": null,
   "metadata": {
    "ExecuteTime": {
     "end_time": "2023-11-13T20:57:35.262626608Z",
     "start_time": "2023-11-13T20:57:35.217478606Z"
    }
   },
   "outputs": [],
   "source": [
    "if sr_original != sr:\n",
    "  y = torchaudio.transforms.Resample(orig_freq=sr_original, new_freq=sr)(y)\n",
    "\n",
    "y, sr"
   ]
  },
  {
   "cell_type": "code",
   "execution_count": null,
   "metadata": {},
   "outputs": [],
   "source": [
    "spectrogram = generate_mel_spectrogram(y, sr, n_fft, hop_length)\n",
    "spectrogram"
   ]
  },
  {
   "cell_type": "code",
   "execution_count": null,
   "metadata": {},
   "outputs": [],
   "source": [
    "array_to_image(normalize_spectrogram_for_display(spectrogram))"
   ]
  },
  {
   "cell_type": "code",
   "execution_count": null,
   "metadata": {
    "ExecuteTime": {
     "end_time": "2023-11-13T20:57:35.262886917Z",
     "start_time": "2023-11-13T20:57:35.227749653Z"
    }
   },
   "outputs": [],
   "source": [
    "@timer\n",
    "def create_spectrogram_torch(y):\n",
    "  transform = torchaudio.transforms.MelSpectrogram(sample_rate=sr, n_fft=n_fft, hop_length=hop_length, f_min=150, f_max=15000, n_mels=64)\n",
    "  return transform(y)[0]\n",
    "\n",
    "spectrogram_torch = create_spectrogram_torch(y)\n",
    "\n",
    "plt.figure(figsize=(12, 6))\n",
    "plt.imshow(librosa.power_to_db(spectrogram_torch), origin=\"lower\", aspect=\"auto\")"
   ]
  },
  {
   "cell_type": "code",
   "execution_count": null,
   "metadata": {},
   "outputs": [],
   "source": [
    "loudness = convert_waveform_to_loudness(y, n_fft, hop_length)\n",
    "\n",
    "plt.figure(figsize=(12, 6))\n",
    "plt.plot(librosa.power_to_db(loudness), color='blue')\n",
    "plt.grid()"
   ]
  },
  {
   "cell_type": "code",
   "execution_count": null,
   "metadata": {
    "ExecuteTime": {
     "end_time": "2023-11-13T20:57:36.980945761Z",
     "start_time": "2023-11-13T20:57:36.528601231Z"
    }
   },
   "outputs": [],
   "source": [
    "peak = get_loudest_index(y, n_fft, hop_length)\n",
    "peak"
   ]
  },
  {
   "cell_type": "code",
   "execution_count": null,
   "metadata": {},
   "outputs": [],
   "source": [
    "peak / hop_length"
   ]
  },
  {
   "cell_type": "code",
   "execution_count": null,
   "metadata": {},
   "outputs": [],
   "source": [
    "loudness.argmax()"
   ]
  },
  {
   "cell_type": "code",
   "execution_count": null,
   "metadata": {
    "ExecuteTime": {
     "end_time": "2023-11-13T20:57:37.056080873Z",
     "start_time": "2023-11-13T20:57:36.992078100Z"
    }
   },
   "outputs": [],
   "source": [
    "y_cut = cut_around_index(y, peak, sr * sample_length)\n",
    "y_cut"
   ]
  },
  {
   "cell_type": "code",
   "execution_count": null,
   "metadata": {},
   "outputs": [],
   "source": [
    "spectrogram_cut = generate_mel_spectrogram(y_cut, sr, n_fft, hop_length)\n",
    "array_to_image(normalize_spectrogram_for_display(spectrogram_cut))"
   ]
  },
  {
   "cell_type": "code",
   "execution_count": null,
   "metadata": {},
   "outputs": [],
   "source": [
    "start_index = None\n",
    "end_index = None\n",
    "\n",
    "for i in range(y.size(1) - y_cut.size(1) + 1):\n",
    "    if torch.all(y[:, i:i + y_cut.size(1)] == y_cut):\n",
    "        start_index = i\n",
    "        end_index = i + y_cut.size(1) - 1\n",
    "        break\n",
    "    \n",
    "start_index, end_index"
   ]
  },
  {
   "cell_type": "code",
   "execution_count": null,
   "metadata": {},
   "outputs": [],
   "source": [
    "plt.figure(figsize=(12, 6))\n",
    "plt.plot(librosa.power_to_db(loudness), color='blue')\n",
    "plt.axvspan(start_index / hop_length, end_index / hop_length, color='red', alpha=0.5)\n",
    "plt.grid()"
   ]
  },
  {
   "cell_type": "code",
   "execution_count": null,
   "metadata": {},
   "outputs": [],
   "source": [
    "plt.figure(figsize=(12, 6))\n",
    "plt.imshow(librosa.power_to_db(spectrogram_torch), origin=\"lower\", aspect=\"auto\")\n",
    "plt.axvspan(start_index / hop_length, end_index / hop_length, color='red', alpha=0.25)"
   ]
  }
 ],
 "metadata": {
  "kernelspec": {
   "display_name": "Python 3",
   "language": "python",
   "name": "python3"
  },
  "language_info": {
   "codemirror_mode": {
    "name": "ipython",
    "version": 3
   },
   "file_extension": ".py",
   "mimetype": "text/x-python",
   "name": "python",
   "nbconvert_exporter": "python",
   "pygments_lexer": "ipython3",
   "version": "3.10.12"
  }
 },
 "nbformat": 4,
 "nbformat_minor": 2
}
