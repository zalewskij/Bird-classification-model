{
 "cells": [
  {
   "cell_type": "markdown",
   "metadata": {
    "collapsed": false
   },
   "source": [
    "# Matched filter"
   ]
  },
  {
   "cell_type": "markdown",
   "metadata": {
    "collapsed": false
   },
   "source": [
    "## Select matched filter"
   ]
  },
  {
   "cell_type": "code",
   "execution_count": null,
   "metadata": {
    "ExecuteTime": {
     "end_time": "2023-10-09T08:28:59.005859219Z",
     "start_time": "2023-10-09T08:28:58.991318510Z"
    },
    "collapsed": false
   },
   "outputs": [],
   "source": [
    "import soundfile as sf\n",
    "from scipy import signal\n",
    "from birdclassification.visualization.plots import *\n",
    "import numpy as np\n",
    "from matplotlib import pyplot as plt\n",
    "%matplotlib inline"
   ]
  },
  {
   "cell_type": "code",
   "execution_count": null,
   "metadata": {
    "ExecuteTime": {
     "end_time": "2023-10-09T08:28:59.811150708Z",
     "start_time": "2023-10-09T08:28:58.994163546Z"
    },
    "collapsed": false
   },
   "outputs": [],
   "source": [
    "x_1, sr = sf.read('myszołów.mp3')\n",
    "x=x_1[:,0] #pick one channel\n",
    "plot_waveform(x, sr)"
   ]
  },
  {
   "cell_type": "code",
   "execution_count": null,
   "metadata": {
    "ExecuteTime": {
     "end_time": "2023-10-09T08:28:59.943563820Z",
     "start_time": "2023-10-09T08:28:59.679109167Z"
    },
    "collapsed": false
   },
   "outputs": [],
   "source": [
    "plot_waveform(x[201000:220000],sr)"
   ]
  },
  {
   "cell_type": "markdown",
   "metadata": {
    "collapsed": false
   },
   "source": [
    "## Apply filter"
   ]
  },
  {
   "cell_type": "code",
   "execution_count": null,
   "metadata": {
    "ExecuteTime": {
     "end_time": "2023-10-09T08:29:01.552999964Z",
     "start_time": "2023-10-09T08:28:59.946742521Z"
    },
    "collapsed": false
   },
   "outputs": [],
   "source": [
    "h=np.flip(x[201000:220000])\n",
    "a=1\n",
    "x_new=signal.lfilter(h, a, x)\n",
    "filter_delay=int((len(h)-1)/2)"
   ]
  },
  {
   "cell_type": "code",
   "execution_count": null,
   "metadata": {
    "ExecuteTime": {
     "end_time": "2023-10-09T08:29:02.175977191Z",
     "start_time": "2023-10-09T08:29:01.561064862Z"
    },
    "collapsed": false
   },
   "outputs": [],
   "source": [
    "plot_waveform(x_new, sr)"
   ]
  },
  {
   "cell_type": "markdown",
   "metadata": {
    "collapsed": false
   },
   "source": [
    "## Envelope"
   ]
  },
  {
   "cell_type": "code",
   "execution_count": null,
   "metadata": {
    "ExecuteTime": {
     "end_time": "2023-10-09T08:29:02.176186743Z",
     "start_time": "2023-10-09T08:29:02.005281414Z"
    },
    "collapsed": false
   },
   "outputs": [],
   "source": [
    "from scipy.signal import hilbert"
   ]
  },
  {
   "cell_type": "code",
   "execution_count": null,
   "metadata": {
    "ExecuteTime": {
     "end_time": "2023-10-09T08:29:02.433950456Z",
     "start_time": "2023-10-09T08:29:02.005503950Z"
    },
    "collapsed": false
   },
   "outputs": [],
   "source": [
    "analytic_signal = hilbert(x_new)\n",
    "envelope = np.abs(analytic_signal)\n",
    "b=np.ones(1000)\n",
    "b=b/len(b)\n",
    "a=1\n",
    "envelope_1=signal.filtfilt(b, a,envelope)"
   ]
  },
  {
   "cell_type": "code",
   "execution_count": null,
   "metadata": {
    "ExecuteTime": {
     "end_time": "2023-10-09T08:29:03.106774407Z",
     "start_time": "2023-10-09T08:29:02.434243461Z"
    },
    "collapsed": false
   },
   "outputs": [],
   "source": [
    "plt.figure(figsize=(16, 8))\n",
    "plt.plot(x_new, color='blue')\n",
    "plt.plot(envelope_1, color=\"red\")\n",
    "plt.xlim([0, x_new.shape[0]])\n",
    "plt.ylim([0,0.1])\n",
    "plt.xlabel('Time (samples)')\n",
    "plt.ylabel('Amplitude')\n",
    "plt.grid()"
   ]
  },
  {
   "cell_type": "markdown",
   "metadata": {
    "collapsed": false
   },
   "source": [
    "## Select filtered chunks"
   ]
  },
  {
   "cell_type": "code",
   "execution_count": null,
   "metadata": {
    "ExecuteTime": {
     "end_time": "2023-10-09T08:29:03.113953561Z",
     "start_time": "2023-10-09T08:29:03.109182294Z"
    },
    "collapsed": false
   },
   "outputs": [],
   "source": [
    "# do poprawy\n",
    "# https://docs.scipy.org/doc/scipy/reference/generated/scipy.signal.peak_widths.html\n",
    "threshold=0.0175\n",
    "ind_stop=np.where((envelope_1[0:-2]>=threshold)&(envelope_1[1:-1]<threshold))\n",
    "env_shift = np.empty(len(envelope_1))\n",
    "env_shift[0]=np.NaN\n",
    "env_shift[1:]=envelope_1[0:-1]\n",
    "ind_start=np.where((envelope_1>=threshold)&(env_shift<threshold))\n",
    "time_start=ind_start[0]-filter_delay\n",
    "time_stop=ind_stop[0]-filter_delay\n",
    "start_stop=np.sort(np.concatenate((time_start, time_stop)))\n"
   ]
  },
  {
   "cell_type": "code",
   "execution_count": null,
   "metadata": {
    "ExecuteTime": {
     "end_time": "2023-10-09T08:29:03.877725051Z",
     "start_time": "2023-10-09T08:29:03.114972983Z"
    },
    "collapsed": false
   },
   "outputs": [],
   "source": [
    "plot_selected_waveform(x, start_stop)"
   ]
  }
 ],
 "metadata": {
  "kernelspec": {
   "display_name": "Python 3",
   "language": "python",
   "name": "python3"
  },
  "language_info": {
   "codemirror_mode": {
    "name": "ipython",
    "version": 3
   },
   "file_extension": ".py",
   "mimetype": "text/x-python",
   "name": "python",
   "nbconvert_exporter": "python",
   "pygments_lexer": "ipython3",
   "version": "3.10.12"
  }
 },
 "nbformat": 4,
 "nbformat_minor": 4
}
