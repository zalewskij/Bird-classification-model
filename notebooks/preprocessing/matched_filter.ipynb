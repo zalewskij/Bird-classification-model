{
 "cells": [
  {
   "cell_type": "markdown",
   "metadata": {
    "collapsed": false
   },
   "source": [
    "# Load a sample, select a part of the waveform to be used as a filter"
   ]
  },
  {
   "cell_type": "code",
   "execution_count": null,
   "metadata": {
    "collapsed": false
   },
   "outputs": [],
   "source": [
    "import soundfile as sf\n",
    "from birdclassification.visualization.plots import plot_waveform\n",
    "import librosa\n",
    "import matplotlib.pyplot as plt\n",
    "%matplotlib inline"
   ]
  },
  {
   "cell_type": "code",
   "execution_count": null,
   "metadata": {},
   "outputs": [],
   "source": [
    "SAMPLE_RATE = 44100\n",
    "\n",
    "x_1, sr = sf.read('../test_recordings/myszołów_szum.mp3')\n",
    "x=x_1[:,0] #get only one channel\n",
    "x = librosa.resample(x, orig_sr=sr, target_sr=SAMPLE_RATE)\n",
    "#x, sr = librosa.load('../test_recordings/myszołów_szum.mp3')\n",
    "plot_waveform(x, sr)"
   ]
  },
  {
   "cell_type": "markdown",
   "metadata": {
    "collapsed": false
   },
   "source": []
  },
  {
   "cell_type": "code",
   "execution_count": null,
   "metadata": {},
   "outputs": [],
   "source": [
    "#plot_waveform(x=x[90800:113000],sr=sr)\n",
    "plot_waveform(x[201000:220000], sr = SAMPLE_RATE)"
   ]
  },
  {
   "cell_type": "markdown",
   "metadata": {
    "collapsed": false
   },
   "source": [
    "\n",
    "\n",
    "\n",
    "\n",
    "\n",
    "# Matched filter on the recording\n"
   ]
  },
  {
   "cell_type": "code",
   "execution_count": null,
   "metadata": {
    "collapsed": false
   },
   "outputs": [],
   "source": [
    "from utils import matched_filter\n",
    "f = x[201000:220000]\n",
    "matched_filter(x, SAMPLE_RATE, f)"
   ]
  },
  {
   "cell_type": "code",
   "execution_count": null,
   "metadata": {
    "collapsed": false
   },
   "outputs": [],
   "source": [
    "from preprocessing.filtering import filter_by_species\n",
    "import pandas as pd\n",
    "\n",
    "df = pd.read_csv(\"../../data/xeno_canto_recordings.csv\")\n",
    "df = filter_by_species(df, gen = 'buteo', sp = 'buteo')\n",
    "df"
   ]
  },
  {
   "cell_type": "markdown",
   "metadata": {
    "collapsed": false
   },
   "source": []
  },
  {
   "cell_type": "markdown",
   "metadata": {
    "collapsed": false
   },
   "source": [
    "## Myszołów - resample + match filter"
   ]
  },
  {
   "cell_type": "code",
   "execution_count": null,
   "metadata": {
    "collapsed": false
   },
   "outputs": [],
   "source": [
    "for i in df['id'].iloc[:25]:\n",
    "   x_1, sr = sf.read(f'/media/jacek/E753-A120/xeno-canto/{i}.mp3')\n",
    "   try:\n",
    "      x=x_1[:,0] #get only one channel\n",
    "   except:\n",
    "      x = x_1\n",
    "\n",
    "   x = librosa.resample(x, orig_sr=sr, target_sr=SAMPLE_RATE)\n",
    "   matched_filter(x, SAMPLE_RATE, f)\n",
    "   plt.show()\n",
    "   print(f\"id: {i}, length: {len(x)} type: {x.dtype} sampling_rate: {SAMPLE_RATE}\")"
   ]
  },
  {
   "cell_type": "markdown",
   "metadata": {
    "collapsed": false
   },
   "source": [
    "## Drozd śpiewak"
   ]
  },
  {
   "cell_type": "code",
   "execution_count": null,
   "metadata": {
    "collapsed": false
   },
   "outputs": [],
   "source": [
    "import pandas as pd\n",
    "\n",
    "df = pd.read_csv(\"../../data/xeno_canto_recordings.csv\")\n",
    "df = filter_by_species(df, gen = 'Turdus', sp = 'philomelos')\n",
    "df"
   ]
  },
  {
   "cell_type": "code",
   "execution_count": null,
   "metadata": {
    "collapsed": false
   },
   "outputs": [],
   "source": [
    "SAMPLE_RATE = 44100\n",
    "i = df['id'].iloc[2]\n",
    "x_1, sr = sf.read(f'/media/jacek/E753-A120/xeno-canto/{i}.mp3')\n",
    "try:\n",
    "   x=x_1[:,0] #get only one channel\n",
    "except:\n",
    "   x = x_1\n",
    "\n",
    "x = librosa.resample(x, orig_sr=sr, target_sr=SAMPLE_RATE)\n",
    "plot_waveform(x, SAMPLE_RATE)\n"
   ]
  }
 ],
 "metadata": {
  "kernelspec": {
   "display_name": "Python 3",
   "language": "python",
   "name": "python3"
  },
  "language_info": {
   "codemirror_mode": {
    "name": "ipython",
    "version": 3
   },
   "file_extension": ".py",
   "mimetype": "text/x-python",
   "name": "python",
   "nbconvert_exporter": "python",
   "pygments_lexer": "ipython3",
   "version": "3.8.5"
  }
 },
 "nbformat": 4,
 "nbformat_minor": 4
}
