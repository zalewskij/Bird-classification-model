{
 "cells": [
  {
   "cell_type": "code",
   "execution_count": 2,
   "id": "initial_id",
   "metadata": {
    "collapsed": true,
    "ExecuteTime": {
     "end_time": "2023-12-16T23:04:23.436947Z",
     "start_time": "2023-12-16T23:04:22.337701Z"
    }
   },
   "outputs": [],
   "source": [
    "import pandas as pd\n",
    "from pydub import AudioSegment\n",
    "import os\n",
    "from birdclassification.preprocessing.filtering import filter_recordings_30\n",
    "\n",
    "#ESC50\n",
    "esc50_original_csv = \"/Users/zosia/Desktop/NotBirds/Original_csv/esc50.csv\"\n",
    "esc50_audio = \"/Users/zosia/Desktop/NotBirds/ESC50\"\n",
    "esc50_output_audio = \"/Users/zosia/Desktop/NotBirds/ESC50\"\n",
    "\n",
    "#Audioset\n",
    "audioset_original_csv = \"/Users/zosia/Desktop/NotBirds/Original_csv/audioset.csv\"\n",
    "audioset_original_csv_labels = \"/Users/zosia/Desktop/NotBirds/Original_csv/audioset_labels.csv\"\n",
    "audioset_audio = \"/Users/zosia/Desktop/NotBirds/Audioset\"\n",
    "audioset_output_audio = \"/Users/zosia/Desktop/NotBirds/Audioset\"\n",
    "\n",
    "#WARBLRB\n",
    "warblrb_original_csv = \"/Users/zosia/Desktop/NotBirds/Original_csv/warblrb.csv\"\n",
    "warblrb_audio = \"/Users/zosia/Desktop/NotBirds/Warblrb\"\n",
    "warblrb_output_audio = \"/Users/zosia/Desktop/NotBirds/Warblrb\"\n",
    "\n",
    "#Freefield\n",
    "freefield_original_csv = \"/Users/zosia/Desktop/NotBirds/Original_csv/freefield.csv\"\n",
    "freefield_audio = \"/Users/zosia/Desktop/NotBirds/Freefield\"\n",
    "freefield_output_audio = \"/Users/zosia/Desktop/NotBirds/Freefield\"\n",
    "\n",
    "#Output CSV\n",
    "output_folder_all = \"/Users/zosia/Desktop/data.csv\"\n",
    "output_folder_noises = \"/Users/zosia/Desktop/noises.csv\""
   ]
  },
  {
   "cell_type": "code",
   "execution_count": 3,
   "outputs": [],
   "source": [
    "def convert(recordings_folder, output_folder):\n",
    "    i=0\n",
    "    for filename in os.listdir(recordings_folder):\n",
    "        i+=1\n",
    "        if filename.endswith(\".wav\"):\n",
    "            input_path = os.path.join(recordings_folder, filename)\n",
    "            output_filename = os.path.splitext(filename)[0] + '.ogg'\n",
    "            output_path = os.path.join(output_folder, output_filename)\n",
    "    \n",
    "            sound = AudioSegment.from_wav(input_path)\n",
    "            sound = sound.set_frame_rate(32000)\n",
    "            sound.export(output_path, format=\"ogg\")\n",
    "            if i%100==0:\n",
    "                print(i)"
   ],
   "metadata": {
    "collapsed": false,
    "ExecuteTime": {
     "end_time": "2023-12-16T23:04:25.415885Z",
     "start_time": "2023-12-16T23:04:25.398765Z"
    }
   },
   "id": "2eac695e58626476"
  },
  {
   "cell_type": "code",
   "execution_count": 3,
   "outputs": [],
   "source": [
    "def delete_files(bird_files, path, row_name):\n",
    "    for index, row in bird_files.iterrows():\n",
    "        filename = row[row_name]\n",
    "        file_path = os.path.join(path, filename)\n",
    "        try:\n",
    "            os.remove(file_path)\n",
    "            print(f\"Deleted: {file_path}\")\n",
    "        except FileNotFoundError:\n",
    "            print(\"Not found\")\n",
    "        except Exception as e:\n",
    "            print(f\"Error deleting file {file_path}: {e}\")"
   ],
   "metadata": {
    "collapsed": false,
    "ExecuteTime": {
     "end_time": "2023-12-11T12:26:43.770272Z",
     "start_time": "2023-12-11T12:26:43.767666Z"
    }
   },
   "id": "9ef8e2b8c71d6975"
  },
  {
   "cell_type": "markdown",
   "source": [
    "### ESC50"
   ],
   "metadata": {
    "collapsed": false
   },
   "id": "45826aaea9ac709"
  },
  {
   "cell_type": "code",
   "execution_count": 4,
   "outputs": [
    {
     "name": "stdout",
     "output_type": "stream",
     "text": [
      "Overall size:  2000\n"
     ]
    }
   ],
   "source": [
    "df = pd.read_csv(esc50_original_csv, delimiter=\",\")\n",
    "print(\"Overall size: \", df.shape[0])"
   ],
   "metadata": {
    "collapsed": false,
    "ExecuteTime": {
     "end_time": "2023-12-11T12:26:43.781085Z",
     "start_time": "2023-12-11T12:26:43.771679Z"
    }
   },
   "id": "82a15d0a336cbb75"
  },
  {
   "cell_type": "code",
   "execution_count": 5,
   "outputs": [],
   "source": [
    "categories_to_delete = ['rooster', 'hen', 'crow', 'chirping_birds']\n",
    "bird_files = df[df['category'].isin(categories_to_delete)]\n",
    "\n",
    "#delete_files(bird_files, esc50_audio, 'filename')\n",
    "\n",
    "new_df = df[~df['filename'].isin(bird_files['filename'])]\n",
    "\n",
    "new_df = new_df[['filename']]\n",
    "new_df['isBird'] = 0\n",
    "new_df['folder'] = 'ESC50'\n",
    "new_df['filename'] = new_df['filename'].str.replace('.wav', '')\n",
    "esc50_df = new_df"
   ],
   "metadata": {
    "collapsed": false,
    "ExecuteTime": {
     "end_time": "2023-12-11T12:26:43.813Z",
     "start_time": "2023-12-11T12:26:43.788033Z"
    }
   },
   "id": "7742f9e2f568101e"
  },
  {
   "cell_type": "code",
   "execution_count": 6,
   "outputs": [
    {
     "name": "stdout",
     "output_type": "stream",
     "text": [
      "Size after excluding chosen categories:  1840\n"
     ]
    }
   ],
   "source": [
    "print(\"Size after excluding chosen categories: \", esc50_df.shape[0])"
   ],
   "metadata": {
    "collapsed": false,
    "ExecuteTime": {
     "end_time": "2023-12-11T12:26:43.823817Z",
     "start_time": "2023-12-11T12:26:43.793398Z"
    }
   },
   "id": "a26ef30eb34fee77"
  },
  {
   "cell_type": "code",
   "execution_count": 7,
   "outputs": [],
   "source": [
    "if sum([len(files) for root, dirs, files in os.walk(esc50_output_audio)]) <= esc50_df.shape[0]:\n",
    "    convert(esc50_audio, esc50_output_audio)"
   ],
   "metadata": {
    "collapsed": false,
    "ExecuteTime": {
     "end_time": "2023-12-11T12:26:43.824184Z",
     "start_time": "2023-12-11T12:26:43.796724Z"
    }
   },
   "id": "e941b6183df4d1e9"
  },
  {
   "cell_type": "markdown",
   "source": [
    "### WARBLRB"
   ],
   "metadata": {
    "collapsed": false
   },
   "id": "a1afa9ea1035a68e"
  },
  {
   "cell_type": "code",
   "execution_count": 8,
   "outputs": [
    {
     "name": "stdout",
     "output_type": "stream",
     "text": [
      "Overall size:  8000\n"
     ]
    }
   ],
   "source": [
    "df = pd.read_csv(warblrb_original_csv, delimiter=\",\")\n",
    "print(\"Overall size: \", df.shape[0])"
   ],
   "metadata": {
    "collapsed": false,
    "ExecuteTime": {
     "end_time": "2023-12-11T12:26:43.824495Z",
     "start_time": "2023-12-11T12:26:43.805454Z"
    }
   },
   "id": "9c94b92bca7fa871"
  },
  {
   "cell_type": "code",
   "execution_count": 9,
   "outputs": [],
   "source": [
    "bird_files = df[df['hasbird'] == 1]\n",
    "\n",
    "#delete_files(bird_files, warblrb_audio, 'itemid')\n",
    "\n",
    "new_df = df[df['hasbird'] == 0]\n",
    "new_df = new_df[['itemid', 'hasbird']]\n",
    "new_df['folder'] = 'Warblrb'\n",
    "new_df.rename(columns={'itemid': 'filename', 'hasbird': 'isBird'}, inplace=True)\n",
    "warblrb_df = new_df"
   ],
   "metadata": {
    "collapsed": false,
    "ExecuteTime": {
     "end_time": "2023-12-11T12:26:43.825287Z",
     "start_time": "2023-12-11T12:26:43.813163Z"
    }
   },
   "id": "beac5554a305b6fe"
  },
  {
   "cell_type": "code",
   "execution_count": 10,
   "outputs": [
    {
     "name": "stdout",
     "output_type": "stream",
     "text": [
      "Size after excluding chosen categories:  1955\n"
     ]
    }
   ],
   "source": [
    "print(\"Size after excluding chosen categories: \", warblrb_df.shape[0])"
   ],
   "metadata": {
    "collapsed": false,
    "ExecuteTime": {
     "end_time": "2023-12-11T12:26:43.825568Z",
     "start_time": "2023-12-11T12:26:43.817368Z"
    }
   },
   "id": "47811b7fa6fed835"
  },
  {
   "cell_type": "code",
   "execution_count": 11,
   "outputs": [],
   "source": [
    "if sum([len(files) for root, dirs, files in os.walk(warblrb_output_audio)]) <= warblrb_df.shape[0]:\n",
    "    convert(warblrb_audio, warblrb_output_audio)"
   ],
   "metadata": {
    "collapsed": false,
    "ExecuteTime": {
     "end_time": "2023-12-11T12:26:43.885781Z",
     "start_time": "2023-12-11T12:26:43.821147Z"
    }
   },
   "id": "7d5e00693152f246"
  },
  {
   "cell_type": "markdown",
   "source": [
    "### AUDIOSET"
   ],
   "metadata": {
    "collapsed": false
   },
   "id": "fe27db91f7819035"
  },
  {
   "cell_type": "code",
   "execution_count": 12,
   "outputs": [],
   "source": [
    "df_classes = pd.read_csv(audioset_original_csv, delimiter=',')\n",
    "df_labels = pd.read_csv(audioset_original_csv_labels, delimiter=',')"
   ],
   "metadata": {
    "collapsed": false,
    "ExecuteTime": {
     "end_time": "2023-12-11T12:26:43.897586Z",
     "start_time": "2023-12-11T12:26:43.854899Z"
    }
   },
   "id": "edd50579dc1624e3"
  },
  {
   "cell_type": "code",
   "execution_count": 13,
   "outputs": [
    {
     "name": "stdout",
     "output_type": "stream",
     "text": [
      "Overall size:  19644\n"
     ]
    }
   ],
   "source": [
    "df_classes['positive_labels'] = df_classes['positive_labels'].str.split(',')\n",
    "df_classes = df_classes.explode('positive_labels')\n",
    "\n",
    "merged_df = pd.merge(df_classes, df_labels, left_on='positive_labels', right_on='mid')\n",
    "df = merged_df.groupby('YTID')['display_name'].agg(list).reset_index()\n",
    "print(\"Overall size: \", df.shape[0])"
   ],
   "metadata": {
    "collapsed": false,
    "ExecuteTime": {
     "end_time": "2023-12-11T12:26:44.097486Z",
     "start_time": "2023-12-11T12:26:43.878365Z"
    }
   },
   "id": "1e892fe9f9cde7b1"
  },
  {
   "cell_type": "code",
   "execution_count": 14,
   "outputs": [],
   "source": [
    "categories_to_delete = ['Bird', 'Bird vocalization, bird call, bird song', 'Chirp, tweet', 'Squawk', 'Pigeon, dove', 'Coo', 'Crow', 'Caw', 'Owl', 'Hoot', 'Bird flight, flapping wings', 'Fowl', 'Chicken, rooster', 'Cluck', 'Crowing cock-a-doodle-doo', 'Turkey', 'Gobble', 'Duck', 'Quack', 'Goose', 'Honk', 'Field recording', 'Croak', 'Squeal', 'Chirp tone', 'Wild animals']\n",
    "bird_files = df[df['display_name'].apply(lambda x: any(cat in x for cat in categories_to_delete))]\n",
    "\n",
    "#delete_files(bird_files, audioset_audio, 'YTID')\n",
    "\n",
    "new_df = df[~df['display_name'].isin(bird_files['display_name'])].copy()\n",
    "\n",
    "new_df.loc[:, 'folder'] = 'Audioset'\n",
    "new_df.loc[:, 'isBird'] = 0\n",
    "new_df.rename(columns={'YTID': 'filename'}, inplace=True)\n",
    "audioset_df = new_df[['filename', 'isBird', 'folder']].copy()"
   ],
   "metadata": {
    "collapsed": false,
    "ExecuteTime": {
     "end_time": "2023-12-11T12:26:44.181919Z",
     "start_time": "2023-12-11T12:26:44.125400Z"
    }
   },
   "id": "7e00c56398b26b1d"
  },
  {
   "cell_type": "code",
   "execution_count": 15,
   "outputs": [
    {
     "name": "stdout",
     "output_type": "stream",
     "text": [
      "Size after excluding chosen categories:  18779\n"
     ]
    }
   ],
   "source": [
    "print(\"Size after excluding chosen categories: \", audioset_df.shape[0])"
   ],
   "metadata": {
    "collapsed": false,
    "ExecuteTime": {
     "end_time": "2023-12-11T12:26:44.189805Z",
     "start_time": "2023-12-11T12:26:44.182384Z"
    }
   },
   "id": "da20dcac304114a2"
  },
  {
   "cell_type": "code",
   "execution_count": 16,
   "outputs": [],
   "source": [
    "if sum([len(files) for root, dirs, files in os.walk(audioset_output_audio)]) <= audioset_df.shape[0]:\n",
    "    convert(audioset_audio, audioset_output_audio)"
   ],
   "metadata": {
    "collapsed": false,
    "ExecuteTime": {
     "end_time": "2023-12-11T12:26:44.236409Z",
     "start_time": "2023-12-11T12:26:44.186687Z"
    }
   },
   "id": "fdff73e5b74e8fb8"
  },
  {
   "cell_type": "markdown",
   "source": [
    "### Freefiled"
   ],
   "metadata": {
    "collapsed": false
   },
   "id": "9e8dc3eed6a9674c"
  },
  {
   "cell_type": "code",
   "execution_count": 17,
   "outputs": [
    {
     "name": "stdout",
     "output_type": "stream",
     "text": [
      "Overall size:  7690\n"
     ]
    }
   ],
   "source": [
    "df = pd.read_csv(freefield_original_csv, delimiter=\",\")\n",
    "print(\"Overall size: \", df.shape[0])"
   ],
   "metadata": {
    "collapsed": false,
    "ExecuteTime": {
     "end_time": "2023-12-11T12:26:44.244889Z",
     "start_time": "2023-12-11T12:26:44.238031Z"
    }
   },
   "id": "f775c482ecef88a3"
  },
  {
   "cell_type": "code",
   "execution_count": 18,
   "outputs": [],
   "source": [
    "#bird_files = df[df['hasbird'] == 1]\n",
    "#delete_files(bird_files, freefield_audio, 'itemid')\n",
    "\n",
    "new_df = df[df['hasbird'] == 0]\n",
    "new_df = new_df[['itemid', 'hasbird']]\n",
    "new_df['folder'] = 'Freefield'\n",
    "new_df.rename(columns={'itemid': 'filename', 'hasbird': 'isBird'}, inplace=True)\n",
    "freefield_df = new_df"
   ],
   "metadata": {
    "collapsed": false,
    "ExecuteTime": {
     "end_time": "2023-12-11T12:26:44.253172Z",
     "start_time": "2023-12-11T12:26:44.246544Z"
    }
   },
   "id": "c3f54e97f95489ca"
  },
  {
   "cell_type": "code",
   "execution_count": 19,
   "outputs": [
    {
     "name": "stdout",
     "output_type": "stream",
     "text": [
      "Size after excluding chosen categories:  5755\n"
     ]
    }
   ],
   "source": [
    "print(\"Size after excluding chosen categories: \", freefield_df.shape[0])"
   ],
   "metadata": {
    "collapsed": false,
    "ExecuteTime": {
     "end_time": "2023-12-11T12:26:44.254125Z",
     "start_time": "2023-12-11T12:26:44.250405Z"
    }
   },
   "id": "dbd82b741bc3354d"
  },
  {
   "cell_type": "code",
   "execution_count": 20,
   "outputs": [],
   "source": [
    "if sum([len(files) for root, dirs, files in os.walk(freefield_output_audio)]) <= freefield_df.shape[0]:\n",
    "    convert(freefield_audio, freefield_output_audio)"
   ],
   "metadata": {
    "collapsed": false,
    "ExecuteTime": {
     "end_time": "2023-12-11T12:26:44.292237Z",
     "start_time": "2023-12-11T12:26:44.254234Z"
    }
   },
   "id": "b0e95326167f7d03"
  },
  {
   "cell_type": "markdown",
   "source": [
    "### Bird sounds"
   ],
   "metadata": {
    "collapsed": false
   },
   "id": "1e2dc80a1174ddfa"
  },
  {
   "cell_type": "code",
   "execution_count": 21,
   "outputs": [
    {
     "name": "stderr",
     "output_type": "stream",
     "text": [
      "/Users/zosia/Desktop/Bird-classification-model/birdclassification/preprocessing/filtering.py:72: DtypeWarning: Columns (10,39,43,44,45,46,47,48) have mixed types. Specify dtype option on import or set low_memory=False.\n",
      "  recordings = pd.read_csv(filepath_recordings)\n"
     ]
    }
   ],
   "source": [
    "df = filter_recordings_30()\n",
    "birds_df = df[['id', 'Latin name']].copy()\n",
    "birds_df['isBird'] = 1\n",
    "birds_df.rename(columns={'id': 'filename', 'Latin name': 'folder'}, inplace=True)"
   ],
   "metadata": {
    "collapsed": false,
    "ExecuteTime": {
     "end_time": "2023-12-11T12:26:47.528089Z",
     "start_time": "2023-12-11T12:26:44.281272Z"
    }
   },
   "id": "e4ae808fedc19ab6"
  },
  {
   "cell_type": "markdown",
   "source": [
    "### Merge datasets"
   ],
   "metadata": {
    "collapsed": false
   },
   "id": "7343676eec82892a"
  },
  {
   "cell_type": "code",
   "execution_count": 22,
   "outputs": [
    {
     "name": "stdout",
     "output_type": "stream",
     "text": [
      "Not-Bird recordings:  28329\n",
      "Bird recordings:  41209\n"
     ]
    }
   ],
   "source": [
    "result_df = pd.concat([esc50_df, warblrb_df, audioset_df, freefield_df, birds_df], ignore_index=True)\n",
    "result_df.to_csv(output_folder_all)\n",
    "print(\"Not-Bird recordings: \", result_df[result_df['isBird'] == 0].shape[0])\n",
    "print(\"Bird recordings: \", result_df[result_df['isBird'] == 1].shape[0])"
   ],
   "metadata": {
    "collapsed": false,
    "ExecuteTime": {
     "end_time": "2023-12-11T12:26:47.605926Z",
     "start_time": "2023-12-11T12:26:47.528855Z"
    }
   },
   "id": "19c85a1f9c65d3ed"
  },
  {
   "cell_type": "markdown",
   "source": [
    "#### Duplicates"
   ],
   "metadata": {
    "collapsed": false
   },
   "id": "1777fad39caaf1b4"
  },
  {
   "cell_type": "code",
   "execution_count": 23,
   "outputs": [
    {
     "name": "stdout",
     "output_type": "stream",
     "text": [
      "Duplicate count:  296\n"
     ]
    }
   ],
   "source": [
    "duplicates = result_df.duplicated(subset='filename', keep=False)\n",
    "duplicate_count = duplicates.sum()\n",
    "print(\"Duplicate count: \", duplicate_count)"
   ],
   "metadata": {
    "collapsed": false,
    "ExecuteTime": {
     "end_time": "2023-12-11T12:26:47.613971Z",
     "start_time": "2023-12-11T12:26:47.598969Z"
    }
   },
   "id": "a45ca2d170641868"
  },
  {
   "cell_type": "markdown",
   "source": [
    "### Just noises df"
   ],
   "metadata": {
    "collapsed": false
   },
   "id": "c9b846255400db95"
  },
  {
   "cell_type": "code",
   "execution_count": 24,
   "outputs": [
    {
     "name": "stdout",
     "output_type": "stream",
     "text": [
      "            filename     folder\n",
      "0       1-100032-A-0      ESC50\n",
      "1      1-100210-A-36      ESC50\n",
      "2      1-100210-B-36      ESC50\n",
      "3      1-101296-A-19      ESC50\n",
      "4      1-101296-B-19      ESC50\n",
      "...              ...        ...\n",
      "28324          95027  Freefield\n",
      "28325          80708  Freefield\n",
      "28326         168059  Freefield\n",
      "28327         164922  Freefield\n",
      "28328          40565  Freefield\n",
      "\n",
      "[28329 rows x 2 columns]\n"
     ]
    }
   ],
   "source": [
    "noises_df = result_df[result_df['isBird'] == 0]\n",
    "noises_df = noises_df[['filename', 'folder']]\n",
    "print(noises_df)\n",
    "noises_df.to_csv(output_folder_noises)"
   ],
   "metadata": {
    "collapsed": false,
    "ExecuteTime": {
     "end_time": "2023-12-11T12:26:47.669698Z",
     "start_time": "2023-12-11T12:26:47.612607Z"
    }
   },
   "id": "6d28b6a78763fdca"
  },
  {
   "cell_type": "code",
   "execution_count": 24,
   "outputs": [],
   "source": [],
   "metadata": {
    "collapsed": false,
    "ExecuteTime": {
     "end_time": "2023-12-11T12:26:47.670025Z",
     "start_time": "2023-12-11T12:26:47.645954Z"
    }
   },
   "id": "a2395ce6975524f0"
  },
  {
   "cell_type": "code",
   "execution_count": 4,
   "outputs": [
    {
     "data": {
      "text/plain": "<Figure size 1200x600 with 1 Axes>",
      "image/png": "[encoded data removed]"
     },
     "metadata": {},
     "output_type": "display_data"
    }
   ],
   "source": [
    "import matplotlib.pyplot as plt\n",
    "\n",
    "# Extended Data\n",
    "batch_numbers_extended = [i * 32 for i in range(10, 1031, 10)]\n",
    "loss_values_extended = [\n",
    "    3.3909, 3.3368, 3.2852, 3.2411, 3.2159, 3.1861, 3.1728, 3.1483, 3.1040, 3.0939,\n",
    "    3.1037, 3.0937, 3.1406, 3.0513, 3.0928, 3.0377, 3.1226, 3.1216, 3.0324, 3.1575,\n",
    "    3.0933, 3.0297, 3.0048, 3.1205, 3.0009, 3.1315, 2.9915, 3.0602, 3.0266, 3.0025,\n",
    "    3.0823, 3.0595, 2.9951, 2.9683, 3.0653, 2.9371, 3.0073, 2.9686, 2.9209, 2.9627,\n",
    "    2.9737, 2.9580, 3.0178, 2.9794, 2.9847, 2.9996, 2.9649, 2.9710, 2.9822, 2.9715,\n",
    "    2.9162, 2.9560, 3.0101, 2.9200, 2.9849, 2.8993, 2.9638, 3.0019, 2.9454, 3.0152,\n",
    "    2.9200, 2.9649, 2.9156, 2.9214, 2.8980, 2.9449, 2.8963, 2.9409, 3.0009, 2.8731,\n",
    "    2.9727, 2.9977, 2.9531, 2.9308, 2.8557, 2.9307, 2.8545, 2.8982, 2.8599, 2.8687,\n",
    "    2.9286, 2.7703, 3.0333, 2.8950, 2.8779, 2.9094, 2.9095, 2.9087, 2.9310, 2.9296,\n",
    "    2.8764, 2.8640, 2.8731, 2.8057, 2.8876, 2.9325, 2.8632, 2.8894, 2.8504, 2.8808,\n",
    "    2.9000, 2.8331, 2.8572\n",
    "]\n",
    "\n",
    "# Plotting\n",
    "plt.figure(figsize=(12, 6))\n",
    "plt.plot(batch_numbers_extended, loss_values_extended, label='Train Loss', marker='o')\n",
    "plt.xlabel('Batch Number')\n",
    "plt.ylabel('Train Loss')\n",
    "plt.title('Train Loss over Batches (Extended)')\n",
    "plt.legend()\n",
    "plt.grid(True)\n",
    "plt.show()\n"
   ],
   "metadata": {
    "collapsed": false,
    "ExecuteTime": {
     "end_time": "2023-12-18T13:54:31.885215Z",
     "start_time": "2023-12-18T13:54:31.649082Z"
    }
   },
   "id": "b182976eca0a54e2"
  },
  {
   "cell_type": "code",
   "execution_count": null,
   "outputs": [],
   "source": [],
   "metadata": {
    "collapsed": false
   },
   "id": "abe9ad75b99aa32e"
  }
 ],
 "metadata": {
  "kernelspec": {
   "display_name": "Python 3",
   "language": "python",
   "name": "python3"
  },
  "language_info": {
   "codemirror_mode": {
    "name": "ipython",
    "version": 2
   },
   "file_extension": ".py",
   "mimetype": "text/x-python",
   "name": "python",
   "nbconvert_exporter": "python",
   "pygments_lexer": "ipython2",
   "version": "2.7.6"
  }
 },
 "nbformat": 4,
 "nbformat_minor": 5
}
