{
 "cells": [
  {
   "cell_type": "markdown",
   "metadata": {},
   "source": [
    "# Visualizing Neural Networks using t-SNE\n"
   ]
  },
  {
   "cell_type": "code",
   "execution_count": null,
   "metadata": {
    "ExecuteTime": {
     "end_time": "2023-12-29T13:22:23.302875151Z",
     "start_time": "2023-12-29T13:22:21.676461789Z"
    },
    "_kg_hide-input": true,
    "_kg_hide-output": true,
    "execution": {
     "iopub.execute_input": "2021-09-24T14:03:13.889999Z",
     "iopub.status.busy": "2021-09-24T14:03:13.889708Z",
     "iopub.status.idle": "2021-09-24T14:03:36.520262Z",
     "shell.execute_reply": "2021-09-24T14:03:36.519388Z",
     "shell.execute_reply.started": "2021-09-24T14:03:13.88993Z"
    },
    "trusted": true
   },
   "outputs": [],
   "source": [
    "import numpy as np\n",
    "import torch\n",
    "import matplotlib.pyplot as plt\n",
    "from torch.utils.data import Dataset, DataLoader\n",
    "from birdclassification.preprocessing.spectrogram import generate_mel_spectrogram_seq\n",
    "\n",
    "torch.manual_seed(42)\n",
    "np.random.seed(42)"
   ]
  },
  {
   "cell_type": "markdown",
   "metadata": {
    "collapsed": false
   },
   "source": [
    "## Model"
   ]
  },
  {
   "cell_type": "code",
   "execution_count": null,
   "metadata": {
    "ExecuteTime": {
     "end_time": "2023-12-29T13:22:23.311310933Z",
     "start_time": "2023-12-29T13:22:23.308211423Z"
    },
    "collapsed": false
   },
   "outputs": [],
   "source": [
    "from torch import nn\n",
    "\n",
    "\n",
    "class CNNNetwork(nn.Module):\n",
    "    def __init__(self):\n",
    "        super().__init__()\n",
    "        # 4 conv blocks / flatten / liniear / softmax\n",
    "        self.conv1 = nn.Sequential(\n",
    "            nn.Conv2d(\n",
    "                in_channels=1,\n",
    "                out_channels=16,\n",
    "                kernel_size=3,\n",
    "                stride=1,\n",
    "                padding=2\n",
    "            ),\n",
    "            nn.ReLU(),\n",
    "            nn.MaxPool2d(kernel_size=2)\n",
    "        )\n",
    "        self.conv2 = nn.Sequential(\n",
    "            nn.Conv2d(\n",
    "                in_channels=16,\n",
    "                out_channels=32,\n",
    "                kernel_size=3,\n",
    "                stride=1,\n",
    "                padding=2\n",
    "            ),\n",
    "            nn.ReLU(),\n",
    "            nn.MaxPool2d(kernel_size=2)\n",
    "        )\n",
    "        self.conv3 = nn.Sequential(\n",
    "            nn.Conv2d(\n",
    "                in_channels=32,\n",
    "                out_channels=64,\n",
    "                kernel_size=3,\n",
    "                stride=1,\n",
    "                padding=2\n",
    "            ),\n",
    "            nn.ReLU(),\n",
    "            nn.MaxPool2d(kernel_size=2)\n",
    "        )\n",
    "        self.conv4 = nn.Sequential(\n",
    "            nn.Conv2d(\n",
    "                in_channels=64,\n",
    "                out_channels=128,\n",
    "                kernel_size=3,\n",
    "                stride=1,\n",
    "                padding=2\n",
    "            ),\n",
    "            nn.ReLU(),\n",
    "            nn.MaxPool2d(kernel_size=2)\n",
    "        )\n",
    "        self.flatten = nn.Flatten()\n",
    "        self.linear1  = nn.Sequential(\n",
    "            nn.Linear(\n",
    "            10880, 1024\n",
    "            ),\n",
    "            nn.ReLU()\n",
    "        )\n",
    "        self.linear2 = nn.Linear(\n",
    "            1024, 30\n",
    "        )\n",
    "\n",
    "    def forward(self, input_data):\n",
    "        x = self.conv1(input_data)\n",
    "        x = self.conv2(x)\n",
    "        x = self.conv3(x)\n",
    "        x = self.conv4(x)\n",
    "        x = self.flatten(x)\n",
    "        x = self.linear1(x)\n",
    "        logits = self.linear2(x)\n",
    "        return logits\n",
    "\n"
   ]
  },
  {
   "cell_type": "code",
   "execution_count": null,
   "metadata": {
    "ExecuteTime": {
     "end_time": "2023-12-29T13:22:23.625771471Z",
     "start_time": "2023-12-29T13:22:23.312276057Z"
    },
    "collapsed": false
   },
   "outputs": [],
   "source": [
    "PATH = 'model_20231209_132114_3'\n",
    "cnn = CNNNetwork()\n",
    "cnn.load_state_dict(torch.load(PATH))\n",
    "cnn.eval()"
   ]
  },
  {
   "cell_type": "markdown",
   "metadata": {
    "collapsed": false
   },
   "source": [
    "## Dataset"
   ]
  },
  {
   "cell_type": "code",
   "execution_count": null,
   "metadata": {
    "ExecuteTime": {
     "end_time": "2023-12-29T13:22:31.371049992Z",
     "start_time": "2023-12-29T13:22:23.624585591Z"
    },
    "collapsed": false
   },
   "outputs": [],
   "source": [
    "from birdclassification.preprocessing.filtering import filter_recordings_30\n",
    "from sklearn.model_selection import train_test_split\n",
    "from birdclassification.training.dataset import Recordings30\n",
    "\n",
    "DEVICE = \"cuda\" if torch.cuda.is_available() else \"cpu\"\n",
    "SEED = 123\n",
    "#RECORDINGS_DIR = '/mnt/d/recordings_30/'\n",
    "RECORDINGS_DIR = '/media/jacek/E753-A120/recordings_30/'\n",
    "NOISES_DIR = '/path/to/noise/dataset'\n",
    "SAMPLE_RATE = 32000\n",
    "NUM_SAMPLES = SAMPLE_RATE * 1\n",
    "BATCH_SIZE = 32\n",
    "LEARNING_RATE = 0.0001\n",
    "EPOCHS = 5\n",
    "NUM_WORKERS = 8\n",
    "df = filter_recordings_30(\"../data/xeno_canto_recordings.csv\", \"../data/bird-list-extended.csv\", )\n",
    "\n",
    "train_df, test_val_df = train_test_split(df, stratify=df['Latin name'], test_size=0.2, random_state=SEED)\n",
    "val_df, test_df = train_test_split(test_val_df, stratify=test_val_df['Latin name'], test_size=0.5, random_state=SEED)\n",
    "\n",
    "train_ds = Recordings30(train_df, recording_dir=RECORDINGS_DIR, noises_dir=NOISES_DIR, sample_rate=SAMPLE_RATE,\n",
    "                        device=DEVICE)\n",
    "val_ds = Recordings30(val_df, recording_dir=RECORDINGS_DIR, noises_dir=NOISES_DIR, sample_rate=32000, device=DEVICE)\n",
    "test_ds = Recordings30(test_df, recording_dir=RECORDINGS_DIR, noises_dir=NOISES_DIR, sample_rate=32000, device=DEVICE)\n",
    "\n",
    "train_dl = DataLoader(train_ds, batch_size=BATCH_SIZE, num_workers=NUM_WORKERS)\n",
    "val_dl = DataLoader(val_ds, batch_size=BATCH_SIZE, num_workers=NUM_WORKERS)\n",
    "test_dl = DataLoader(test_ds, batch_size=BATCH_SIZE, num_workers=NUM_WORKERS)"
   ]
  },
  {
   "cell_type": "code",
   "execution_count": null,
   "metadata": {
    "ExecuteTime": {
     "end_time": "2023-12-29T13:22:31.379089687Z",
     "start_time": "2023-12-29T13:22:31.372977096Z"
    },
    "collapsed": false
   },
   "outputs": [],
   "source": [
    "len(train_ds)"
   ]
  },
  {
   "cell_type": "code",
   "execution_count": null,
   "metadata": {
    "ExecuteTime": {
     "end_time": "2023-12-29T13:39:23.055756082Z",
     "start_time": "2023-12-29T13:22:31.378005228Z"
    },
    "collapsed": false
   },
   "outputs": [],
   "source": [
    "img = []\n",
    "label = []\n",
    "for i in range(len(test_ds)):\n",
    "    if i%100 == 0:\n",
    "        print(i)\n",
    "    waveform, l = test_ds[i]\n",
    "    spectrogram = generate_mel_spectrogram_seq(y=waveform.to(DEVICE), sr=32000, n_fft=512, hop_length=384, device=DEVICE)\n",
    "    spectrogram = spectrogram\n",
    "    img.append(spectrogram.to(\"cpu\").numpy())\n",
    "    label.append(l)\n",
    "\n",
    "img = np.asarray(img)\n",
    "label = np.asarray(label, dtype = np.int8)\n"
   ]
  },
  {
   "cell_type": "markdown",
   "metadata": {
    "collapsed": false
   },
   "source": [
    "## Embedding (skipping last layer of the model)"
   ]
  },
  {
   "cell_type": "code",
   "execution_count": null,
   "metadata": {
    "ExecuteTime": {
     "end_time": "2023-12-29T13:39:23.056074675Z",
     "start_time": "2023-12-29T13:39:23.055608049Z"
    },
    "collapsed": false
   },
   "outputs": [],
   "source": [
    "def embedding_fc2(input_data):\n",
    "    input_data = torch.Tensor(input_data).float()\n",
    "    cnn.eval()\n",
    "    x = cnn.conv1(input_data)\n",
    "    x = cnn.conv2(x)\n",
    "    x = cnn.conv3(x)\n",
    "    x = cnn.conv4(x)\n",
    "    x = cnn.flatten(x)\n",
    "    x = cnn.linear1(x)\n",
    "    return x"
   ]
  },
  {
   "cell_type": "markdown",
   "metadata": {
    "collapsed": false
   },
   "source": [
    "## Color palette "
   ]
  },
  {
   "cell_type": "code",
   "execution_count": null,
   "metadata": {
    "ExecuteTime": {
     "end_time": "2023-12-29T13:39:23.335090142Z",
     "start_time": "2023-12-29T13:39:23.055733628Z"
    },
    "collapsed": false
   },
   "outputs": [],
   "source": [
    "import distinctipy\n",
    "import itertools\n",
    "\n",
    "N = 30\n",
    "colors = distinctipy.get_colors(N, pastel_factor=0.7)\n",
    "tab30_c = distinctipy.get_colormap(colors)\n",
    "tab30_c"
   ]
  },
  {
   "cell_type": "code",
   "execution_count": null,
   "metadata": {
    "ExecuteTime": {
     "end_time": "2023-12-29T13:39:23.475986571Z",
     "start_time": "2023-12-29T13:39:23.330459835Z"
    },
    "collapsed": false
   },
   "outputs": [],
   "source": [
    "distinctipy.color_swatch(colors, title=\"Input Colours\")"
   ]
  },
  {
   "cell_type": "markdown",
   "metadata": {
    "collapsed": false
   },
   "source": [
    "## t-SNE"
   ]
  },
  {
   "cell_type": "code",
   "execution_count": null,
   "metadata": {
    "ExecuteTime": {
     "end_time": "2023-12-29T13:40:41.186001484Z",
     "start_time": "2023-12-29T13:39:23.479332655Z"
    },
    "collapsed": false
   },
   "outputs": [],
   "source": [
    "from sklearn.manifold import TSNE\n",
    "fig, ax = plt.subplots(1, 3, figsize=(20,7), constrained_layout=True)\n",
    "\n",
    "embedding = embedding_fc2(img)\n",
    "\n",
    "for c, per in zip(itertools.count(), [5, 30, 50]):\n",
    "    tsne = TSNE(n_components=2,\n",
    "                perplexity=per,\n",
    "                n_iter =  1000)\n",
    "    \n",
    "    tsne = tsne.fit_transform(embedding.detach().numpy())\n",
    "    scatter = ax[c].scatter(tsne[:, 0], tsne[:, 1], c=label, s=3.0, cmap = tab30_c, vmin=0, vmax = 29)\n",
    "    ax[c].set_title(f'Perplexity: {per}', fontsize=16)\n",
    "    \n",
    "    mapping = train_ds.get_mapping()\n",
    "    bird_names = [mapping[i] for i in  label]\n",
    "    unique_names= list(set(zip(bird_names, label)))\n",
    "    \n",
    "    if c == 2: \n",
    "        handles = [plt.Line2D([0], [0], marker='o', color='w', markerfacecolor=tab30_c(i), markersize=12, label=name)\n",
    "                   for name, i in unique_names]\n",
    "        fig.legend(handles=handles, title='Labels', bbox_to_anchor=(1.12, 0.91), loc='upper right')\n",
    "    \n",
    "        ax[c].set_title(f'Perplexity: {per}', fontsize=16)\n",
    "        \n",
    "visualziationfig.suptitle('t-SNE Dimensionality reduction', fontweight='bold', fontsize=25)\n",
    "plt.show()"
   ]
  },
  {
   "cell_type": "code",
   "execution_count": null,
   "metadata": {
    "ExecuteTime": {
     "end_time": "2023-12-29T13:40:41.349610592Z",
     "start_time": "2023-12-29T13:40:41.137151078Z"
    },
    "collapsed": false
   },
   "outputs": [],
   "source": [
    "plt.savefig('tsne.svg')"
   ]
  }
 ],
 "metadata": {
  "kaggle": {
   "accelerator": "gpu",
   "dataSources": [
    {
     "databundleVersionId": 861823,
     "sourceId": 3004,
     "sourceType": "competition"
    }
   ],
   "dockerImageVersionId": 30086,
   "isGpuEnabled": true,
   "isInternetEnabled": true,
   "language": "python",
   "sourceType": "notebook"
  },
  "kernelspec": {
   "display_name": "Python 3",
   "language": "python",
   "name": "python3"
  },
  "language_info": {
   "codemirror_mode": {
    "name": "ipython",
    "version": 3
   },
   "file_extension": ".py",
   "mimetype": "text/x-python",
   "name": "python",
   "nbconvert_exporter": "python",
   "pygments_lexer": "ipython3",
   "version": "3.6.4"
  }
 },
 "nbformat": 4,
 "nbformat_minor": 4
}
