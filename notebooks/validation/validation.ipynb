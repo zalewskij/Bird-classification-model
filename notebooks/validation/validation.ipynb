{
 "cells": [
  {
   "cell_type": "markdown",
   "id": "f130015da0732434",
   "metadata": {
    "collapsed": false
   },
   "source": [
    "# Load model"
   ]
  },
  {
   "cell_type": "code",
   "execution_count": null,
   "id": "f251e6be7220e116",
   "metadata": {
    "ExecuteTime": {
     "end_time": "2023-12-06T22:04:28.174420790Z",
     "start_time": "2023-12-06T22:04:24.270629433Z"
    },
    "collapsed": false
   },
   "outputs": [],
   "source": [
    "from birdclassification.preprocessing.filtering import filter_recordings_30\n",
    "from torch.utils.data import DataLoader\n",
    "import torch\n",
    "from sklearn.model_selection import train_test_split\n",
    "from birdclassification.training.dataset import Recordings30\n",
    "from birdclassification.training.cnn_training_torch.CNN_model import CNNNetwork\n",
    "from birdclassification.training.preprocessing_pipeline import PreprocessingPipeline\n",
    "import pandas as pd\n",
    "import matplotlib.pyplot as plt\n",
    "import seaborn as sns\n",
    "from sklearn.metrics import confusion_matrix, classification_report\n",
    "import numpy as np\n",
    "from noisereduce.torchgate import TorchGate as TG"
   ]
  },
  {
   "cell_type": "code",
   "execution_count": null,
   "id": "initial_id",
   "metadata": {
    "ExecuteTime": {
     "end_time": "2023-12-06T22:04:28.195414481Z",
     "start_time": "2023-12-06T22:04:28.175052008Z"
    },
    "collapsed": false
   },
   "outputs": [],
   "source": [
    "PATH = '../../birdclassification/training/saved_models/model_TAK.pt'\n",
    "cnn = CNNNetwork()\n",
    "cnn.load_state_dict(torch.load(PATH))"
   ]
  },
  {
   "cell_type": "code",
   "execution_count": null,
   "id": "4fea66771e709683",
   "metadata": {
    "ExecuteTime": {
     "end_time": "2023-12-06T22:04:28.246839249Z",
     "start_time": "2023-12-06T22:04:28.195940553Z"
    },
    "collapsed": false
   },
   "outputs": [],
   "source": [
    "cnn.eval()"
   ]
  },
  {
   "cell_type": "markdown",
   "id": "fe23910ba1116e42",
   "metadata": {
    "collapsed": false
   },
   "source": [
    "# Prepare dataset"
   ]
  },
  {
   "cell_type": "code",
   "execution_count": null,
   "id": "52a8e93fb157111",
   "metadata": {
    "ExecuteTime": {
     "end_time": "2023-12-06T22:04:28.486373174Z",
     "start_time": "2023-12-06T22:04:28.440355342Z"
    },
    "collapsed": false
   },
   "outputs": [],
   "source": [
    "DEVICE = \"cuda\" if torch.cuda.is_available() else \"cpu\"\n",
    "SEED = 123\n",
    "RECORDINGS_DIR = '/mnt/d/recordings_30/'\n",
    "# RECORDINGS_DIR =  '/media/jacek/E753-A120/recordings_30/'\n",
    "NOISES_DIR = '/path/to/noise/dataset'\n",
    "SAMPLE_RATE = 32000\n",
    "BATCH_SIZE = 32\n",
    "LEARNING_RATE = 0.0001\n",
    "EPOCHS = 20\n",
    "NUM_WORKERS = 8\n",
    "\n",
    "cnn.to(DEVICE)"
   ]
  },
  {
   "cell_type": "code",
   "execution_count": null,
   "id": "29d4534e8e1cef03",
   "metadata": {
    "ExecuteTime": {
     "end_time": "2023-12-06T22:04:39.343046942Z",
     "start_time": "2023-12-06T22:04:32.604887363Z"
    },
    "collapsed": false
   },
   "outputs": [],
   "source": [
    "df = filter_recordings_30(\"../../data/xeno_canto_recordings.csv\", \"../../data/bird-list-extended.csv\", )\n",
    "\n",
    "train_df, test_val_df = train_test_split(df, stratify=df['Latin name'], test_size=0.2, random_state = SEED)\n",
    "val_df, test_df = train_test_split(test_val_df, stratify=test_val_df['Latin name'], test_size=0.5, random_state = SEED)\n",
    "\n",
    "train_ds = Recordings30(train_df, recording_dir=RECORDINGS_DIR, device = DEVICE, random_fragment=True)\n",
    "val_ds = Recordings30(val_df, recording_dir=RECORDINGS_DIR, device = DEVICE)\n",
    "test_ds = Recordings30(test_df, recording_dir=RECORDINGS_DIR, device = DEVICE)\n",
    "\n",
    "train_dl  = DataLoader(train_ds, batch_size=BATCH_SIZE, num_workers=NUM_WORKERS)\n",
    "val_dl  = DataLoader(val_ds, batch_size=BATCH_SIZE, num_workers=NUM_WORKERS)\n",
    "test_dl  = DataLoader(test_ds, batch_size=BATCH_SIZE, num_workers=NUM_WORKERS)"
   ]
  },
  {
   "cell_type": "code",
   "execution_count": null,
   "id": "bbcb0f78",
   "metadata": {},
   "outputs": [],
   "source": [
    "preprocessing_pipeline = PreprocessingPipeline(device=DEVICE, noises_df=None, noises_dir=NOISES_DIR, random_fragment=False)\n",
    "preprocessing_pipeline.to(DEVICE)"
   ]
  },
  {
   "cell_type": "markdown",
   "id": "86b776cdf64796ca",
   "metadata": {
    "collapsed": false
   },
   "source": [
    "## Show spectrograms"
   ]
  },
  {
   "cell_type": "code",
   "execution_count": null,
   "id": "d5a55cde2ac23606",
   "metadata": {
    "ExecuteTime": {
     "end_time": "2023-12-06T22:04:41.688290180Z",
     "start_time": "2023-12-06T22:04:39.758790625Z"
    },
    "collapsed": false
   },
   "outputs": [],
   "source": [
    "from birdclassification.preprocessing.spectrogram import generate_mel_spectrogram_seq\n",
    "from birdclassification.visualization.plots import plot_torch_spectrogram\n",
    "\n",
    "number_of_rec = 5\n",
    "for i in range(number_of_rec):\n",
    "    input, label = train_ds[i]\n",
    "    spectrogram = preprocessing_pipeline(input.to(DEVICE))\n",
    "    plot_torch_spectrogram(spectrogram.squeeze().cpu(), title=train_ds.get_mapping()[label])"
   ]
  },
  {
   "cell_type": "markdown",
   "id": "7ef1e6ef769b9b58",
   "metadata": {
    "collapsed": false
   },
   "source": [
    "## Predict bird demo"
   ]
  },
  {
   "cell_type": "code",
   "execution_count": null,
   "id": "e682cf0635ed6073",
   "metadata": {
    "ExecuteTime": {
     "end_time": "2023-12-06T22:14:37.423333586Z",
     "start_time": "2023-12-06T22:14:37.037873631Z"
    },
    "collapsed": false
   },
   "outputs": [],
   "source": [
    "length_in_seconds = 3\n",
    "sr = 32000\n",
    "index = 27\n",
    "map = test_ds.get_mapping()\n",
    "\n",
    "cnn.eval()\n",
    "with torch.no_grad():\n",
    "    input, label = test_ds[index]\n",
    "    spectrogram = preprocessing_pipeline(input.to(DEVICE))\n",
    "    plot_torch_spectrogram(spectrogram.squeeze().cpu(), title=map[label])\n",
    "    validation_output = cnn(spectrogram)\n",
    "    predictions = torch.max(validation_output, dim=1)[1].data.squeeze()\n",
    "    \n",
    "print(\"Prediction: \", test_ds.get_mapping()[predictions.item()])"
   ]
  },
  {
   "cell_type": "markdown",
   "id": "797ea3071a5e9987",
   "metadata": {
    "collapsed": false
   },
   "source": [
    "# Validation"
   ]
  },
  {
   "cell_type": "code",
   "execution_count": null,
   "id": "3b92925251f5ea08",
   "metadata": {
    "ExecuteTime": {
     "end_time": "2023-12-06T22:15:28.351393234Z",
     "start_time": "2023-12-06T22:15:28.308658750Z"
    },
    "collapsed": false
   },
   "outputs": [],
   "source": [
    "from birdclassification.training.validation_metrics import calculate_metric, get_true_and_predicted_labels\n",
    "from sklearn.metrics import f1_score, precision_score\n",
    "import numpy as np"
   ]
  },
  {
   "cell_type": "code",
   "execution_count": null,
   "id": "9b985634",
   "metadata": {},
   "outputs": [],
   "source": [
    "x, y = get_true_and_predicted_labels(cnn, test_dl, preprocessing_pipeline, DEVICE)"
   ]
  },
  {
   "cell_type": "markdown",
   "id": "2c0e059f21cb8ef4",
   "metadata": {
    "collapsed": false
   },
   "source": [
    "### F1 score (macro averaged)"
   ]
  },
  {
   "cell_type": "code",
   "execution_count": null,
   "id": "77c691917c9e3367",
   "metadata": {
    "ExecuteTime": {
     "end_time": "2023-12-05T14:15:28.860917656Z",
     "start_time": "2023-12-05T14:10:16.282396547Z"
    },
    "collapsed": false
   },
   "outputs": [],
   "source": [
    "f1_s = f1_score(x, y, average='macro')\n",
    "f1_s"
   ]
  },
  {
   "cell_type": "markdown",
   "id": "275dba5bed9a83d5",
   "metadata": {
    "collapsed": false
   },
   "source": [
    "### Precision (macro averaged)"
   ]
  },
  {
   "cell_type": "code",
   "execution_count": null,
   "id": "7532fa5d1fca8f22",
   "metadata": {
    "ExecuteTime": {
     "end_time": "2023-12-05T14:10:05.999089964Z",
     "start_time": "2023-12-05T14:05:04.373783153Z"
    },
    "collapsed": false
   },
   "outputs": [],
   "source": [
    "precision = precision_score(x, y, average='macro')\n",
    "precision"
   ]
  },
  {
   "cell_type": "markdown",
   "id": "31805cf7effa3953",
   "metadata": {
    "collapsed": false
   },
   "source": [
    "### Classification report"
   ]
  },
  {
   "cell_type": "code",
   "execution_count": null,
   "id": "8940cdbed055d40a",
   "metadata": {
    "ExecuteTime": {
     "end_time": "2023-12-06T00:18:18.188187010Z",
     "start_time": "2023-12-06T00:18:18.124923479Z"
    },
    "collapsed": false
   },
   "outputs": [],
   "source": [
    "names = list(train_ds.get_mapping().values())"
   ]
  },
  {
   "cell_type": "code",
   "execution_count": null,
   "id": "a5e4983173af7f12",
   "metadata": {
    "collapsed": false
   },
   "outputs": [],
   "source": [
    "classification = classification_report(x, y, target_names=names)"
   ]
  },
  {
   "cell_type": "code",
   "execution_count": null,
   "id": "40bf38378cca5a01",
   "metadata": {
    "ExecuteTime": {
     "end_time": "2023-12-05T15:50:06.863457042Z",
     "start_time": "2023-12-05T15:50:06.808706535Z"
    },
    "collapsed": false
   },
   "outputs": [],
   "source": [
    "print(0, classification)"
   ]
  },
  {
   "cell_type": "code",
   "execution_count": null,
   "id": "56d17110a869795b",
   "metadata": {
    "ExecuteTime": {
     "end_time": "2023-12-06T00:12:32.036550846Z",
     "start_time": "2023-12-06T00:07:45.218101216Z"
    },
    "collapsed": false
   },
   "outputs": [],
   "source": [
    "c_matrix = confusion_matrix(x, y)"
   ]
  },
  {
   "cell_type": "code",
   "execution_count": null,
   "id": "5c04bc98b828b0f4",
   "metadata": {
    "ExecuteTime": {
     "end_time": "2023-12-06T00:12:35.110346897Z",
     "start_time": "2023-12-06T00:12:32.059845441Z"
    },
    "collapsed": false
   },
   "outputs": [],
   "source": [
    "cm = c_matrix\n",
    "cm = cm.astype('float') / cm.sum(axis=1)[:, np.newaxis]\n",
    "df_cm = pd.DataFrame(cm)\n",
    "df_cm.columns = train_ds.get_mapping().values()\n",
    "df_cm.index = train_ds.get_mapping().values()\n",
    "plt.figure(figsize = (40,40))\n",
    "s = sns.heatmap(df_cm, annot=True, cmap = 'binary', fmt='.2f')\n",
    "s.set_xlabel('Prediction', fontsize=24, labelpad=70)\n",
    "s.set_ylabel('True label', fontsize=24, labelpad=70)\n",
    "# s.set_title(\"Confusion matrix of predictions\")"
   ]
  },
  {
   "cell_type": "markdown",
   "id": "eb70527d4323f461",
   "metadata": {
    "collapsed": false
   },
   "source": [
    "## Most common mistakes"
   ]
  },
  {
   "cell_type": "code",
   "execution_count": null,
   "id": "55cc5a84d3becb04",
   "metadata": {
    "ExecuteTime": {
     "end_time": "2023-12-06T00:31:21.658780127Z",
     "start_time": "2023-12-06T00:31:21.568553149Z"
    },
    "collapsed": false
   },
   "outputs": [],
   "source": [
    "import numpy as np\n",
    "\n",
    "\n",
    "map = train_ds.get_mapping()\n",
    "def top_n_argmax_2d(array_2d, N):\n",
    "    np.fill_diagonal(array_2d, 0)\n",
    "    flat_indices = np.argpartition(array_2d.flatten(), -N)[-N:]\n",
    "    indices_2d = np.unravel_index(flat_indices, array_2d.shape)\n",
    "    return list(zip(indices_2d[0], indices_2d[1]))\n",
    "\n",
    "N = 25 \n",
    "top_indices = top_n_argmax_2d(cm, N)\n",
    "\n",
    "# Print the indices of the top N elements\n",
    "df = pd.DataFrame(columns=[\"Predicted\", \"True Label\", \"Frequency\"])\n",
    "for i, index in enumerate(top_indices):\n",
    "    df.loc[len(df)] = [map[index[0]], map[index[1]], cm[index]]\n",
    "df.sort_values(by = \"Frequency\", ascending=False)"
   ]
  },
  {
   "cell_type": "markdown",
   "id": "c13d96166f49044f",
   "metadata": {
    "collapsed": false
   },
   "source": [
    "## Training"
   ]
  },
  {
   "cell_type": "code",
   "execution_count": null,
   "id": "3c3ec9464b87c507",
   "metadata": {
    "ExecuteTime": {
     "end_time": "2023-12-06T19:54:12.768676716Z",
     "start_time": "2023-12-06T19:54:12.486442211Z"
    },
    "collapsed": false
   },
   "outputs": [],
   "source": [
    "import seaborn as sns\n",
    "train_loss_df = pd.read_csv('../../birdclassification/training/saved_models/csv.csv')\n",
    "ax = sns.lineplot(data=train_loss_df, x=\"Step\", y=\"Value\")\n",
    "ax.set(xlabel='Step (batch size = 32)', ylabel='Loss', title = 'Train loss')"
   ]
  },
  {
   "cell_type": "code",
   "execution_count": null,
   "id": "4cd60cbe624390ca",
   "metadata": {
    "ExecuteTime": {
     "end_time": "2023-12-06T19:57:39.626336043Z",
     "start_time": "2023-12-06T19:57:39.375958952Z"
    },
    "collapsed": false
   },
   "outputs": [],
   "source": [
    "maf1 = pd.read_csv('../../birdclassification/training/saved_models/Macro_averaged_precision_score_Validation.csv')\n",
    "ax = sns.lineplot(data=maf1, x=\"Step\", y=\"Value\")\n",
    "ax.set(xlabel='Epoch', ylabel='Score', title = \"Precision (macro)\")"
   ]
  },
  {
   "cell_type": "code",
   "execution_count": null,
   "id": "d7cb73f11575de6d",
   "metadata": {
    "ExecuteTime": {
     "end_time": "2023-12-06T20:23:36.960575002Z",
     "start_time": "2023-12-06T20:23:36.724535157Z"
    },
    "collapsed": false
   },
   "outputs": [],
   "source": [
    "loss_training_df = pd.read_csv('../../birdclassification/training/saved_models/Training vs. Validation Loss_Training.csv')\n",
    "loss_validation_df = pd.read_csv('../../birdclassification/training/saved_models/Training vs. Validation Loss_Validation.csv')\n",
    "loss_training_df['split'] = 'train loss'\n",
    "loss_validation_df['split'] = 'validation loss'\n",
    "loss_training_df = loss_training_df[['Step', 'Value', 'split']]\n",
    "loss_validation_df = loss_validation_df[['Step', 'Value', 'split']]\n",
    "combined_df = pd.concat([loss_training_df, loss_validation_df])\n",
    "ax = sns.lineplot(x=\"Step\", y=\"Value\", hue=\"split\", ci=\"sd\", data=combined_df)\n",
    "ax.set(xlabel='Epoch', ylabel='Loss', title = \"Loss\")\n"
   ]
  }
 ],
 "metadata": {
  "kernelspec": {
   "display_name": "Python 3",
   "language": "python",
   "name": "python3"
  },
  "language_info": {
   "codemirror_mode": {
    "name": "ipython",
    "version": 3
   },
   "file_extension": ".py",
   "mimetype": "text/x-python",
   "name": "python",
   "nbconvert_exporter": "python",
   "pygments_lexer": "ipython3",
   "version": "3.10.12"
  }
 },
 "nbformat": 4,
 "nbformat_minor": 5
}
