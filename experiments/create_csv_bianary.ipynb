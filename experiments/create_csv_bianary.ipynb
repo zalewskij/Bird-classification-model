{
 "cells": [
  {
   "cell_type": "code",
   "execution_count": 1,
   "id": "initial_id",
   "metadata": {
    "collapsed": true,
    "ExecuteTime": {
     "end_time": "2023-12-09T19:07:42.899414Z",
     "start_time": "2023-12-09T19:07:42.576607Z"
    }
   },
   "outputs": [],
   "source": [
    "import pandas as pd\n",
    "from pydub import AudioSegment\n",
    "import os\n",
    "from birdclassification.preprocessing.filtering import filter_recordings_30\n",
    "\n",
    "#ESC50\n",
    "esc50_original_csv = \"/Users/zosia/Desktop/Not_birds/Original_csv/esc50.csv\"\n",
    "esc50_audio = \"/Users/zosia/Desktop/Not_birds/ESC50/audio\"\n",
    "esc50_output_audio = \"/Users/zosia/Desktop/NotBirds/ESC50\"\n",
    "\n",
    "#Audioset\n",
    "audioset_original_csv = \"/Users/zosia/Desktop/Not_birds/Original_csv/audioset.csv\"\n",
    "audioset_original_csv_labels = \"/Users/zosia/Desktop/Not_birds/Original_csv/audioset_labels.csv\"\n",
    "audioset_audio = \"/Users/zosia/Desktop/Not_birds/Audioset/audio\"\n",
    "audioset_output_audio = \"/Users/zosia/Desktop/NotBirds/Audioset\"\n",
    "\n",
    "#WARBLRB\n",
    "warblrb_original_csv = \"/Users/zosia/Desktop/Not_birds/Original_csv/warblrb.csv\"\n",
    "warblrb_audio = \"/Users/zosia/Desktop/Not_birds/Warblrb/audio\"\n",
    "warblrb_output_audio = \"/Users/zosia/Desktop/NotBirds/Warblrb\"\n",
    "\n",
    "#Freefield\n",
    "freefield_original_csv = \"/Users/zosia/Desktop/Not_birds/Original_csv/freefield.csv\"\n",
    "freefield_audio = \"/Users/zosia/Desktop/Not_birds/Freefield/audio\"\n",
    "freefield_output_audio = \"/Users/zosia/Desktop/NotBirds/Freefield\"\n",
    "\n",
    "#Output CSV\n",
    "output_folder = \"/Users/zosia/Desktop/data.csv\""
   ]
  },
  {
   "cell_type": "code",
   "execution_count": 2,
   "outputs": [],
   "source": [
    "def convert(recordings_folder, output_folder):\n",
    "    i=0\n",
    "    for filename in os.listdir(recordings_folder):\n",
    "        i+=1\n",
    "        if filename.endswith(\".wav\"):\n",
    "            input_path = os.path.join(recordings_folder, filename)\n",
    "            output_filename = os.path.splitext(filename)[0] + '.ogg'\n",
    "            output_path = os.path.join(output_folder, output_filename)\n",
    "    \n",
    "            sound = AudioSegment.from_wav(input_path)\n",
    "            sound = sound.set_frame_rate(32000)\n",
    "            sound.export(output_path, format=\"ogg\")\n",
    "            if i%100==0:\n",
    "                print(i)"
   ],
   "metadata": {
    "collapsed": false,
    "ExecuteTime": {
     "end_time": "2023-12-09T19:07:42.899548Z",
     "start_time": "2023-12-09T19:07:42.839989Z"
    }
   },
   "id": "2eac695e58626476"
  },
  {
   "cell_type": "code",
   "execution_count": 3,
   "outputs": [],
   "source": [
    "def delete_files(bird_files, path, row_name):\n",
    "    for index, row in bird_files.iterrows():\n",
    "        filename = row[row_name]\n",
    "        file_path = os.path.join(path, filename)\n",
    "        try:\n",
    "            os.remove(file_path)\n",
    "            print(f\"Deleted: {file_path}\")\n",
    "        except FileNotFoundError:\n",
    "            print(\"Not found\")\n",
    "        except Exception as e:\n",
    "            print(f\"Error deleting file {file_path}: {e}\")"
   ],
   "metadata": {
    "collapsed": false,
    "ExecuteTime": {
     "end_time": "2023-12-09T19:07:42.899589Z",
     "start_time": "2023-12-09T19:07:42.842475Z"
    }
   },
   "id": "9ef8e2b8c71d6975"
  },
  {
   "cell_type": "markdown",
   "source": [
    "### ESC50"
   ],
   "metadata": {
    "collapsed": false
   },
   "id": "45826aaea9ac709"
  },
  {
   "cell_type": "code",
   "execution_count": 4,
   "outputs": [
    {
     "name": "stdout",
     "output_type": "stream",
     "text": [
      "Overall size:  2000\n"
     ]
    }
   ],
   "source": [
    "df = pd.read_csv(esc50_original_csv, delimiter=\",\")\n",
    "print(\"Overall size: \", df.shape[0])"
   ],
   "metadata": {
    "collapsed": false,
    "ExecuteTime": {
     "end_time": "2023-12-09T19:07:42.899683Z",
     "start_time": "2023-12-09T19:07:42.855600Z"
    }
   },
   "id": "82a15d0a336cbb75"
  },
  {
   "cell_type": "code",
   "execution_count": 5,
   "outputs": [],
   "source": [
    "categories_to_delete = ['rooster', 'hen', 'crow', 'chirping_birds']\n",
    "bird_files = df[df['category'].isin(categories_to_delete)]\n",
    "\n",
    "#delete_files(bird_files, esc50_audio, 'filename')\n",
    "\n",
    "new_df = df[~df['filename'].isin(bird_files['filename'])]\n",
    "\n",
    "new_df = new_df[['filename']]\n",
    "new_df['isBird'] = 0\n",
    "new_df['folder'] = 'ESC50'\n",
    "new_df['filename'] = new_df['filename'].str.replace('.wav', '')\n",
    "esc50_df = new_df"
   ],
   "metadata": {
    "collapsed": false,
    "ExecuteTime": {
     "end_time": "2023-12-09T19:07:42.899743Z",
     "start_time": "2023-12-09T19:07:42.893038Z"
    }
   },
   "id": "7742f9e2f568101e"
  },
  {
   "cell_type": "code",
   "execution_count": 6,
   "outputs": [
    {
     "name": "stdout",
     "output_type": "stream",
     "text": [
      "Size after excluding chosen categories:  1840\n"
     ]
    }
   ],
   "source": [
    "print(\"Size after excluding chosen categories: \", esc50_df.shape[0])"
   ],
   "metadata": {
    "collapsed": false,
    "ExecuteTime": {
     "end_time": "2023-12-09T19:07:42.923728Z",
     "start_time": "2023-12-09T19:07:42.896089Z"
    }
   },
   "id": "a26ef30eb34fee77"
  },
  {
   "cell_type": "code",
   "execution_count": 7,
   "outputs": [],
   "source": [
    "if sum([len(files) for root, dirs, files in os.walk(esc50_output_audio)]) <= esc50_df.shape[0]:\n",
    "    convert(esc50_audio, esc50_output_audio)"
   ],
   "metadata": {
    "collapsed": false,
    "ExecuteTime": {
     "end_time": "2023-12-09T19:07:42.931344Z",
     "start_time": "2023-12-09T19:07:42.900598Z"
    }
   },
   "id": "e941b6183df4d1e9"
  },
  {
   "cell_type": "markdown",
   "source": [
    "### WARBLRB"
   ],
   "metadata": {
    "collapsed": false
   },
   "id": "a1afa9ea1035a68e"
  },
  {
   "cell_type": "code",
   "execution_count": 8,
   "outputs": [
    {
     "name": "stdout",
     "output_type": "stream",
     "text": [
      "Overall size:  8000\n"
     ]
    }
   ],
   "source": [
    "df = pd.read_csv(warblrb_original_csv, delimiter=\",\")\n",
    "print(\"Overall size: \", df.shape[0])"
   ],
   "metadata": {
    "collapsed": false,
    "ExecuteTime": {
     "end_time": "2023-12-09T19:07:42.931583Z",
     "start_time": "2023-12-09T19:07:42.910127Z"
    }
   },
   "id": "9c94b92bca7fa871"
  },
  {
   "cell_type": "code",
   "execution_count": 9,
   "outputs": [],
   "source": [
    "bird_files = df[df['hasbird'] == 1]\n",
    "\n",
    "#delete_files(bird_files, warblrb_audio, 'itemid')\n",
    "\n",
    "new_df = df[df['hasbird'] == 0]\n",
    "new_df = new_df[['itemid', 'hasbird']]\n",
    "new_df['folder'] = 'Warblrb'\n",
    "new_df.rename(columns={'itemid': 'filename', 'hasbird': 'isBird'}, inplace=True)\n",
    "warblrb_df = new_df"
   ],
   "metadata": {
    "collapsed": false,
    "ExecuteTime": {
     "end_time": "2023-12-09T19:07:42.931617Z",
     "start_time": "2023-12-09T19:07:42.918961Z"
    }
   },
   "id": "beac5554a305b6fe"
  },
  {
   "cell_type": "code",
   "execution_count": 10,
   "outputs": [
    {
     "name": "stdout",
     "output_type": "stream",
     "text": [
      "Size after excluding chosen categories:  1955\n"
     ]
    }
   ],
   "source": [
    "print(\"Size after excluding chosen categories: \", warblrb_df.shape[0])"
   ],
   "metadata": {
    "collapsed": false,
    "ExecuteTime": {
     "end_time": "2023-12-09T19:07:42.949910Z",
     "start_time": "2023-12-09T19:07:42.923429Z"
    }
   },
   "id": "47811b7fa6fed835"
  },
  {
   "cell_type": "code",
   "execution_count": 11,
   "outputs": [],
   "source": [
    "if sum([len(files) for root, dirs, files in os.walk(warblrb_output_audio)]) <= warblrb_df.shape[0]:\n",
    "    convert(warblrb_audio, warblrb_output_audio)"
   ],
   "metadata": {
    "collapsed": false,
    "ExecuteTime": {
     "end_time": "2023-12-09T19:07:42.964074Z",
     "start_time": "2023-12-09T19:07:42.928216Z"
    }
   },
   "id": "7d5e00693152f246"
  },
  {
   "cell_type": "markdown",
   "source": [
    "### AUDIOSET"
   ],
   "metadata": {
    "collapsed": false
   },
   "id": "fe27db91f7819035"
  },
  {
   "cell_type": "code",
   "execution_count": 12,
   "outputs": [],
   "source": [
    "df_classes = pd.read_csv(audioset_original_csv, delimiter=',')\n",
    "df_labels = pd.read_csv(audioset_original_csv_labels, delimiter=',')"
   ],
   "metadata": {
    "collapsed": false,
    "ExecuteTime": {
     "end_time": "2023-12-09T19:07:43.000035Z",
     "start_time": "2023-12-09T19:07:42.964390Z"
    }
   },
   "id": "edd50579dc1624e3"
  },
  {
   "cell_type": "code",
   "execution_count": 13,
   "outputs": [
    {
     "name": "stdout",
     "output_type": "stream",
     "text": [
      "Overall size:  19644\n"
     ]
    }
   ],
   "source": [
    "df_classes['positive_labels'] = df_classes['positive_labels'].str.split(',')\n",
    "df_classes = df_classes.explode('positive_labels')\n",
    "\n",
    "merged_df = pd.merge(df_classes, df_labels, left_on='positive_labels', right_on='mid')\n",
    "df = merged_df.groupby('YTID')['display_name'].agg(list).reset_index()\n",
    "print(\"Overall size: \", df.shape[0])"
   ],
   "metadata": {
    "collapsed": false,
    "ExecuteTime": {
     "end_time": "2023-12-09T19:07:43.208865Z",
     "start_time": "2023-12-09T19:07:42.988075Z"
    }
   },
   "id": "1e892fe9f9cde7b1"
  },
  {
   "cell_type": "code",
   "execution_count": 14,
   "outputs": [],
   "source": [
    "categories_to_delete = ['Bird', 'Bird vocalization, bird call, bird song', 'Chirp, tweet', 'Squawk', 'Pigeon, dove', 'Coo', 'Crow', 'Caw', 'Owl', 'Hoot', 'Bird flight, flapping wings', 'Fowl', 'Chicken, rooster', 'Cluck', 'Crowing cock-a-doodle-doo', 'Turkey', 'Gobble', 'Duck', 'Quack', 'Goose', 'Honk', 'Field recording']\n",
    "bird_files = df[df['display_name'].apply(lambda x: any(cat in x for cat in categories_to_delete))]\n",
    "\n",
    "#delete_files(bird_files, audioset_audio, 'YTID')\n",
    "\n",
    "new_df = df[~df['display_name'].isin(bird_files['display_name'])].copy()\n",
    "\n",
    "new_df.loc[:, 'folder'] = 'Audioset'\n",
    "new_df.loc[:, 'isBird'] = 0\n",
    "new_df.rename(columns={'YTID': 'filename'}, inplace=True)\n",
    "audioset_df = new_df[['filename', 'isBird', 'folder']].copy()"
   ],
   "metadata": {
    "collapsed": false,
    "ExecuteTime": {
     "end_time": "2023-12-09T19:07:43.282325Z",
     "start_time": "2023-12-09T19:07:43.221572Z"
    }
   },
   "id": "7e00c56398b26b1d"
  },
  {
   "cell_type": "code",
   "execution_count": 15,
   "outputs": [
    {
     "name": "stdout",
     "output_type": "stream",
     "text": [
      "Size after excluding chosen categories:  18989\n"
     ]
    }
   ],
   "source": [
    "print(\"Size after excluding chosen categories: \", audioset_df.shape[0])"
   ],
   "metadata": {
    "collapsed": false,
    "ExecuteTime": {
     "end_time": "2023-12-09T19:07:43.285301Z",
     "start_time": "2023-12-09T19:07:43.282475Z"
    }
   },
   "id": "da20dcac304114a2"
  },
  {
   "cell_type": "code",
   "execution_count": 16,
   "outputs": [],
   "source": [
    "if sum([len(files) for root, dirs, files in os.walk(audioset_output_audio)]) <= audioset_df.shape[0]:\n",
    "    convert(audioset_audio, audioset_output_audio)"
   ],
   "metadata": {
    "collapsed": false,
    "ExecuteTime": {
     "end_time": "2023-12-09T19:07:43.335332Z",
     "start_time": "2023-12-09T19:07:43.285491Z"
    }
   },
   "id": "fdff73e5b74e8fb8"
  },
  {
   "cell_type": "markdown",
   "source": [
    "### Freefiled"
   ],
   "metadata": {
    "collapsed": false
   },
   "id": "9e8dc3eed6a9674c"
  },
  {
   "cell_type": "code",
   "execution_count": 17,
   "outputs": [
    {
     "name": "stdout",
     "output_type": "stream",
     "text": [
      "Overall size:  7690\n"
     ]
    }
   ],
   "source": [
    "df = pd.read_csv(freefield_original_csv, delimiter=\",\")\n",
    "print(\"Overall size: \", df.shape[0])"
   ],
   "metadata": {
    "collapsed": false,
    "ExecuteTime": {
     "end_time": "2023-12-09T19:07:43.342793Z",
     "start_time": "2023-12-09T19:07:43.335635Z"
    }
   },
   "id": "f775c482ecef88a3"
  },
  {
   "cell_type": "code",
   "execution_count": 18,
   "outputs": [],
   "source": [
    "#bird_files = df[df['hasbird'] == 1]\n",
    "#delete_files(bird_files, freefield_audio, 'itemid')\n",
    "\n",
    "new_df = df[df['hasbird'] == 0]\n",
    "new_df = new_df[['itemid', 'hasbird']]\n",
    "new_df['folder'] = 'Freefield'\n",
    "new_df.rename(columns={'itemid': 'filename', 'hasbird': 'isBird'}, inplace=True)\n",
    "freefield_df = new_df"
   ],
   "metadata": {
    "collapsed": false,
    "ExecuteTime": {
     "end_time": "2023-12-09T19:07:43.349824Z",
     "start_time": "2023-12-09T19:07:43.343997Z"
    }
   },
   "id": "c3f54e97f95489ca"
  },
  {
   "cell_type": "code",
   "execution_count": 19,
   "outputs": [
    {
     "name": "stdout",
     "output_type": "stream",
     "text": [
      "Size after excluding chosen categories:  5755\n"
     ]
    }
   ],
   "source": [
    "print(\"Size after excluding chosen categories: \", freefield_df.shape[0])"
   ],
   "metadata": {
    "collapsed": false,
    "ExecuteTime": {
     "end_time": "2023-12-09T19:07:43.350091Z",
     "start_time": "2023-12-09T19:07:43.346193Z"
    }
   },
   "id": "dbd82b741bc3354d"
  },
  {
   "cell_type": "code",
   "execution_count": 20,
   "outputs": [],
   "source": [
    "if sum([len(files) for root, dirs, files in os.walk(freefield_output_audio)]) <= freefield_df.shape[0]:\n",
    "    convert(freefield_audio, freefield_output_audio)"
   ],
   "metadata": {
    "collapsed": false,
    "ExecuteTime": {
     "end_time": "2023-12-09T19:07:43.390031Z",
     "start_time": "2023-12-09T19:07:43.348703Z"
    }
   },
   "id": "b0e95326167f7d03"
  },
  {
   "cell_type": "markdown",
   "source": [
    "### Bird sounds"
   ],
   "metadata": {
    "collapsed": false
   },
   "id": "1e2dc80a1174ddfa"
  },
  {
   "cell_type": "code",
   "execution_count": 21,
   "outputs": [
    {
     "name": "stderr",
     "output_type": "stream",
     "text": [
      "/Users/zosia/Desktop/Bird-classification-model/birdclassification/preprocessing/filtering.py:72: DtypeWarning: Columns (10,39,43,44,45,46,47,48) have mixed types. Specify dtype option on import or set low_memory=False.\n",
      "  recordings = pd.read_csv(filepath_recordings)\n"
     ]
    }
   ],
   "source": [
    "df = filter_recordings_30()\n",
    "birds_df = df[['id', 'Latin name']].copy()\n",
    "birds_df['isBird'] = 1\n",
    "birds_df.rename(columns={'id': 'filename', 'Latin name': 'folder'}, inplace=True)"
   ],
   "metadata": {
    "collapsed": false,
    "ExecuteTime": {
     "end_time": "2023-12-09T19:07:46.907270Z",
     "start_time": "2023-12-09T19:07:43.374514Z"
    }
   },
   "id": "e4ae808fedc19ab6"
  },
  {
   "cell_type": "markdown",
   "source": [
    "### Merge datasets"
   ],
   "metadata": {
    "collapsed": false
   },
   "id": "7343676eec82892a"
  },
  {
   "cell_type": "code",
   "execution_count": 22,
   "outputs": [],
   "source": [
    "result_df = pd.concat([esc50_df, warblrb_df, audioset_df, freefield_df, birds_df], ignore_index=True)\n",
    "result_df.to_csv(output_folder)"
   ],
   "metadata": {
    "collapsed": false,
    "ExecuteTime": {
     "end_time": "2023-12-09T19:07:46.973981Z",
     "start_time": "2023-12-09T19:07:46.908142Z"
    }
   },
   "id": "19c85a1f9c65d3ed"
  },
  {
   "cell_type": "markdown",
   "source": [
    "#### Duplicates"
   ],
   "metadata": {
    "collapsed": false
   },
   "id": "1777fad39caaf1b4"
  },
  {
   "cell_type": "code",
   "execution_count": 23,
   "outputs": [
    {
     "name": "stdout",
     "output_type": "stream",
     "text": [
      "Duplicate count:  296\n"
     ]
    }
   ],
   "source": [
    "duplicates = result_df.duplicated(subset='filename', keep=False)\n",
    "duplicate_count = duplicates.sum()\n",
    "print(\"Duplicate count: \", duplicate_count)"
   ],
   "metadata": {
    "collapsed": false,
    "ExecuteTime": {
     "end_time": "2023-12-09T19:07:46.982019Z",
     "start_time": "2023-12-09T19:07:46.978295Z"
    }
   },
   "id": "a45ca2d170641868"
  },
  {
   "cell_type": "code",
   "execution_count": 23,
   "outputs": [],
   "source": [],
   "metadata": {
    "collapsed": false,
    "ExecuteTime": {
     "end_time": "2023-12-09T19:07:46.983576Z",
     "start_time": "2023-12-09T19:07:46.981084Z"
    }
   },
   "id": "ca2f35e0d19b214f"
  }
 ],
 "metadata": {
  "kernelspec": {
   "display_name": "Python 3",
   "language": "python",
   "name": "python3"
  },
  "language_info": {
   "codemirror_mode": {
    "name": "ipython",
    "version": 2
   },
   "file_extension": ".py",
   "mimetype": "text/x-python",
   "name": "python",
   "nbconvert_exporter": "python",
   "pygments_lexer": "ipython2",
   "version": "2.7.6"
  }
 },
 "nbformat": 4,
 "nbformat_minor": 5
}
