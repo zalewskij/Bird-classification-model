{
 "cells": [
  {
   "cell_type": "markdown",
   "source": [
    "# Dataset"
   ],
   "metadata": {
    "collapsed": false
   },
   "id": "6a702456ba107bf3"
  },
  {
   "cell_type": "code",
   "execution_count": 39,
   "outputs": [],
   "source": [
    "from sklearn.preprocessing import LabelEncoder\n",
    "from birdclassification.preprocessing.filtering import filter_recordings_30\n",
    "from torch.utils.data import Dataset, DataLoader\n",
    "import torch\n",
    "from sklearn.model_selection import train_test_split\n",
    "import torchaudio"
   ],
   "metadata": {
    "collapsed": false,
    "ExecuteTime": {
     "end_time": "2023-11-13T20:46:35.577068793Z",
     "start_time": "2023-11-13T20:46:35.456825995Z"
    }
   },
   "id": "1672186e357f3b6b"
  },
  {
   "cell_type": "code",
   "execution_count": 40,
   "id": "initial_id",
   "metadata": {
    "collapsed": false,
    "ExecuteTime": {
     "end_time": "2023-11-13T20:46:35.577427182Z",
     "start_time": "2023-11-13T20:46:35.499591555Z"
    }
   },
   "outputs": [],
   "source": [
    "class CustomAudioDataset(Dataset):\n",
    "    def __init__(self, df, recording_dir, transform=None, target_transform=None, sample_rate=32000, number_of_samples = 32000*3, device = \"cpu\"):\n",
    "        df['filepath'] = df.apply(lambda x: f\"{recording_dir}{x['Latin name']}/{str(x['id'])}.mp3\" , axis=1)\n",
    "        le = LabelEncoder()\n",
    "        df['label'] = le.fit_transform(df['Latin name'])\n",
    "        \n",
    "        self.sample_rate = sample_rate\n",
    "        self.filepath = df['filepath'].to_numpy()\n",
    "        self.label = df['label'].to_numpy()\n",
    "        self.device = device\n",
    "        self.recording_dir = recording_dir\n",
    "        if transform:\n",
    "            self.transform = transform.to(self.device)\n",
    "        self.target_transform = target_transform\n",
    "        self.le_name_mapping = dict(zip(le.classes_, le.transform(le.classes_)))\n",
    "        self.number_of_samples = number_of_samples \n",
    "\n",
    "    def __len__(self):\n",
    "        return self.filepath.size\n",
    "\n",
    "    def __getitem__(self, idx):\n",
    "        waveform, sr = torchaudio.load(self.filepath[idx])\n",
    "        waveform = waveform.to(self.device)\n",
    "        label = self.label[idx]\n",
    "        audio= self.resample_if_necessary(waveform, sr)\n",
    "        audio = self.mix_down_if_necessary(audio)\n",
    "        # audio = torchaudio.functional.gain(audio, gain_db=10)\n",
    "        # audio = torchaudio.functional.phaser(audio, sample_rate=self.sample_rate)\n",
    "        audio = self.cut_if_necessary(audio)\n",
    "        audio = self.right_pad_if_necessary(audio)\n",
    "\n",
    "        audio = self.transform(audio)\n",
    "        return audio, label\n",
    "    \n",
    "    def mix_down_if_necessary(self, audio):\n",
    "        if audio.shape[0] > 1:\n",
    "            audio = torch.mean(audio, dim = 0,  keepdim=True)\n",
    "        return audio\n",
    "    \n",
    "    def resample_if_necessary(self, audio, sr):\n",
    "        if sr != self.sample_rate:\n",
    "            resampler = torchaudio.transforms.Resample(sr, self.sample_rate)\n",
    "            audio = resampler(audio)\n",
    "        return audio\n",
    "    \n",
    "    def get_sample_rate(self):\n",
    "        return self.sample_rate\n",
    "    \n",
    "    def get_mapping(self):\n",
    "        return self.le_name_mapping\n",
    "\n",
    "    def cut_if_necessary(self, audio):\n",
    "        if audio.shape[1] > self.number_of_samples:\n",
    "            audio  = audio[:, :self.number_of_samples]\n",
    "        return audio\n",
    "            \n",
    "\n",
    "    def right_pad_if_necessary(self, audio):\n",
    "        length_audio = audio.shape[1]\n",
    "        if length_audio < self.number_of_samples:\n",
    "            num_missing_samples = self.number_of_samples - length_audio\n",
    "            last_dim_padding = (0, num_missing_samples)\n",
    "            audio = torch.nn.functional.pad(audio, last_dim_padding)\n",
    "        return audio\n",
    "             \n"
   ]
  },
  {
   "cell_type": "code",
   "execution_count": 41,
   "id": "6b010cdc6878a6cf",
   "metadata": {
    "collapsed": false,
    "ExecuteTime": {
     "end_time": "2023-11-13T20:46:44.660027440Z",
     "start_time": "2023-11-13T20:46:35.499895337Z"
    }
   },
   "outputs": [
    {
     "name": "stderr",
     "output_type": "stream",
     "text": [
      "/home/jacek/PycharmProjects/Bird-classification-model/birdclassification/preprocessing/filtering.py:43: DtypeWarning: Columns (10,39,43,44,45,46,47,48) have mixed types. Specify dtype option on import or set low_memory=False.\n",
      "  recordings = pd.read_csv(\"../data/xeno_canto_recordings.csv\")\n",
      "\n",
      "KeyboardInterrupt\n",
      "\n"
     ]
    }
   ],
   "source": [
    "if torch.cuda.is_available():\n",
    "    device_str = \"cuda\"\n",
    "else:\n",
    "    device_str = \"cpu\"\n",
    "\n",
    "SEED = 123\n",
    "RECORDINGS_DIR = '/media/jacek/E753-A120/recordings_30/'\n",
    "SAMPLE_RATE = 32000\n",
    "NUM_SAMPLES = SAMPLE_RATE * 1\n",
    "\n",
    "\n",
    "mel_spectrogram = torchaudio.transforms.MelSpectrogram(\n",
    "    sample_rate=SAMPLE_RATE,\n",
    "    n_fft=1024,\n",
    "    hop_length=512,\n",
    "    n_mels=64\n",
    ")\n",
    "\n",
    "df = filter_recordings_30()\n",
    "\n",
    "train_df, test_val_df = train_test_split(df, stratify=df['Latin name'], test_size=0.2, random_state = SEED)\n",
    "val_df, test_df = train_test_split(test_val_df, stratify=test_val_df['Latin name'], test_size=0.5, random_state = SEED)\n",
    "\n",
    "train_ds = CustomAudioDataset(train_df, recording_dir=RECORDINGS_DIR, transform=mel_spectrogram, sample_rate=SAMPLE_RATE, number_of_samples = NUM_SAMPLES, device = device_str)\n",
    "val_ds = CustomAudioDataset(val_df, recording_dir=RECORDINGS_DIR, device = device_str)\n",
    "test_ds = CustomAudioDataset(test_df, recording_dir=RECORDINGS_DIR, device = device_str)"
   ]
  },
  {
   "cell_type": "code",
   "execution_count": null,
   "id": "db42398020772098",
   "metadata": {
    "collapsed": false,
    "ExecuteTime": {
     "end_time": "2023-11-13T20:46:44.711599031Z",
     "start_time": "2023-11-13T20:46:44.661259368Z"
    }
   },
   "outputs": [],
   "source": [
    "print(train_ds.__len__())\n",
    "print(val_ds.__len__())\n",
    "print(test_ds.__len__())"
   ]
  },
  {
   "cell_type": "code",
   "execution_count": null,
   "id": "2b510032a5fee64a",
   "metadata": {
    "collapsed": false,
    "ExecuteTime": {
     "start_time": "2023-11-13T20:46:44.707504331Z"
    }
   },
   "outputs": [],
   "source": [
    "import librosa\n",
    "import matplotlib.pyplot as plt\n",
    "def plot_spec(ax, spec, title):\n",
    "    ax.set_title(title)\n",
    "    ax.imshow(librosa.amplitude_to_db(spec), origin=\"lower\", aspect=\"auto\")"
   ]
  },
  {
   "cell_type": "code",
   "execution_count": null,
   "id": "4d031b8b8289295",
   "metadata": {
    "collapsed": false,
    "ExecuteTime": {
     "start_time": "2023-11-13T20:46:44.707629837Z"
    }
   },
   "outputs": [],
   "source": [
    "audio , label = train_ds[4]\n",
    "fig, axes = plt.subplots(1, 1, sharex=True, sharey=True)\n",
    "plot_spec(axes, torch.abs(audio[0]), title=\"Random spectrogram\")"
   ]
  },
  {
   "cell_type": "code",
   "execution_count": null,
   "id": "0cce7230-3169-4cd7-8dd2-4fb09dfbf0ee",
   "metadata": {
    "ExecuteTime": {
     "start_time": "2023-11-13T20:46:44.707666378Z"
    }
   },
   "outputs": [],
   "source": [
    "# from birdclassification.visualization.plots import plot_waveform\n",
    "# plot_waveform(audio.numpy()[0], 32000)\n",
    "audio.shape"
   ]
  },
  {
   "cell_type": "markdown",
   "source": [
    "# CNN network"
   ],
   "metadata": {
    "collapsed": false
   },
   "id": "fab1bebb5e2e2d3d"
  },
  {
   "cell_type": "code",
   "execution_count": null,
   "outputs": [],
   "source": [
    "from torch import nn\n",
    "from torchsummary import summary"
   ],
   "metadata": {
    "collapsed": false,
    "ExecuteTime": {
     "start_time": "2023-11-13T20:46:44.707702770Z"
    }
   },
   "id": "35d1e5d12abfd33e"
  },
  {
   "cell_type": "code",
   "execution_count": null,
   "outputs": [],
   "source": [
    "class CNNNetwork(nn.Module):\n",
    "    def __init__(self):\n",
    "        super().__init__()\n",
    "        # 4 conv blocks / flatten / liniear / softmax\n",
    "        self.conv1 = nn.Sequential(\n",
    "            nn.Conv2d(\n",
    "                in_channels=1,\n",
    "                out_channels=16,\n",
    "                kernel_size=3,\n",
    "                stride=1,\n",
    "                padding=2\n",
    "            ),\n",
    "            nn.ReLU(),\n",
    "            nn.MaxPool2d(kernel_size=2)\n",
    "        )\n",
    "        self.conv2 = nn.Sequential(\n",
    "            nn.Conv2d(\n",
    "                in_channels=16,\n",
    "                out_channels=32,\n",
    "                kernel_size=3,\n",
    "                stride=1,\n",
    "                padding=2\n",
    "            ),\n",
    "            nn.ReLU(),\n",
    "            nn.MaxPool2d(kernel_size=2)\n",
    "        )\n",
    "        self.conv3 = nn.Sequential(\n",
    "            nn.Conv2d(\n",
    "                in_channels=32,\n",
    "                out_channels=64,\n",
    "                kernel_size=3,\n",
    "                stride=1,\n",
    "                padding=2\n",
    "            ),\n",
    "            nn.ReLU(),\n",
    "            nn.MaxPool2d(kernel_size=2)\n",
    "        )\n",
    "        self.conv4 = nn.Sequential(\n",
    "            nn.Conv2d(\n",
    "                in_channels=64,\n",
    "                out_channels=128,\n",
    "                kernel_size=3,\n",
    "                stride=1,\n",
    "                padding=2\n",
    "            ),\n",
    "            nn.ReLU(),\n",
    "            nn.MaxPool2d(kernel_size=2)\n",
    "        )\n",
    "        self.flatten = nn.Flatten()\n",
    "        self.linear = nn.Linear(\n",
    "            3200, 30 #14976\n",
    "        )\n",
    "        self.softmax = nn.Softmax(dim = 1)\n",
    "        \n",
    "            \n",
    "        \n",
    "    def forward(self, input_data):\n",
    "        print(\"input\", input_data.shape)\n",
    "        x = self.conv1(input_data)\n",
    "        print(\"conv1\", x.shape)\n",
    "        x = self.conv2(x)\n",
    "        print(\"conv2\", x.shape)\n",
    "        x = self.conv3(x)\n",
    "        print(\"conv3\", x.shape)\n",
    "        x = self.conv4(x)\n",
    "        print(\"conv4\", x.shape)\n",
    "        x = self.flatten(x)\n",
    "        print(\"flatten\", x.shape)\n",
    "        logits = self.linear(x)\n",
    "        predictions = self.softmax(logits)\n",
    "        return predictions "
   ],
   "metadata": {
    "collapsed": false,
    "ExecuteTime": {
     "start_time": "2023-11-13T20:46:44.707737569Z"
    }
   },
   "id": "df3aff23018c1a94"
  },
  {
   "cell_type": "code",
   "execution_count": null,
   "outputs": [],
   "source": [
    "cnn = CNNNetwork()\n",
    "summary(cnn, (1, 63, 64)) "
   ],
   "metadata": {
    "collapsed": false,
    "ExecuteTime": {
     "start_time": "2023-11-13T20:46:44.707772679Z"
    }
   },
   "id": "52cea6aac13d7052"
  },
  {
   "cell_type": "markdown",
   "source": [
    "# Training"
   ],
   "metadata": {
    "collapsed": false
   },
   "id": "f6190d8d10adfe96"
  },
  {
   "cell_type": "code",
   "execution_count": null,
   "outputs": [],
   "source": [
    "if torch.cuda.is_available():\n",
    "    device = \"cuda\"\n",
    "else:\n",
    "    device = \"cpu\"\n",
    "cnn = CNNNetwork().to(device)\n",
    "device"
   ],
   "metadata": {
    "collapsed": false,
    "ExecuteTime": {
     "start_time": "2023-11-13T20:46:44.707895875Z"
    }
   },
   "id": "552c14bca0733afc"
  },
  {
   "cell_type": "code",
   "execution_count": null,
   "outputs": [],
   "source": [
    "def train_one_epoch(model, data_loader, loss_fn, optimiser, device):\n",
    "    for inputs, targets in data_loader:\n",
    "        inputs, targets = inputs.to(device), targets.to(device)\n",
    "        \n",
    "        #calculate loss\n",
    "        predictions = model(inputs)\n",
    "        loss = loss_fn(predictions, targets)\n",
    "    \n",
    "        #backpropagate loss and update weights\n",
    "        optimiser.zero_grad()\n",
    "        loss.backward()\n",
    "        optimiser.step()\n",
    "        \n",
    "    print(f\"Loss {loss.item()}\")\n",
    "        \n",
    "def train(model, data_loader, loss_fn, optimiser, device,epochs):\n",
    "    for i in range(epochs):\n",
    "        print(f\"Epoch {i+1}\")\n",
    "        train_one_epoch(model, data_loader, loss_fn, optimiser, device)\n",
    "    print(\"Finished training\")"
   ],
   "metadata": {
    "collapsed": false,
    "ExecuteTime": {
     "start_time": "2023-11-13T20:46:44.707932922Z"
    }
   },
   "id": "7b4f7c2f9d2bdc8e"
  },
  {
   "cell_type": "code",
   "execution_count": null,
   "outputs": [],
   "source": [
    "def predict(model, input, target, class_mapping):\n",
    "    model.eval()\n",
    "    with torch.no_grad():\n",
    "        predctions = model(input)\n",
    "        predicted_index = predctions[0].argmax(0)\n",
    "        predicted = class_mapping[predicted_index]\n",
    "        expected = class_mapping[target]\n",
    "    return predicted, expected"
   ],
   "metadata": {
    "collapsed": false,
    "ExecuteTime": {
     "start_time": "2023-11-13T20:46:44.707955043Z"
    }
   },
   "id": "9efffc3cd07ef7f8"
  },
  {
   "cell_type": "code",
   "execution_count": null,
   "outputs": [],
   "source": [
    "BATCH_SIZE = 64\n",
    "train_data_loader  = DataLoader(train_ds, batch_size= BATCH_SIZE)"
   ],
   "metadata": {
    "collapsed": false,
    "ExecuteTime": {
     "start_time": "2023-11-13T20:46:44.707976689Z"
    }
   },
   "id": "3ac7cbac6d6224b"
  },
  {
   "cell_type": "code",
   "execution_count": null,
   "outputs": [],
   "source": [
    "for i, elem in enumerate(train_data_loader):\n",
    "    print(elem)\n",
    "    if i == 2:\n",
    "        break"
   ],
   "metadata": {
    "collapsed": false,
    "ExecuteTime": {
     "start_time": "2023-11-13T20:46:44.707999766Z"
    }
   },
   "id": "3a79836b00aae34b"
  },
  {
   "cell_type": "code",
   "execution_count": null,
   "outputs": [],
   "source": [
    "# EPOCHS = 1\n",
    "# LEARNING_RATE = 0.001\n",
    "# loss_fn = nn.CrossEntropyLoss()\n",
    "# optimiser = torch.optim.Adam(cnn.parameters(), LEARNING_RATE)\n",
    "# train(cnn, train_data_loader, loss_fn, optimiser, device, EPOCHS)\n",
    "# \n",
    "# torch.save(cnn.state_dict(), \"cnn.pth\")"
   ],
   "metadata": {
    "collapsed": false,
    "ExecuteTime": {
     "start_time": "2023-11-13T20:46:44.708021282Z"
    }
   },
   "id": "2e6ec3342936c8aa"
  },
  {
   "cell_type": "code",
   "execution_count": null,
   "outputs": [],
   "source": [],
   "metadata": {
    "collapsed": false,
    "ExecuteTime": {
     "start_time": "2023-11-13T20:46:44.708045854Z"
    }
   },
   "id": "ac837ab9d0c29fee"
  }
 ],
 "metadata": {
  "kernelspec": {
   "display_name": "Python 3 (ipykernel)",
   "language": "python",
   "name": "python3"
  },
  "language_info": {
   "codemirror_mode": {
    "name": "ipython",
    "version": 3
   },
   "file_extension": ".py",
   "mimetype": "text/x-python",
   "name": "python",
   "nbconvert_exporter": "python",
   "pygments_lexer": "ipython3",
   "version": "3.11.0rc1"
  }
 },
 "nbformat": 4,
 "nbformat_minor": 5
}
