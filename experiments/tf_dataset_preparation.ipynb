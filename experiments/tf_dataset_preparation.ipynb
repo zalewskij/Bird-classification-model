{
 "cells": [
  {
   "cell_type": "markdown",
   "source": [
    "## Return value of wav dataset (format of tf.data for training)"
   ],
   "metadata": {
    "collapsed": false
   },
   "id": "53f9fb96d275429d"
  },
  {
   "cell_type": "code",
   "execution_count": 1,
   "outputs": [
    {
     "name": "stderr",
     "output_type": "stream",
     "text": [
      "2023-11-02 11:54:30.978327: I tensorflow/core/util/port.cc:110] oneDNN custom operations are on. You may see slightly different numerical results due to floating-point round-off errors from different computation orders. To turn them off, set the environment variable `TF_ENABLE_ONEDNN_OPTS=0`.\n",
      "2023-11-02 11:54:30.980302: I tensorflow/tsl/cuda/cudart_stub.cc:28] Could not find cuda drivers on your machine, GPU will not be used.\n",
      "2023-11-02 11:54:31.019465: I tensorflow/tsl/cuda/cudart_stub.cc:28] Could not find cuda drivers on your machine, GPU will not be used.\n",
      "2023-11-02 11:54:31.020059: I tensorflow/core/platform/cpu_feature_guard.cc:182] This TensorFlow binary is optimized to use available CPU instructions in performance-critical operations.\n",
      "To enable the following instructions: AVX2 AVX512F AVX512_VNNI FMA, in other operations, rebuild TensorFlow with the appropriate compiler flags.\n",
      "2023-11-02 11:54:32.047260: W tensorflow/compiler/tf2tensorrt/utils/py_utils.cc:38] TF-TRT Warning: Could not find TensorRT\n"
     ]
    },
    {
     "name": "stdout",
     "output_type": "stream",
     "text": [
      "Found 3 files belonging to 2 classes.\n"
     ]
    },
    {
     "name": "stderr",
     "output_type": "stream",
     "text": [
      "2023-11-02 11:54:32.976116: I tensorflow/compiler/xla/stream_executor/cuda/cuda_gpu_executor.cc:995] successful NUMA node read from SysFS had negative value (-1), but there must be at least one NUMA node, so returning NUMA node zero. See more at https://github.com/torvalds/linux/blob/v6.0/Documentation/ABI/testing/sysfs-bus-pci#L344-L355\n",
      "2023-11-02 11:54:32.976775: W tensorflow/core/common_runtime/gpu/gpu_device.cc:1960] Cannot dlopen some GPU libraries. Please make sure the missing libraries mentioned above are installed properly if you would like to use GPU. Follow the guide at https://www.tensorflow.org/install/gpu for how to download and setup the required libraries for your platform.\n",
      "Skipping registering GPU devices...\n"
     ]
    },
    {
     "name": "stdout",
     "output_type": "stream",
     "text": [
      "(<tf.Tensor: shape=(3, 5556600, 2), dtype=float32, numpy=\n",
      "array([[[ 0.0000000e+00,  0.0000000e+00],\n",
      "        [ 0.0000000e+00,  0.0000000e+00],\n",
      "        [ 0.0000000e+00,  0.0000000e+00],\n",
      "        ...,\n",
      "        [ 0.0000000e+00,  3.0517578e-05],\n",
      "        [ 0.0000000e+00,  0.0000000e+00],\n",
      "        [ 3.0517578e-05, -3.0517578e-05]],\n",
      "\n",
      "       [[ 1.4648438e-03,  0.0000000e+00],\n",
      "        [ 8.8806152e-03,  0.0000000e+00],\n",
      "        [ 4.4250488e-03,  0.0000000e+00],\n",
      "        ...,\n",
      "        [ 0.0000000e+00,  0.0000000e+00],\n",
      "        [ 0.0000000e+00,  0.0000000e+00],\n",
      "        [ 0.0000000e+00,  0.0000000e+00]],\n",
      "\n",
      "       [[ 2.1972656e-03,  2.1667480e-03],\n",
      "        [ 1.9836426e-03,  2.0751953e-03],\n",
      "        [ 1.9531250e-03,  1.8005371e-03],\n",
      "        ...,\n",
      "        [ 0.0000000e+00,  0.0000000e+00],\n",
      "        [ 0.0000000e+00,  0.0000000e+00],\n",
      "        [ 0.0000000e+00,  0.0000000e+00]]], dtype=float32)>, <tf.Tensor: shape=(3,), dtype=int32, numpy=array([0, 0, 1], dtype=int32)>)\n",
      "\n",
      "\n"
     ]
    }
   ],
   "source": [
    "import tensorflow as tf\n",
    "wav_ds = tf.keras.utils.audio_dataset_from_directory('/media/jacek/E753-A120/wav_rec_16')\n",
    "for features in wav_ds.take(3):\n",
    "    print(features)\n",
    "    print(\"\\n\\n\")"
   ],
   "metadata": {
    "collapsed": false,
    "ExecuteTime": {
     "end_time": "2023-11-02T10:54:33.355411203Z",
     "start_time": "2023-11-02T10:54:30.776281014Z"
    }
   },
   "id": "dc32ccd641a5f04f"
  },
  {
   "cell_type": "code",
   "execution_count": 2,
   "outputs": [
    {
     "data": {
      "text/plain": "<_PaddedBatchDataset element_spec=(TensorSpec(shape=(None, None, None), dtype=tf.float32, name=None), TensorSpec(shape=(None,), dtype=tf.int32, name=None))>"
     },
     "execution_count": 2,
     "metadata": {},
     "output_type": "execute_result"
    }
   ],
   "source": [
    "wav_ds"
   ],
   "metadata": {
    "collapsed": false,
    "ExecuteTime": {
     "end_time": "2023-11-02T10:54:33.363940271Z",
     "start_time": "2023-11-02T10:54:33.362153603Z"
    }
   },
   "id": "532014e757240f2"
  },
  {
   "cell_type": "markdown",
   "source": [
    "## Custom dataset from mp3 (only filepath)"
   ],
   "metadata": {
    "collapsed": false
   },
   "id": "510554dcb86170a8"
  },
  {
   "cell_type": "markdown",
   "source": [
    "### Config + import + functions"
   ],
   "metadata": {
    "collapsed": false
   },
   "id": "36468b674b4b7411"
  },
  {
   "cell_type": "code",
   "execution_count": 3,
   "outputs": [],
   "source": [
    "\n",
    "import librosa.display\n",
    "import tensorflow as tf\n",
    "from birdclassification.preprocessing.filtering import filter_recordings_30\n",
    "from birdclassification.visualization.plots import plot_waveform\n",
    "from sklearn.preprocessing import LabelEncoder\n",
    "\n",
    "AUTOTUNE = tf.data.experimental.AUTOTUNE\n",
    "N_CLASSES = 264  # Allows to reduce the number of classes to train (max = 264)\n",
    "SAMPLE_RATE = 32000  # Audio sample rate\n",
    "MAX_DURATION = 5  # Clip duration in seconds \n",
    "FFT_SIZE = 1024  # Fourier Transform size \n",
    "HOP_SIZE = 512  # Number of samples between each successive FFT window\n",
    "N_MEL_BINS = 128\n",
    "N_SPECTROGRAM_BINS = (FFT_SIZE // 2) + 1\n",
    "F_MIN = 20  # Min frequency cutoff\n",
    "F_MAX = SAMPLE_RATE / 2  # Max Frequency cutoff\n",
    "BATCH_SIZE = 64  # Training Batch size\n",
    "DATA_PATH = \"/media/jacek/E753-A120/recordings_30/\""
   ],
   "metadata": {
    "collapsed": false,
    "ExecuteTime": {
     "end_time": "2023-11-02T10:54:33.934438337Z",
     "start_time": "2023-11-02T10:54:33.363416161Z"
    }
   },
   "id": "c33b92261304e412"
  },
  {
   "cell_type": "markdown",
   "source": [
    "### Prepare dataframe"
   ],
   "metadata": {
    "collapsed": false
   },
   "id": "dc0f9ac8c3a292e8"
  },
  {
   "cell_type": "code",
   "execution_count": 4,
   "outputs": [
    {
     "name": "stderr",
     "output_type": "stream",
     "text": [
      "/home/jacek/PycharmProjects/Bird-classification-model/birdclassification/preprocessing/filtering.py:43: DtypeWarning: Columns (10,39,43,44,45,46,47,48) have mixed types. Specify dtype option on import or set low_memory=False.\n",
      "  recordings = pd.read_csv(\"../data/xeno_canto_recordings.csv\")\n"
     ]
    },
    {
     "data": {
      "text/plain": "        index  Unnamed: 0      id      gen     sp        ssp  group  \\\n0           5           5  815762   Cygnus   olor        NaN  birds   \n1           6           6  808540   Cygnus   olor        NaN  birds   \n2           7           7  805048   Cygnus   olor        NaN  birds   \n3           8           8  804791   Cygnus   olor        NaN  birds   \n4           9           9  797609   Cygnus   olor        NaN  birds   \n...       ...         ...     ...      ...    ...        ...    ...   \n41205  296788      296788  108758  Columba  livia        NaN  birds   \n41206  296789      296789   58488  Columba  livia        NaN  birds   \n41207  296790      296790    6924  Columba  livia  domestica  birds   \n41208  296791      296791  387816  Columba  livia        NaN  birds   \n41209  296792      296792  323560  Columba  livia        NaN  birds   \n\n              en                   rec            cnt  ... Unnamed: 45  \\\n0      Mute Swan      Frédéric Cazaban         France  ...         NaN   \n1      Mute Swan            Juha Saari        Finland  ...         NaN   \n2      Mute Swan      Magnus Hellström         Sweden  ...         NaN   \n3      Mute Swan              Uku Paal        Estonia  ...         NaN   \n4      Mute Swan          Jorge Leitão        Germany  ...         NaN   \n...          ...                   ...            ...  ...         ...   \n41205  Rock Dove   Albert Lastukhin         Venezuela  ...         NaN   \n41206  Rock Dove           Mike Nelson  United States  ...         NaN   \n41207  Rock Dove  Glauco Alves Pereira         Brazil  ...         NaN   \n41208  Rock Dove         johannes buhl        Germany  ...         NaN   \n41209  Rock Dove      Alfonso Auerbach       Honduras  ...         NaN   \n\n      Unnamed: 46  Unnamed: 47 Unnamed: 48 Unnamed: 49 Unnamed: 50  \\\n0             NaN          NaN         NaN         NaN         NaN   \n1             NaN          NaN         NaN         NaN         NaN   \n2             NaN          NaN         NaN         NaN         NaN   \n3             NaN          NaN         NaN         NaN         NaN   \n4             NaN          NaN         NaN         NaN         NaN   \n...           ...          ...         ...         ...         ...   \n41205         NaN          NaN         NaN         NaN         NaN   \n41206         NaN          NaN         NaN         NaN         NaN   \n41207         NaN          NaN         NaN         NaN         NaN   \n41208         NaN          NaN         NaN         NaN         NaN   \n41209         NaN          NaN         NaN         NaN         NaN   \n\n      Unnamed: 51     Latin name  \\\n0             NaN    Cygnus olor   \n1             NaN    Cygnus olor   \n2             NaN    Cygnus olor   \n3             NaN    Cygnus olor   \n4             NaN    Cygnus olor   \n...           ...            ...   \n41205         NaN  Columba livia   \n41206         NaN  Columba livia   \n41207         NaN  Columba livia   \n41208         NaN  Columba livia   \n41209         NaN  Columba livia   \n\n                                                filepath label  \n0      /media/jacek/E753-A120/recordings_30/Cygnus ol...    12  \n1      /media/jacek/E753-A120/recordings_30/Cygnus ol...    12  \n2      /media/jacek/E753-A120/recordings_30/Cygnus ol...    12  \n3      /media/jacek/E753-A120/recordings_30/Cygnus ol...    12  \n4      /media/jacek/E753-A120/recordings_30/Cygnus ol...    12  \n...                                                  ...   ...  \n41205  /media/jacek/E753-A120/recordings_30/Columba l...     7  \n41206  /media/jacek/E753-A120/recordings_30/Columba l...     7  \n41207  /media/jacek/E753-A120/recordings_30/Columba l...     7  \n41208  /media/jacek/E753-A120/recordings_30/Columba l...     7  \n41209  /media/jacek/E753-A120/recordings_30/Columba l...     7  \n\n[41210 rows x 56 columns]",
      "text/html": "<div>\n<style scoped>\n    .dataframe tbody tr th:only-of-type {\n        vertical-align: middle;\n    }\n\n    .dataframe tbody tr th {\n        vertical-align: top;\n    }\n\n    .dataframe thead th {\n        text-align: right;\n    }\n</style>\n<table border=\"1\" class=\"dataframe\">\n  <thead>\n    <tr style=\"text-align: right;\">\n      <th></th>\n      <th>index</th>\n      <th>Unnamed: 0</th>\n      <th>id</th>\n      <th>gen</th>\n      <th>sp</th>\n      <th>ssp</th>\n      <th>group</th>\n      <th>en</th>\n      <th>rec</th>\n      <th>cnt</th>\n      <th>...</th>\n      <th>Unnamed: 45</th>\n      <th>Unnamed: 46</th>\n      <th>Unnamed: 47</th>\n      <th>Unnamed: 48</th>\n      <th>Unnamed: 49</th>\n      <th>Unnamed: 50</th>\n      <th>Unnamed: 51</th>\n      <th>Latin name</th>\n      <th>filepath</th>\n      <th>label</th>\n    </tr>\n  </thead>\n  <tbody>\n    <tr>\n      <th>0</th>\n      <td>5</td>\n      <td>5</td>\n      <td>815762</td>\n      <td>Cygnus</td>\n      <td>olor</td>\n      <td>NaN</td>\n      <td>birds</td>\n      <td>Mute Swan</td>\n      <td>Frédéric Cazaban</td>\n      <td>France</td>\n      <td>...</td>\n      <td>NaN</td>\n      <td>NaN</td>\n      <td>NaN</td>\n      <td>NaN</td>\n      <td>NaN</td>\n      <td>NaN</td>\n      <td>NaN</td>\n      <td>Cygnus olor</td>\n      <td>/media/jacek/E753-A120/recordings_30/Cygnus ol...</td>\n      <td>12</td>\n    </tr>\n    <tr>\n      <th>1</th>\n      <td>6</td>\n      <td>6</td>\n      <td>808540</td>\n      <td>Cygnus</td>\n      <td>olor</td>\n      <td>NaN</td>\n      <td>birds</td>\n      <td>Mute Swan</td>\n      <td>Juha Saari</td>\n      <td>Finland</td>\n      <td>...</td>\n      <td>NaN</td>\n      <td>NaN</td>\n      <td>NaN</td>\n      <td>NaN</td>\n      <td>NaN</td>\n      <td>NaN</td>\n      <td>NaN</td>\n      <td>Cygnus olor</td>\n      <td>/media/jacek/E753-A120/recordings_30/Cygnus ol...</td>\n      <td>12</td>\n    </tr>\n    <tr>\n      <th>2</th>\n      <td>7</td>\n      <td>7</td>\n      <td>805048</td>\n      <td>Cygnus</td>\n      <td>olor</td>\n      <td>NaN</td>\n      <td>birds</td>\n      <td>Mute Swan</td>\n      <td>Magnus Hellström</td>\n      <td>Sweden</td>\n      <td>...</td>\n      <td>NaN</td>\n      <td>NaN</td>\n      <td>NaN</td>\n      <td>NaN</td>\n      <td>NaN</td>\n      <td>NaN</td>\n      <td>NaN</td>\n      <td>Cygnus olor</td>\n      <td>/media/jacek/E753-A120/recordings_30/Cygnus ol...</td>\n      <td>12</td>\n    </tr>\n    <tr>\n      <th>3</th>\n      <td>8</td>\n      <td>8</td>\n      <td>804791</td>\n      <td>Cygnus</td>\n      <td>olor</td>\n      <td>NaN</td>\n      <td>birds</td>\n      <td>Mute Swan</td>\n      <td>Uku Paal</td>\n      <td>Estonia</td>\n      <td>...</td>\n      <td>NaN</td>\n      <td>NaN</td>\n      <td>NaN</td>\n      <td>NaN</td>\n      <td>NaN</td>\n      <td>NaN</td>\n      <td>NaN</td>\n      <td>Cygnus olor</td>\n      <td>/media/jacek/E753-A120/recordings_30/Cygnus ol...</td>\n      <td>12</td>\n    </tr>\n    <tr>\n      <th>4</th>\n      <td>9</td>\n      <td>9</td>\n      <td>797609</td>\n      <td>Cygnus</td>\n      <td>olor</td>\n      <td>NaN</td>\n      <td>birds</td>\n      <td>Mute Swan</td>\n      <td>Jorge Leitão</td>\n      <td>Germany</td>\n      <td>...</td>\n      <td>NaN</td>\n      <td>NaN</td>\n      <td>NaN</td>\n      <td>NaN</td>\n      <td>NaN</td>\n      <td>NaN</td>\n      <td>NaN</td>\n      <td>Cygnus olor</td>\n      <td>/media/jacek/E753-A120/recordings_30/Cygnus ol...</td>\n      <td>12</td>\n    </tr>\n    <tr>\n      <th>...</th>\n      <td>...</td>\n      <td>...</td>\n      <td>...</td>\n      <td>...</td>\n      <td>...</td>\n      <td>...</td>\n      <td>...</td>\n      <td>...</td>\n      <td>...</td>\n      <td>...</td>\n      <td>...</td>\n      <td>...</td>\n      <td>...</td>\n      <td>...</td>\n      <td>...</td>\n      <td>...</td>\n      <td>...</td>\n      <td>...</td>\n      <td>...</td>\n      <td>...</td>\n      <td>...</td>\n    </tr>\n    <tr>\n      <th>41205</th>\n      <td>296788</td>\n      <td>296788</td>\n      <td>108758</td>\n      <td>Columba</td>\n      <td>livia</td>\n      <td>NaN</td>\n      <td>birds</td>\n      <td>Rock Dove</td>\n      <td>Albert Lastukhin</td>\n      <td>Venezuela</td>\n      <td>...</td>\n      <td>NaN</td>\n      <td>NaN</td>\n      <td>NaN</td>\n      <td>NaN</td>\n      <td>NaN</td>\n      <td>NaN</td>\n      <td>NaN</td>\n      <td>Columba livia</td>\n      <td>/media/jacek/E753-A120/recordings_30/Columba l...</td>\n      <td>7</td>\n    </tr>\n    <tr>\n      <th>41206</th>\n      <td>296789</td>\n      <td>296789</td>\n      <td>58488</td>\n      <td>Columba</td>\n      <td>livia</td>\n      <td>NaN</td>\n      <td>birds</td>\n      <td>Rock Dove</td>\n      <td>Mike Nelson</td>\n      <td>United States</td>\n      <td>...</td>\n      <td>NaN</td>\n      <td>NaN</td>\n      <td>NaN</td>\n      <td>NaN</td>\n      <td>NaN</td>\n      <td>NaN</td>\n      <td>NaN</td>\n      <td>Columba livia</td>\n      <td>/media/jacek/E753-A120/recordings_30/Columba l...</td>\n      <td>7</td>\n    </tr>\n    <tr>\n      <th>41207</th>\n      <td>296790</td>\n      <td>296790</td>\n      <td>6924</td>\n      <td>Columba</td>\n      <td>livia</td>\n      <td>domestica</td>\n      <td>birds</td>\n      <td>Rock Dove</td>\n      <td>Glauco Alves Pereira</td>\n      <td>Brazil</td>\n      <td>...</td>\n      <td>NaN</td>\n      <td>NaN</td>\n      <td>NaN</td>\n      <td>NaN</td>\n      <td>NaN</td>\n      <td>NaN</td>\n      <td>NaN</td>\n      <td>Columba livia</td>\n      <td>/media/jacek/E753-A120/recordings_30/Columba l...</td>\n      <td>7</td>\n    </tr>\n    <tr>\n      <th>41208</th>\n      <td>296791</td>\n      <td>296791</td>\n      <td>387816</td>\n      <td>Columba</td>\n      <td>livia</td>\n      <td>NaN</td>\n      <td>birds</td>\n      <td>Rock Dove</td>\n      <td>johannes buhl</td>\n      <td>Germany</td>\n      <td>...</td>\n      <td>NaN</td>\n      <td>NaN</td>\n      <td>NaN</td>\n      <td>NaN</td>\n      <td>NaN</td>\n      <td>NaN</td>\n      <td>NaN</td>\n      <td>Columba livia</td>\n      <td>/media/jacek/E753-A120/recordings_30/Columba l...</td>\n      <td>7</td>\n    </tr>\n    <tr>\n      <th>41209</th>\n      <td>296792</td>\n      <td>296792</td>\n      <td>323560</td>\n      <td>Columba</td>\n      <td>livia</td>\n      <td>NaN</td>\n      <td>birds</td>\n      <td>Rock Dove</td>\n      <td>Alfonso Auerbach</td>\n      <td>Honduras</td>\n      <td>...</td>\n      <td>NaN</td>\n      <td>NaN</td>\n      <td>NaN</td>\n      <td>NaN</td>\n      <td>NaN</td>\n      <td>NaN</td>\n      <td>NaN</td>\n      <td>Columba livia</td>\n      <td>/media/jacek/E753-A120/recordings_30/Columba l...</td>\n      <td>7</td>\n    </tr>\n  </tbody>\n</table>\n<p>41210 rows × 56 columns</p>\n</div>"
     },
     "execution_count": 4,
     "metadata": {},
     "output_type": "execute_result"
    }
   ],
   "source": [
    "df = filter_recordings_30()\n",
    "df['filepath'] = df.apply(lambda x: f\"{DATA_PATH}{x['Latin name']}/{str(x['id'])}.mp3\" , axis=1)\n",
    "#df['Latin name'].value_counts()[:N_CLASSES]\n",
    "le = LabelEncoder()\n",
    "df['label'] = le.fit_transform(df['Latin name'])\n",
    "df"
   ],
   "metadata": {
    "collapsed": false,
    "ExecuteTime": {
     "end_time": "2023-11-02T10:54:39.553090791Z",
     "start_time": "2023-11-02T10:54:33.938942615Z"
    }
   },
   "id": "c2716d12b1f2c2e8"
  },
  {
   "cell_type": "markdown",
   "source": [
    "### Split and create tf.data"
   ],
   "metadata": {
    "collapsed": false
   },
   "id": "30d2acfb5281248d"
  },
  {
   "cell_type": "code",
   "execution_count": 5,
   "outputs": [],
   "source": [
    "def get_dataset(df, label_column, filepath_column):\n",
    "    file_path_ds = tf.data.Dataset.from_tensor_slices(df[filepath_column].astype(bytes))\n",
    "    return file_path_ds\n",
    "    #label_ds = tf.data.Dataset.from_tensor_slices(df[label_column])\n",
    "    #return tf.data.Dataset.zip((file_path_ds, label_ds))\n",
    "\n",
    "\n",
    "from sklearn.model_selection import train_test_split\n",
    "train_df, test_val_df = train_test_split(df, stratify=df['Latin name'], test_size=0.2)\n",
    "val_df, test_df = train_test_split(test_val_df, stratify=test_val_df['Latin name'], test_size=0.5)\n",
    "\n",
    "train_ds = get_dataset(train_df, 'label', 'filepath')\n",
    "val_ds = get_dataset(val_df, 'label', 'filepath')\n",
    "test_ds = get_dataset(test_df, 'label', 'filepath')"
   ],
   "metadata": {
    "collapsed": false,
    "ExecuteTime": {
     "end_time": "2023-11-02T10:54:39.748984922Z",
     "start_time": "2023-11-02T10:54:39.555390500Z"
    }
   },
   "id": "18917da05e3ed979"
  },
  {
   "cell_type": "code",
   "execution_count": 6,
   "outputs": [
    {
     "name": "stdout",
     "output_type": "stream",
     "text": [
      "tf.Tensor(b'/media/jacek/E753-A120/recordings_30/Hirundo rustica/662037.mp3', shape=(), dtype=string)\n",
      "tf.Tensor(b'/media/jacek/E753-A120/recordings_30/Turdus merula/683340.mp3', shape=(), dtype=string)\n"
     ]
    }
   ],
   "source": [
    "train_ds\n",
    "\n",
    "for features in train_ds.take(2):\n",
    "    print(features)"
   ],
   "metadata": {
    "collapsed": false,
    "ExecuteTime": {
     "end_time": "2023-11-02T10:54:39.749979727Z",
     "start_time": "2023-11-02T10:54:39.674897228Z"
    }
   },
   "id": "fcd43e00c9d47803"
  },
  {
   "cell_type": "markdown",
   "source": [
    "## How to load?\n"
   ],
   "metadata": {
    "collapsed": false
   },
   "id": "2a5b94e7ed3e6f47"
  },
  {
   "cell_type": "code",
   "execution_count": 9,
   "outputs": [
    {
     "name": "stdout",
     "output_type": "stream",
     "text": [
      "<_PrefetchDataset element_spec=(TensorSpec(shape=<unknown>, dtype=tf.float32, name=None), TensorSpec(shape=(None,), dtype=tf.int64, name=None))>\n",
      "<_PaddedBatchDataset element_spec=(TensorSpec(shape=(None, None, None), dtype=tf.float32, name=None), TensorSpec(shape=(None,), dtype=tf.int32, name=None))>\n"
     ]
    }
   ],
   "source": [
    "import librosa\n",
    "import tensorflow as tf\n",
    "\n",
    "filepath_ds = tf.data.Dataset.list_files('/media/jacek/E753-A120/recordings_30/*/*')\n",
    "label_ds = tf.data.Dataset.from_tensor_slices(df['label'])\n",
    "zip_ds = tf.data.Dataset.zip((filepath_ds, label_ds))\n",
    "\n",
    "def decode_audio(path):\n",
    "    path = path.numpy().decode(\"utf-8\")\n",
    "    audio, sr = librosa.load(path)\n",
    "    return audio\n",
    "\n",
    "zip_ds_2 = zip_ds.map(lambda path, label: (tf.py_function(func=decode_audio, inp=[path], Tout=tf.float32), label))\n",
    "\n",
    "# for features in zip_ds_2.take(3):\n",
    "#     print(features)\n",
    "# \n",
    "# for features in wav_ds.take(3):\n",
    "#     print(features)\n",
    "\n",
    "zip_ds_2 = zip_ds_2.batch(64).prefetch(AUTOTUNE)\n",
    "print(zip_ds_2)\n",
    "print(wav_ds)"
   ],
   "metadata": {
    "collapsed": false,
    "ExecuteTime": {
     "end_time": "2023-11-02T10:56:12.274922300Z",
     "start_time": "2023-11-02T10:56:11.829530687Z"
    }
   },
   "id": "56aab1db4a58bdfb"
  },
  {
   "cell_type": "code",
   "execution_count": 7,
   "outputs": [],
   "source": [],
   "metadata": {
    "collapsed": false,
    "ExecuteTime": {
     "end_time": "2023-11-02T10:54:49.885210687Z",
     "start_time": "2023-11-02T10:54:49.878896623Z"
    }
   },
   "id": "5ae5aca8c97e5efb"
  }
 ],
 "metadata": {
  "kernelspec": {
   "display_name": "Python 3",
   "language": "python",
   "name": "python3"
  },
  "language_info": {
   "codemirror_mode": {
    "name": "ipython",
    "version": 2
   },
   "file_extension": ".py",
   "mimetype": "text/x-python",
   "name": "python",
   "nbconvert_exporter": "python",
   "pygments_lexer": "ipython2",
   "version": "2.7.6"
  }
 },
 "nbformat": 4,
 "nbformat_minor": 5
}
