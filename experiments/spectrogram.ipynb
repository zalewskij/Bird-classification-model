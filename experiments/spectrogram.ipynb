{
 "cells": [
  {
   "cell_type": "code",
   "execution_count": null,
   "metadata": {},
   "outputs": [],
   "source": [
    "import librosa\n",
    "import numpy as np\n",
    "import torch\n",
    "import torchaudio\n",
    "import matplotlib.pyplot as plt\n",
    "import os\n",
    "\n",
    "from birdclassification.preprocessing.utils import *"
   ]
  },
  {
   "cell_type": "code",
   "execution_count": null,
   "metadata": {},
   "outputs": [],
   "source": [
    "input_filename = '../../tests/sounds/cygnus_olor_2.mp3'\n",
    "sr = 32000\n",
    "n_fft = 512 \n",
    "hop_length = 3 * 128\n",
    "sample_length = 3"
   ]
  },
  {
   "cell_type": "code",
   "execution_count": null,
   "metadata": {},
   "outputs": [],
   "source": [
    "def plot_librosa_spectrogram(y):\n",
    "  M_db = librosa.power_to_db(y, ref=np.max)\n",
    "  spectrogram = (M_db + 80) / 80\n",
    "  return array_to_image(spectrogram)"
   ]
  },
  {
   "cell_type": "code",
   "execution_count": null,
   "metadata": {},
   "outputs": [],
   "source": [
    "def plot_torch_spectrogram(specgram, title=None, ylabel=\"freq_bin\", ax=None):\n",
    "    if ax is None:\n",
    "        _, ax = plt.subplots(1, 1)\n",
    "    if title is not None:\n",
    "        ax.set_title(title)\n",
    "    ax.set_ylabel(ylabel)\n",
    "    ax.imshow(librosa.power_to_db(specgram), origin=\"lower\", aspect=\"auto\", interpolation=\"nearest\")"
   ]
  },
  {
   "cell_type": "code",
   "execution_count": null,
   "metadata": {},
   "outputs": [],
   "source": [
    "y_librosa, sr = librosa.load(input_filename, sr=sr)\n",
    "y_librosa, sr"
   ]
  },
  {
   "cell_type": "code",
   "execution_count": null,
   "metadata": {},
   "outputs": [],
   "source": [
    "y_torch, sr2 = torchaudio.load(input_filename)\n",
    "y_torch, sr2"
   ]
  },
  {
   "cell_type": "code",
   "execution_count": null,
   "metadata": {},
   "outputs": [],
   "source": [
    "if sr2 != sr:\n",
    "  y_torch = torchaudio.transforms.Resample(orig_freq=sr2, new_freq=sr)(y_torch)\n",
    "\n",
    "y_torch, sr"
   ]
  },
  {
   "cell_type": "code",
   "execution_count": null,
   "metadata": {},
   "outputs": [],
   "source": [
    "@timer\n",
    "def create_spectrogram_torch(y):\n",
    "  transform = torchaudio.transforms.MelSpectrogram(sample_rate=sr, n_fft=n_fft, hop_length=hop_length, f_min=150, f_max=15000, n_mels=64)\n",
    "  return transform(y)[0]\n",
    "\n",
    "@timer\n",
    "def create_spectrogram_librosa(y):\n",
    "  return librosa.feature.melspectrogram(y=y, sr=sr, n_fft=n_fft, hop_length=hop_length, n_mels=64, fmin=150, fmax=15000)"
   ]
  },
  {
   "cell_type": "code",
   "execution_count": null,
   "metadata": {},
   "outputs": [],
   "source": [
    "spectrogram_torch = create_spectrogram_torch(y_torch)\n",
    "\n",
    "plot_torch_spectrogram(spectrogram_torch)"
   ]
  },
  {
   "cell_type": "code",
   "execution_count": null,
   "metadata": {},
   "outputs": [],
   "source": [
    "spectrogram_librosa = create_spectrogram_librosa(y_librosa)\n",
    "\n",
    "plot_torch_spectrogram(spectrogram_librosa)"
   ]
  },
  {
   "cell_type": "code",
   "execution_count": null,
   "metadata": {},
   "outputs": [],
   "source": [
    "img_torch = plot_librosa_spectrogram(spectrogram_torch)\n",
    "img_torch"
   ]
  },
  {
   "cell_type": "code",
   "execution_count": null,
   "metadata": {},
   "outputs": [],
   "source": [
    "img_librosa = plot_librosa_spectrogram(spectrogram_librosa)\n",
    "img_librosa"
   ]
  },
  {
   "cell_type": "code",
   "execution_count": null,
   "metadata": {},
   "outputs": [],
   "source": [
    "y_librosa"
   ]
  },
  {
   "cell_type": "code",
   "execution_count": null,
   "metadata": {},
   "outputs": [],
   "source": [
    "y_torch"
   ]
  },
  {
   "cell_type": "code",
   "execution_count": null,
   "metadata": {},
   "outputs": [],
   "source": [
    "get_loudest_index(y_librosa, n_fft, hop_length)"
   ]
  },
  {
   "cell_type": "code",
   "execution_count": null,
   "metadata": {},
   "outputs": [],
   "source": [
    "get_loudest_index(y_torch, n_fft, hop_length)"
   ]
  },
  {
   "cell_type": "code",
   "execution_count": null,
   "metadata": {},
   "outputs": [],
   "source": [
    "cut_around_index_librosa(y_librosa, 1035520, sr * sample_length)"
   ]
  },
  {
   "cell_type": "code",
   "execution_count": null,
   "metadata": {},
   "outputs": [],
   "source": [
    "cut_around_index(y_torch, 1035520, sr * sample_length)"
   ]
  },
  {
   "cell_type": "code",
   "execution_count": null,
   "metadata": {},
   "outputs": [],
   "source": [
    "fragments_librosa = get_thresholded_fragments_librosa(y_librosa, sr, n_fft, hop_length, sample_length, 0.7)\n",
    "spectrograms_librosa = [create_spectrogram_librosa(fragment) for fragment in fragments_librosa]\n",
    "plot_torch_spectrogram(spectrograms_librosa[2])"
   ]
  },
  {
   "cell_type": "code",
   "execution_count": null,
   "metadata": {},
   "outputs": [],
   "source": [
    "fragments_torch = get_thresholded_fragments(y_torch, sr, n_fft, hop_length, sample_length, 0.7)\n",
    "spectrograms_torch = [create_spectrogram_torch(fragment) for fragment in fragments_torch]\n",
    "plot_torch_spectrogram(spectrograms_torch[2])"
   ]
  }
 ],
 "metadata": {
  "kernelspec": {
   "display_name": "Python 3",
   "language": "python",
   "name": "python3"
  },
  "language_info": {
   "codemirror_mode": {
    "name": "ipython",
    "version": 3
   },
   "file_extension": ".py",
   "mimetype": "text/x-python",
   "name": "python",
   "nbconvert_exporter": "python",
   "pygments_lexer": "ipython3",
   "version": "3.10.12"
  }
 },
 "nbformat": 4,
 "nbformat_minor": 2
}
