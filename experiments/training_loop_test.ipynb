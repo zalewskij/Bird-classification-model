{
 "cells": [
  {
   "cell_type": "markdown",
   "source": [
    "# Dataset"
   ],
   "metadata": {
    "collapsed": false
   }
  },
  {
   "cell_type": "code",
   "execution_count": 14,
   "metadata": {
    "collapsed": false,
    "ExecuteTime": {
     "end_time": "2023-11-14T21:46:36.595031711Z",
     "start_time": "2023-11-14T21:46:36.484313596Z"
    }
   },
   "outputs": [
    {
     "name": "stdout",
     "output_type": "stream",
     "text": [
      "Training set has 60000 instances\n",
      "Validation set has 10000 instances\n"
     ]
    }
   ],
   "source": [
    "import torch\n",
    "import torchvision\n",
    "import torchvision.transforms as transforms\n",
    "from torch.utils.tensorboard import SummaryWriter\n",
    "from datetime import datetime\n",
    "import sys\n",
    "%matplotlib inline\n",
    "\n",
    "\n",
    "transform = transforms.Compose(\n",
    "    [transforms.ToTensor(),\n",
    "    transforms.Normalize((0.5,), (0.5,))])\n",
    "\n",
    "# Create datasets for training & validation, download if necessary\n",
    "training_set = torchvision.datasets.FashionMNIST('./data', train=True, transform=transform, download=True)\n",
    "validation_set = torchvision.datasets.FashionMNIST('./data', train=False, transform=transform, download=True)\n",
    "\n",
    "# Create data loaders for our datasets; shuffle for training, not for validation\n",
    "training_loader = torch.utils.data.DataLoader(training_set, batch_size=4, shuffle=True)\n",
    "validation_loader = torch.utils.data.DataLoader(validation_set, batch_size=4, shuffle=False)\n",
    "\n",
    "# Class labels\n",
    "classes = ('T-shirt/top', 'Trouser', 'Pullover', 'Dress', 'Coat',\n",
    "        'Sandal', 'Shirt', 'Sneaker', 'Bag', 'Ankle Boot')\n",
    "\n",
    "# Report split sizes\n",
    "print('Training set has {} instances'.format(len(training_set)))\n",
    "print('Validation set has {} instances'.format(len(validation_set)))"
   ]
  },
  {
   "cell_type": "code",
   "execution_count": 15,
   "metadata": {
    "collapsed": false,
    "ExecuteTime": {
     "end_time": "2023-11-14T21:46:36.729986935Z",
     "start_time": "2023-11-14T21:46:36.589703578Z"
    }
   },
   "outputs": [
    {
     "name": "stdout",
     "output_type": "stream",
     "text": [
      "Dress  Bag  Coat  Coat\n"
     ]
    },
    {
     "data": {
      "text/plain": "<Figure size 640x480 with 1 Axes>",
      "image/png": "[encoded data removed]"
     },
     "metadata": {},
     "output_type": "display_data"
    }
   ],
   "source": [
    "import matplotlib.pyplot as plt\n",
    "import numpy as np\n",
    "\n",
    "# Helper function for inline image display\n",
    "def matplotlib_imshow(img, one_channel=False):\n",
    "    if one_channel:\n",
    "        img = img.mean(dim=0)\n",
    "    img = img / 2 + 0.5     # unnormalize\n",
    "    npimg = img.numpy()\n",
    "    if one_channel:\n",
    "        plt.imshow(npimg, cmap=\"Greys\")\n",
    "    else:\n",
    "        plt.imshow(np.transpose(npimg, (1, 2, 0)))\n",
    "\n",
    "dataiter = iter(training_loader)\n",
    "images, labels = next(dataiter)\n",
    "\n",
    "# Create a grid from the images and show them\n",
    "img_grid = torchvision.utils.make_grid(images)\n",
    "matplotlib_imshow(img_grid, one_channel=True)\n",
    "print('  '.join(classes[labels[j]] for j in range(4)))"
   ]
  },
  {
   "cell_type": "markdown",
   "metadata": {},
   "source": [
    "# Model\n",
    "\n",
    "The model we’ll use in this example is a variant of LeNet-5 - it should\n",
    "be familiar if you’ve watched the previous videos in this series.\n",
    "\n",
    "\n"
   ]
  },
  {
   "cell_type": "code",
   "execution_count": 16,
   "metadata": {
    "collapsed": false,
    "ExecuteTime": {
     "end_time": "2023-11-14T21:46:36.737941654Z",
     "start_time": "2023-11-14T21:46:36.701712250Z"
    }
   },
   "outputs": [],
   "source": [
    "import torch.nn as nn\n",
    "import torch.nn.functional as F\n",
    "\n",
    "# PyTorch models inherit from torch.nn.Module\n",
    "class GarmentClassifier(nn.Module):\n",
    "    def __init__(self):\n",
    "        super(GarmentClassifier, self).__init__()\n",
    "        self.conv1 = nn.Conv2d(1, 6, 5)\n",
    "        self.pool = nn.MaxPool2d(2, 2)\n",
    "        self.conv2 = nn.Conv2d(6, 16, 5)\n",
    "        self.fc1 = nn.Linear(16 * 4 * 4, 120)\n",
    "        self.fc2 = nn.Linear(120, 84)\n",
    "        self.fc3 = nn.Linear(84, 10)\n",
    "\n",
    "    def forward(self, x):\n",
    "        x = self.pool(F.relu(self.conv1(x)))\n",
    "        x = self.pool(F.relu(self.conv2(x)))\n",
    "        x = x.view(-1, 16 * 4 * 4)\n",
    "        x = F.relu(self.fc1(x))\n",
    "        x = F.relu(self.fc2(x))\n",
    "        x = self.fc3(x)\n",
    "        return x\n",
    "    \n",
    "\n",
    "model = GarmentClassifier()"
   ]
  },
  {
   "cell_type": "markdown",
   "metadata": {},
   "source": [
    "## Loss Function\n",
    "\n",
    "For this example, we’ll be using a cross-entropy loss. For demonstration\n",
    "purposes, we’ll create batches of dummy output and label values, run\n",
    "them through the loss function, and examine the result.\n",
    "\n",
    "\n"
   ]
  },
  {
   "cell_type": "code",
   "execution_count": 17,
   "metadata": {
    "collapsed": false,
    "ExecuteTime": {
     "end_time": "2023-11-14T21:46:36.738349747Z",
     "start_time": "2023-11-14T21:46:36.701816961Z"
    }
   },
   "outputs": [
    {
     "name": "stdout",
     "output_type": "stream",
     "text": [
      "tensor([[0.5198, 0.7910, 0.7084, 0.4269, 0.2749, 0.3064, 0.9589, 0.9470, 0.2710,\n",
      "         0.2559],\n",
      "        [0.2141, 0.2863, 0.6860, 0.6212, 0.3132, 0.0480, 0.1436, 0.6864, 0.5413,\n",
      "         0.6771],\n",
      "        [0.2362, 0.0017, 0.3304, 0.2004, 0.3659, 0.0420, 0.2389, 0.2084, 0.9578,\n",
      "         0.1744],\n",
      "        [0.7195, 0.5329, 0.3082, 0.0897, 0.5054, 0.3988, 0.5106, 0.9650, 0.6981,\n",
      "         0.3625]])\n",
      "tensor([1, 5, 3, 7])\n",
      "Total loss for this batch: 2.2715394496917725\n"
     ]
    }
   ],
   "source": [
    "loss_fn = torch.nn.CrossEntropyLoss()\n",
    "\n",
    "# NB: Loss functions expect data in batches, so we're creating batches of 4\n",
    "# Represents the model's confidence in each of the 10 classes for a given input\n",
    "dummy_outputs = torch.rand(4, 10)\n",
    "# Represents the correct class among the 10 being tested\n",
    "dummy_labels = torch.tensor([1, 5, 3, 7])\n",
    "    \n",
    "print(dummy_outputs)\n",
    "print(dummy_labels)\n",
    "\n",
    "loss = loss_fn(dummy_outputs, dummy_labels)\n",
    "print('Total loss for this batch: {}'.format(loss.item()))"
   ]
  },
  {
   "cell_type": "markdown",
   "metadata": {},
   "source": [
    "# Optimizer"
   ]
  },
  {
   "cell_type": "code",
   "execution_count": 18,
   "metadata": {
    "collapsed": false,
    "ExecuteTime": {
     "end_time": "2023-11-14T21:46:36.738438497Z",
     "start_time": "2023-11-14T21:46:36.722239977Z"
    }
   },
   "outputs": [],
   "source": [
    "# Optimizers specified in the torch.optim package\n",
    "optimizer = torch.optim.SGD(model.parameters(), lr=0.001, momentum=0.9)"
   ]
  },
  {
   "cell_type": "markdown",
   "source": [
    "# Metrics"
   ],
   "metadata": {
    "collapsed": false
   }
  },
  {
   "cell_type": "markdown",
   "source": [
    "# Training pipeline"
   ],
   "metadata": {
    "collapsed": false
   }
  },
  {
   "cell_type": "code",
   "execution_count": 19,
   "metadata": {
    "collapsed": false,
    "ExecuteTime": {
     "end_time": "2023-11-14T21:46:36.776324782Z",
     "start_time": "2023-11-14T21:46:36.728963949Z"
    }
   },
   "outputs": [],
   "source": [
    "def train_one_epoch(epoch_index, tb_writer):\n",
    "    running_loss = 0.\n",
    "    last_loss = 0.\n",
    "\n",
    "    for i, data in enumerate(training_loader):\n",
    "        inputs, labels = data\n",
    "        \n",
    "        # Zero your gradients for every batch!\n",
    "        optimizer.zero_grad()\n",
    "        \n",
    "        # Make predictions for this batch\n",
    "        outputs = model(inputs)\n",
    "    \n",
    "        # Compute the loss and its gradients\n",
    "        loss = loss_fn(outputs, labels)\n",
    "        loss.backward()\n",
    "        \n",
    "        # Adjust learning weights\n",
    "        optimizer.step()\n",
    "        \n",
    "        # Gather data and report\n",
    "        running_loss += loss.item()\n",
    "        if i % 1000 == 999:\n",
    "            last_loss = running_loss / 1000 # loss per batch\n",
    "            print(f'Loss after sample {i + 1}: {last_loss}')\n",
    "            tb_x = epoch_index * len(training_loader) + i + 1\n",
    "            tb_writer.add_scalar('Loss/train', last_loss, tb_x)\n",
    "            running_loss = 0.\n",
    "    \n",
    "    return last_loss"
   ]
  },
  {
   "cell_type": "code",
   "execution_count": 20,
   "metadata": {
    "collapsed": false,
    "ExecuteTime": {
     "end_time": "2023-11-14T21:50:41.606375202Z",
     "start_time": "2023-11-14T21:46:36.769786221Z"
    }
   },
   "outputs": [
    {
     "name": "stdout",
     "output_type": "stream",
     "text": [
      "EPOCH 1:\n",
      "Loss after sample 1000: 1.8948269291818143\n",
      "Loss after sample 2000: 0.8438374758260324\n",
      "Loss after sample 3000: 0.6965665432717651\n",
      "Loss after sample 4000: 0.6397723929099739\n",
      "Loss after sample 5000: 0.5723190686730668\n",
      "Loss after sample 6000: 0.5367084819879383\n",
      "Loss after sample 7000: 0.53121544493502\n",
      "Loss after sample 8000: 0.48371551104914395\n",
      "Loss after sample 9000: 0.4977609337142203\n",
      "Loss after sample 10000: 0.45415499647147956\n",
      "Loss after sample 11000: 0.4681046385422378\n",
      "Loss after sample 12000: 0.4350579361511627\n",
      "Loss after sample 13000: 0.4101076378423022\n",
      "Loss after sample 14000: 0.4074860269461642\n",
      "Loss after sample 15000: 0.3666826373486547\n",
      "#############################################################\n",
      "Epoch results:\n",
      "Loss train 0.3666826373486547 valid loss: 0.4225538671016693\n",
      "F1 score train None valid f1 score 0.8436696056404278\n",
      "#############################################################\n",
      "\n",
      "\n",
      "EPOCH 2:\n",
      "Loss after sample 1000: 0.3964561949640047\n",
      "Loss after sample 2000: 0.40060249132546594\n",
      "Loss after sample 3000: 0.37331868682239294\n",
      "Loss after sample 4000: 0.3698380863775383\n",
      "Loss after sample 5000: 0.359322283890564\n",
      "Loss after sample 6000: 0.344119315091928\n",
      "Loss after sample 7000: 0.392370111680124\n",
      "Loss after sample 8000: 0.3542991964507091\n",
      "Loss after sample 9000: 0.3574430078854202\n",
      "Loss after sample 10000: 0.363366196230636\n",
      "Loss after sample 11000: 0.36756309505524404\n",
      "Loss after sample 12000: 0.36090118707047075\n",
      "Loss after sample 13000: 0.34031851515086603\n",
      "Loss after sample 14000: 0.33587522497224565\n",
      "Loss after sample 15000: 0.33718310329999074\n",
      "#############################################################\n",
      "Epoch results:\n",
      "Loss train 0.33718310329999074 valid loss: 0.3434949517250061\n",
      "F1 score train None valid f1 score 0.8711222276104793\n",
      "#############################################################\n",
      "\n",
      "\n",
      "EPOCH 3:\n",
      "Loss after sample 1000: 0.33605103578147827\n",
      "Loss after sample 2000: 0.33029256611780144\n",
      "Loss after sample 3000: 0.31227563998670665\n",
      "Loss after sample 4000: 0.33643888223615065\n",
      "Loss after sample 5000: 0.31545035575809016\n",
      "Loss after sample 6000: 0.3353706608252396\n",
      "Loss after sample 7000: 0.3181287261054531\n",
      "Loss after sample 8000: 0.3197279141941981\n",
      "Loss after sample 9000: 0.3100363266064087\n",
      "Loss after sample 10000: 0.31323639499933054\n",
      "Loss after sample 11000: 0.309601072932237\n",
      "Loss after sample 12000: 0.33004182971634144\n",
      "Loss after sample 13000: 0.3087362564976938\n",
      "Loss after sample 14000: 0.29992392681183266\n",
      "Loss after sample 15000: 0.3009665307175601\n",
      "#############################################################\n",
      "Epoch results:\n",
      "Loss train 0.3009665307175601 valid loss: 0.3225918114185333\n",
      "F1 score train None valid f1 score 0.8822948049155878\n",
      "#############################################################\n",
      "\n",
      "\n",
      "EPOCH 4:\n",
      "Loss after sample 1000: 0.2959381441841979\n",
      "Loss after sample 2000: 0.2952034954004339\n",
      "Loss after sample 3000: 0.28695425906779565\n",
      "Loss after sample 4000: 0.2786060342247365\n",
      "Loss after sample 5000: 0.2740020732009143\n",
      "Loss after sample 6000: 0.3025929149073563\n",
      "Loss after sample 7000: 0.3029305645609311\n",
      "Loss after sample 8000: 0.29692714062135744\n",
      "Loss after sample 9000: 0.2740064848544571\n",
      "Loss after sample 10000: 0.30283042010660577\n",
      "Loss after sample 11000: 0.2864590364655014\n",
      "Loss after sample 12000: 0.27914940144854333\n",
      "Loss after sample 13000: 0.2822278544697656\n",
      "Loss after sample 14000: 0.3110994354679933\n",
      "Loss after sample 15000: 0.30094519587814467\n",
      "#############################################################\n",
      "Epoch results:\n",
      "Loss train 0.30094519587814467 valid loss: 0.333598792552948\n",
      "F1 score train None valid f1 score 0.8760136407938293\n",
      "#############################################################\n",
      "\n",
      "\n",
      "EPOCH 5:\n",
      "Loss after sample 1000: 0.25130565677442335\n",
      "Loss after sample 2000: 0.27169893330563355\n",
      "Loss after sample 3000: 0.2692950501247596\n",
      "Loss after sample 4000: 0.293532781601989\n",
      "Loss after sample 5000: 0.27672379299606836\n",
      "Loss after sample 6000: 0.2571050627835357\n",
      "Loss after sample 7000: 0.2766805603730318\n",
      "Loss after sample 8000: 0.27343616657220265\n",
      "Loss after sample 9000: 0.27387927249669153\n",
      "Loss after sample 10000: 0.2829835030738868\n",
      "Loss after sample 11000: 0.28410078788620013\n",
      "Loss after sample 12000: 0.27191000546769645\n",
      "Loss after sample 13000: 0.2735727273097109\n",
      "Loss after sample 14000: 0.2712390693870257\n",
      "Loss after sample 15000: 0.2741728221793237\n",
      "#############################################################\n",
      "Epoch results:\n",
      "Loss train 0.2741728221793237 valid loss: 0.30982863903045654\n",
      "F1 score train None valid f1 score 0.8857574887149984\n",
      "#############################################################\n",
      "\n",
      "\n",
      "EPOCH 6:\n",
      "Loss after sample 1000: 0.2578551418530733\n",
      "Loss after sample 2000: 0.26420953720135004\n",
      "Loss after sample 3000: 0.2415430691381116\n",
      "Loss after sample 4000: 0.2623550012869073\n",
      "Loss after sample 5000: 0.24587637192223155\n",
      "Loss after sample 6000: 0.25479129739616835\n",
      "Loss after sample 7000: 0.25876430913573495\n",
      "Loss after sample 8000: 0.2571227632504815\n",
      "Loss after sample 9000: 0.2597401226194278\n",
      "Loss after sample 10000: 0.25930700469876866\n",
      "Loss after sample 11000: 0.26095125547022324\n",
      "Loss after sample 12000: 0.2599779267328886\n",
      "Loss after sample 13000: 0.2829638749834867\n",
      "Loss after sample 14000: 0.2683806853009737\n",
      "Loss after sample 15000: 0.2587134824857203\n",
      "#############################################################\n",
      "Epoch results:\n",
      "Loss train 0.2587134824857203 valid loss: 0.29062747955322266\n",
      "F1 score train None valid f1 score 0.8952366563352573\n",
      "#############################################################\n",
      "\n",
      "\n",
      "EPOCH 7:\n",
      "Loss after sample 1000: 0.23393809885407973\n",
      "Loss after sample 2000: 0.2504173402649194\n",
      "Loss after sample 3000: 0.2517231022728791\n",
      "Loss after sample 4000: 0.24583361216021035\n",
      "Loss after sample 5000: 0.23446456919747333\n",
      "Loss after sample 6000: 0.23500064767194886\n",
      "Loss after sample 7000: 0.2545689602797275\n",
      "Loss after sample 8000: 0.2468390069967263\n",
      "Loss after sample 9000: 0.264007577584116\n",
      "Loss after sample 10000: 0.24354718797334682\n",
      "Loss after sample 11000: 0.23644085970889137\n",
      "Loss after sample 12000: 0.2554398642259221\n",
      "Loss after sample 13000: 0.2400604947648517\n",
      "Loss after sample 14000: 0.24823297965965072\n",
      "Loss after sample 15000: 0.24647852648416482\n",
      "#############################################################\n",
      "Epoch results:\n",
      "Loss train 0.24647852648416482 valid loss: 0.3253791332244873\n",
      "F1 score train None valid f1 score 0.8840010786335416\n",
      "#############################################################\n",
      "\n"
     ]
    }
   ],
   "source": [
    "from training.validation_metrics import calculate_metric\n",
    "from sklearn.metrics import f1_score\n",
    "\n",
    "timestamp = datetime.now().strftime('%Y%m%d_%H%M%S')\n",
    "writer = SummaryWriter(f'logs/fashion_trainer_{timestamp}')\n",
    "epoch_number = 0\n",
    "\n",
    "EPOCHS = 7\n",
    "\n",
    "best_vloss = sys.float_info.max\n",
    "\n",
    "for epoch in range(EPOCHS):\n",
    "    print('EPOCH {}:'.format(epoch_number + 1))\n",
    "    \n",
    "    # Make sure gradient tracking is on, and do a pass over the data\n",
    "    model.train(True)\n",
    "    avg_loss = train_one_epoch(epoch_number, writer)\n",
    "    \n",
    "    # Set the model to evaluation mode, disabling dropout and using population \n",
    "    # statistics for batch normalization.\n",
    "    model.eval()\n",
    "    running_vloss = 0.0\n",
    "\n",
    "    # Disable gradient computation and reduce memory consumption.\n",
    "    with torch.no_grad():\n",
    "        for i, vdata in enumerate(validation_loader):\n",
    "            vinputs, vlabels = vdata\n",
    "            voutputs = model(vinputs)\n",
    "            vloss = loss_fn(voutputs, vlabels)\n",
    "            running_vloss += vloss\n",
    "    \n",
    "    avg_vloss = running_vloss / (i + 1)\n",
    "    print(\"#############################################################\")\n",
    "    print(\"Epoch results:\")\n",
    "    print(f'Loss train {avg_loss} valid loss: {avg_vloss}')\n",
    "    validation_f1_score = calculate_metric(model, validation_loader, metric=f1_score)\n",
    "    train_f1_score = None\n",
    "    print(f'F1 score train {train_f1_score} valid f1 score {validation_f1_score}')\n",
    "    print(\"#############################################################\\n\\n\")\n",
    "    \n",
    "    # Log the running loss averaged per batch\n",
    "    # for both training and validation\n",
    "    writer.add_scalars('Training vs. Validation Loss',\n",
    "                    { 'Training' : avg_loss, 'Validation' : avg_vloss },\n",
    "                    epoch_number + 1)\n",
    "    \n",
    "    \n",
    "    writer.add_scalars('Macro_averaged_f1_score',\n",
    "                    { 'Validation' : validation_f1_score},\n",
    "                    epoch_number + 1)\n",
    "    \n",
    "    writer.flush()\n",
    "    \n",
    "    # Track best performance, and save the model's state\n",
    "    if avg_vloss < best_vloss:\n",
    "        best_vloss = avg_vloss\n",
    "        model_path = f'model_{timestamp}_{epoch_number}'\n",
    "        torch.save(model.state_dict(), model_path)\n",
    "    \n",
    "    epoch_number += 1"
   ]
  },
  {
   "cell_type": "code",
   "execution_count": 21,
   "outputs": [
    {
     "data": {
      "text/plain": "True"
     },
     "execution_count": 21,
     "metadata": {},
     "output_type": "execute_result"
    }
   ],
   "source": [
    "import torch\n",
    "torch.cuda.is_available()"
   ],
   "metadata": {
    "collapsed": false,
    "ExecuteTime": {
     "end_time": "2023-11-14T21:50:41.612641161Z",
     "start_time": "2023-11-14T21:50:41.608215883Z"
    }
   }
  },
  {
   "cell_type": "code",
   "execution_count": 22,
   "outputs": [
    {
     "data": {
      "text/plain": "1"
     },
     "execution_count": 22,
     "metadata": {},
     "output_type": "execute_result"
    }
   ],
   "source": [
    "torch.cuda.device_count()"
   ],
   "metadata": {
    "collapsed": false,
    "ExecuteTime": {
     "end_time": "2023-11-14T21:50:41.624735886Z",
     "start_time": "2023-11-14T21:50:41.611964197Z"
    }
   }
  },
  {
   "cell_type": "code",
   "execution_count": 23,
   "outputs": [
    {
     "data": {
      "text/plain": "0"
     },
     "execution_count": 23,
     "metadata": {},
     "output_type": "execute_result"
    }
   ],
   "source": [
    " torch.cuda.current_device()"
   ],
   "metadata": {
    "collapsed": false,
    "ExecuteTime": {
     "end_time": "2023-11-14T21:50:41.643982765Z",
     "start_time": "2023-11-14T21:50:41.623791200Z"
    }
   }
  },
  {
   "cell_type": "code",
   "execution_count": 24,
   "outputs": [
    {
     "data": {
      "text/plain": "<torch.cuda.device at 0x7f282989f8d0>"
     },
     "execution_count": 24,
     "metadata": {},
     "output_type": "execute_result"
    }
   ],
   "source": [
    "torch.cuda.device(0)\n",
    "#tensorboard --logdir=logs"
   ],
   "metadata": {
    "collapsed": false,
    "ExecuteTime": {
     "end_time": "2023-11-14T21:50:41.686872220Z",
     "start_time": "2023-11-14T21:50:41.673658888Z"
    }
   }
  }
 ],
 "metadata": {
  "kernelspec": {
   "display_name": "Python 3",
   "language": "python",
   "name": "python3"
  },
  "language_info": {
   "codemirror_mode": {
    "name": "ipython",
    "version": 3
   },
   "file_extension": ".py",
   "mimetype": "text/x-python",
   "name": "python",
   "nbconvert_exporter": "python",
   "pygments_lexer": "ipython3",
   "version": "3.10.13"
  }
 },
 "nbformat": 4,
 "nbformat_minor": 0
}
