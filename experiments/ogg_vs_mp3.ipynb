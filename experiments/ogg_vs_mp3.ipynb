{
 "cells": [
  {
   "cell_type": "markdown",
   "source": [
    "## Dataset downsampling and format\n",
    "### To test:\n",
    "1. Compare size of ogg and mp3 files\n",
    "2. Check how quickly ogg and mp3 are opened (decompressed)\n",
    "3. Downsampling to 32 kHz (compare size)\n",
    "4. torch.load() vs librosa.load()\n",
    "\n",
    "### Why?\n",
    "1. ogg is used in all birdclef competition on kaggle\n",
    "2. ogg is promising to be smaller while not loosing quality\n",
    "\n"
   ],
   "metadata": {
    "collapsed": false
   },
   "id": "1323519ae90d0502"
  },
  {
   "cell_type": "markdown",
   "source": [
    "## Sample 100 recordings"
   ],
   "metadata": {
    "collapsed": false
   },
   "id": "9d76ded59d4ec9a9"
  },
  {
   "cell_type": "code",
   "execution_count": 1,
   "outputs": [],
   "source": [
    "from birdclassification.preprocessing.filtering import initial_filter\n",
    "import shutil\n",
    "\n",
    "SOURCE = '/media/jacek/E753-A120/xeno-canto/'\n",
    "SRC = '/home/jacek/Documents/mp3/'"
   ],
   "metadata": {
    "collapsed": false,
    "ExecuteTime": {
     "end_time": "2023-11-05T17:21:09.748222848Z",
     "start_time": "2023-11-05T17:21:08.981781605Z"
    }
   },
   "id": "initial_id"
  },
  {
   "cell_type": "code",
   "execution_count": 3,
   "outputs": [
    {
     "name": "stderr",
     "output_type": "stream",
     "text": [
      "/home/jacek/PycharmProjects/Bird-classification-model/birdclassification/preprocessing/filtering.py:16: DtypeWarning: Columns (10,39,43,44,45,46,47,48) have mixed types. Specify dtype option on import or set low_memory=False.\n",
      "  df = pd.read_csv('../data/xeno_canto_recordings.csv')\n"
     ]
    },
    {
     "data": {
      "text/plain": "        Unnamed: 0      id         gen             sp        ssp  group  \\\n134932      134932  708143      Alauda       arvensis        NaN  birds   \n89233        89233  619297        Jynx      torquilla  torquilla  birds   \n190242      190242  391049       Sitta       europaea        NaN  birds   \n70153        70153  701523  Nycticorax     nycticorax        NaN  birds   \n7051          7051  590644   Bucephala       clangula        NaN  birds   \n...            ...     ...         ...            ...        ...    ...   \n171045      171045  564408  Aegithalos       caudatus        NaN  birds   \n107631      107631   87701     Coloeus       monedula        NaN  birds   \n242467      242467  284310      Anthus      pratensis        NaN  birds   \n10809        10809  183095        Anas  platyrhynchos        NaN  birds   \n104618      104618  642766    Garrulus     glandarius        NaN  birds   \n\n                               en                       rec             cnt  \\\n134932           Eurasian Skylark               Georg Amann         Austria   \n89233            Eurasian Wryneck             Karol Łanocha          Poland   \n190242          Eurasian Nuthatch              Lars Edenius          Sweden   \n70153   Black-crowned Night Heron       Dominique Guillerme          France   \n7051             Common Goldeneye             Simon Elliott  United Kingdom   \n...                           ...                       ...             ...   \n171045            Long-tailed Tit                     Falco          France   \n107631            Western Jackdaw             Volker Arnold         Germany   \n242467               Meadow Pipit         Joost van Bruggen     Netherlands   \n10809                     Mallard          Albert Lastukhin      Kazakhstan   \n104618               Eurasian Jay  Somkiat Pakapinyo (Chai)        Thailand   \n\n                                                      loc  ... Unnamed: 44  \\\n134932                    Rankweil, Feldkirch, Vorarlberg  ...         NaN   \n89233   Gmina Kęty (near  Kęty), Powiat oświęcimski, M...  ...         NaN   \n190242                  Baggböle, Umeå, Västerbottens län  ...         NaN   \n70153         Chassey, Côte-d'Or, Bourgogne-Franche-Comté  ...         NaN   \n7051                                   Highland, Scotland  ...         NaN   \n...                                                   ...  ...         ...   \n171045  Montgardin, Hautes-Alpes, Provence-Alpes-Côte ...  ...         NaN   \n107631   Heide-Ruesdorf, Dithmarschen, Schleswig-Holstein  ...       44100   \n242467                         Arnhem, Arnhem, Gelderland  ...         NaN   \n10809                 Shieli District, Kyzylorda Province  ...         NaN   \n104618  Tambon Nikhom Phatthana, Amphoe Mueang Lampang...  ...         NaN   \n\n        Unnamed: 45 Unnamed: 46 Unnamed: 47 Unnamed: 48 Unnamed: 49  \\\n134932          NaN         NaN         NaN         NaN         NaN   \n89233           NaN         NaN         NaN         NaN         NaN   \n190242          NaN         NaN         NaN         NaN         NaN   \n70153           NaN         NaN         NaN         NaN         NaN   \n7051            NaN         NaN         NaN         NaN         NaN   \n...             ...         ...         ...         ...         ...   \n171045          NaN         NaN         NaN         NaN         NaN   \n107631          NaN         NaN         NaN         NaN         NaN   \n242467          NaN         NaN         NaN         NaN         NaN   \n10809           NaN         NaN         NaN         NaN         NaN   \n104618          NaN         NaN         NaN         NaN         NaN   \n\n       Unnamed: 50 Unnamed: 51             Latin name  \\\n134932         NaN         NaN        Alauda arvensis   \n89233          NaN         NaN         Jynx torquilla   \n190242         NaN         NaN         Sitta europaea   \n70153          NaN         NaN  Nycticorax nycticorax   \n7051           NaN         NaN     Bucephala clangula   \n...            ...         ...                    ...   \n171045         NaN         NaN    Aegithalos caudatus   \n107631         NaN         NaN       Coloeus monedula   \n242467         NaN         NaN       Anthus pratensis   \n10809          NaN         NaN     Anas platyrhynchos   \n104618         NaN         NaN    Garrulus glandarius   \n\n                                            filepath  \n134932  /media/jacek/E753-A120/xeno-canto/708143.mp3  \n89233   /media/jacek/E753-A120/xeno-canto/619297.mp3  \n190242  /media/jacek/E753-A120/xeno-canto/391049.mp3  \n70153   /media/jacek/E753-A120/xeno-canto/701523.mp3  \n7051    /media/jacek/E753-A120/xeno-canto/590644.mp3  \n...                                              ...  \n171045  /media/jacek/E753-A120/xeno-canto/564408.mp3  \n107631   /media/jacek/E753-A120/xeno-canto/87701.mp3  \n242467  /media/jacek/E753-A120/xeno-canto/284310.mp3  \n10809   /media/jacek/E753-A120/xeno-canto/183095.mp3  \n104618  /media/jacek/E753-A120/xeno-canto/642766.mp3  \n\n[100 rows x 54 columns]",
      "text/html": "<div>\n<style scoped>\n    .dataframe tbody tr th:only-of-type {\n        vertical-align: middle;\n    }\n\n    .dataframe tbody tr th {\n        vertical-align: top;\n    }\n\n    .dataframe thead th {\n        text-align: right;\n    }\n</style>\n<table border=\"1\" class=\"dataframe\">\n  <thead>\n    <tr style=\"text-align: right;\">\n      <th></th>\n      <th>Unnamed: 0</th>\n      <th>id</th>\n      <th>gen</th>\n      <th>sp</th>\n      <th>ssp</th>\n      <th>group</th>\n      <th>en</th>\n      <th>rec</th>\n      <th>cnt</th>\n      <th>loc</th>\n      <th>...</th>\n      <th>Unnamed: 44</th>\n      <th>Unnamed: 45</th>\n      <th>Unnamed: 46</th>\n      <th>Unnamed: 47</th>\n      <th>Unnamed: 48</th>\n      <th>Unnamed: 49</th>\n      <th>Unnamed: 50</th>\n      <th>Unnamed: 51</th>\n      <th>Latin name</th>\n      <th>filepath</th>\n    </tr>\n  </thead>\n  <tbody>\n    <tr>\n      <th>134932</th>\n      <td>134932</td>\n      <td>708143</td>\n      <td>Alauda</td>\n      <td>arvensis</td>\n      <td>NaN</td>\n      <td>birds</td>\n      <td>Eurasian Skylark</td>\n      <td>Georg Amann</td>\n      <td>Austria</td>\n      <td>Rankweil, Feldkirch, Vorarlberg</td>\n      <td>...</td>\n      <td>NaN</td>\n      <td>NaN</td>\n      <td>NaN</td>\n      <td>NaN</td>\n      <td>NaN</td>\n      <td>NaN</td>\n      <td>NaN</td>\n      <td>NaN</td>\n      <td>Alauda arvensis</td>\n      <td>/media/jacek/E753-A120/xeno-canto/708143.mp3</td>\n    </tr>\n    <tr>\n      <th>89233</th>\n      <td>89233</td>\n      <td>619297</td>\n      <td>Jynx</td>\n      <td>torquilla</td>\n      <td>torquilla</td>\n      <td>birds</td>\n      <td>Eurasian Wryneck</td>\n      <td>Karol Łanocha</td>\n      <td>Poland</td>\n      <td>Gmina Kęty (near  Kęty), Powiat oświęcimski, M...</td>\n      <td>...</td>\n      <td>NaN</td>\n      <td>NaN</td>\n      <td>NaN</td>\n      <td>NaN</td>\n      <td>NaN</td>\n      <td>NaN</td>\n      <td>NaN</td>\n      <td>NaN</td>\n      <td>Jynx torquilla</td>\n      <td>/media/jacek/E753-A120/xeno-canto/619297.mp3</td>\n    </tr>\n    <tr>\n      <th>190242</th>\n      <td>190242</td>\n      <td>391049</td>\n      <td>Sitta</td>\n      <td>europaea</td>\n      <td>NaN</td>\n      <td>birds</td>\n      <td>Eurasian Nuthatch</td>\n      <td>Lars Edenius</td>\n      <td>Sweden</td>\n      <td>Baggböle, Umeå, Västerbottens län</td>\n      <td>...</td>\n      <td>NaN</td>\n      <td>NaN</td>\n      <td>NaN</td>\n      <td>NaN</td>\n      <td>NaN</td>\n      <td>NaN</td>\n      <td>NaN</td>\n      <td>NaN</td>\n      <td>Sitta europaea</td>\n      <td>/media/jacek/E753-A120/xeno-canto/391049.mp3</td>\n    </tr>\n    <tr>\n      <th>70153</th>\n      <td>70153</td>\n      <td>701523</td>\n      <td>Nycticorax</td>\n      <td>nycticorax</td>\n      <td>NaN</td>\n      <td>birds</td>\n      <td>Black-crowned Night Heron</td>\n      <td>Dominique Guillerme</td>\n      <td>France</td>\n      <td>Chassey, Côte-d'Or, Bourgogne-Franche-Comté</td>\n      <td>...</td>\n      <td>NaN</td>\n      <td>NaN</td>\n      <td>NaN</td>\n      <td>NaN</td>\n      <td>NaN</td>\n      <td>NaN</td>\n      <td>NaN</td>\n      <td>NaN</td>\n      <td>Nycticorax nycticorax</td>\n      <td>/media/jacek/E753-A120/xeno-canto/701523.mp3</td>\n    </tr>\n    <tr>\n      <th>7051</th>\n      <td>7051</td>\n      <td>590644</td>\n      <td>Bucephala</td>\n      <td>clangula</td>\n      <td>NaN</td>\n      <td>birds</td>\n      <td>Common Goldeneye</td>\n      <td>Simon Elliott</td>\n      <td>United Kingdom</td>\n      <td>Highland, Scotland</td>\n      <td>...</td>\n      <td>NaN</td>\n      <td>NaN</td>\n      <td>NaN</td>\n      <td>NaN</td>\n      <td>NaN</td>\n      <td>NaN</td>\n      <td>NaN</td>\n      <td>NaN</td>\n      <td>Bucephala clangula</td>\n      <td>/media/jacek/E753-A120/xeno-canto/590644.mp3</td>\n    </tr>\n    <tr>\n      <th>...</th>\n      <td>...</td>\n      <td>...</td>\n      <td>...</td>\n      <td>...</td>\n      <td>...</td>\n      <td>...</td>\n      <td>...</td>\n      <td>...</td>\n      <td>...</td>\n      <td>...</td>\n      <td>...</td>\n      <td>...</td>\n      <td>...</td>\n      <td>...</td>\n      <td>...</td>\n      <td>...</td>\n      <td>...</td>\n      <td>...</td>\n      <td>...</td>\n      <td>...</td>\n      <td>...</td>\n    </tr>\n    <tr>\n      <th>171045</th>\n      <td>171045</td>\n      <td>564408</td>\n      <td>Aegithalos</td>\n      <td>caudatus</td>\n      <td>NaN</td>\n      <td>birds</td>\n      <td>Long-tailed Tit</td>\n      <td>Falco</td>\n      <td>France</td>\n      <td>Montgardin, Hautes-Alpes, Provence-Alpes-Côte ...</td>\n      <td>...</td>\n      <td>NaN</td>\n      <td>NaN</td>\n      <td>NaN</td>\n      <td>NaN</td>\n      <td>NaN</td>\n      <td>NaN</td>\n      <td>NaN</td>\n      <td>NaN</td>\n      <td>Aegithalos caudatus</td>\n      <td>/media/jacek/E753-A120/xeno-canto/564408.mp3</td>\n    </tr>\n    <tr>\n      <th>107631</th>\n      <td>107631</td>\n      <td>87701</td>\n      <td>Coloeus</td>\n      <td>monedula</td>\n      <td>NaN</td>\n      <td>birds</td>\n      <td>Western Jackdaw</td>\n      <td>Volker Arnold</td>\n      <td>Germany</td>\n      <td>Heide-Ruesdorf, Dithmarschen, Schleswig-Holstein</td>\n      <td>...</td>\n      <td>44100</td>\n      <td>NaN</td>\n      <td>NaN</td>\n      <td>NaN</td>\n      <td>NaN</td>\n      <td>NaN</td>\n      <td>NaN</td>\n      <td>NaN</td>\n      <td>Coloeus monedula</td>\n      <td>/media/jacek/E753-A120/xeno-canto/87701.mp3</td>\n    </tr>\n    <tr>\n      <th>242467</th>\n      <td>242467</td>\n      <td>284310</td>\n      <td>Anthus</td>\n      <td>pratensis</td>\n      <td>NaN</td>\n      <td>birds</td>\n      <td>Meadow Pipit</td>\n      <td>Joost van Bruggen</td>\n      <td>Netherlands</td>\n      <td>Arnhem, Arnhem, Gelderland</td>\n      <td>...</td>\n      <td>NaN</td>\n      <td>NaN</td>\n      <td>NaN</td>\n      <td>NaN</td>\n      <td>NaN</td>\n      <td>NaN</td>\n      <td>NaN</td>\n      <td>NaN</td>\n      <td>Anthus pratensis</td>\n      <td>/media/jacek/E753-A120/xeno-canto/284310.mp3</td>\n    </tr>\n    <tr>\n      <th>10809</th>\n      <td>10809</td>\n      <td>183095</td>\n      <td>Anas</td>\n      <td>platyrhynchos</td>\n      <td>NaN</td>\n      <td>birds</td>\n      <td>Mallard</td>\n      <td>Albert Lastukhin</td>\n      <td>Kazakhstan</td>\n      <td>Shieli District, Kyzylorda Province</td>\n      <td>...</td>\n      <td>NaN</td>\n      <td>NaN</td>\n      <td>NaN</td>\n      <td>NaN</td>\n      <td>NaN</td>\n      <td>NaN</td>\n      <td>NaN</td>\n      <td>NaN</td>\n      <td>Anas platyrhynchos</td>\n      <td>/media/jacek/E753-A120/xeno-canto/183095.mp3</td>\n    </tr>\n    <tr>\n      <th>104618</th>\n      <td>104618</td>\n      <td>642766</td>\n      <td>Garrulus</td>\n      <td>glandarius</td>\n      <td>NaN</td>\n      <td>birds</td>\n      <td>Eurasian Jay</td>\n      <td>Somkiat Pakapinyo (Chai)</td>\n      <td>Thailand</td>\n      <td>Tambon Nikhom Phatthana, Amphoe Mueang Lampang...</td>\n      <td>...</td>\n      <td>NaN</td>\n      <td>NaN</td>\n      <td>NaN</td>\n      <td>NaN</td>\n      <td>NaN</td>\n      <td>NaN</td>\n      <td>NaN</td>\n      <td>NaN</td>\n      <td>Garrulus glandarius</td>\n      <td>/media/jacek/E753-A120/xeno-canto/642766.mp3</td>\n    </tr>\n  </tbody>\n</table>\n<p>100 rows × 54 columns</p>\n</div>"
     },
     "execution_count": 3,
     "metadata": {},
     "output_type": "execute_result"
    }
   ],
   "source": [
    "df = initial_filter()\n",
    "sample = df.sample(n = 100, random_state=123)\n",
    "sample['filepath'] = df.apply(lambda x: f\"{SOURCE}{str(x['id'])}.mp3\" , axis=1)\n",
    "sample"
   ],
   "metadata": {
    "collapsed": false,
    "ExecuteTime": {
     "end_time": "2023-11-05T17:21:42.330450387Z",
     "start_time": "2023-11-05T17:21:35.542412946Z"
    }
   },
   "id": "146cf874bbcd13d0"
  },
  {
   "cell_type": "markdown",
   "source": [
    "## Copy sample of 100 files to a folder"
   ],
   "metadata": {
    "collapsed": false
   },
   "id": "3367a5c057a81fa2"
  },
  {
   "cell_type": "code",
   "execution_count": null,
   "outputs": [],
   "source": [
    "for filepath in sample['filepath']:\n",
    "    shutil.copy(filepath, SRC + filepath.split(sep = '/')[-1])"
   ],
   "metadata": {
    "collapsed": false
   },
   "id": "71a9d58621a33790"
  },
  {
   "cell_type": "markdown",
   "source": [
    "## Conversion"
   ],
   "metadata": {
    "collapsed": false
   },
   "id": "c797ae62bfade1fd"
  },
  {
   "cell_type": "code",
   "execution_count": null,
   "outputs": [],
   "source": [
    "import os\n",
    "from pydub import AudioSegment\n",
    "from pydub.utils import mediainfo\n",
    "\n",
    "SRC = '/home/jacek/Documents/format_test/source'\n",
    "DST = '/home/jacek/Documents/format_test/ogg_same_bitrate_32khz'\n",
    "\n",
    "files = os.listdir(SRC)\n",
    "for file in files:\n",
    "    name = file.split(\".\")[0]\n",
    "    if name != '':\n",
    "        try:\n",
    "            sound = AudioSegment.from_file(f\"{SRC}/{name}.mp3\")\n",
    "            sound = sound.set_frame_rate(32000)\n",
    "            original_bitrate = mediainfo(f\"{SRC}/{name}.mp3\")['bit_rate']\n",
    "            sound.export(f\"{DST}/{name}.ogg\", format=\"ogg\", bitrate=original_bitrate)\n",
    "        except Exception as error:\n",
    "            print(\"An exception occurred:\", error)\n",
    "            print(name)\n",
    "    "
   ],
   "metadata": {
    "collapsed": false
   },
   "id": "e8f6ce0534358c27"
  },
  {
   "cell_type": "markdown",
   "source": [
    "#### source directory size: 224,4MB\n",
    "\n",
    "#### Same bitrate \n",
    "1. original dir -> mp3 with the same bitrate: 2m 9s, 191,3 MB\n",
    "2. original dir -> ogg with the same bitrate: 1m 56s,  159,6MB  (9 files empty)\n",
    "\n",
    "#### Resampled to 32khz (no lock on bitrate)\n",
    "1. original dir -> mp3_32khz : 1m 44s 72,3MB (it lowers bitrate, usually 42kbps)\n",
    "2. original dir -> ogg_32khz: 1m 39s  71,2 MB (lowers usually to 112 or 76kbps)\n",
    "\n",
    "#### Same bitrate and resampled to 32khz\n",
    "1. original dir -> mp3   1m 56s 191,4MB\n",
    "2. original dir -> ogg   1,28s  145,4MB (12 files empty)\n",
    "\n",
    "## Result: ogg compress files better (~85% of mp3 file in the same bitrate) \n"
   ],
   "metadata": {
    "collapsed": false
   },
   "id": "e5bf586642fe4ec7"
  },
  {
   "cell_type": "markdown",
   "source": [
    "## Compare load(), librosa vs torch"
   ],
   "metadata": {
    "collapsed": false
   },
   "id": "cce220db5145e6a3"
  },
  {
   "cell_type": "code",
   "execution_count": 4,
   "outputs": [],
   "source": [
    "import librosa\n",
    "import os\n",
    "import torchaudio\n",
    "from birdclassification.preprocessing.utils import timer\n",
    "\n",
    "@timer\n",
    "def read_librosa(dir):\n",
    "    file_list = os.listdir(dir)\n",
    "    for file in file_list:\n",
    "        filepath = dir + file\n",
    "        waveform, sample_rate = librosa.load(filepath)\n",
    "\n",
    "@timer\n",
    "def read_torch(dir):\n",
    "    file_list = os.listdir(dir)\n",
    "    for file in file_list:\n",
    "        filepath = dir + file\n",
    "        waveform, sample_rate = torchaudio.load(filepath)"
   ],
   "metadata": {
    "collapsed": false,
    "ExecuteTime": {
     "end_time": "2023-11-05T17:22:36.051695278Z",
     "start_time": "2023-11-05T17:22:34.189019372Z"
    }
   },
   "id": "7be17da04ea0297c"
  },
  {
   "cell_type": "code",
   "execution_count": 8,
   "outputs": [
    {
     "name": "stderr",
     "output_type": "stream",
     "text": [
      "Note: Illegal Audio-MPEG-Header 0x494f4e00 at offset 397500.\n",
      "Note: Trying to resync...\n",
      "Note: Hit end of (available) data during resync.\n",
      "Note: Illegal Audio-MPEG-Header 0x52450050 at offset 1271767.\n",
      "Note: Trying to resync...\n",
      "Note: Hit end of (available) data during resync.\n",
      "Warning: Xing stream size off by more than 1%, fuzzy seeking may be even more fuzzy than by design!\n"
     ]
    },
    {
     "name": "stdout",
     "output_type": "stream",
     "text": [
      "Function: 'read_librosa', execution time: 13.58786392211914\n",
      "----------------\n",
      "Function: 'read_torch', execution time: 9.357446193695068\n"
     ]
    }
   ],
   "source": [
    "dir = '/home/jacek/Documents/format_test/source/'\n",
    "read_librosa(dir)\n",
    "print(\"------------------------------------------\")\n",
    "read_torch(dir)"
   ],
   "metadata": {
    "collapsed": false,
    "ExecuteTime": {
     "end_time": "2023-11-05T17:26:28.566773540Z",
     "start_time": "2023-11-05T17:26:05.614837581Z"
    }
   },
   "id": "1ce87070f2b3a51c"
  },
  {
   "cell_type": "code",
   "execution_count": 9,
   "outputs": [
    {
     "name": "stdout",
     "output_type": "stream",
     "text": [
      "Function: 'read_librosa', execution time: 10.40324091911316\n",
      "------------------------------------------\n",
      "Function: 'read_torch', execution time: 6.297319650650024\n"
     ]
    }
   ],
   "source": [
    "dir = '/home/jacek/Documents/format_test/mp3_32khz/'\n",
    "read_librosa(dir)\n",
    "print(\"------------------------------------------\")\n",
    "read_torch(dir)"
   ],
   "metadata": {
    "collapsed": false,
    "ExecuteTime": {
     "end_time": "2023-11-05T17:28:25.835936846Z",
     "start_time": "2023-11-05T17:28:09.128954560Z"
    }
   },
   "id": "1da2a859e266cbd6"
  },
  {
   "cell_type": "code",
   "execution_count": 10,
   "outputs": [
    {
     "name": "stdout",
     "output_type": "stream",
     "text": [
      "Function: 'read_librosa', execution time: 14.751846313476562\n",
      "------------------------------------------\n",
      "Function: 'read_torch', execution time: 10.022835493087769\n"
     ]
    }
   ],
   "source": [
    "dir = '/home/jacek/Documents/format_test/mp3_same_bitrate/'\n",
    "read_librosa(dir)\n",
    "print(\"------------------------------------------\")\n",
    "read_torch(dir)"
   ],
   "metadata": {
    "collapsed": false,
    "ExecuteTime": {
     "end_time": "2023-11-05T17:29:03.481617851Z",
     "start_time": "2023-11-05T17:28:38.699956498Z"
    }
   },
   "id": "5d2043e77489e940"
  },
  {
   "cell_type": "code",
   "execution_count": 11,
   "outputs": [
    {
     "name": "stdout",
     "output_type": "stream",
     "text": [
      "Function: 'read_librosa', execution time: 12.236756324768066\n",
      "------------------------------------------\n",
      "Function: 'read_torch', execution time: 7.645618438720703\n"
     ]
    }
   ],
   "source": [
    "dir = '/home/jacek/Documents/format_test/mp3_same_bitrate_32khz/'\n",
    "read_librosa(dir)\n",
    "print(\"------------------------------------------\")\n",
    "read_torch(dir)"
   ],
   "metadata": {
    "collapsed": false,
    "ExecuteTime": {
     "end_time": "2023-11-05T17:29:32.078200511Z",
     "start_time": "2023-11-05T17:29:12.188483113Z"
    }
   },
   "id": "bff63a5125d9bba9"
  },
  {
   "cell_type": "code",
   "execution_count": 13,
   "outputs": [
    {
     "name": "stdout",
     "output_type": "stream",
     "text": [
      "Function: 'read_librosa', execution time: 14.018277645111084\n",
      "------------------------------------------\n",
      "Function: 'read_torch', execution time: 6.054214000701904\n"
     ]
    }
   ],
   "source": [
    "dir = '/home/jacek/Documents/format_test/ogg_32khz/'\n",
    "read_librosa(dir)\n",
    "print(\"------------------------------------------\")\n",
    "read_torch(dir)"
   ],
   "metadata": {
    "collapsed": false,
    "ExecuteTime": {
     "end_time": "2023-11-05T17:31:51.110787475Z",
     "start_time": "2023-11-05T17:31:31.033470024Z"
    }
   },
   "id": "3b46f02aca1f8483"
  },
  {
   "cell_type": "markdown",
   "source": [
    "## Test load and resample - torch"
   ],
   "metadata": {
    "collapsed": false
   },
   "id": "8cc966ef0fca0fec"
  },
  {
   "cell_type": "code",
   "execution_count": 52,
   "outputs": [
    {
     "ename": "TypeError",
     "evalue": "get_save_func.<locals>.save() got an unexpected keyword argument 'compression'",
     "output_type": "error",
     "traceback": [
      "\u001B[0;31m---------------------------------------------------------------------------\u001B[0m",
      "\u001B[0;31mTypeError\u001B[0m                                 Traceback (most recent call last)",
      "Cell \u001B[0;32mIn[52], line 11\u001B[0m\n\u001B[1;32m      9\u001B[0m source\u001B[38;5;241m=\u001B[39m \u001B[38;5;124m'\u001B[39m\u001B[38;5;124m/home/jacek/Documents/format_test/source/\u001B[39m\u001B[38;5;124m'\u001B[39m\n\u001B[1;32m     10\u001B[0m save_dir \u001B[38;5;241m=\u001B[39m \u001B[38;5;124m'\u001B[39m\u001B[38;5;124m/home/jacek/Documents/format_test/ogg_same_bitrate_32khz_16bits_c5/\u001B[39m\u001B[38;5;124m'\u001B[39m\n\u001B[0;32m---> 11\u001B[0m \u001B[43mload_resample_convert_ogg_torch\u001B[49m\u001B[43m(\u001B[49m\u001B[43msource\u001B[49m\u001B[43m,\u001B[49m\u001B[43m \u001B[49m\u001B[43msave_dir\u001B[49m\u001B[43m)\u001B[49m\n",
      "File \u001B[0;32m~/PycharmProjects/Bird-classification-model/birdclassification/preprocessing/utils.py:13\u001B[0m, in \u001B[0;36mtimer.<locals>.wrapper\u001B[0;34m(*args, **kwargs)\u001B[0m\n\u001B[1;32m     11\u001B[0m \u001B[38;5;28;01mdef\u001B[39;00m \u001B[38;5;21mwrapper\u001B[39m(\u001B[38;5;241m*\u001B[39margs, \u001B[38;5;241m*\u001B[39m\u001B[38;5;241m*\u001B[39mkwargs):\n\u001B[1;32m     12\u001B[0m     start \u001B[38;5;241m=\u001B[39m time()\n\u001B[0;32m---> 13\u001B[0m     result \u001B[38;5;241m=\u001B[39m \u001B[43mfunc\u001B[49m\u001B[43m(\u001B[49m\u001B[38;5;241;43m*\u001B[39;49m\u001B[43margs\u001B[49m\u001B[43m,\u001B[49m\u001B[43m \u001B[49m\u001B[38;5;241;43m*\u001B[39;49m\u001B[38;5;241;43m*\u001B[39;49m\u001B[43mkwargs\u001B[49m\u001B[43m)\u001B[49m\n\u001B[1;32m     14\u001B[0m     end \u001B[38;5;241m=\u001B[39m time()\n\u001B[1;32m     15\u001B[0m     \u001B[38;5;28mprint\u001B[39m(\u001B[38;5;124mf\u001B[39m\u001B[38;5;124m'\u001B[39m\u001B[38;5;124mFunction: \u001B[39m\u001B[38;5;132;01m{\u001B[39;00mfunc\u001B[38;5;241m.\u001B[39m\u001B[38;5;18m__name__\u001B[39m\u001B[38;5;132;01m!r}\u001B[39;00m\u001B[38;5;124m, execution time: \u001B[39m\u001B[38;5;132;01m{\u001B[39;00mend\u001B[38;5;250m \u001B[39m\u001B[38;5;241m-\u001B[39m\u001B[38;5;250m \u001B[39mstart\u001B[38;5;132;01m}\u001B[39;00m\u001B[38;5;124m'\u001B[39m)\n",
      "Cell \u001B[0;32mIn[52], line 7\u001B[0m, in \u001B[0;36mload_resample_convert_ogg_torch\u001B[0;34m(dir, save_dir)\u001B[0m\n\u001B[1;32m      5\u001B[0m filepath \u001B[38;5;241m=\u001B[39m \u001B[38;5;28mdir\u001B[39m \u001B[38;5;241m+\u001B[39m file\n\u001B[1;32m      6\u001B[0m audio, sampling_rate \u001B[38;5;241m=\u001B[39m torchaudio\u001B[38;5;241m.\u001B[39mload(filepath)\n\u001B[0;32m----> 7\u001B[0m \u001B[43mtorchaudio\u001B[49m\u001B[38;5;241;43m.\u001B[39;49m\u001B[43msave\u001B[49m\u001B[43m(\u001B[49m\u001B[43msave_dir\u001B[49m\u001B[43m \u001B[49m\u001B[38;5;241;43m+\u001B[39;49m\u001B[43m \u001B[49m\u001B[43mfile\u001B[49m\u001B[43m,\u001B[49m\u001B[43m \u001B[49m\u001B[43maudio\u001B[49m\u001B[43m,\u001B[49m\u001B[43m \u001B[49m\u001B[43msample_rate\u001B[49m\u001B[43m \u001B[49m\u001B[38;5;241;43m=\u001B[39;49m\u001B[43m \u001B[49m\u001B[38;5;241;43m32000\u001B[39;49m\u001B[43m,\u001B[49m\u001B[43m \u001B[49m\u001B[43mcompression\u001B[49m\u001B[43m \u001B[49m\u001B[38;5;241;43m=\u001B[39;49m\u001B[43m \u001B[49m\u001B[38;5;241;43m5\u001B[39;49m\u001B[43m)\u001B[49m\n",
      "\u001B[0;31mTypeError\u001B[0m: get_save_func.<locals>.save() got an unexpected keyword argument 'compression'"
     ]
    }
   ],
   "source": [
    "@timer\n",
    "def load_resample_convert_ogg_torch(dir, save_dir):\n",
    "    file_list = os.listdir(dir)\n",
    "    for file in file_list:\n",
    "        filepath = dir + file\n",
    "        audio, sampling_rate = torchaudio.load(filepath)\n",
    "        torchaudio.save(save_dir + file, audio, sample_rate = 32000, compression = 5)\n",
    "        \n",
    "source= '/home/jacek/Documents/format_test/source/'\n",
    "save_dir = '/home/jacek/Documents/format_test/ogg_same_bitrate_32khz_16bits_c5/'\n",
    "load_resample_convert_ogg_torch(source, save_dir)"
   ],
   "metadata": {
    "collapsed": false,
    "ExecuteTime": {
     "end_time": "2023-11-06T11:59:58.016318959Z",
     "start_time": "2023-11-06T11:59:57.826948038Z"
    }
   },
   "id": "a1a256b748097dab"
  },
  {
   "cell_type": "markdown",
   "source": [
    "### ogg 32khz 124s\n",
    "### ogg 32khz 16 bits 112s"
   ],
   "metadata": {
    "collapsed": false
   },
   "id": "4f1ba680a8b0f812"
  },
  {
   "cell_type": "code",
   "execution_count": 50,
   "outputs": [
    {
     "name": "stdout",
     "output_type": "stream",
     "text": [
      "AudioMetaData(sample_rate=32000, num_frames=2492352, num_channels=1, bits_per_sample=0, encoding=VORBIS)\n",
      "AudioMetaData(sample_rate=32000, num_frames=2268800, num_channels=2, bits_per_sample=0, encoding=VORBIS)\n",
      "AudioMetaData(sample_rate=32000, num_frames=2195904, num_channels=2, bits_per_sample=0, encoding=VORBIS)\n",
      "AudioMetaData(sample_rate=32000, num_frames=2849664, num_channels=2, bits_per_sample=0, encoding=VORBIS)\n",
      "AudioMetaData(sample_rate=32000, num_frames=4029120, num_channels=2, bits_per_sample=0, encoding=VORBIS)\n",
      "AudioMetaData(sample_rate=32000, num_frames=2019264, num_channels=2, bits_per_sample=0, encoding=VORBIS)\n",
      "AudioMetaData(sample_rate=32000, num_frames=1836864, num_channels=2, bits_per_sample=0, encoding=VORBIS)\n",
      "AudioMetaData(sample_rate=32000, num_frames=437056, num_channels=2, bits_per_sample=0, encoding=VORBIS)\n",
      "AudioMetaData(sample_rate=32000, num_frames=7955648, num_channels=2, bits_per_sample=0, encoding=VORBIS)\n",
      "AudioMetaData(sample_rate=32000, num_frames=142016, num_channels=1, bits_per_sample=0, encoding=VORBIS)\n",
      "AudioMetaData(sample_rate=32000, num_frames=443968, num_channels=1, bits_per_sample=0, encoding=VORBIS)\n",
      "AudioMetaData(sample_rate=32000, num_frames=17366208, num_channels=2, bits_per_sample=0, encoding=VORBIS)\n",
      "AudioMetaData(sample_rate=32000, num_frames=9950912, num_channels=2, bits_per_sample=0, encoding=VORBIS)\n",
      "AudioMetaData(sample_rate=32000, num_frames=554304, num_channels=2, bits_per_sample=0, encoding=VORBIS)\n",
      "AudioMetaData(sample_rate=32000, num_frames=1113280, num_channels=2, bits_per_sample=0, encoding=VORBIS)\n",
      "AudioMetaData(sample_rate=32000, num_frames=2955584, num_channels=2, bits_per_sample=0, encoding=VORBIS)\n",
      "AudioMetaData(sample_rate=32000, num_frames=1240000, num_channels=2, bits_per_sample=0, encoding=VORBIS)\n",
      "AudioMetaData(sample_rate=32000, num_frames=2528576, num_channels=1, bits_per_sample=0, encoding=VORBIS)\n",
      "AudioMetaData(sample_rate=32000, num_frames=1168320, num_channels=2, bits_per_sample=0, encoding=VORBIS)\n",
      "AudioMetaData(sample_rate=32000, num_frames=231104, num_channels=2, bits_per_sample=0, encoding=VORBIS)\n",
      "AudioMetaData(sample_rate=32000, num_frames=1108544, num_channels=2, bits_per_sample=0, encoding=VORBIS)\n",
      "AudioMetaData(sample_rate=32000, num_frames=6669248, num_channels=2, bits_per_sample=0, encoding=VORBIS)\n",
      "AudioMetaData(sample_rate=32000, num_frames=301760, num_channels=2, bits_per_sample=0, encoding=VORBIS)\n",
      "AudioMetaData(sample_rate=32000, num_frames=539328, num_channels=2, bits_per_sample=0, encoding=VORBIS)\n",
      "AudioMetaData(sample_rate=32000, num_frames=450240, num_channels=2, bits_per_sample=0, encoding=VORBIS)\n",
      "AudioMetaData(sample_rate=32000, num_frames=1392320, num_channels=2, bits_per_sample=0, encoding=VORBIS)\n",
      "AudioMetaData(sample_rate=32000, num_frames=379264, num_channels=2, bits_per_sample=0, encoding=VORBIS)\n",
      "AudioMetaData(sample_rate=32000, num_frames=1011456, num_channels=2, bits_per_sample=0, encoding=VORBIS)\n",
      "AudioMetaData(sample_rate=32000, num_frames=368320, num_channels=2, bits_per_sample=0, encoding=VORBIS)\n",
      "AudioMetaData(sample_rate=32000, num_frames=2659392, num_channels=2, bits_per_sample=0, encoding=VORBIS)\n",
      "AudioMetaData(sample_rate=32000, num_frames=388160, num_channels=2, bits_per_sample=0, encoding=VORBIS)\n",
      "AudioMetaData(sample_rate=32000, num_frames=294144, num_channels=2, bits_per_sample=0, encoding=VORBIS)\n",
      "AudioMetaData(sample_rate=32000, num_frames=3808960, num_channels=2, bits_per_sample=0, encoding=VORBIS)\n",
      "AudioMetaData(sample_rate=32000, num_frames=427328, num_channels=2, bits_per_sample=0, encoding=VORBIS)\n",
      "AudioMetaData(sample_rate=32000, num_frames=1526464, num_channels=2, bits_per_sample=0, encoding=VORBIS)\n",
      "AudioMetaData(sample_rate=32000, num_frames=271936, num_channels=2, bits_per_sample=0, encoding=VORBIS)\n",
      "AudioMetaData(sample_rate=32000, num_frames=695168, num_channels=2, bits_per_sample=0, encoding=VORBIS)\n",
      "AudioMetaData(sample_rate=32000, num_frames=138176, num_channels=2, bits_per_sample=0, encoding=VORBIS)\n",
      "AudioMetaData(sample_rate=32000, num_frames=1049088, num_channels=2, bits_per_sample=0, encoding=VORBIS)\n",
      "AudioMetaData(sample_rate=32000, num_frames=2247424, num_channels=1, bits_per_sample=0, encoding=VORBIS)\n",
      "AudioMetaData(sample_rate=32000, num_frames=1546240, num_channels=2, bits_per_sample=0, encoding=VORBIS)\n",
      "AudioMetaData(sample_rate=32000, num_frames=824896, num_channels=1, bits_per_sample=0, encoding=VORBIS)\n",
      "AudioMetaData(sample_rate=32000, num_frames=1383232, num_channels=2, bits_per_sample=0, encoding=VORBIS)\n",
      "AudioMetaData(sample_rate=32000, num_frames=201920, num_channels=1, bits_per_sample=0, encoding=VORBIS)\n",
      "AudioMetaData(sample_rate=32000, num_frames=499008, num_channels=2, bits_per_sample=0, encoding=VORBIS)\n",
      "AudioMetaData(sample_rate=32000, num_frames=792384, num_channels=2, bits_per_sample=0, encoding=VORBIS)\n",
      "AudioMetaData(sample_rate=32000, num_frames=869184, num_channels=2, bits_per_sample=0, encoding=VORBIS)\n",
      "AudioMetaData(sample_rate=32000, num_frames=1569600, num_channels=1, bits_per_sample=0, encoding=VORBIS)\n",
      "AudioMetaData(sample_rate=32000, num_frames=1579328, num_channels=1, bits_per_sample=0, encoding=VORBIS)\n",
      "AudioMetaData(sample_rate=32000, num_frames=226560, num_channels=2, bits_per_sample=0, encoding=VORBIS)\n",
      "AudioMetaData(sample_rate=32000, num_frames=19644736, num_channels=1, bits_per_sample=0, encoding=VORBIS)\n",
      "AudioMetaData(sample_rate=32000, num_frames=278848, num_channels=2, bits_per_sample=0, encoding=VORBIS)\n",
      "AudioMetaData(sample_rate=32000, num_frames=396864, num_channels=2, bits_per_sample=0, encoding=VORBIS)\n",
      "AudioMetaData(sample_rate=32000, num_frames=466688, num_channels=2, bits_per_sample=0, encoding=VORBIS)\n",
      "AudioMetaData(sample_rate=32000, num_frames=178624, num_channels=1, bits_per_sample=0, encoding=VORBIS)\n",
      "AudioMetaData(sample_rate=32000, num_frames=2230720, num_channels=2, bits_per_sample=0, encoding=VORBIS)\n",
      "AudioMetaData(sample_rate=32000, num_frames=693504, num_channels=1, bits_per_sample=0, encoding=VORBIS)\n",
      "AudioMetaData(sample_rate=32000, num_frames=296128, num_channels=2, bits_per_sample=0, encoding=VORBIS)\n",
      "AudioMetaData(sample_rate=32000, num_frames=883456, num_channels=2, bits_per_sample=0, encoding=VORBIS)\n",
      "AudioMetaData(sample_rate=32000, num_frames=2235840, num_channels=2, bits_per_sample=0, encoding=VORBIS)\n",
      "AudioMetaData(sample_rate=32000, num_frames=3445312, num_channels=2, bits_per_sample=0, encoding=VORBIS)\n",
      "AudioMetaData(sample_rate=32000, num_frames=1064000, num_channels=2, bits_per_sample=0, encoding=VORBIS)\n",
      "AudioMetaData(sample_rate=32000, num_frames=792896, num_channels=2, bits_per_sample=0, encoding=VORBIS)\n",
      "AudioMetaData(sample_rate=32000, num_frames=5479552, num_channels=2, bits_per_sample=0, encoding=VORBIS)\n",
      "AudioMetaData(sample_rate=32000, num_frames=234944, num_channels=2, bits_per_sample=0, encoding=VORBIS)\n",
      "AudioMetaData(sample_rate=32000, num_frames=321088, num_channels=2, bits_per_sample=0, encoding=VORBIS)\n",
      "AudioMetaData(sample_rate=32000, num_frames=135488, num_channels=2, bits_per_sample=0, encoding=VORBIS)\n",
      "AudioMetaData(sample_rate=32000, num_frames=3702080, num_channels=1, bits_per_sample=0, encoding=VORBIS)\n",
      "AudioMetaData(sample_rate=32000, num_frames=117056, num_channels=2, bits_per_sample=0, encoding=VORBIS)\n",
      "AudioMetaData(sample_rate=32000, num_frames=617920, num_channels=1, bits_per_sample=0, encoding=VORBIS)\n",
      "AudioMetaData(sample_rate=32000, num_frames=645888, num_channels=1, bits_per_sample=0, encoding=VORBIS)\n",
      "AudioMetaData(sample_rate=32000, num_frames=1690688, num_channels=1, bits_per_sample=0, encoding=VORBIS)\n",
      "AudioMetaData(sample_rate=32000, num_frames=1415872, num_channels=2, bits_per_sample=0, encoding=VORBIS)\n",
      "AudioMetaData(sample_rate=32000, num_frames=338112, num_channels=1, bits_per_sample=0, encoding=VORBIS)\n",
      "AudioMetaData(sample_rate=32000, num_frames=1549888, num_channels=2, bits_per_sample=0, encoding=VORBIS)\n",
      "AudioMetaData(sample_rate=32000, num_frames=1238400, num_channels=2, bits_per_sample=0, encoding=VORBIS)\n",
      "AudioMetaData(sample_rate=32000, num_frames=18360640, num_channels=2, bits_per_sample=0, encoding=VORBIS)\n",
      "AudioMetaData(sample_rate=32000, num_frames=448832, num_channels=1, bits_per_sample=0, encoding=VORBIS)\n",
      "AudioMetaData(sample_rate=32000, num_frames=986304, num_channels=2, bits_per_sample=0, encoding=VORBIS)\n",
      "AudioMetaData(sample_rate=32000, num_frames=2327488, num_channels=2, bits_per_sample=0, encoding=VORBIS)\n",
      "AudioMetaData(sample_rate=32000, num_frames=778944, num_channels=2, bits_per_sample=0, encoding=VORBIS)\n",
      "AudioMetaData(sample_rate=32000, num_frames=343552, num_channels=2, bits_per_sample=0, encoding=VORBIS)\n",
      "AudioMetaData(sample_rate=32000, num_frames=2844416, num_channels=1, bits_per_sample=0, encoding=VORBIS)\n",
      "AudioMetaData(sample_rate=32000, num_frames=1631936, num_channels=2, bits_per_sample=0, encoding=VORBIS)\n",
      "AudioMetaData(sample_rate=32000, num_frames=422976, num_channels=2, bits_per_sample=0, encoding=VORBIS)\n",
      "AudioMetaData(sample_rate=32000, num_frames=14017216, num_channels=2, bits_per_sample=0, encoding=VORBIS)\n",
      "AudioMetaData(sample_rate=32000, num_frames=1117120, num_channels=2, bits_per_sample=0, encoding=VORBIS)\n",
      "AudioMetaData(sample_rate=32000, num_frames=1135168, num_channels=2, bits_per_sample=0, encoding=VORBIS)\n",
      "AudioMetaData(sample_rate=32000, num_frames=2891840, num_channels=2, bits_per_sample=0, encoding=VORBIS)\n",
      "AudioMetaData(sample_rate=32000, num_frames=398144, num_channels=2, bits_per_sample=0, encoding=VORBIS)\n",
      "AudioMetaData(sample_rate=32000, num_frames=7090368, num_channels=2, bits_per_sample=0, encoding=VORBIS)\n",
      "AudioMetaData(sample_rate=32000, num_frames=706240, num_channels=2, bits_per_sample=0, encoding=VORBIS)\n",
      "AudioMetaData(sample_rate=32000, num_frames=455616, num_channels=1, bits_per_sample=0, encoding=VORBIS)\n",
      "AudioMetaData(sample_rate=32000, num_frames=2853312, num_channels=2, bits_per_sample=0, encoding=VORBIS)\n",
      "AudioMetaData(sample_rate=32000, num_frames=1917760, num_channels=2, bits_per_sample=0, encoding=VORBIS)\n",
      "AudioMetaData(sample_rate=32000, num_frames=2028864, num_channels=2, bits_per_sample=0, encoding=VORBIS)\n",
      "AudioMetaData(sample_rate=32000, num_frames=209344, num_channels=2, bits_per_sample=0, encoding=VORBIS)\n",
      "AudioMetaData(sample_rate=32000, num_frames=1760448, num_channels=2, bits_per_sample=0, encoding=VORBIS)\n",
      "AudioMetaData(sample_rate=32000, num_frames=322240, num_channels=1, bits_per_sample=0, encoding=VORBIS)\n",
      "AudioMetaData(sample_rate=32000, num_frames=692928, num_channels=1, bits_per_sample=0, encoding=VORBIS)\n"
     ]
    }
   ],
   "source": [
    "source= '/home/jacek/Documents/format_test/source/'\n",
    "save_dir = '/home/jacek/Documents/format_test/ogg_same_bitrate_32khz_16bits/'\n",
    "\n",
    "file_list = os.listdir(dir)\n",
    "for file in file_list:\n",
    "    filepath = dir + file\n",
    "    print(torchaudio.info(filepath))"
   ],
   "metadata": {
    "collapsed": false,
    "ExecuteTime": {
     "end_time": "2023-11-06T11:55:58.647777999Z",
     "start_time": "2023-11-06T11:55:53.033724318Z"
    }
   },
   "id": "2359b82f91327f28"
  }
 ],
 "metadata": {
  "kernelspec": {
   "display_name": "Python 3",
   "language": "python",
   "name": "python3"
  },
  "language_info": {
   "codemirror_mode": {
    "name": "ipython",
    "version": 2
   },
   "file_extension": ".py",
   "mimetype": "text/x-python",
   "name": "python",
   "nbconvert_exporter": "python",
   "pygments_lexer": "ipython2",
   "version": "2.7.6"
  }
 },
 "nbformat": 4,
 "nbformat_minor": 5
}
