{
 "cells": [
  {
   "cell_type": "markdown",
   "source": [
    "## Dataset downsampling and format\n",
    "### To test:\n",
    "1. Compare size of ogg and mp3 files\n",
    "2. Check how quickly ogg and mp3 are opened (decompressed)\n",
    "3. Downsampling to 32 kHz (compare size)\n",
    "\n",
    "### Why?\n",
    "1. ogg is used in all birdclef competition on kaggle\n",
    "2. ogg is promising to be smaller while not loosing quality"
   ],
   "metadata": {
    "collapsed": false
   },
   "id": "1323519ae90d0502"
  },
  {
   "cell_type": "markdown",
   "source": [
    "## Sample 100 recordings"
   ],
   "metadata": {
    "collapsed": false
   },
   "id": "9d76ded59d4ec9a9"
  },
  {
   "cell_type": "code",
   "execution_count": 1,
   "outputs": [],
   "source": [
    "import os\n",
    "from birdclassification.preprocessing.filtering import initial_filter\n",
    "from birdclassification.preprocessing.utils import timer\n",
    "import shutil\n",
    "\n",
    "SOURCE = '/media/jacek/E753-A120/xeno-canto/'\n",
    "DST_MP3 = '/home/jacek/Documents/mp3/'\n",
    "DST_OGG = '/home/jacek/Documents/ogg/'"
   ],
   "metadata": {
    "collapsed": false,
    "ExecuteTime": {
     "end_time": "2023-11-03T22:22:40.359011953Z",
     "start_time": "2023-11-03T22:22:37.601722210Z"
    }
   },
   "id": "initial_id"
  },
  {
   "cell_type": "code",
   "execution_count": 2,
   "outputs": [
    {
     "name": "stderr",
     "output_type": "stream",
     "text": [
      "/home/jacek/PycharmProjects/Bird-classification-model/birdclassification/preprocessing/filtering.py:16: DtypeWarning: Columns (10,39,43,44,45,46,47,48) have mixed types. Specify dtype option on import or set low_memory=False.\n",
      "  df = pd.read_csv('../data/xeno_canto_recordings.csv')\n"
     ]
    },
    {
     "data": {
      "text/plain": "        Unnamed: 0      id         gen             sp        ssp  group  \\\n134932      134932  708143      Alauda       arvensis        NaN  birds   \n89233        89233  619297        Jynx      torquilla  torquilla  birds   \n190242      190242  391049       Sitta       europaea        NaN  birds   \n70153        70153  701523  Nycticorax     nycticorax        NaN  birds   \n7051          7051  590644   Bucephala       clangula        NaN  birds   \n...            ...     ...         ...            ...        ...    ...   \n171045      171045  564408  Aegithalos       caudatus        NaN  birds   \n107631      107631   87701     Coloeus       monedula        NaN  birds   \n242467      242467  284310      Anthus      pratensis        NaN  birds   \n10809        10809  183095        Anas  platyrhynchos        NaN  birds   \n104618      104618  642766    Garrulus     glandarius        NaN  birds   \n\n                               en                       rec             cnt  \\\n134932           Eurasian Skylark               Georg Amann         Austria   \n89233            Eurasian Wryneck             Karol Łanocha          Poland   \n190242          Eurasian Nuthatch              Lars Edenius          Sweden   \n70153   Black-crowned Night Heron       Dominique Guillerme          France   \n7051             Common Goldeneye             Simon Elliott  United Kingdom   \n...                           ...                       ...             ...   \n171045            Long-tailed Tit                     Falco          France   \n107631            Western Jackdaw             Volker Arnold         Germany   \n242467               Meadow Pipit         Joost van Bruggen     Netherlands   \n10809                     Mallard          Albert Lastukhin      Kazakhstan   \n104618               Eurasian Jay  Somkiat Pakapinyo (Chai)        Thailand   \n\n                                                      loc  ... Unnamed: 44  \\\n134932                    Rankweil, Feldkirch, Vorarlberg  ...         NaN   \n89233   Gmina Kęty (near  Kęty), Powiat oświęcimski, M...  ...         NaN   \n190242                  Baggböle, Umeå, Västerbottens län  ...         NaN   \n70153         Chassey, Côte-d'Or, Bourgogne-Franche-Comté  ...         NaN   \n7051                                   Highland, Scotland  ...         NaN   \n...                                                   ...  ...         ...   \n171045  Montgardin, Hautes-Alpes, Provence-Alpes-Côte ...  ...         NaN   \n107631   Heide-Ruesdorf, Dithmarschen, Schleswig-Holstein  ...       44100   \n242467                         Arnhem, Arnhem, Gelderland  ...         NaN   \n10809                 Shieli District, Kyzylorda Province  ...         NaN   \n104618  Tambon Nikhom Phatthana, Amphoe Mueang Lampang...  ...         NaN   \n\n        Unnamed: 45 Unnamed: 46 Unnamed: 47 Unnamed: 48 Unnamed: 49  \\\n134932          NaN         NaN         NaN         NaN         NaN   \n89233           NaN         NaN         NaN         NaN         NaN   \n190242          NaN         NaN         NaN         NaN         NaN   \n70153           NaN         NaN         NaN         NaN         NaN   \n7051            NaN         NaN         NaN         NaN         NaN   \n...             ...         ...         ...         ...         ...   \n171045          NaN         NaN         NaN         NaN         NaN   \n107631          NaN         NaN         NaN         NaN         NaN   \n242467          NaN         NaN         NaN         NaN         NaN   \n10809           NaN         NaN         NaN         NaN         NaN   \n104618          NaN         NaN         NaN         NaN         NaN   \n\n       Unnamed: 50 Unnamed: 51             Latin name  \\\n134932         NaN         NaN        Alauda arvensis   \n89233          NaN         NaN         Jynx torquilla   \n190242         NaN         NaN         Sitta europaea   \n70153          NaN         NaN  Nycticorax nycticorax   \n7051           NaN         NaN     Bucephala clangula   \n...            ...         ...                    ...   \n171045         NaN         NaN    Aegithalos caudatus   \n107631         NaN         NaN       Coloeus monedula   \n242467         NaN         NaN       Anthus pratensis   \n10809          NaN         NaN     Anas platyrhynchos   \n104618         NaN         NaN    Garrulus glandarius   \n\n                                            filepath  \n134932  /media/jacek/E753-A120/xeno-canto/708143.mp3  \n89233   /media/jacek/E753-A120/xeno-canto/619297.mp3  \n190242  /media/jacek/E753-A120/xeno-canto/391049.mp3  \n70153   /media/jacek/E753-A120/xeno-canto/701523.mp3  \n7051    /media/jacek/E753-A120/xeno-canto/590644.mp3  \n...                                              ...  \n171045  /media/jacek/E753-A120/xeno-canto/564408.mp3  \n107631   /media/jacek/E753-A120/xeno-canto/87701.mp3  \n242467  /media/jacek/E753-A120/xeno-canto/284310.mp3  \n10809   /media/jacek/E753-A120/xeno-canto/183095.mp3  \n104618  /media/jacek/E753-A120/xeno-canto/642766.mp3  \n\n[100 rows x 54 columns]",
      "text/html": "<div>\n<style scoped>\n    .dataframe tbody tr th:only-of-type {\n        vertical-align: middle;\n    }\n\n    .dataframe tbody tr th {\n        vertical-align: top;\n    }\n\n    .dataframe thead th {\n        text-align: right;\n    }\n</style>\n<table border=\"1\" class=\"dataframe\">\n  <thead>\n    <tr style=\"text-align: right;\">\n      <th></th>\n      <th>Unnamed: 0</th>\n      <th>id</th>\n      <th>gen</th>\n      <th>sp</th>\n      <th>ssp</th>\n      <th>group</th>\n      <th>en</th>\n      <th>rec</th>\n      <th>cnt</th>\n      <th>loc</th>\n      <th>...</th>\n      <th>Unnamed: 44</th>\n      <th>Unnamed: 45</th>\n      <th>Unnamed: 46</th>\n      <th>Unnamed: 47</th>\n      <th>Unnamed: 48</th>\n      <th>Unnamed: 49</th>\n      <th>Unnamed: 50</th>\n      <th>Unnamed: 51</th>\n      <th>Latin name</th>\n      <th>filepath</th>\n    </tr>\n  </thead>\n  <tbody>\n    <tr>\n      <th>134932</th>\n      <td>134932</td>\n      <td>708143</td>\n      <td>Alauda</td>\n      <td>arvensis</td>\n      <td>NaN</td>\n      <td>birds</td>\n      <td>Eurasian Skylark</td>\n      <td>Georg Amann</td>\n      <td>Austria</td>\n      <td>Rankweil, Feldkirch, Vorarlberg</td>\n      <td>...</td>\n      <td>NaN</td>\n      <td>NaN</td>\n      <td>NaN</td>\n      <td>NaN</td>\n      <td>NaN</td>\n      <td>NaN</td>\n      <td>NaN</td>\n      <td>NaN</td>\n      <td>Alauda arvensis</td>\n      <td>/media/jacek/E753-A120/xeno-canto/708143.mp3</td>\n    </tr>\n    <tr>\n      <th>89233</th>\n      <td>89233</td>\n      <td>619297</td>\n      <td>Jynx</td>\n      <td>torquilla</td>\n      <td>torquilla</td>\n      <td>birds</td>\n      <td>Eurasian Wryneck</td>\n      <td>Karol Łanocha</td>\n      <td>Poland</td>\n      <td>Gmina Kęty (near  Kęty), Powiat oświęcimski, M...</td>\n      <td>...</td>\n      <td>NaN</td>\n      <td>NaN</td>\n      <td>NaN</td>\n      <td>NaN</td>\n      <td>NaN</td>\n      <td>NaN</td>\n      <td>NaN</td>\n      <td>NaN</td>\n      <td>Jynx torquilla</td>\n      <td>/media/jacek/E753-A120/xeno-canto/619297.mp3</td>\n    </tr>\n    <tr>\n      <th>190242</th>\n      <td>190242</td>\n      <td>391049</td>\n      <td>Sitta</td>\n      <td>europaea</td>\n      <td>NaN</td>\n      <td>birds</td>\n      <td>Eurasian Nuthatch</td>\n      <td>Lars Edenius</td>\n      <td>Sweden</td>\n      <td>Baggböle, Umeå, Västerbottens län</td>\n      <td>...</td>\n      <td>NaN</td>\n      <td>NaN</td>\n      <td>NaN</td>\n      <td>NaN</td>\n      <td>NaN</td>\n      <td>NaN</td>\n      <td>NaN</td>\n      <td>NaN</td>\n      <td>Sitta europaea</td>\n      <td>/media/jacek/E753-A120/xeno-canto/391049.mp3</td>\n    </tr>\n    <tr>\n      <th>70153</th>\n      <td>70153</td>\n      <td>701523</td>\n      <td>Nycticorax</td>\n      <td>nycticorax</td>\n      <td>NaN</td>\n      <td>birds</td>\n      <td>Black-crowned Night Heron</td>\n      <td>Dominique Guillerme</td>\n      <td>France</td>\n      <td>Chassey, Côte-d'Or, Bourgogne-Franche-Comté</td>\n      <td>...</td>\n      <td>NaN</td>\n      <td>NaN</td>\n      <td>NaN</td>\n      <td>NaN</td>\n      <td>NaN</td>\n      <td>NaN</td>\n      <td>NaN</td>\n      <td>NaN</td>\n      <td>Nycticorax nycticorax</td>\n      <td>/media/jacek/E753-A120/xeno-canto/701523.mp3</td>\n    </tr>\n    <tr>\n      <th>7051</th>\n      <td>7051</td>\n      <td>590644</td>\n      <td>Bucephala</td>\n      <td>clangula</td>\n      <td>NaN</td>\n      <td>birds</td>\n      <td>Common Goldeneye</td>\n      <td>Simon Elliott</td>\n      <td>United Kingdom</td>\n      <td>Highland, Scotland</td>\n      <td>...</td>\n      <td>NaN</td>\n      <td>NaN</td>\n      <td>NaN</td>\n      <td>NaN</td>\n      <td>NaN</td>\n      <td>NaN</td>\n      <td>NaN</td>\n      <td>NaN</td>\n      <td>Bucephala clangula</td>\n      <td>/media/jacek/E753-A120/xeno-canto/590644.mp3</td>\n    </tr>\n    <tr>\n      <th>...</th>\n      <td>...</td>\n      <td>...</td>\n      <td>...</td>\n      <td>...</td>\n      <td>...</td>\n      <td>...</td>\n      <td>...</td>\n      <td>...</td>\n      <td>...</td>\n      <td>...</td>\n      <td>...</td>\n      <td>...</td>\n      <td>...</td>\n      <td>...</td>\n      <td>...</td>\n      <td>...</td>\n      <td>...</td>\n      <td>...</td>\n      <td>...</td>\n      <td>...</td>\n      <td>...</td>\n    </tr>\n    <tr>\n      <th>171045</th>\n      <td>171045</td>\n      <td>564408</td>\n      <td>Aegithalos</td>\n      <td>caudatus</td>\n      <td>NaN</td>\n      <td>birds</td>\n      <td>Long-tailed Tit</td>\n      <td>Falco</td>\n      <td>France</td>\n      <td>Montgardin, Hautes-Alpes, Provence-Alpes-Côte ...</td>\n      <td>...</td>\n      <td>NaN</td>\n      <td>NaN</td>\n      <td>NaN</td>\n      <td>NaN</td>\n      <td>NaN</td>\n      <td>NaN</td>\n      <td>NaN</td>\n      <td>NaN</td>\n      <td>Aegithalos caudatus</td>\n      <td>/media/jacek/E753-A120/xeno-canto/564408.mp3</td>\n    </tr>\n    <tr>\n      <th>107631</th>\n      <td>107631</td>\n      <td>87701</td>\n      <td>Coloeus</td>\n      <td>monedula</td>\n      <td>NaN</td>\n      <td>birds</td>\n      <td>Western Jackdaw</td>\n      <td>Volker Arnold</td>\n      <td>Germany</td>\n      <td>Heide-Ruesdorf, Dithmarschen, Schleswig-Holstein</td>\n      <td>...</td>\n      <td>44100</td>\n      <td>NaN</td>\n      <td>NaN</td>\n      <td>NaN</td>\n      <td>NaN</td>\n      <td>NaN</td>\n      <td>NaN</td>\n      <td>NaN</td>\n      <td>Coloeus monedula</td>\n      <td>/media/jacek/E753-A120/xeno-canto/87701.mp3</td>\n    </tr>\n    <tr>\n      <th>242467</th>\n      <td>242467</td>\n      <td>284310</td>\n      <td>Anthus</td>\n      <td>pratensis</td>\n      <td>NaN</td>\n      <td>birds</td>\n      <td>Meadow Pipit</td>\n      <td>Joost van Bruggen</td>\n      <td>Netherlands</td>\n      <td>Arnhem, Arnhem, Gelderland</td>\n      <td>...</td>\n      <td>NaN</td>\n      <td>NaN</td>\n      <td>NaN</td>\n      <td>NaN</td>\n      <td>NaN</td>\n      <td>NaN</td>\n      <td>NaN</td>\n      <td>NaN</td>\n      <td>Anthus pratensis</td>\n      <td>/media/jacek/E753-A120/xeno-canto/284310.mp3</td>\n    </tr>\n    <tr>\n      <th>10809</th>\n      <td>10809</td>\n      <td>183095</td>\n      <td>Anas</td>\n      <td>platyrhynchos</td>\n      <td>NaN</td>\n      <td>birds</td>\n      <td>Mallard</td>\n      <td>Albert Lastukhin</td>\n      <td>Kazakhstan</td>\n      <td>Shieli District, Kyzylorda Province</td>\n      <td>...</td>\n      <td>NaN</td>\n      <td>NaN</td>\n      <td>NaN</td>\n      <td>NaN</td>\n      <td>NaN</td>\n      <td>NaN</td>\n      <td>NaN</td>\n      <td>NaN</td>\n      <td>Anas platyrhynchos</td>\n      <td>/media/jacek/E753-A120/xeno-canto/183095.mp3</td>\n    </tr>\n    <tr>\n      <th>104618</th>\n      <td>104618</td>\n      <td>642766</td>\n      <td>Garrulus</td>\n      <td>glandarius</td>\n      <td>NaN</td>\n      <td>birds</td>\n      <td>Eurasian Jay</td>\n      <td>Somkiat Pakapinyo (Chai)</td>\n      <td>Thailand</td>\n      <td>Tambon Nikhom Phatthana, Amphoe Mueang Lampang...</td>\n      <td>...</td>\n      <td>NaN</td>\n      <td>NaN</td>\n      <td>NaN</td>\n      <td>NaN</td>\n      <td>NaN</td>\n      <td>NaN</td>\n      <td>NaN</td>\n      <td>NaN</td>\n      <td>Garrulus glandarius</td>\n      <td>/media/jacek/E753-A120/xeno-canto/642766.mp3</td>\n    </tr>\n  </tbody>\n</table>\n<p>100 rows × 54 columns</p>\n</div>"
     },
     "execution_count": 2,
     "metadata": {},
     "output_type": "execute_result"
    }
   ],
   "source": [
    "df = initial_filter()\n",
    "sample = df.sample(n = 100, random_state=123)\n",
    "sample['filepath'] = df.apply(lambda x: f\"{SOURCE}{str(x['id'])}.mp3\" , axis=1)\n",
    "sample"
   ],
   "metadata": {
    "collapsed": false,
    "ExecuteTime": {
     "end_time": "2023-11-03T22:22:51.368168592Z",
     "start_time": "2023-11-03T22:22:40.551373047Z"
    }
   },
   "id": "146cf874bbcd13d0"
  },
  {
   "cell_type": "markdown",
   "source": [
    "## Copy sample of 100 files to a folder"
   ],
   "metadata": {
    "collapsed": false
   },
   "id": "3367a5c057a81fa2"
  },
  {
   "cell_type": "code",
   "execution_count": 3,
   "outputs": [],
   "source": [
    "for filepath in sample['filepath']:\n",
    "    shutil.copy(filepath, DST_MP3 + filepath.split(sep = '/')[-1])"
   ],
   "metadata": {
    "collapsed": false,
    "ExecuteTime": {
     "end_time": "2023-11-03T22:22:55.182756189Z",
     "start_time": "2023-11-03T22:22:51.355484324Z"
    }
   },
   "id": "71a9d58621a33790"
  },
  {
   "cell_type": "markdown",
   "source": [
    "## Convert to .ogg"
   ],
   "metadata": {
    "collapsed": false
   },
   "id": "c797ae62bfade1fd"
  },
  {
   "cell_type": "code",
   "execution_count": 4,
   "outputs": [],
   "source": [
    "import os\n",
    "from pydub import AudioSegment\n",
    "\n",
    "src = DST_MP3 \n",
    "dst = DST_OGG\n",
    "\n",
    "files = os.listdir(src)\n",
    "for file in files:\n",
    "    name = file.split(\".\")[0]\n",
    "    if name != '':\n",
    "        try:\n",
    "            sound = AudioSegment.from_file(f\"{src}/{name}.mp3\")\n",
    "            sound.export(f\"{dst}/{name}.mp3\", format=\"mp3\")\n",
    "        except:\n",
    "            print(\"Error\")"
   ],
   "metadata": {
    "collapsed": false,
    "ExecuteTime": {
     "end_time": "2023-11-03T22:26:26.990132480Z",
     "start_time": "2023-11-03T22:23:24.571472420Z"
    }
   },
   "id": "e8f6ce0534358c27"
  },
  {
   "cell_type": "markdown",
   "source": [
    "#### Time of execution: 3 minutes, 3 seconds\n",
    "#### ogg folder size: 76 MB\n",
    "#### mp3 folder size: 224,4MB"
   ],
   "metadata": {
    "collapsed": false
   },
   "id": "e5bf586642fe4ec7"
  },
  {
   "cell_type": "code",
   "execution_count": 6,
   "outputs": [],
   "source": [
    "import librosa\n",
    "import os\n",
    "from birdclassification.preprocessing.utils import timer\n",
    "\n",
    "@timer\n",
    "def read_ogg():\n",
    "    file_list = os.listdir(DST_OGG)\n",
    "    for file in file_list:\n",
    "        filepath = DST_OGG + file\n",
    "        audio, sr = librosa.load(filepath)\n",
    "\n",
    "@timer\n",
    "def read_mp3():\n",
    "    file_list = os.listdir(DST_MP3)\n",
    "    for file in file_list:\n",
    "        filepath = DST_MP3 + file\n",
    "        audio, sr = librosa.load(filepath)"
   ],
   "metadata": {
    "collapsed": false,
    "ExecuteTime": {
     "end_time": "2023-11-03T22:55:48.489670148Z",
     "start_time": "2023-11-03T22:55:48.483186261Z"
    }
   },
   "id": "7be17da04ea0297c"
  },
  {
   "cell_type": "code",
   "execution_count": 32,
   "outputs": [
    {
     "name": "stderr",
     "output_type": "stream",
     "text": [
      "Note: Illegal Audio-MPEG-Header 0x494f4e00 at offset 397500.\n",
      "Note: Trying to resync...\n",
      "Note: Hit end of (available) data during resync.\n",
      "Note: Illegal Audio-MPEG-Header 0x52450050 at offset 1271767.\n",
      "Note: Trying to resync...\n",
      "Note: Hit end of (available) data during resync.\n",
      "Warning: Xing stream size off by more than 1%, fuzzy seeking may be even more fuzzy than by design!\n"
     ]
    },
    {
     "name": "stdout",
     "output_type": "stream",
     "text": [
      "Function: 'read_mp3', execution time: 22.7945396900177\n"
     ]
    }
   ],
   "source": [
    "read_mp3()"
   ],
   "metadata": {
    "collapsed": false,
    "ExecuteTime": {
     "end_time": "2023-11-03T22:15:41.661629435Z",
     "start_time": "2023-11-03T22:15:18.865142807Z"
    }
   },
   "id": "394e31151d7ca24"
  },
  {
   "cell_type": "code",
   "execution_count": 33,
   "outputs": [
    {
     "name": "stdout",
     "output_type": "stream",
     "text": [
      "Function: 'read_ogg', execution time: 25.552635192871094\n"
     ]
    }
   ],
   "source": [
    "read_ogg()"
   ],
   "metadata": {
    "collapsed": false,
    "ExecuteTime": {
     "end_time": "2023-11-03T22:16:23.728492226Z",
     "start_time": "2023-11-03T22:15:58.133071452Z"
    }
   },
   "id": "be62e8160f61f128"
  },
  {
   "cell_type": "code",
   "execution_count": 7,
   "outputs": [
    {
     "name": "stdout",
     "output_type": "stream",
     "text": [
      "Function: 'read_mp3', execution time: 16.1896390914917\n"
     ]
    }
   ],
   "source": [
    "read_mp3()"
   ],
   "metadata": {
    "collapsed": false,
    "ExecuteTime": {
     "end_time": "2023-11-03T22:56:09.402081545Z",
     "start_time": "2023-11-03T22:55:53.165819766Z"
    }
   },
   "id": "e7960450d9b7b2b3"
  },
  {
   "cell_type": "code",
   "execution_count": null,
   "outputs": [],
   "source": [
    "audio = AudioSegment.from_file('Canon.mp3')\n",
    "audio.export('Canon2.mp3', bitrate='128k', format='mp3')"
   ],
   "metadata": {
    "collapsed": false
   },
   "id": "7772d112c5dcfc4b"
  }
 ],
 "metadata": {
  "kernelspec": {
   "display_name": "Python 3",
   "language": "python",
   "name": "python3"
  },
  "language_info": {
   "codemirror_mode": {
    "name": "ipython",
    "version": 2
   },
   "file_extension": ".py",
   "mimetype": "text/x-python",
   "name": "python",
   "nbconvert_exporter": "python",
   "pygments_lexer": "ipython2",
   "version": "2.7.6"
  }
 },
 "nbformat": 4,
 "nbformat_minor": 5
}
