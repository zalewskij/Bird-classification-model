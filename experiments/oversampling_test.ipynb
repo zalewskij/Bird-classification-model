{
 "cells": [
  {
   "cell_type": "code",
   "execution_count": 25,
   "outputs": [],
   "source": [
    "import pandas as pd\n",
    "from imblearn.over_sampling import RandomOverSampler\n",
    "import torch\n",
    "from birdclassification.preprocessing.filtering import filter_recordings_30\n",
    "from sklearn.model_selection import train_test_split\n",
    "from birdclassification.training.dataset import Recordings30\n",
    "\n",
    "df = pd.DataFrame({\n",
    "    'feature1': [1, 2, 3, 4, 5, 6, 7, 8, 9, 10, 11, 12, 13],\n",
    "    'target': [1, 1, 1, 1, 1, 0, 1, 1, 1, 1, 2, 2, 2]\n",
    "})\n",
    " \n",
    "X = df.drop('target', axis=1).values\n",
    "y = df['target'].values"
   ],
   "metadata": {
    "collapsed": false,
    "ExecuteTime": {
     "end_time": "2024-01-04T19:00:14.247690066Z",
     "start_time": "2024-01-04T19:00:14.106741616Z"
    }
   },
   "id": "22313a0e5d7d852a"
  },
  {
   "cell_type": "markdown",
   "source": [
    "## Initial distribution"
   ],
   "metadata": {
    "collapsed": false
   },
   "id": "6286b6be2317227a"
  },
  {
   "cell_type": "code",
   "execution_count": 26,
   "outputs": [
    {
     "data": {
      "text/plain": "     0  label\n0    1      1\n1    2      1\n2    3      1\n3    4      1\n4    5      1\n5    6      0\n6    7      1\n7    8      1\n8    9      1\n9   10      1\n10  11      2\n11  12      2\n12  13      2",
      "text/html": "<div>\n<style scoped>\n    .dataframe tbody tr th:only-of-type {\n        vertical-align: middle;\n    }\n\n    .dataframe tbody tr th {\n        vertical-align: top;\n    }\n\n    .dataframe thead th {\n        text-align: right;\n    }\n</style>\n<table border=\"1\" class=\"dataframe\">\n  <thead>\n    <tr style=\"text-align: right;\">\n      <th></th>\n      <th>0</th>\n      <th>label</th>\n    </tr>\n  </thead>\n  <tbody>\n    <tr>\n      <th>0</th>\n      <td>1</td>\n      <td>1</td>\n    </tr>\n    <tr>\n      <th>1</th>\n      <td>2</td>\n      <td>1</td>\n    </tr>\n    <tr>\n      <th>2</th>\n      <td>3</td>\n      <td>1</td>\n    </tr>\n    <tr>\n      <th>3</th>\n      <td>4</td>\n      <td>1</td>\n    </tr>\n    <tr>\n      <th>4</th>\n      <td>5</td>\n      <td>1</td>\n    </tr>\n    <tr>\n      <th>5</th>\n      <td>6</td>\n      <td>0</td>\n    </tr>\n    <tr>\n      <th>6</th>\n      <td>7</td>\n      <td>1</td>\n    </tr>\n    <tr>\n      <th>7</th>\n      <td>8</td>\n      <td>1</td>\n    </tr>\n    <tr>\n      <th>8</th>\n      <td>9</td>\n      <td>1</td>\n    </tr>\n    <tr>\n      <th>9</th>\n      <td>10</td>\n      <td>1</td>\n    </tr>\n    <tr>\n      <th>10</th>\n      <td>11</td>\n      <td>2</td>\n    </tr>\n    <tr>\n      <th>11</th>\n      <td>12</td>\n      <td>2</td>\n    </tr>\n    <tr>\n      <th>12</th>\n      <td>13</td>\n      <td>2</td>\n    </tr>\n  </tbody>\n</table>\n</div>"
     },
     "execution_count": 26,
     "metadata": {},
     "output_type": "execute_result"
    }
   ],
   "source": [
    "df = pd.DataFrame(X).assign(label = y)\n",
    "df"
   ],
   "metadata": {
    "collapsed": false,
    "ExecuteTime": {
     "end_time": "2024-01-04T19:00:14.325621572Z",
     "start_time": "2024-01-04T19:00:14.125322288Z"
    }
   },
   "id": "85d7ab4f7033e43a"
  },
  {
   "cell_type": "code",
   "execution_count": 27,
   "outputs": [
    {
     "data": {
      "text/plain": "       0\nlabel   \n0      1\n1      9\n2      3",
      "text/html": "<div>\n<style scoped>\n    .dataframe tbody tr th:only-of-type {\n        vertical-align: middle;\n    }\n\n    .dataframe tbody tr th {\n        vertical-align: top;\n    }\n\n    .dataframe thead th {\n        text-align: right;\n    }\n</style>\n<table border=\"1\" class=\"dataframe\">\n  <thead>\n    <tr style=\"text-align: right;\">\n      <th></th>\n      <th>0</th>\n    </tr>\n    <tr>\n      <th>label</th>\n      <th></th>\n    </tr>\n  </thead>\n  <tbody>\n    <tr>\n      <th>0</th>\n      <td>1</td>\n    </tr>\n    <tr>\n      <th>1</th>\n      <td>9</td>\n    </tr>\n    <tr>\n      <th>2</th>\n      <td>3</td>\n    </tr>\n  </tbody>\n</table>\n</div>"
     },
     "execution_count": 27,
     "metadata": {},
     "output_type": "execute_result"
    }
   ],
   "source": [
    "x = df.groupby(['label']).count()\n",
    "x"
   ],
   "metadata": {
    "collapsed": false,
    "ExecuteTime": {
     "end_time": "2024-01-04T19:00:14.346233053Z",
     "start_time": "2024-01-04T19:00:14.143584033Z"
    }
   },
   "id": "c158511ae3fb07a8"
  },
  {
   "cell_type": "markdown",
   "source": [
    "## Resampled distribution (oversample to majority class)"
   ],
   "metadata": {
    "collapsed": false
   },
   "id": "472d0b84b6930bdb"
  },
  {
   "cell_type": "code",
   "execution_count": 28,
   "outputs": [],
   "source": [
    "ros = RandomOverSampler(random_state=123, sampling_strategy='not majority')\n",
    "X_resampled, y_resampled = ros.fit_resample(X, y)"
   ],
   "metadata": {
    "collapsed": false,
    "ExecuteTime": {
     "end_time": "2024-01-04T19:00:14.346519124Z",
     "start_time": "2024-01-04T19:00:14.183761382Z"
    }
   },
   "id": "e7d924c534477ccd"
  },
  {
   "cell_type": "code",
   "execution_count": 29,
   "outputs": [
    {
     "data": {
      "text/plain": "     0  label\n0    1      1\n1    2      1\n2    3      1\n3    4      1\n4    5      1\n5    6      0\n6    7      1\n7    8      1\n8    9      1\n9   10      1\n10  11      2\n11  12      2\n12  13      2\n13   6      0\n14   6      0\n15   6      0\n16   6      0\n17   6      0\n18   6      0\n19   6      0\n20   6      0\n21  13      2\n22  12      2\n23  13      2\n24  13      2\n25  11      2\n26  13      2",
      "text/html": "<div>\n<style scoped>\n    .dataframe tbody tr th:only-of-type {\n        vertical-align: middle;\n    }\n\n    .dataframe tbody tr th {\n        vertical-align: top;\n    }\n\n    .dataframe thead th {\n        text-align: right;\n    }\n</style>\n<table border=\"1\" class=\"dataframe\">\n  <thead>\n    <tr style=\"text-align: right;\">\n      <th></th>\n      <th>0</th>\n      <th>label</th>\n    </tr>\n  </thead>\n  <tbody>\n    <tr>\n      <th>0</th>\n      <td>1</td>\n      <td>1</td>\n    </tr>\n    <tr>\n      <th>1</th>\n      <td>2</td>\n      <td>1</td>\n    </tr>\n    <tr>\n      <th>2</th>\n      <td>3</td>\n      <td>1</td>\n    </tr>\n    <tr>\n      <th>3</th>\n      <td>4</td>\n      <td>1</td>\n    </tr>\n    <tr>\n      <th>4</th>\n      <td>5</td>\n      <td>1</td>\n    </tr>\n    <tr>\n      <th>5</th>\n      <td>6</td>\n      <td>0</td>\n    </tr>\n    <tr>\n      <th>6</th>\n      <td>7</td>\n      <td>1</td>\n    </tr>\n    <tr>\n      <th>7</th>\n      <td>8</td>\n      <td>1</td>\n    </tr>\n    <tr>\n      <th>8</th>\n      <td>9</td>\n      <td>1</td>\n    </tr>\n    <tr>\n      <th>9</th>\n      <td>10</td>\n      <td>1</td>\n    </tr>\n    <tr>\n      <th>10</th>\n      <td>11</td>\n      <td>2</td>\n    </tr>\n    <tr>\n      <th>11</th>\n      <td>12</td>\n      <td>2</td>\n    </tr>\n    <tr>\n      <th>12</th>\n      <td>13</td>\n      <td>2</td>\n    </tr>\n    <tr>\n      <th>13</th>\n      <td>6</td>\n      <td>0</td>\n    </tr>\n    <tr>\n      <th>14</th>\n      <td>6</td>\n      <td>0</td>\n    </tr>\n    <tr>\n      <th>15</th>\n      <td>6</td>\n      <td>0</td>\n    </tr>\n    <tr>\n      <th>16</th>\n      <td>6</td>\n      <td>0</td>\n    </tr>\n    <tr>\n      <th>17</th>\n      <td>6</td>\n      <td>0</td>\n    </tr>\n    <tr>\n      <th>18</th>\n      <td>6</td>\n      <td>0</td>\n    </tr>\n    <tr>\n      <th>19</th>\n      <td>6</td>\n      <td>0</td>\n    </tr>\n    <tr>\n      <th>20</th>\n      <td>6</td>\n      <td>0</td>\n    </tr>\n    <tr>\n      <th>21</th>\n      <td>13</td>\n      <td>2</td>\n    </tr>\n    <tr>\n      <th>22</th>\n      <td>12</td>\n      <td>2</td>\n    </tr>\n    <tr>\n      <th>23</th>\n      <td>13</td>\n      <td>2</td>\n    </tr>\n    <tr>\n      <th>24</th>\n      <td>13</td>\n      <td>2</td>\n    </tr>\n    <tr>\n      <th>25</th>\n      <td>11</td>\n      <td>2</td>\n    </tr>\n    <tr>\n      <th>26</th>\n      <td>13</td>\n      <td>2</td>\n    </tr>\n  </tbody>\n</table>\n</div>"
     },
     "execution_count": 29,
     "metadata": {},
     "output_type": "execute_result"
    }
   ],
   "source": [
    "df_r = pd.DataFrame(X_resampled).assign(label = y_resampled)\n",
    "df_r"
   ],
   "metadata": {
    "collapsed": false,
    "ExecuteTime": {
     "end_time": "2024-01-04T19:00:14.347163588Z",
     "start_time": "2024-01-04T19:00:14.186141405Z"
    }
   },
   "id": "27a4ecf50c330b36"
  },
  {
   "cell_type": "code",
   "execution_count": 30,
   "outputs": [
    {
     "data": {
      "text/plain": "       0\nlabel   \n0      9\n1      9\n2      9",
      "text/html": "<div>\n<style scoped>\n    .dataframe tbody tr th:only-of-type {\n        vertical-align: middle;\n    }\n\n    .dataframe tbody tr th {\n        vertical-align: top;\n    }\n\n    .dataframe thead th {\n        text-align: right;\n    }\n</style>\n<table border=\"1\" class=\"dataframe\">\n  <thead>\n    <tr style=\"text-align: right;\">\n      <th></th>\n      <th>0</th>\n    </tr>\n    <tr>\n      <th>label</th>\n      <th></th>\n    </tr>\n  </thead>\n  <tbody>\n    <tr>\n      <th>0</th>\n      <td>9</td>\n    </tr>\n    <tr>\n      <th>1</th>\n      <td>9</td>\n    </tr>\n    <tr>\n      <th>2</th>\n      <td>9</td>\n    </tr>\n  </tbody>\n</table>\n</div>"
     },
     "execution_count": 30,
     "metadata": {},
     "output_type": "execute_result"
    }
   ],
   "source": [
    "x = df_r.groupby(['label']).count()\n",
    "x"
   ],
   "metadata": {
    "collapsed": false,
    "ExecuteTime": {
     "end_time": "2024-01-04T19:00:14.348008472Z",
     "start_time": "2024-01-04T19:00:14.199480434Z"
    }
   },
   "id": "2ef66494a54c8aa9"
  },
  {
   "cell_type": "markdown",
   "source": [
    "## Resampled distribution (dictionary)"
   ],
   "metadata": {
    "collapsed": false
   },
   "id": "ddac761708d41315"
  },
  {
   "cell_type": "markdown",
   "source": [
    "### Fixed dictionary"
   ],
   "metadata": {
    "collapsed": false
   },
   "id": "b7f3c01bf5cab545"
  },
  {
   "cell_type": "code",
   "execution_count": 31,
   "outputs": [],
   "source": [
    "dict = {0:9, 1:9, 2:5}\n",
    "\n",
    "ros = RandomOverSampler(random_state=123, sampling_strategy=dict)\n",
    "X_resampled, y_resampled = ros.fit_resample(X, y)"
   ],
   "metadata": {
    "collapsed": false,
    "ExecuteTime": {
     "end_time": "2024-01-04T19:00:14.354708597Z",
     "start_time": "2024-01-04T19:00:14.214911378Z"
    }
   },
   "id": "afec3254dd0e0173"
  },
  {
   "cell_type": "code",
   "execution_count": 32,
   "outputs": [
    {
     "data": {
      "text/plain": "     0  label\n0    1      1\n1    2      1\n2    3      1\n3    4      1\n4    5      1\n5    6      0\n6    7      1\n7    8      1\n8    9      1\n9   10      1\n10  11      2\n11  12      2\n12  13      2\n13   6      0\n14   6      0\n15   6      0\n16   6      0\n17   6      0\n18   6      0\n19   6      0\n20   6      0\n21  13      2\n22  12      2",
      "text/html": "<div>\n<style scoped>\n    .dataframe tbody tr th:only-of-type {\n        vertical-align: middle;\n    }\n\n    .dataframe tbody tr th {\n        vertical-align: top;\n    }\n\n    .dataframe thead th {\n        text-align: right;\n    }\n</style>\n<table border=\"1\" class=\"dataframe\">\n  <thead>\n    <tr style=\"text-align: right;\">\n      <th></th>\n      <th>0</th>\n      <th>label</th>\n    </tr>\n  </thead>\n  <tbody>\n    <tr>\n      <th>0</th>\n      <td>1</td>\n      <td>1</td>\n    </tr>\n    <tr>\n      <th>1</th>\n      <td>2</td>\n      <td>1</td>\n    </tr>\n    <tr>\n      <th>2</th>\n      <td>3</td>\n      <td>1</td>\n    </tr>\n    <tr>\n      <th>3</th>\n      <td>4</td>\n      <td>1</td>\n    </tr>\n    <tr>\n      <th>4</th>\n      <td>5</td>\n      <td>1</td>\n    </tr>\n    <tr>\n      <th>5</th>\n      <td>6</td>\n      <td>0</td>\n    </tr>\n    <tr>\n      <th>6</th>\n      <td>7</td>\n      <td>1</td>\n    </tr>\n    <tr>\n      <th>7</th>\n      <td>8</td>\n      <td>1</td>\n    </tr>\n    <tr>\n      <th>8</th>\n      <td>9</td>\n      <td>1</td>\n    </tr>\n    <tr>\n      <th>9</th>\n      <td>10</td>\n      <td>1</td>\n    </tr>\n    <tr>\n      <th>10</th>\n      <td>11</td>\n      <td>2</td>\n    </tr>\n    <tr>\n      <th>11</th>\n      <td>12</td>\n      <td>2</td>\n    </tr>\n    <tr>\n      <th>12</th>\n      <td>13</td>\n      <td>2</td>\n    </tr>\n    <tr>\n      <th>13</th>\n      <td>6</td>\n      <td>0</td>\n    </tr>\n    <tr>\n      <th>14</th>\n      <td>6</td>\n      <td>0</td>\n    </tr>\n    <tr>\n      <th>15</th>\n      <td>6</td>\n      <td>0</td>\n    </tr>\n    <tr>\n      <th>16</th>\n      <td>6</td>\n      <td>0</td>\n    </tr>\n    <tr>\n      <th>17</th>\n      <td>6</td>\n      <td>0</td>\n    </tr>\n    <tr>\n      <th>18</th>\n      <td>6</td>\n      <td>0</td>\n    </tr>\n    <tr>\n      <th>19</th>\n      <td>6</td>\n      <td>0</td>\n    </tr>\n    <tr>\n      <th>20</th>\n      <td>6</td>\n      <td>0</td>\n    </tr>\n    <tr>\n      <th>21</th>\n      <td>13</td>\n      <td>2</td>\n    </tr>\n    <tr>\n      <th>22</th>\n      <td>12</td>\n      <td>2</td>\n    </tr>\n  </tbody>\n</table>\n</div>"
     },
     "execution_count": 32,
     "metadata": {},
     "output_type": "execute_result"
    }
   ],
   "source": [
    "df_r = pd.DataFrame(X_resampled).assign(label = y_resampled)\n",
    "df_r"
   ],
   "metadata": {
    "collapsed": false,
    "ExecuteTime": {
     "end_time": "2024-01-04T19:00:14.355657193Z",
     "start_time": "2024-01-04T19:00:14.224809347Z"
    }
   },
   "id": "64cfd213b791d265"
  },
  {
   "cell_type": "code",
   "execution_count": 33,
   "outputs": [
    {
     "data": {
      "text/plain": "       0\nlabel   \n0      9\n1      9\n2      5",
      "text/html": "<div>\n<style scoped>\n    .dataframe tbody tr th:only-of-type {\n        vertical-align: middle;\n    }\n\n    .dataframe tbody tr th {\n        vertical-align: top;\n    }\n\n    .dataframe thead th {\n        text-align: right;\n    }\n</style>\n<table border=\"1\" class=\"dataframe\">\n  <thead>\n    <tr style=\"text-align: right;\">\n      <th></th>\n      <th>0</th>\n    </tr>\n    <tr>\n      <th>label</th>\n      <th></th>\n    </tr>\n  </thead>\n  <tbody>\n    <tr>\n      <th>0</th>\n      <td>9</td>\n    </tr>\n    <tr>\n      <th>1</th>\n      <td>9</td>\n    </tr>\n    <tr>\n      <th>2</th>\n      <td>5</td>\n    </tr>\n  </tbody>\n</table>\n</div>"
     },
     "execution_count": 33,
     "metadata": {},
     "output_type": "execute_result"
    }
   ],
   "source": [
    "x =df_r.groupby(['label']).count()\n",
    "x"
   ],
   "metadata": {
    "collapsed": false,
    "ExecuteTime": {
     "end_time": "2024-01-04T19:00:14.357067694Z",
     "start_time": "2024-01-04T19:00:14.238974121Z"
    }
   },
   "id": "8dc56b66a755bf6b"
  },
  {
   "cell_type": "markdown",
   "source": [
    "### Resample to max(number of elements in class, threshold n_sample)"
   ],
   "metadata": {
    "collapsed": false
   },
   "id": "3b01b726bb64b41f"
  },
  {
   "cell_type": "code",
   "execution_count": 34,
   "outputs": [
    {
     "data": {
      "text/plain": "{0: 5, 1: 9, 2: 5}"
     },
     "execution_count": 34,
     "metadata": {},
     "output_type": "execute_result"
    }
   ],
   "source": [
    "dist = df.groupby('label').count()\n",
    "n_sample = 5\n",
    "dist_dict = {}\n",
    "\n",
    "for i in range(len(dist.index)):\n",
    "    dist_dict[i] = max(dist.iloc[i, 0], n_sample)\n",
    "\n",
    "dist_dict"
   ],
   "metadata": {
    "collapsed": false,
    "ExecuteTime": {
     "end_time": "2024-01-04T19:00:14.394212524Z",
     "start_time": "2024-01-04T19:00:14.255673194Z"
    }
   },
   "id": "36398d615a8ce20c"
  },
  {
   "cell_type": "code",
   "execution_count": 35,
   "outputs": [],
   "source": [
    "ros = RandomOverSampler(random_state=123, sampling_strategy=dist_dict)\n",
    "X_resampled, y_resampled = ros.fit_resample(X, y)"
   ],
   "metadata": {
    "collapsed": false,
    "ExecuteTime": {
     "end_time": "2024-01-04T19:00:14.394517231Z",
     "start_time": "2024-01-04T19:00:14.299761163Z"
    }
   },
   "id": "1bed9f2d54a1ffb0"
  },
  {
   "cell_type": "code",
   "execution_count": 36,
   "outputs": [
    {
     "data": {
      "text/plain": "     0  label\n0    1      1\n1    2      1\n2    3      1\n3    4      1\n4    5      1\n5    6      0\n6    7      1\n7    8      1\n8    9      1\n9   10      1\n10  11      2\n11  12      2\n12  13      2\n13   6      0\n14   6      0\n15   6      0\n16   6      0\n17  13      2\n18  12      2",
      "text/html": "<div>\n<style scoped>\n    .dataframe tbody tr th:only-of-type {\n        vertical-align: middle;\n    }\n\n    .dataframe tbody tr th {\n        vertical-align: top;\n    }\n\n    .dataframe thead th {\n        text-align: right;\n    }\n</style>\n<table border=\"1\" class=\"dataframe\">\n  <thead>\n    <tr style=\"text-align: right;\">\n      <th></th>\n      <th>0</th>\n      <th>label</th>\n    </tr>\n  </thead>\n  <tbody>\n    <tr>\n      <th>0</th>\n      <td>1</td>\n      <td>1</td>\n    </tr>\n    <tr>\n      <th>1</th>\n      <td>2</td>\n      <td>1</td>\n    </tr>\n    <tr>\n      <th>2</th>\n      <td>3</td>\n      <td>1</td>\n    </tr>\n    <tr>\n      <th>3</th>\n      <td>4</td>\n      <td>1</td>\n    </tr>\n    <tr>\n      <th>4</th>\n      <td>5</td>\n      <td>1</td>\n    </tr>\n    <tr>\n      <th>5</th>\n      <td>6</td>\n      <td>0</td>\n    </tr>\n    <tr>\n      <th>6</th>\n      <td>7</td>\n      <td>1</td>\n    </tr>\n    <tr>\n      <th>7</th>\n      <td>8</td>\n      <td>1</td>\n    </tr>\n    <tr>\n      <th>8</th>\n      <td>9</td>\n      <td>1</td>\n    </tr>\n    <tr>\n      <th>9</th>\n      <td>10</td>\n      <td>1</td>\n    </tr>\n    <tr>\n      <th>10</th>\n      <td>11</td>\n      <td>2</td>\n    </tr>\n    <tr>\n      <th>11</th>\n      <td>12</td>\n      <td>2</td>\n    </tr>\n    <tr>\n      <th>12</th>\n      <td>13</td>\n      <td>2</td>\n    </tr>\n    <tr>\n      <th>13</th>\n      <td>6</td>\n      <td>0</td>\n    </tr>\n    <tr>\n      <th>14</th>\n      <td>6</td>\n      <td>0</td>\n    </tr>\n    <tr>\n      <th>15</th>\n      <td>6</td>\n      <td>0</td>\n    </tr>\n    <tr>\n      <th>16</th>\n      <td>6</td>\n      <td>0</td>\n    </tr>\n    <tr>\n      <th>17</th>\n      <td>13</td>\n      <td>2</td>\n    </tr>\n    <tr>\n      <th>18</th>\n      <td>12</td>\n      <td>2</td>\n    </tr>\n  </tbody>\n</table>\n</div>"
     },
     "execution_count": 36,
     "metadata": {},
     "output_type": "execute_result"
    }
   ],
   "source": [
    "df_r = pd.DataFrame(X_resampled).assign(label = y_resampled)\n",
    "df_r"
   ],
   "metadata": {
    "collapsed": false,
    "ExecuteTime": {
     "end_time": "2024-01-04T19:00:14.395235656Z",
     "start_time": "2024-01-04T19:00:14.299927405Z"
    }
   },
   "id": "7202a78e7c79d14e"
  },
  {
   "cell_type": "code",
   "execution_count": 37,
   "outputs": [
    {
     "data": {
      "text/plain": "       0\nlabel   \n0      5\n1      9\n2      5",
      "text/html": "<div>\n<style scoped>\n    .dataframe tbody tr th:only-of-type {\n        vertical-align: middle;\n    }\n\n    .dataframe tbody tr th {\n        vertical-align: top;\n    }\n\n    .dataframe thead th {\n        text-align: right;\n    }\n</style>\n<table border=\"1\" class=\"dataframe\">\n  <thead>\n    <tr style=\"text-align: right;\">\n      <th></th>\n      <th>0</th>\n    </tr>\n    <tr>\n      <th>label</th>\n      <th></th>\n    </tr>\n  </thead>\n  <tbody>\n    <tr>\n      <th>0</th>\n      <td>5</td>\n    </tr>\n    <tr>\n      <th>1</th>\n      <td>9</td>\n    </tr>\n    <tr>\n      <th>2</th>\n      <td>5</td>\n    </tr>\n  </tbody>\n</table>\n</div>"
     },
     "execution_count": 37,
     "metadata": {},
     "output_type": "execute_result"
    }
   ],
   "source": [
    "x =df_r.groupby(['label']).count()\n",
    "x"
   ],
   "metadata": {
    "collapsed": false,
    "ExecuteTime": {
     "end_time": "2024-01-04T19:00:14.395863912Z",
     "start_time": "2024-01-04T19:00:14.300039466Z"
    }
   },
   "id": "7d99bd4a42ff51c0"
  },
  {
   "cell_type": "markdown",
   "source": [
    "## Recording dataset"
   ],
   "metadata": {
    "collapsed": false
   },
   "id": "45fa39c903353082"
  },
  {
   "cell_type": "code",
   "execution_count": 38,
   "outputs": [
    {
     "name": "stderr",
     "output_type": "stream",
     "text": [
      "/home/jacek/Documents/PycharmProjects/Bird-classification-model/birdclassification/preprocessing/filtering.py:72: DtypeWarning: Columns (10,39,43,44,45,46,47,48) have mixed types. Specify dtype option on import or set low_memory=False.\n",
      "  recordings = pd.read_csv(filepath_recordings)\n"
     ]
    }
   ],
   "source": [
    "DEVICE = \"cuda\" if torch.cuda.is_available() else \"cpu\"\n",
    "SEED = 123\n",
    "#RECORDINGS_DIR = '/mnt/d/recordings_30/'\n",
    "RECORDINGS_DIR = '/media/jacek/E753-A120/recordings_287/'\n",
    "NOISES_DIR = '/path/to/noise/dataset'\n",
    "SAMPLE_RATE = 32000\n",
    "NUM_SAMPLES = SAMPLE_RATE * 1\n",
    "BATCH_SIZE = 32\n",
    "LEARNING_RATE = 0.0001\n",
    "EPOCHS = 5\n",
    "NUM_WORKERS = 8\n",
    "\n",
    "df = filter_recordings_30(\"../data/xeno_canto_recordings.csv\", \"../data/bird-list-extended.csv\")\n",
    "train_df, test_val_df = train_test_split(df, stratify=df['Latin name'], test_size=0.2, random_state = SEED)\n",
    "val_df, test_df = train_test_split(test_val_df, stratify=test_val_df['Latin name'], test_size=0.5, random_state = SEED)\n",
    "\n",
    "train_ds = Recordings30(train_df, recording_dir=RECORDINGS_DIR, device = DEVICE, random_fragment=True)\n",
    "val_ds = Recordings30(val_df, recording_dir=RECORDINGS_DIR, device = DEVICE)\n",
    "test_ds = Recordings30(test_df, recording_dir=RECORDINGS_DIR, device = DEVICE)"
   ],
   "metadata": {
    "collapsed": false,
    "ExecuteTime": {
     "end_time": "2024-01-04T19:00:21.062507589Z",
     "start_time": "2024-01-04T19:00:14.306887252Z"
    }
   },
   "id": "858010ce00561b7d"
  },
  {
   "cell_type": "code",
   "execution_count": 39,
   "outputs": [
    {
     "data": {
      "text/plain": "       level_0   index  Unnamed: 0      id      gen     sp        ssp  group  \\\n0            0       5           5  815762   Cygnus   olor        NaN  birds   \n1            1       6           6  808540   Cygnus   olor        NaN  birds   \n2            2       7           7  805048   Cygnus   olor        NaN  birds   \n3            3       8           8  804791   Cygnus   olor        NaN  birds   \n4            4       9           9  797609   Cygnus   olor        NaN  birds   \n...        ...     ...         ...     ...      ...    ...        ...    ...   \n41204    41205  296788      296788  108758  Columba  livia        NaN  birds   \n41205    41206  296789      296789   58488  Columba  livia        NaN  birds   \n41206    41207  296790      296790    6924  Columba  livia  domestica  birds   \n41207    41208  296791      296791  387816  Columba  livia        NaN  birds   \n41208    41209  296792      296792  323560  Columba  livia        NaN  birds   \n\n              en                   rec  ...      smp Unnamed: 44 Unnamed: 45  \\\n0      Mute Swan      Frédéric Cazaban  ...    44100         NaN         NaN   \n1      Mute Swan            Juha Saari  ...    44100         NaN         NaN   \n2      Mute Swan      Magnus Hellström  ...    44100         NaN         NaN   \n3      Mute Swan              Uku Paal  ...    44100         NaN         NaN   \n4      Mute Swan          Jorge Leitão  ...    44100         NaN         NaN   \n...          ...                   ...  ...      ...         ...         ...   \n41204  Rock Dove   Albert Lastukhin     ...  44100.0         NaN         NaN   \n41205  Rock Dove           Mike Nelson  ...  44100.0         NaN         NaN   \n41206  Rock Dove  Glauco Alves Pereira  ...  22050.0         NaN         NaN   \n41207  Rock Dove         johannes buhl  ...  44100.0         NaN         NaN   \n41208  Rock Dove      Alfonso Auerbach  ...  44100.0         NaN         NaN   \n\n       Unnamed: 46 Unnamed: 47 Unnamed: 48 Unnamed: 49 Unnamed: 50  \\\n0              NaN         NaN         NaN         NaN         NaN   \n1              NaN         NaN         NaN         NaN         NaN   \n2              NaN         NaN         NaN         NaN         NaN   \n3              NaN         NaN         NaN         NaN         NaN   \n4              NaN         NaN         NaN         NaN         NaN   \n...            ...         ...         ...         ...         ...   \n41204          NaN         NaN         NaN         NaN         NaN   \n41205          NaN         NaN         NaN         NaN         NaN   \n41206          NaN         NaN         NaN         NaN         NaN   \n41207          NaN         NaN         NaN         NaN         NaN   \n41208          NaN         NaN         NaN         NaN         NaN   \n\n      Unnamed: 51     Latin name  \n0             NaN    Cygnus olor  \n1             NaN    Cygnus olor  \n2             NaN    Cygnus olor  \n3             NaN    Cygnus olor  \n4             NaN    Cygnus olor  \n...           ...            ...  \n41204         NaN  Columba livia  \n41205         NaN  Columba livia  \n41206         NaN  Columba livia  \n41207         NaN  Columba livia  \n41208         NaN  Columba livia  \n\n[41209 rows x 55 columns]",
      "text/html": "<div>\n<style scoped>\n    .dataframe tbody tr th:only-of-type {\n        vertical-align: middle;\n    }\n\n    .dataframe tbody tr th {\n        vertical-align: top;\n    }\n\n    .dataframe thead th {\n        text-align: right;\n    }\n</style>\n<table border=\"1\" class=\"dataframe\">\n  <thead>\n    <tr style=\"text-align: right;\">\n      <th></th>\n      <th>level_0</th>\n      <th>index</th>\n      <th>Unnamed: 0</th>\n      <th>id</th>\n      <th>gen</th>\n      <th>sp</th>\n      <th>ssp</th>\n      <th>group</th>\n      <th>en</th>\n      <th>rec</th>\n      <th>...</th>\n      <th>smp</th>\n      <th>Unnamed: 44</th>\n      <th>Unnamed: 45</th>\n      <th>Unnamed: 46</th>\n      <th>Unnamed: 47</th>\n      <th>Unnamed: 48</th>\n      <th>Unnamed: 49</th>\n      <th>Unnamed: 50</th>\n      <th>Unnamed: 51</th>\n      <th>Latin name</th>\n    </tr>\n  </thead>\n  <tbody>\n    <tr>\n      <th>0</th>\n      <td>0</td>\n      <td>5</td>\n      <td>5</td>\n      <td>815762</td>\n      <td>Cygnus</td>\n      <td>olor</td>\n      <td>NaN</td>\n      <td>birds</td>\n      <td>Mute Swan</td>\n      <td>Frédéric Cazaban</td>\n      <td>...</td>\n      <td>44100</td>\n      <td>NaN</td>\n      <td>NaN</td>\n      <td>NaN</td>\n      <td>NaN</td>\n      <td>NaN</td>\n      <td>NaN</td>\n      <td>NaN</td>\n      <td>NaN</td>\n      <td>Cygnus olor</td>\n    </tr>\n    <tr>\n      <th>1</th>\n      <td>1</td>\n      <td>6</td>\n      <td>6</td>\n      <td>808540</td>\n      <td>Cygnus</td>\n      <td>olor</td>\n      <td>NaN</td>\n      <td>birds</td>\n      <td>Mute Swan</td>\n      <td>Juha Saari</td>\n      <td>...</td>\n      <td>44100</td>\n      <td>NaN</td>\n      <td>NaN</td>\n      <td>NaN</td>\n      <td>NaN</td>\n      <td>NaN</td>\n      <td>NaN</td>\n      <td>NaN</td>\n      <td>NaN</td>\n      <td>Cygnus olor</td>\n    </tr>\n    <tr>\n      <th>2</th>\n      <td>2</td>\n      <td>7</td>\n      <td>7</td>\n      <td>805048</td>\n      <td>Cygnus</td>\n      <td>olor</td>\n      <td>NaN</td>\n      <td>birds</td>\n      <td>Mute Swan</td>\n      <td>Magnus Hellström</td>\n      <td>...</td>\n      <td>44100</td>\n      <td>NaN</td>\n      <td>NaN</td>\n      <td>NaN</td>\n      <td>NaN</td>\n      <td>NaN</td>\n      <td>NaN</td>\n      <td>NaN</td>\n      <td>NaN</td>\n      <td>Cygnus olor</td>\n    </tr>\n    <tr>\n      <th>3</th>\n      <td>3</td>\n      <td>8</td>\n      <td>8</td>\n      <td>804791</td>\n      <td>Cygnus</td>\n      <td>olor</td>\n      <td>NaN</td>\n      <td>birds</td>\n      <td>Mute Swan</td>\n      <td>Uku Paal</td>\n      <td>...</td>\n      <td>44100</td>\n      <td>NaN</td>\n      <td>NaN</td>\n      <td>NaN</td>\n      <td>NaN</td>\n      <td>NaN</td>\n      <td>NaN</td>\n      <td>NaN</td>\n      <td>NaN</td>\n      <td>Cygnus olor</td>\n    </tr>\n    <tr>\n      <th>4</th>\n      <td>4</td>\n      <td>9</td>\n      <td>9</td>\n      <td>797609</td>\n      <td>Cygnus</td>\n      <td>olor</td>\n      <td>NaN</td>\n      <td>birds</td>\n      <td>Mute Swan</td>\n      <td>Jorge Leitão</td>\n      <td>...</td>\n      <td>44100</td>\n      <td>NaN</td>\n      <td>NaN</td>\n      <td>NaN</td>\n      <td>NaN</td>\n      <td>NaN</td>\n      <td>NaN</td>\n      <td>NaN</td>\n      <td>NaN</td>\n      <td>Cygnus olor</td>\n    </tr>\n    <tr>\n      <th>...</th>\n      <td>...</td>\n      <td>...</td>\n      <td>...</td>\n      <td>...</td>\n      <td>...</td>\n      <td>...</td>\n      <td>...</td>\n      <td>...</td>\n      <td>...</td>\n      <td>...</td>\n      <td>...</td>\n      <td>...</td>\n      <td>...</td>\n      <td>...</td>\n      <td>...</td>\n      <td>...</td>\n      <td>...</td>\n      <td>...</td>\n      <td>...</td>\n      <td>...</td>\n      <td>...</td>\n    </tr>\n    <tr>\n      <th>41204</th>\n      <td>41205</td>\n      <td>296788</td>\n      <td>296788</td>\n      <td>108758</td>\n      <td>Columba</td>\n      <td>livia</td>\n      <td>NaN</td>\n      <td>birds</td>\n      <td>Rock Dove</td>\n      <td>Albert Lastukhin</td>\n      <td>...</td>\n      <td>44100.0</td>\n      <td>NaN</td>\n      <td>NaN</td>\n      <td>NaN</td>\n      <td>NaN</td>\n      <td>NaN</td>\n      <td>NaN</td>\n      <td>NaN</td>\n      <td>NaN</td>\n      <td>Columba livia</td>\n    </tr>\n    <tr>\n      <th>41205</th>\n      <td>41206</td>\n      <td>296789</td>\n      <td>296789</td>\n      <td>58488</td>\n      <td>Columba</td>\n      <td>livia</td>\n      <td>NaN</td>\n      <td>birds</td>\n      <td>Rock Dove</td>\n      <td>Mike Nelson</td>\n      <td>...</td>\n      <td>44100.0</td>\n      <td>NaN</td>\n      <td>NaN</td>\n      <td>NaN</td>\n      <td>NaN</td>\n      <td>NaN</td>\n      <td>NaN</td>\n      <td>NaN</td>\n      <td>NaN</td>\n      <td>Columba livia</td>\n    </tr>\n    <tr>\n      <th>41206</th>\n      <td>41207</td>\n      <td>296790</td>\n      <td>296790</td>\n      <td>6924</td>\n      <td>Columba</td>\n      <td>livia</td>\n      <td>domestica</td>\n      <td>birds</td>\n      <td>Rock Dove</td>\n      <td>Glauco Alves Pereira</td>\n      <td>...</td>\n      <td>22050.0</td>\n      <td>NaN</td>\n      <td>NaN</td>\n      <td>NaN</td>\n      <td>NaN</td>\n      <td>NaN</td>\n      <td>NaN</td>\n      <td>NaN</td>\n      <td>NaN</td>\n      <td>Columba livia</td>\n    </tr>\n    <tr>\n      <th>41207</th>\n      <td>41208</td>\n      <td>296791</td>\n      <td>296791</td>\n      <td>387816</td>\n      <td>Columba</td>\n      <td>livia</td>\n      <td>NaN</td>\n      <td>birds</td>\n      <td>Rock Dove</td>\n      <td>johannes buhl</td>\n      <td>...</td>\n      <td>44100.0</td>\n      <td>NaN</td>\n      <td>NaN</td>\n      <td>NaN</td>\n      <td>NaN</td>\n      <td>NaN</td>\n      <td>NaN</td>\n      <td>NaN</td>\n      <td>NaN</td>\n      <td>Columba livia</td>\n    </tr>\n    <tr>\n      <th>41208</th>\n      <td>41209</td>\n      <td>296792</td>\n      <td>296792</td>\n      <td>323560</td>\n      <td>Columba</td>\n      <td>livia</td>\n      <td>NaN</td>\n      <td>birds</td>\n      <td>Rock Dove</td>\n      <td>Alfonso Auerbach</td>\n      <td>...</td>\n      <td>44100.0</td>\n      <td>NaN</td>\n      <td>NaN</td>\n      <td>NaN</td>\n      <td>NaN</td>\n      <td>NaN</td>\n      <td>NaN</td>\n      <td>NaN</td>\n      <td>NaN</td>\n      <td>Columba livia</td>\n    </tr>\n  </tbody>\n</table>\n<p>41209 rows × 55 columns</p>\n</div>"
     },
     "execution_count": 39,
     "metadata": {},
     "output_type": "execute_result"
    }
   ],
   "source": [
    "df"
   ],
   "metadata": {
    "collapsed": false,
    "ExecuteTime": {
     "end_time": "2024-01-04T19:00:21.101318174Z",
     "start_time": "2024-01-04T19:00:21.070563211Z"
    }
   },
   "id": "c9d331c3399facec"
  },
  {
   "cell_type": "code",
   "execution_count": 40,
   "outputs": [
    {
     "data": {
      "text/plain": "                       recordings number\nLatin name                              \nCiconia ciconia                      137\nTetrao urogallus                     150\nPhalacrocorax carbo                  210\nColumba livia                        218\nSternula albifrons                   356\nCygnus olor                          521\nPhasianus colchicus                  642\nCorvus frugilegus                    707\nApus apus                            708\nTurdus torquatus                     839\nLophophanes cristatus                934\nButeo buteo                          941\nGrus grus                            951\nPicus viridis                       1027\nAnas platyrhynchos                  1081\nPica pica                           1140\nTurdus viscivorus                   1197\nCorvus cornix                       1212\nAsio otus                           1265\nPhoenicurus ochruros                1334\nHirundo rustica                     1665\nSturnus vulgaris                    1703\nGarrulus glandarius                 1880\nCuculus canorus                     1942\nCarduelis carduelis                 2066\nCorvus corax                        2076\nDendrocopos major                   2454\nPasser domesticus                   2489\nAlauda arvensis                     2647\nTurdus merula                       6717",
      "text/html": "<div>\n<style scoped>\n    .dataframe tbody tr th:only-of-type {\n        vertical-align: middle;\n    }\n\n    .dataframe tbody tr th {\n        vertical-align: top;\n    }\n\n    .dataframe thead th {\n        text-align: right;\n    }\n</style>\n<table border=\"1\" class=\"dataframe\">\n  <thead>\n    <tr style=\"text-align: right;\">\n      <th></th>\n      <th>recordings number</th>\n    </tr>\n    <tr>\n      <th>Latin name</th>\n      <th></th>\n    </tr>\n  </thead>\n  <tbody>\n    <tr>\n      <th>Ciconia ciconia</th>\n      <td>137</td>\n    </tr>\n    <tr>\n      <th>Tetrao urogallus</th>\n      <td>150</td>\n    </tr>\n    <tr>\n      <th>Phalacrocorax carbo</th>\n      <td>210</td>\n    </tr>\n    <tr>\n      <th>Columba livia</th>\n      <td>218</td>\n    </tr>\n    <tr>\n      <th>Sternula albifrons</th>\n      <td>356</td>\n    </tr>\n    <tr>\n      <th>Cygnus olor</th>\n      <td>521</td>\n    </tr>\n    <tr>\n      <th>Phasianus colchicus</th>\n      <td>642</td>\n    </tr>\n    <tr>\n      <th>Corvus frugilegus</th>\n      <td>707</td>\n    </tr>\n    <tr>\n      <th>Apus apus</th>\n      <td>708</td>\n    </tr>\n    <tr>\n      <th>Turdus torquatus</th>\n      <td>839</td>\n    </tr>\n    <tr>\n      <th>Lophophanes cristatus</th>\n      <td>934</td>\n    </tr>\n    <tr>\n      <th>Buteo buteo</th>\n      <td>941</td>\n    </tr>\n    <tr>\n      <th>Grus grus</th>\n      <td>951</td>\n    </tr>\n    <tr>\n      <th>Picus viridis</th>\n      <td>1027</td>\n    </tr>\n    <tr>\n      <th>Anas platyrhynchos</th>\n      <td>1081</td>\n    </tr>\n    <tr>\n      <th>Pica pica</th>\n      <td>1140</td>\n    </tr>\n    <tr>\n      <th>Turdus viscivorus</th>\n      <td>1197</td>\n    </tr>\n    <tr>\n      <th>Corvus cornix</th>\n      <td>1212</td>\n    </tr>\n    <tr>\n      <th>Asio otus</th>\n      <td>1265</td>\n    </tr>\n    <tr>\n      <th>Phoenicurus ochruros</th>\n      <td>1334</td>\n    </tr>\n    <tr>\n      <th>Hirundo rustica</th>\n      <td>1665</td>\n    </tr>\n    <tr>\n      <th>Sturnus vulgaris</th>\n      <td>1703</td>\n    </tr>\n    <tr>\n      <th>Garrulus glandarius</th>\n      <td>1880</td>\n    </tr>\n    <tr>\n      <th>Cuculus canorus</th>\n      <td>1942</td>\n    </tr>\n    <tr>\n      <th>Carduelis carduelis</th>\n      <td>2066</td>\n    </tr>\n    <tr>\n      <th>Corvus corax</th>\n      <td>2076</td>\n    </tr>\n    <tr>\n      <th>Dendrocopos major</th>\n      <td>2454</td>\n    </tr>\n    <tr>\n      <th>Passer domesticus</th>\n      <td>2489</td>\n    </tr>\n    <tr>\n      <th>Alauda arvensis</th>\n      <td>2647</td>\n    </tr>\n    <tr>\n      <th>Turdus merula</th>\n      <td>6717</td>\n    </tr>\n  </tbody>\n</table>\n</div>"
     },
     "execution_count": 40,
     "metadata": {},
     "output_type": "execute_result"
    }
   ],
   "source": [
    "df_s = df[['Latin name', 'id']].astype(str)\n",
    "distribution_df = df_s.groupby('Latin name').count()\n",
    "distribution_df.columns = ['recordings number']\n",
    "distribution_df = distribution_df.sort_values('recordings number')\n",
    "distribution_df"
   ],
   "metadata": {
    "collapsed": false,
    "ExecuteTime": {
     "end_time": "2024-01-04T19:00:21.151696861Z",
     "start_time": "2024-01-04T19:00:21.115324080Z"
    }
   },
   "id": "3ad481f764cc5923"
  },
  {
   "cell_type": "code",
   "execution_count": 41,
   "outputs": [
    {
     "data": {
      "text/plain": "<Axes: ylabel='Frequency'>"
     },
     "execution_count": 41,
     "metadata": {},
     "output_type": "execute_result"
    },
    {
     "data": {
      "text/plain": "<Figure size 640x480 with 1 Axes>",
      "image/png": "[encoded data removed]"
     },
     "metadata": {},
     "output_type": "display_data"
    }
   ],
   "source": [
    "distribution_df.plot.hist(bins = 30)"
   ],
   "metadata": {
    "collapsed": false,
    "ExecuteTime": {
     "end_time": "2024-01-04T19:00:21.380909859Z",
     "start_time": "2024-01-04T19:00:21.148659516Z"
    }
   },
   "id": "841e36bdb4c15179"
  },
  {
   "cell_type": "code",
   "execution_count": 42,
   "outputs": [
    {
     "data": {
      "text/plain": "{'Alauda arvensis': 2647,\n 'Anas platyrhynchos': 1081,\n 'Apus apus': 1000,\n 'Asio otus': 1265,\n 'Buteo buteo': 1000,\n 'Carduelis carduelis': 2066,\n 'Ciconia ciconia': 1000,\n 'Columba livia': 1000,\n 'Corvus corax': 2076,\n 'Corvus cornix': 1212,\n 'Corvus frugilegus': 1000,\n 'Cuculus canorus': 1942,\n 'Cygnus olor': 1000,\n 'Dendrocopos major': 2454,\n 'Garrulus glandarius': 1880,\n 'Grus grus': 1000,\n 'Hirundo rustica': 1665,\n 'Lophophanes cristatus': 1000,\n 'Passer domesticus': 2489,\n 'Phalacrocorax carbo': 1000,\n 'Phasianus colchicus': 1000,\n 'Phoenicurus ochruros': 1334,\n 'Pica pica': 1140,\n 'Picus viridis': 1027,\n 'Sternula albifrons': 1000,\n 'Sturnus vulgaris': 1703,\n 'Tetrao urogallus': 1000,\n 'Turdus merula': 6717,\n 'Turdus torquatus': 1000,\n 'Turdus viscivorus': 1197}"
     },
     "execution_count": 42,
     "metadata": {},
     "output_type": "execute_result"
    }
   ],
   "source": [
    "dist = df.groupby('Latin name').count()\n",
    "n_sample = 1000\n",
    "dist_dict = {}\n",
    "\n",
    "for i in range(len(dist.index)):\n",
    "    dist_dict[train_ds.get_mapping()[i]] = max(dist.iloc[i, 0], n_sample)\n",
    "\n",
    "dist_dict"
   ],
   "metadata": {
    "collapsed": false,
    "ExecuteTime": {
     "end_time": "2024-01-04T19:00:21.564905992Z",
     "start_time": "2024-01-04T19:00:21.383751129Z"
    }
   },
   "id": "ae0c022c7c54d98a"
  },
  {
   "cell_type": "code",
   "execution_count": 43,
   "outputs": [],
   "source": [
    "X = df.drop('Latin name', axis=1).values\n",
    "y = df['Latin name'].values"
   ],
   "metadata": {
    "collapsed": false,
    "ExecuteTime": {
     "end_time": "2024-01-04T19:00:21.633919200Z",
     "start_time": "2024-01-04T19:00:21.568499397Z"
    }
   },
   "id": "656038c334c18a70"
  },
  {
   "cell_type": "code",
   "execution_count": 44,
   "outputs": [],
   "source": [
    "ros = RandomOverSampler(random_state=123, sampling_strategy=dist_dict)\n",
    "X_resampled, y_resampled = ros.fit_resample(X, y)"
   ],
   "metadata": {
    "collapsed": false,
    "ExecuteTime": {
     "end_time": "2024-01-04T19:00:21.772939387Z",
     "start_time": "2024-01-04T19:00:21.670668248Z"
    }
   },
   "id": "9ed63fd0db0d650d"
  },
  {
   "cell_type": "code",
   "execution_count": 45,
   "outputs": [
    {
     "data": {
      "text/plain": "      level_0   index Unnamed: 0      id     gen         sp        ssp  group  \\\n0           0       5          5  815762  Cygnus       olor        NaN  birds   \n1           1       6          6  808540  Cygnus       olor        NaN  birds   \n2           2       7          7  805048  Cygnus       olor        NaN  birds   \n3           3       8          8  804791  Cygnus       olor        NaN  birds   \n4           4       9          9  797609  Cygnus       olor        NaN  birds   \n...       ...     ...        ...     ...     ...        ...        ...    ...   \n46890   29222  229478     229478  595060  Turdus  torquatus        NaN  birds   \n46891   29311  229567     229567  390617  Turdus  torquatus        NaN  birds   \n46892   29289  229545     229545  478799  Turdus  torquatus        NaN  birds   \n46893   28990  229246     229246  177450  Turdus  torquatus  alpestris  birds   \n46894   29169  229425     229425  677596  Turdus  torquatus        NaN  birds   \n\n               en                   rec  ...    smp Unnamed: 44 Unnamed: 45  \\\n0       Mute Swan      Frédéric Cazaban  ...  44100         NaN         NaN   \n1       Mute Swan            Juha Saari  ...  44100         NaN         NaN   \n2       Mute Swan      Magnus Hellström  ...  44100         NaN         NaN   \n3       Mute Swan              Uku Paal  ...  44100         NaN         NaN   \n4       Mute Swan          Jorge Leitão  ...  44100         NaN         NaN   \n...           ...                   ...  ...    ...         ...         ...   \n46890  Ring Ouzel        Philippe Gayet  ...  44100         NaN         NaN   \n46891  Ring Ouzel          Lars Edenius  ...  48000         NaN         NaN   \n46892  Ring Ouzel        Simon Gillings  ...  32000         NaN         NaN   \n46893  Ring Ouzel        Jerome Fischer  ...  48000         NaN         NaN   \n46894  Ring Ouzel  Feliu López i Gelats  ...  44100         NaN         NaN   \n\n      Unnamed: 46 Unnamed: 47 Unnamed: 48 Unnamed: 49 Unnamed: 50 Unnamed: 51  \\\n0             NaN         NaN         NaN         NaN         NaN         NaN   \n1             NaN         NaN         NaN         NaN         NaN         NaN   \n2             NaN         NaN         NaN         NaN         NaN         NaN   \n3             NaN         NaN         NaN         NaN         NaN         NaN   \n4             NaN         NaN         NaN         NaN         NaN         NaN   \n...           ...         ...         ...         ...         ...         ...   \n46890         NaN         NaN         NaN         NaN         NaN         NaN   \n46891         NaN         NaN         NaN         NaN         NaN         NaN   \n46892         NaN         NaN         NaN         NaN         NaN         NaN   \n46893         NaN         NaN         NaN         NaN         NaN         NaN   \n46894         NaN         NaN         NaN         NaN         NaN         NaN   \n\n             Latin name  \n0           Cygnus olor  \n1           Cygnus olor  \n2           Cygnus olor  \n3           Cygnus olor  \n4           Cygnus olor  \n...                 ...  \n46890  Turdus torquatus  \n46891  Turdus torquatus  \n46892  Turdus torquatus  \n46893  Turdus torquatus  \n46894  Turdus torquatus  \n\n[46895 rows x 55 columns]",
      "text/html": "<div>\n<style scoped>\n    .dataframe tbody tr th:only-of-type {\n        vertical-align: middle;\n    }\n\n    .dataframe tbody tr th {\n        vertical-align: top;\n    }\n\n    .dataframe thead th {\n        text-align: right;\n    }\n</style>\n<table border=\"1\" class=\"dataframe\">\n  <thead>\n    <tr style=\"text-align: right;\">\n      <th></th>\n      <th>level_0</th>\n      <th>index</th>\n      <th>Unnamed: 0</th>\n      <th>id</th>\n      <th>gen</th>\n      <th>sp</th>\n      <th>ssp</th>\n      <th>group</th>\n      <th>en</th>\n      <th>rec</th>\n      <th>...</th>\n      <th>smp</th>\n      <th>Unnamed: 44</th>\n      <th>Unnamed: 45</th>\n      <th>Unnamed: 46</th>\n      <th>Unnamed: 47</th>\n      <th>Unnamed: 48</th>\n      <th>Unnamed: 49</th>\n      <th>Unnamed: 50</th>\n      <th>Unnamed: 51</th>\n      <th>Latin name</th>\n    </tr>\n  </thead>\n  <tbody>\n    <tr>\n      <th>0</th>\n      <td>0</td>\n      <td>5</td>\n      <td>5</td>\n      <td>815762</td>\n      <td>Cygnus</td>\n      <td>olor</td>\n      <td>NaN</td>\n      <td>birds</td>\n      <td>Mute Swan</td>\n      <td>Frédéric Cazaban</td>\n      <td>...</td>\n      <td>44100</td>\n      <td>NaN</td>\n      <td>NaN</td>\n      <td>NaN</td>\n      <td>NaN</td>\n      <td>NaN</td>\n      <td>NaN</td>\n      <td>NaN</td>\n      <td>NaN</td>\n      <td>Cygnus olor</td>\n    </tr>\n    <tr>\n      <th>1</th>\n      <td>1</td>\n      <td>6</td>\n      <td>6</td>\n      <td>808540</td>\n      <td>Cygnus</td>\n      <td>olor</td>\n      <td>NaN</td>\n      <td>birds</td>\n      <td>Mute Swan</td>\n      <td>Juha Saari</td>\n      <td>...</td>\n      <td>44100</td>\n      <td>NaN</td>\n      <td>NaN</td>\n      <td>NaN</td>\n      <td>NaN</td>\n      <td>NaN</td>\n      <td>NaN</td>\n      <td>NaN</td>\n      <td>NaN</td>\n      <td>Cygnus olor</td>\n    </tr>\n    <tr>\n      <th>2</th>\n      <td>2</td>\n      <td>7</td>\n      <td>7</td>\n      <td>805048</td>\n      <td>Cygnus</td>\n      <td>olor</td>\n      <td>NaN</td>\n      <td>birds</td>\n      <td>Mute Swan</td>\n      <td>Magnus Hellström</td>\n      <td>...</td>\n      <td>44100</td>\n      <td>NaN</td>\n      <td>NaN</td>\n      <td>NaN</td>\n      <td>NaN</td>\n      <td>NaN</td>\n      <td>NaN</td>\n      <td>NaN</td>\n      <td>NaN</td>\n      <td>Cygnus olor</td>\n    </tr>\n    <tr>\n      <th>3</th>\n      <td>3</td>\n      <td>8</td>\n      <td>8</td>\n      <td>804791</td>\n      <td>Cygnus</td>\n      <td>olor</td>\n      <td>NaN</td>\n      <td>birds</td>\n      <td>Mute Swan</td>\n      <td>Uku Paal</td>\n      <td>...</td>\n      <td>44100</td>\n      <td>NaN</td>\n      <td>NaN</td>\n      <td>NaN</td>\n      <td>NaN</td>\n      <td>NaN</td>\n      <td>NaN</td>\n      <td>NaN</td>\n      <td>NaN</td>\n      <td>Cygnus olor</td>\n    </tr>\n    <tr>\n      <th>4</th>\n      <td>4</td>\n      <td>9</td>\n      <td>9</td>\n      <td>797609</td>\n      <td>Cygnus</td>\n      <td>olor</td>\n      <td>NaN</td>\n      <td>birds</td>\n      <td>Mute Swan</td>\n      <td>Jorge Leitão</td>\n      <td>...</td>\n      <td>44100</td>\n      <td>NaN</td>\n      <td>NaN</td>\n      <td>NaN</td>\n      <td>NaN</td>\n      <td>NaN</td>\n      <td>NaN</td>\n      <td>NaN</td>\n      <td>NaN</td>\n      <td>Cygnus olor</td>\n    </tr>\n    <tr>\n      <th>...</th>\n      <td>...</td>\n      <td>...</td>\n      <td>...</td>\n      <td>...</td>\n      <td>...</td>\n      <td>...</td>\n      <td>...</td>\n      <td>...</td>\n      <td>...</td>\n      <td>...</td>\n      <td>...</td>\n      <td>...</td>\n      <td>...</td>\n      <td>...</td>\n      <td>...</td>\n      <td>...</td>\n      <td>...</td>\n      <td>...</td>\n      <td>...</td>\n      <td>...</td>\n      <td>...</td>\n    </tr>\n    <tr>\n      <th>46890</th>\n      <td>29222</td>\n      <td>229478</td>\n      <td>229478</td>\n      <td>595060</td>\n      <td>Turdus</td>\n      <td>torquatus</td>\n      <td>NaN</td>\n      <td>birds</td>\n      <td>Ring Ouzel</td>\n      <td>Philippe Gayet</td>\n      <td>...</td>\n      <td>44100</td>\n      <td>NaN</td>\n      <td>NaN</td>\n      <td>NaN</td>\n      <td>NaN</td>\n      <td>NaN</td>\n      <td>NaN</td>\n      <td>NaN</td>\n      <td>NaN</td>\n      <td>Turdus torquatus</td>\n    </tr>\n    <tr>\n      <th>46891</th>\n      <td>29311</td>\n      <td>229567</td>\n      <td>229567</td>\n      <td>390617</td>\n      <td>Turdus</td>\n      <td>torquatus</td>\n      <td>NaN</td>\n      <td>birds</td>\n      <td>Ring Ouzel</td>\n      <td>Lars Edenius</td>\n      <td>...</td>\n      <td>48000</td>\n      <td>NaN</td>\n      <td>NaN</td>\n      <td>NaN</td>\n      <td>NaN</td>\n      <td>NaN</td>\n      <td>NaN</td>\n      <td>NaN</td>\n      <td>NaN</td>\n      <td>Turdus torquatus</td>\n    </tr>\n    <tr>\n      <th>46892</th>\n      <td>29289</td>\n      <td>229545</td>\n      <td>229545</td>\n      <td>478799</td>\n      <td>Turdus</td>\n      <td>torquatus</td>\n      <td>NaN</td>\n      <td>birds</td>\n      <td>Ring Ouzel</td>\n      <td>Simon Gillings</td>\n      <td>...</td>\n      <td>32000</td>\n      <td>NaN</td>\n      <td>NaN</td>\n      <td>NaN</td>\n      <td>NaN</td>\n      <td>NaN</td>\n      <td>NaN</td>\n      <td>NaN</td>\n      <td>NaN</td>\n      <td>Turdus torquatus</td>\n    </tr>\n    <tr>\n      <th>46893</th>\n      <td>28990</td>\n      <td>229246</td>\n      <td>229246</td>\n      <td>177450</td>\n      <td>Turdus</td>\n      <td>torquatus</td>\n      <td>alpestris</td>\n      <td>birds</td>\n      <td>Ring Ouzel</td>\n      <td>Jerome Fischer</td>\n      <td>...</td>\n      <td>48000</td>\n      <td>NaN</td>\n      <td>NaN</td>\n      <td>NaN</td>\n      <td>NaN</td>\n      <td>NaN</td>\n      <td>NaN</td>\n      <td>NaN</td>\n      <td>NaN</td>\n      <td>Turdus torquatus</td>\n    </tr>\n    <tr>\n      <th>46894</th>\n      <td>29169</td>\n      <td>229425</td>\n      <td>229425</td>\n      <td>677596</td>\n      <td>Turdus</td>\n      <td>torquatus</td>\n      <td>NaN</td>\n      <td>birds</td>\n      <td>Ring Ouzel</td>\n      <td>Feliu López i Gelats</td>\n      <td>...</td>\n      <td>44100</td>\n      <td>NaN</td>\n      <td>NaN</td>\n      <td>NaN</td>\n      <td>NaN</td>\n      <td>NaN</td>\n      <td>NaN</td>\n      <td>NaN</td>\n      <td>NaN</td>\n      <td>Turdus torquatus</td>\n    </tr>\n  </tbody>\n</table>\n<p>46895 rows × 55 columns</p>\n</div>"
     },
     "execution_count": 45,
     "metadata": {},
     "output_type": "execute_result"
    }
   ],
   "source": [
    "df_r = pd.DataFrame(X_resampled).assign(label = y_resampled)\n",
    "df_r.columns = df.columns\n",
    "df_r"
   ],
   "metadata": {
    "collapsed": false,
    "ExecuteTime": {
     "end_time": "2024-01-04T19:00:21.887988700Z",
     "start_time": "2024-01-04T19:00:21.785961254Z"
    }
   },
   "id": "ca4d57caf97f0474"
  },
  {
   "cell_type": "code",
   "execution_count": 46,
   "outputs": [
    {
     "data": {
      "text/plain": "                       recordings number\nLatin name                              \nCorvus frugilegus                   1000\nApus apus                           1000\nPhalacrocorax carbo                 1000\nButeo buteo                         1000\nTetrao urogallus                    1000\nCiconia ciconia                     1000\nColumba livia                       1000\nLophophanes cristatus               1000\nPhasianus colchicus                 1000\nSternula albifrons                  1000\nCygnus olor                         1000\nTurdus torquatus                    1000\nGrus grus                           1000\nPicus viridis                       1027\nAnas platyrhynchos                  1081\nPica pica                           1140\nTurdus viscivorus                   1197\nCorvus cornix                       1212\nAsio otus                           1265\nPhoenicurus ochruros                1334\nHirundo rustica                     1665\nSturnus vulgaris                    1703\nGarrulus glandarius                 1880\nCuculus canorus                     1942\nCarduelis carduelis                 2066\nCorvus corax                        2076\nDendrocopos major                   2454\nPasser domesticus                   2489\nAlauda arvensis                     2647\nTurdus merula                       6717",
      "text/html": "<div>\n<style scoped>\n    .dataframe tbody tr th:only-of-type {\n        vertical-align: middle;\n    }\n\n    .dataframe tbody tr th {\n        vertical-align: top;\n    }\n\n    .dataframe thead th {\n        text-align: right;\n    }\n</style>\n<table border=\"1\" class=\"dataframe\">\n  <thead>\n    <tr style=\"text-align: right;\">\n      <th></th>\n      <th>recordings number</th>\n    </tr>\n    <tr>\n      <th>Latin name</th>\n      <th></th>\n    </tr>\n  </thead>\n  <tbody>\n    <tr>\n      <th>Corvus frugilegus</th>\n      <td>1000</td>\n    </tr>\n    <tr>\n      <th>Apus apus</th>\n      <td>1000</td>\n    </tr>\n    <tr>\n      <th>Phalacrocorax carbo</th>\n      <td>1000</td>\n    </tr>\n    <tr>\n      <th>Buteo buteo</th>\n      <td>1000</td>\n    </tr>\n    <tr>\n      <th>Tetrao urogallus</th>\n      <td>1000</td>\n    </tr>\n    <tr>\n      <th>Ciconia ciconia</th>\n      <td>1000</td>\n    </tr>\n    <tr>\n      <th>Columba livia</th>\n      <td>1000</td>\n    </tr>\n    <tr>\n      <th>Lophophanes cristatus</th>\n      <td>1000</td>\n    </tr>\n    <tr>\n      <th>Phasianus colchicus</th>\n      <td>1000</td>\n    </tr>\n    <tr>\n      <th>Sternula albifrons</th>\n      <td>1000</td>\n    </tr>\n    <tr>\n      <th>Cygnus olor</th>\n      <td>1000</td>\n    </tr>\n    <tr>\n      <th>Turdus torquatus</th>\n      <td>1000</td>\n    </tr>\n    <tr>\n      <th>Grus grus</th>\n      <td>1000</td>\n    </tr>\n    <tr>\n      <th>Picus viridis</th>\n      <td>1027</td>\n    </tr>\n    <tr>\n      <th>Anas platyrhynchos</th>\n      <td>1081</td>\n    </tr>\n    <tr>\n      <th>Pica pica</th>\n      <td>1140</td>\n    </tr>\n    <tr>\n      <th>Turdus viscivorus</th>\n      <td>1197</td>\n    </tr>\n    <tr>\n      <th>Corvus cornix</th>\n      <td>1212</td>\n    </tr>\n    <tr>\n      <th>Asio otus</th>\n      <td>1265</td>\n    </tr>\n    <tr>\n      <th>Phoenicurus ochruros</th>\n      <td>1334</td>\n    </tr>\n    <tr>\n      <th>Hirundo rustica</th>\n      <td>1665</td>\n    </tr>\n    <tr>\n      <th>Sturnus vulgaris</th>\n      <td>1703</td>\n    </tr>\n    <tr>\n      <th>Garrulus glandarius</th>\n      <td>1880</td>\n    </tr>\n    <tr>\n      <th>Cuculus canorus</th>\n      <td>1942</td>\n    </tr>\n    <tr>\n      <th>Carduelis carduelis</th>\n      <td>2066</td>\n    </tr>\n    <tr>\n      <th>Corvus corax</th>\n      <td>2076</td>\n    </tr>\n    <tr>\n      <th>Dendrocopos major</th>\n      <td>2454</td>\n    </tr>\n    <tr>\n      <th>Passer domesticus</th>\n      <td>2489</td>\n    </tr>\n    <tr>\n      <th>Alauda arvensis</th>\n      <td>2647</td>\n    </tr>\n    <tr>\n      <th>Turdus merula</th>\n      <td>6717</td>\n    </tr>\n  </tbody>\n</table>\n</div>"
     },
     "execution_count": 46,
     "metadata": {},
     "output_type": "execute_result"
    }
   ],
   "source": [
    "df_s = df_r[['Latin name', 'id']].astype(str)\n",
    "distribution_df = df_s.groupby('Latin name').count()\n",
    "distribution_df.columns = ['recordings number']\n",
    "distribution_df = distribution_df.sort_values('recordings number')\n",
    "distribution_df"
   ],
   "metadata": {
    "collapsed": false,
    "ExecuteTime": {
     "end_time": "2024-01-04T19:00:21.977589314Z",
     "start_time": "2024-01-04T19:00:21.891783977Z"
    }
   },
   "id": "a7b6fdc5130655a9"
  },
  {
   "cell_type": "markdown",
   "source": [
    "## Use implemented function"
   ],
   "metadata": {
    "collapsed": false
   },
   "id": "c26f9312fc604728"
  },
  {
   "cell_type": "code",
   "execution_count": 47,
   "outputs": [],
   "source": [
    "from birdclassification.preprocessing.utils import oversample_dataframe, undersample_dataframe"
   ],
   "metadata": {
    "collapsed": false,
    "ExecuteTime": {
     "end_time": "2024-01-04T19:00:22.039235898Z",
     "start_time": "2024-01-04T19:00:21.978093658Z"
    }
   },
   "id": "daf9b9399b2732c2"
  },
  {
   "cell_type": "code",
   "execution_count": 56,
   "outputs": [
    {
     "data": {
      "text/plain": "      level_0   index Unnamed: 0      id     gen          sp  ssp  group  \\\n0       20944  133985     133985  683109  Alauda    arvensis  NaN  birds   \n1       20924  133965     133965  686272  Alauda    arvensis  NaN  birds   \n2       21312  134353     134353  374286  Alauda    arvensis  NaN  birds   \n3       22710  135751     135751  674961  Alauda    arvensis  NaN  birds   \n4       21330  134371     134371  363898  Alauda    arvensis  NaN  birds   \n...       ...     ...        ...     ...     ...         ...  ...    ...   \n30420   28738  220530     220530  303525  Turdus  viscivorus  NaN  birds   \n30421   28289  220081     220081  583296  Turdus  viscivorus  NaN  birds   \n30422   28803  220595     220595  755614  Turdus  viscivorus  NaN  birds   \n30423   28173  219965     219965  706837  Turdus  viscivorus  NaN  birds   \n30424   28292  220084     220084  579481  Turdus  viscivorus  NaN  birds   \n\n                     en                    rec  ...    smp Unnamed: 44  \\\n0      Eurasian Skylark                  Sergi  ...  44100         NaN   \n1      Eurasian Skylark          David Bissett  ...  48000         NaN   \n2      Eurasian Skylark       Manuel Grosselet  ...  44100         NaN   \n3      Eurasian Skylark       Albert Lastukhin  ...  44100         NaN   \n4      Eurasian Skylark          David Bissett  ...  44100         NaN   \n...                 ...                    ...  ...    ...         ...   \n30420     Mistle Thrush          johannes buhl  ...  48000         NaN   \n30421     Mistle Thrush  Peter van Vlaardingen  ...  48000         NaN   \n30422     Mistle Thrush               chambris  ...  44100         NaN   \n30423     Mistle Thrush  Irish Wildlife Sounds  ...  44100         NaN   \n30424     Mistle Thrush          Teet Sirotkin  ...  48000         NaN   \n\n      Unnamed: 45 Unnamed: 46 Unnamed: 47 Unnamed: 48 Unnamed: 49 Unnamed: 50  \\\n0             NaN         NaN         NaN         NaN         NaN         NaN   \n1             NaN         NaN         NaN         NaN         NaN         NaN   \n2             NaN         NaN         NaN         NaN         NaN         NaN   \n3             NaN         NaN         NaN         NaN         NaN         NaN   \n4             NaN         NaN         NaN         NaN         NaN         NaN   \n...           ...         ...         ...         ...         ...         ...   \n30420         NaN         NaN         NaN         NaN         NaN         NaN   \n30421         NaN         NaN         NaN         NaN         NaN         NaN   \n30422         NaN         NaN         NaN         NaN         NaN         NaN   \n30423         NaN         NaN         NaN         NaN         NaN         NaN   \n30424         NaN         NaN         NaN         NaN         NaN         NaN   \n\n      Unnamed: 51         Latin name  \n0             NaN    Alauda arvensis  \n1             NaN    Alauda arvensis  \n2             NaN    Alauda arvensis  \n3             NaN    Alauda arvensis  \n4             NaN    Alauda arvensis  \n...           ...                ...  \n30420         NaN  Turdus viscivorus  \n30421         NaN  Turdus viscivorus  \n30422         NaN  Turdus viscivorus  \n30423         NaN  Turdus viscivorus  \n30424         NaN  Turdus viscivorus  \n\n[30425 rows x 55 columns]",
      "text/html": "<div>\n<style scoped>\n    .dataframe tbody tr th:only-of-type {\n        vertical-align: middle;\n    }\n\n    .dataframe tbody tr th {\n        vertical-align: top;\n    }\n\n    .dataframe thead th {\n        text-align: right;\n    }\n</style>\n<table border=\"1\" class=\"dataframe\">\n  <thead>\n    <tr style=\"text-align: right;\">\n      <th></th>\n      <th>level_0</th>\n      <th>index</th>\n      <th>Unnamed: 0</th>\n      <th>id</th>\n      <th>gen</th>\n      <th>sp</th>\n      <th>ssp</th>\n      <th>group</th>\n      <th>en</th>\n      <th>rec</th>\n      <th>...</th>\n      <th>smp</th>\n      <th>Unnamed: 44</th>\n      <th>Unnamed: 45</th>\n      <th>Unnamed: 46</th>\n      <th>Unnamed: 47</th>\n      <th>Unnamed: 48</th>\n      <th>Unnamed: 49</th>\n      <th>Unnamed: 50</th>\n      <th>Unnamed: 51</th>\n      <th>Latin name</th>\n    </tr>\n  </thead>\n  <tbody>\n    <tr>\n      <th>0</th>\n      <td>20944</td>\n      <td>133985</td>\n      <td>133985</td>\n      <td>683109</td>\n      <td>Alauda</td>\n      <td>arvensis</td>\n      <td>NaN</td>\n      <td>birds</td>\n      <td>Eurasian Skylark</td>\n      <td>Sergi</td>\n      <td>...</td>\n      <td>44100</td>\n      <td>NaN</td>\n      <td>NaN</td>\n      <td>NaN</td>\n      <td>NaN</td>\n      <td>NaN</td>\n      <td>NaN</td>\n      <td>NaN</td>\n      <td>NaN</td>\n      <td>Alauda arvensis</td>\n    </tr>\n    <tr>\n      <th>1</th>\n      <td>20924</td>\n      <td>133965</td>\n      <td>133965</td>\n      <td>686272</td>\n      <td>Alauda</td>\n      <td>arvensis</td>\n      <td>NaN</td>\n      <td>birds</td>\n      <td>Eurasian Skylark</td>\n      <td>David Bissett</td>\n      <td>...</td>\n      <td>48000</td>\n      <td>NaN</td>\n      <td>NaN</td>\n      <td>NaN</td>\n      <td>NaN</td>\n      <td>NaN</td>\n      <td>NaN</td>\n      <td>NaN</td>\n      <td>NaN</td>\n      <td>Alauda arvensis</td>\n    </tr>\n    <tr>\n      <th>2</th>\n      <td>21312</td>\n      <td>134353</td>\n      <td>134353</td>\n      <td>374286</td>\n      <td>Alauda</td>\n      <td>arvensis</td>\n      <td>NaN</td>\n      <td>birds</td>\n      <td>Eurasian Skylark</td>\n      <td>Manuel Grosselet</td>\n      <td>...</td>\n      <td>44100</td>\n      <td>NaN</td>\n      <td>NaN</td>\n      <td>NaN</td>\n      <td>NaN</td>\n      <td>NaN</td>\n      <td>NaN</td>\n      <td>NaN</td>\n      <td>NaN</td>\n      <td>Alauda arvensis</td>\n    </tr>\n    <tr>\n      <th>3</th>\n      <td>22710</td>\n      <td>135751</td>\n      <td>135751</td>\n      <td>674961</td>\n      <td>Alauda</td>\n      <td>arvensis</td>\n      <td>NaN</td>\n      <td>birds</td>\n      <td>Eurasian Skylark</td>\n      <td>Albert Lastukhin</td>\n      <td>...</td>\n      <td>44100</td>\n      <td>NaN</td>\n      <td>NaN</td>\n      <td>NaN</td>\n      <td>NaN</td>\n      <td>NaN</td>\n      <td>NaN</td>\n      <td>NaN</td>\n      <td>NaN</td>\n      <td>Alauda arvensis</td>\n    </tr>\n    <tr>\n      <th>4</th>\n      <td>21330</td>\n      <td>134371</td>\n      <td>134371</td>\n      <td>363898</td>\n      <td>Alauda</td>\n      <td>arvensis</td>\n      <td>NaN</td>\n      <td>birds</td>\n      <td>Eurasian Skylark</td>\n      <td>David Bissett</td>\n      <td>...</td>\n      <td>44100</td>\n      <td>NaN</td>\n      <td>NaN</td>\n      <td>NaN</td>\n      <td>NaN</td>\n      <td>NaN</td>\n      <td>NaN</td>\n      <td>NaN</td>\n      <td>NaN</td>\n      <td>Alauda arvensis</td>\n    </tr>\n    <tr>\n      <th>...</th>\n      <td>...</td>\n      <td>...</td>\n      <td>...</td>\n      <td>...</td>\n      <td>...</td>\n      <td>...</td>\n      <td>...</td>\n      <td>...</td>\n      <td>...</td>\n      <td>...</td>\n      <td>...</td>\n      <td>...</td>\n      <td>...</td>\n      <td>...</td>\n      <td>...</td>\n      <td>...</td>\n      <td>...</td>\n      <td>...</td>\n      <td>...</td>\n      <td>...</td>\n      <td>...</td>\n    </tr>\n    <tr>\n      <th>30420</th>\n      <td>28738</td>\n      <td>220530</td>\n      <td>220530</td>\n      <td>303525</td>\n      <td>Turdus</td>\n      <td>viscivorus</td>\n      <td>NaN</td>\n      <td>birds</td>\n      <td>Mistle Thrush</td>\n      <td>johannes buhl</td>\n      <td>...</td>\n      <td>48000</td>\n      <td>NaN</td>\n      <td>NaN</td>\n      <td>NaN</td>\n      <td>NaN</td>\n      <td>NaN</td>\n      <td>NaN</td>\n      <td>NaN</td>\n      <td>NaN</td>\n      <td>Turdus viscivorus</td>\n    </tr>\n    <tr>\n      <th>30421</th>\n      <td>28289</td>\n      <td>220081</td>\n      <td>220081</td>\n      <td>583296</td>\n      <td>Turdus</td>\n      <td>viscivorus</td>\n      <td>NaN</td>\n      <td>birds</td>\n      <td>Mistle Thrush</td>\n      <td>Peter van Vlaardingen</td>\n      <td>...</td>\n      <td>48000</td>\n      <td>NaN</td>\n      <td>NaN</td>\n      <td>NaN</td>\n      <td>NaN</td>\n      <td>NaN</td>\n      <td>NaN</td>\n      <td>NaN</td>\n      <td>NaN</td>\n      <td>Turdus viscivorus</td>\n    </tr>\n    <tr>\n      <th>30422</th>\n      <td>28803</td>\n      <td>220595</td>\n      <td>220595</td>\n      <td>755614</td>\n      <td>Turdus</td>\n      <td>viscivorus</td>\n      <td>NaN</td>\n      <td>birds</td>\n      <td>Mistle Thrush</td>\n      <td>chambris</td>\n      <td>...</td>\n      <td>44100</td>\n      <td>NaN</td>\n      <td>NaN</td>\n      <td>NaN</td>\n      <td>NaN</td>\n      <td>NaN</td>\n      <td>NaN</td>\n      <td>NaN</td>\n      <td>NaN</td>\n      <td>Turdus viscivorus</td>\n    </tr>\n    <tr>\n      <th>30423</th>\n      <td>28173</td>\n      <td>219965</td>\n      <td>219965</td>\n      <td>706837</td>\n      <td>Turdus</td>\n      <td>viscivorus</td>\n      <td>NaN</td>\n      <td>birds</td>\n      <td>Mistle Thrush</td>\n      <td>Irish Wildlife Sounds</td>\n      <td>...</td>\n      <td>44100</td>\n      <td>NaN</td>\n      <td>NaN</td>\n      <td>NaN</td>\n      <td>NaN</td>\n      <td>NaN</td>\n      <td>NaN</td>\n      <td>NaN</td>\n      <td>NaN</td>\n      <td>Turdus viscivorus</td>\n    </tr>\n    <tr>\n      <th>30424</th>\n      <td>28292</td>\n      <td>220084</td>\n      <td>220084</td>\n      <td>579481</td>\n      <td>Turdus</td>\n      <td>viscivorus</td>\n      <td>NaN</td>\n      <td>birds</td>\n      <td>Mistle Thrush</td>\n      <td>Teet Sirotkin</td>\n      <td>...</td>\n      <td>48000</td>\n      <td>NaN</td>\n      <td>NaN</td>\n      <td>NaN</td>\n      <td>NaN</td>\n      <td>NaN</td>\n      <td>NaN</td>\n      <td>NaN</td>\n      <td>NaN</td>\n      <td>Turdus viscivorus</td>\n    </tr>\n  </tbody>\n</table>\n<p>30425 rows × 55 columns</p>\n</div>"
     },
     "execution_count": 56,
     "metadata": {},
     "output_type": "execute_result"
    }
   ],
   "source": [
    "result = oversample_dataframe(df, minimum_number_of_samples= 1000, mapping = train_ds.get_mapping(), seed = SEED)\n",
    "result = undersample_dataframe(result, maximum_number_of_samples = 1025, mapping = train_ds.get_mapping(), seed = SEED)\n",
    "result"
   ],
   "metadata": {
    "collapsed": false,
    "ExecuteTime": {
     "end_time": "2024-01-04T19:06:11.140328120Z",
     "start_time": "2024-01-04T19:06:10.167572170Z"
    }
   },
   "id": "9420c1f05a33b118"
  },
  {
   "cell_type": "code",
   "execution_count": 57,
   "outputs": [
    {
     "data": {
      "text/plain": "                       level_0  index  Unnamed: 0    id   gen    sp  ssp  \\\nLatin name                                                                 \nAlauda arvensis           1025   1025        1025  1025  1025  1025  256   \nAnas platyrhynchos        1025   1025        1025  1025  1025  1025   50   \nApus apus                 1000   1000        1000  1000  1000  1000  126   \nAsio otus                 1025   1025        1025  1025  1025  1025   49   \nButeo buteo               1000   1000        1000  1000  1000  1000  117   \nCarduelis carduelis       1025   1025        1025  1025  1025  1025  259   \nCiconia ciconia           1000   1000        1000  1000  1000  1000   25   \nColumba livia             1000   1000        1000  1000  1000  1000  181   \nCorvus corax              1025   1025        1025  1025  1025  1025  157   \nCorvus cornix             1025   1025        1025  1025  1025  1025  113   \nCorvus frugilegus         1000   1000        1000  1000  1000  1000  176   \nCuculus canorus           1025   1025        1025  1025  1025  1025   59   \nCygnus olor               1000   1000        1000  1000  1000  1000    4   \nDendrocopos major         1025   1025        1025  1025  1025  1025  128   \nGarrulus glandarius       1025   1025        1025  1025  1025  1025  122   \nGrus grus                 1000   1000        1000  1000  1000  1000    0   \nHirundo rustica           1025   1025        1025  1025  1025  1025  143   \nLophophanes cristatus     1000   1000        1000  1000  1000  1000  101   \nPasser domesticus         1025   1025        1025  1025  1025  1025  111   \nPhalacrocorax carbo       1000   1000        1000  1000  1000  1000  213   \nPhasianus colchicus       1000   1000        1000  1000  1000  1000   90   \nPhoenicurus ochruros      1025   1025        1025  1025  1025  1025  163   \nPica pica                 1025   1025        1025  1025  1025  1025  113   \nPicus viridis             1025   1025        1025  1025  1025  1025  108   \nSternula albifrons        1000   1000        1000  1000  1000  1000  100   \nSturnus vulgaris          1025   1025        1025  1025  1025  1025  210   \nTetrao urogallus          1000   1000        1000  1000  1000  1000   78   \nTurdus merula             1025   1025        1025  1025  1025  1025  196   \nTurdus torquatus          1000   1000        1000  1000  1000  1000  219   \nTurdus viscivorus         1025   1025        1025  1025  1025  1025   69   \n\n                       group    en   rec  ...  mic   smp  Unnamed: 44  \\\nLatin name                                ...                           \nAlauda arvensis         1025  1025  1025  ...  126  1017            8   \nAnas platyrhynchos      1025  1025  1025  ...   48  1014           11   \nApus apus               1000  1000  1000  ...   92   979           21   \nAsio otus               1025  1025  1025  ...   67  1015           10   \nButeo buteo             1000  1000  1000  ...   80   992            9   \nCarduelis carduelis     1025  1025  1025  ...   63  1015            7   \nCiconia ciconia         1000  1000  1000  ...   48  1000            0   \nColumba livia           1000  1000  1000  ...   88  1000            0   \nCorvus corax            1025  1025  1025  ...   58  1003           20   \nCorvus cornix           1025  1025  1025  ...  201  1020            6   \nCorvus frugilegus       1000  1000  1000  ...   73   999            3   \nCuculus canorus         1025  1025  1025  ...   48  1023            4   \nCygnus olor             1000  1000  1000  ...   64   980           18   \nDendrocopos major       1025  1025  1025  ...   91  1019            5   \nGarrulus glandarius     1025  1025  1025  ...   73  1020            5   \nGrus grus               1000  1000  1000  ...   63   994           10   \nHirundo rustica         1025  1025  1025  ...   44  1000           22   \nLophophanes cristatus   1000  1000  1000  ...   59   998            1   \nPasser domesticus       1025  1025  1025  ...   59  1012           10   \nPhalacrocorax carbo     1000  1000  1000  ...   89   989            6   \nPhasianus colchicus     1000  1000  1000  ...   65   994            6   \nPhoenicurus ochruros    1025  1025  1025  ...   92  1014           11   \nPica pica               1025  1025  1025  ...   58  1019            6   \nPicus viridis           1025  1025  1025  ...  127  1020            6   \nSternula albifrons      1000  1000  1000  ...   29   994            6   \nSturnus vulgaris        1025  1025  1025  ...   62  1015           10   \nTetrao urogallus        1000  1000  1000  ...   46  1000            0   \nTurdus merula           1025  1025  1025  ...   76  1022            5   \nTurdus torquatus        1000  1000  1000  ...   49   964           33   \nTurdus viscivorus       1025  1025  1025  ...   61  1011           15   \n\n                       Unnamed: 45  Unnamed: 46  Unnamed: 47  Unnamed: 48  \\\nLatin name                                                                  \nAlauda arvensis                  0            0            0            0   \nAnas platyrhynchos               0            0            0            0   \nApus apus                        0            0            0            0   \nAsio otus                        0            0            0            0   \nButeo buteo                      0            1            0            0   \nCarduelis carduelis              3            2            0            0   \nCiconia ciconia                  0            0            0            0   \nColumba livia                    0            0            0            0   \nCorvus corax                     3            2            0            0   \nCorvus cornix                    0            0            0            0   \nCorvus frugilegus                0            0            0            0   \nCuculus canorus                  0            1            0            0   \nCygnus olor                      2            0            0            0   \nDendrocopos major                1            1            0            0   \nGarrulus glandarius              0            0            0            0   \nGrus grus                        0            0            0            0   \nHirundo rustica                  3            0            0            0   \nLophophanes cristatus            1            0            0            0   \nPasser domesticus                3            0            0            0   \nPhalacrocorax carbo              5            0            0            0   \nPhasianus colchicus              0            0            0            0   \nPhoenicurus ochruros             1            0            0            0   \nPica pica                        0            0            0            0   \nPicus viridis                    0            0            0            0   \nSternula albifrons               0            0            0            0   \nSturnus vulgaris                 0            0            0            0   \nTetrao urogallus                 0            0            0            0   \nTurdus merula                    0            0            0            0   \nTurdus torquatus                 3            0            0            0   \nTurdus viscivorus                0            0            0            0   \n\n                       Unnamed: 49  Unnamed: 50  Unnamed: 51  \nLatin name                                                    \nAlauda arvensis                  0            0            0  \nAnas platyrhynchos               0            0            0  \nApus apus                        0            0            0  \nAsio otus                        0            0            0  \nButeo buteo                      1            0            0  \nCarduelis carduelis              0            0            0  \nCiconia ciconia                  0            0            0  \nColumba livia                    0            0            0  \nCorvus corax                     0            0            0  \nCorvus cornix                    0            0            0  \nCorvus frugilegus                0            0            0  \nCuculus canorus                  0            0            0  \nCygnus olor                      0            0            0  \nDendrocopos major                0            0            0  \nGarrulus glandarius              0            0            0  \nGrus grus                        0            0            0  \nHirundo rustica                  0            0            0  \nLophophanes cristatus            0            0            0  \nPasser domesticus                0            0            0  \nPhalacrocorax carbo              0            0            0  \nPhasianus colchicus              0            0            0  \nPhoenicurus ochruros             0            0            0  \nPica pica                        0            0            0  \nPicus viridis                    0            0            0  \nSternula albifrons               0            0            0  \nSturnus vulgaris                 0            0            0  \nTetrao urogallus                 0            0            0  \nTurdus merula                    0            0            0  \nTurdus torquatus                 0            0            0  \nTurdus viscivorus                0            0            0  \n\n[30 rows x 54 columns]",
      "text/html": "<div>\n<style scoped>\n    .dataframe tbody tr th:only-of-type {\n        vertical-align: middle;\n    }\n\n    .dataframe tbody tr th {\n        vertical-align: top;\n    }\n\n    .dataframe thead th {\n        text-align: right;\n    }\n</style>\n<table border=\"1\" class=\"dataframe\">\n  <thead>\n    <tr style=\"text-align: right;\">\n      <th></th>\n      <th>level_0</th>\n      <th>index</th>\n      <th>Unnamed: 0</th>\n      <th>id</th>\n      <th>gen</th>\n      <th>sp</th>\n      <th>ssp</th>\n      <th>group</th>\n      <th>en</th>\n      <th>rec</th>\n      <th>...</th>\n      <th>mic</th>\n      <th>smp</th>\n      <th>Unnamed: 44</th>\n      <th>Unnamed: 45</th>\n      <th>Unnamed: 46</th>\n      <th>Unnamed: 47</th>\n      <th>Unnamed: 48</th>\n      <th>Unnamed: 49</th>\n      <th>Unnamed: 50</th>\n      <th>Unnamed: 51</th>\n    </tr>\n    <tr>\n      <th>Latin name</th>\n      <th></th>\n      <th></th>\n      <th></th>\n      <th></th>\n      <th></th>\n      <th></th>\n      <th></th>\n      <th></th>\n      <th></th>\n      <th></th>\n      <th></th>\n      <th></th>\n      <th></th>\n      <th></th>\n      <th></th>\n      <th></th>\n      <th></th>\n      <th></th>\n      <th></th>\n      <th></th>\n      <th></th>\n    </tr>\n  </thead>\n  <tbody>\n    <tr>\n      <th>Alauda arvensis</th>\n      <td>1025</td>\n      <td>1025</td>\n      <td>1025</td>\n      <td>1025</td>\n      <td>1025</td>\n      <td>1025</td>\n      <td>256</td>\n      <td>1025</td>\n      <td>1025</td>\n      <td>1025</td>\n      <td>...</td>\n      <td>126</td>\n      <td>1017</td>\n      <td>8</td>\n      <td>0</td>\n      <td>0</td>\n      <td>0</td>\n      <td>0</td>\n      <td>0</td>\n      <td>0</td>\n      <td>0</td>\n    </tr>\n    <tr>\n      <th>Anas platyrhynchos</th>\n      <td>1025</td>\n      <td>1025</td>\n      <td>1025</td>\n      <td>1025</td>\n      <td>1025</td>\n      <td>1025</td>\n      <td>50</td>\n      <td>1025</td>\n      <td>1025</td>\n      <td>1025</td>\n      <td>...</td>\n      <td>48</td>\n      <td>1014</td>\n      <td>11</td>\n      <td>0</td>\n      <td>0</td>\n      <td>0</td>\n      <td>0</td>\n      <td>0</td>\n      <td>0</td>\n      <td>0</td>\n    </tr>\n    <tr>\n      <th>Apus apus</th>\n      <td>1000</td>\n      <td>1000</td>\n      <td>1000</td>\n      <td>1000</td>\n      <td>1000</td>\n      <td>1000</td>\n      <td>126</td>\n      <td>1000</td>\n      <td>1000</td>\n      <td>1000</td>\n      <td>...</td>\n      <td>92</td>\n      <td>979</td>\n      <td>21</td>\n      <td>0</td>\n      <td>0</td>\n      <td>0</td>\n      <td>0</td>\n      <td>0</td>\n      <td>0</td>\n      <td>0</td>\n    </tr>\n    <tr>\n      <th>Asio otus</th>\n      <td>1025</td>\n      <td>1025</td>\n      <td>1025</td>\n      <td>1025</td>\n      <td>1025</td>\n      <td>1025</td>\n      <td>49</td>\n      <td>1025</td>\n      <td>1025</td>\n      <td>1025</td>\n      <td>...</td>\n      <td>67</td>\n      <td>1015</td>\n      <td>10</td>\n      <td>0</td>\n      <td>0</td>\n      <td>0</td>\n      <td>0</td>\n      <td>0</td>\n      <td>0</td>\n      <td>0</td>\n    </tr>\n    <tr>\n      <th>Buteo buteo</th>\n      <td>1000</td>\n      <td>1000</td>\n      <td>1000</td>\n      <td>1000</td>\n      <td>1000</td>\n      <td>1000</td>\n      <td>117</td>\n      <td>1000</td>\n      <td>1000</td>\n      <td>1000</td>\n      <td>...</td>\n      <td>80</td>\n      <td>992</td>\n      <td>9</td>\n      <td>0</td>\n      <td>1</td>\n      <td>0</td>\n      <td>0</td>\n      <td>1</td>\n      <td>0</td>\n      <td>0</td>\n    </tr>\n    <tr>\n      <th>Carduelis carduelis</th>\n      <td>1025</td>\n      <td>1025</td>\n      <td>1025</td>\n      <td>1025</td>\n      <td>1025</td>\n      <td>1025</td>\n      <td>259</td>\n      <td>1025</td>\n      <td>1025</td>\n      <td>1025</td>\n      <td>...</td>\n      <td>63</td>\n      <td>1015</td>\n      <td>7</td>\n      <td>3</td>\n      <td>2</td>\n      <td>0</td>\n      <td>0</td>\n      <td>0</td>\n      <td>0</td>\n      <td>0</td>\n    </tr>\n    <tr>\n      <th>Ciconia ciconia</th>\n      <td>1000</td>\n      <td>1000</td>\n      <td>1000</td>\n      <td>1000</td>\n      <td>1000</td>\n      <td>1000</td>\n      <td>25</td>\n      <td>1000</td>\n      <td>1000</td>\n      <td>1000</td>\n      <td>...</td>\n      <td>48</td>\n      <td>1000</td>\n      <td>0</td>\n      <td>0</td>\n      <td>0</td>\n      <td>0</td>\n      <td>0</td>\n      <td>0</td>\n      <td>0</td>\n      <td>0</td>\n    </tr>\n    <tr>\n      <th>Columba livia</th>\n      <td>1000</td>\n      <td>1000</td>\n      <td>1000</td>\n      <td>1000</td>\n      <td>1000</td>\n      <td>1000</td>\n      <td>181</td>\n      <td>1000</td>\n      <td>1000</td>\n      <td>1000</td>\n      <td>...</td>\n      <td>88</td>\n      <td>1000</td>\n      <td>0</td>\n      <td>0</td>\n      <td>0</td>\n      <td>0</td>\n      <td>0</td>\n      <td>0</td>\n      <td>0</td>\n      <td>0</td>\n    </tr>\n    <tr>\n      <th>Corvus corax</th>\n      <td>1025</td>\n      <td>1025</td>\n      <td>1025</td>\n      <td>1025</td>\n      <td>1025</td>\n      <td>1025</td>\n      <td>157</td>\n      <td>1025</td>\n      <td>1025</td>\n      <td>1025</td>\n      <td>...</td>\n      <td>58</td>\n      <td>1003</td>\n      <td>20</td>\n      <td>3</td>\n      <td>2</td>\n      <td>0</td>\n      <td>0</td>\n      <td>0</td>\n      <td>0</td>\n      <td>0</td>\n    </tr>\n    <tr>\n      <th>Corvus cornix</th>\n      <td>1025</td>\n      <td>1025</td>\n      <td>1025</td>\n      <td>1025</td>\n      <td>1025</td>\n      <td>1025</td>\n      <td>113</td>\n      <td>1025</td>\n      <td>1025</td>\n      <td>1025</td>\n      <td>...</td>\n      <td>201</td>\n      <td>1020</td>\n      <td>6</td>\n      <td>0</td>\n      <td>0</td>\n      <td>0</td>\n      <td>0</td>\n      <td>0</td>\n      <td>0</td>\n      <td>0</td>\n    </tr>\n    <tr>\n      <th>Corvus frugilegus</th>\n      <td>1000</td>\n      <td>1000</td>\n      <td>1000</td>\n      <td>1000</td>\n      <td>1000</td>\n      <td>1000</td>\n      <td>176</td>\n      <td>1000</td>\n      <td>1000</td>\n      <td>1000</td>\n      <td>...</td>\n      <td>73</td>\n      <td>999</td>\n      <td>3</td>\n      <td>0</td>\n      <td>0</td>\n      <td>0</td>\n      <td>0</td>\n      <td>0</td>\n      <td>0</td>\n      <td>0</td>\n    </tr>\n    <tr>\n      <th>Cuculus canorus</th>\n      <td>1025</td>\n      <td>1025</td>\n      <td>1025</td>\n      <td>1025</td>\n      <td>1025</td>\n      <td>1025</td>\n      <td>59</td>\n      <td>1025</td>\n      <td>1025</td>\n      <td>1025</td>\n      <td>...</td>\n      <td>48</td>\n      <td>1023</td>\n      <td>4</td>\n      <td>0</td>\n      <td>1</td>\n      <td>0</td>\n      <td>0</td>\n      <td>0</td>\n      <td>0</td>\n      <td>0</td>\n    </tr>\n    <tr>\n      <th>Cygnus olor</th>\n      <td>1000</td>\n      <td>1000</td>\n      <td>1000</td>\n      <td>1000</td>\n      <td>1000</td>\n      <td>1000</td>\n      <td>4</td>\n      <td>1000</td>\n      <td>1000</td>\n      <td>1000</td>\n      <td>...</td>\n      <td>64</td>\n      <td>980</td>\n      <td>18</td>\n      <td>2</td>\n      <td>0</td>\n      <td>0</td>\n      <td>0</td>\n      <td>0</td>\n      <td>0</td>\n      <td>0</td>\n    </tr>\n    <tr>\n      <th>Dendrocopos major</th>\n      <td>1025</td>\n      <td>1025</td>\n      <td>1025</td>\n      <td>1025</td>\n      <td>1025</td>\n      <td>1025</td>\n      <td>128</td>\n      <td>1025</td>\n      <td>1025</td>\n      <td>1025</td>\n      <td>...</td>\n      <td>91</td>\n      <td>1019</td>\n      <td>5</td>\n      <td>1</td>\n      <td>1</td>\n      <td>0</td>\n      <td>0</td>\n      <td>0</td>\n      <td>0</td>\n      <td>0</td>\n    </tr>\n    <tr>\n      <th>Garrulus glandarius</th>\n      <td>1025</td>\n      <td>1025</td>\n      <td>1025</td>\n      <td>1025</td>\n      <td>1025</td>\n      <td>1025</td>\n      <td>122</td>\n      <td>1025</td>\n      <td>1025</td>\n      <td>1025</td>\n      <td>...</td>\n      <td>73</td>\n      <td>1020</td>\n      <td>5</td>\n      <td>0</td>\n      <td>0</td>\n      <td>0</td>\n      <td>0</td>\n      <td>0</td>\n      <td>0</td>\n      <td>0</td>\n    </tr>\n    <tr>\n      <th>Grus grus</th>\n      <td>1000</td>\n      <td>1000</td>\n      <td>1000</td>\n      <td>1000</td>\n      <td>1000</td>\n      <td>1000</td>\n      <td>0</td>\n      <td>1000</td>\n      <td>1000</td>\n      <td>1000</td>\n      <td>...</td>\n      <td>63</td>\n      <td>994</td>\n      <td>10</td>\n      <td>0</td>\n      <td>0</td>\n      <td>0</td>\n      <td>0</td>\n      <td>0</td>\n      <td>0</td>\n      <td>0</td>\n    </tr>\n    <tr>\n      <th>Hirundo rustica</th>\n      <td>1025</td>\n      <td>1025</td>\n      <td>1025</td>\n      <td>1025</td>\n      <td>1025</td>\n      <td>1025</td>\n      <td>143</td>\n      <td>1025</td>\n      <td>1025</td>\n      <td>1025</td>\n      <td>...</td>\n      <td>44</td>\n      <td>1000</td>\n      <td>22</td>\n      <td>3</td>\n      <td>0</td>\n      <td>0</td>\n      <td>0</td>\n      <td>0</td>\n      <td>0</td>\n      <td>0</td>\n    </tr>\n    <tr>\n      <th>Lophophanes cristatus</th>\n      <td>1000</td>\n      <td>1000</td>\n      <td>1000</td>\n      <td>1000</td>\n      <td>1000</td>\n      <td>1000</td>\n      <td>101</td>\n      <td>1000</td>\n      <td>1000</td>\n      <td>1000</td>\n      <td>...</td>\n      <td>59</td>\n      <td>998</td>\n      <td>1</td>\n      <td>1</td>\n      <td>0</td>\n      <td>0</td>\n      <td>0</td>\n      <td>0</td>\n      <td>0</td>\n      <td>0</td>\n    </tr>\n    <tr>\n      <th>Passer domesticus</th>\n      <td>1025</td>\n      <td>1025</td>\n      <td>1025</td>\n      <td>1025</td>\n      <td>1025</td>\n      <td>1025</td>\n      <td>111</td>\n      <td>1025</td>\n      <td>1025</td>\n      <td>1025</td>\n      <td>...</td>\n      <td>59</td>\n      <td>1012</td>\n      <td>10</td>\n      <td>3</td>\n      <td>0</td>\n      <td>0</td>\n      <td>0</td>\n      <td>0</td>\n      <td>0</td>\n      <td>0</td>\n    </tr>\n    <tr>\n      <th>Phalacrocorax carbo</th>\n      <td>1000</td>\n      <td>1000</td>\n      <td>1000</td>\n      <td>1000</td>\n      <td>1000</td>\n      <td>1000</td>\n      <td>213</td>\n      <td>1000</td>\n      <td>1000</td>\n      <td>1000</td>\n      <td>...</td>\n      <td>89</td>\n      <td>989</td>\n      <td>6</td>\n      <td>5</td>\n      <td>0</td>\n      <td>0</td>\n      <td>0</td>\n      <td>0</td>\n      <td>0</td>\n      <td>0</td>\n    </tr>\n    <tr>\n      <th>Phasianus colchicus</th>\n      <td>1000</td>\n      <td>1000</td>\n      <td>1000</td>\n      <td>1000</td>\n      <td>1000</td>\n      <td>1000</td>\n      <td>90</td>\n      <td>1000</td>\n      <td>1000</td>\n      <td>1000</td>\n      <td>...</td>\n      <td>65</td>\n      <td>994</td>\n      <td>6</td>\n      <td>0</td>\n      <td>0</td>\n      <td>0</td>\n      <td>0</td>\n      <td>0</td>\n      <td>0</td>\n      <td>0</td>\n    </tr>\n    <tr>\n      <th>Phoenicurus ochruros</th>\n      <td>1025</td>\n      <td>1025</td>\n      <td>1025</td>\n      <td>1025</td>\n      <td>1025</td>\n      <td>1025</td>\n      <td>163</td>\n      <td>1025</td>\n      <td>1025</td>\n      <td>1025</td>\n      <td>...</td>\n      <td>92</td>\n      <td>1014</td>\n      <td>11</td>\n      <td>1</td>\n      <td>0</td>\n      <td>0</td>\n      <td>0</td>\n      <td>0</td>\n      <td>0</td>\n      <td>0</td>\n    </tr>\n    <tr>\n      <th>Pica pica</th>\n      <td>1025</td>\n      <td>1025</td>\n      <td>1025</td>\n      <td>1025</td>\n      <td>1025</td>\n      <td>1025</td>\n      <td>113</td>\n      <td>1025</td>\n      <td>1025</td>\n      <td>1025</td>\n      <td>...</td>\n      <td>58</td>\n      <td>1019</td>\n      <td>6</td>\n      <td>0</td>\n      <td>0</td>\n      <td>0</td>\n      <td>0</td>\n      <td>0</td>\n      <td>0</td>\n      <td>0</td>\n    </tr>\n    <tr>\n      <th>Picus viridis</th>\n      <td>1025</td>\n      <td>1025</td>\n      <td>1025</td>\n      <td>1025</td>\n      <td>1025</td>\n      <td>1025</td>\n      <td>108</td>\n      <td>1025</td>\n      <td>1025</td>\n      <td>1025</td>\n      <td>...</td>\n      <td>127</td>\n      <td>1020</td>\n      <td>6</td>\n      <td>0</td>\n      <td>0</td>\n      <td>0</td>\n      <td>0</td>\n      <td>0</td>\n      <td>0</td>\n      <td>0</td>\n    </tr>\n    <tr>\n      <th>Sternula albifrons</th>\n      <td>1000</td>\n      <td>1000</td>\n      <td>1000</td>\n      <td>1000</td>\n      <td>1000</td>\n      <td>1000</td>\n      <td>100</td>\n      <td>1000</td>\n      <td>1000</td>\n      <td>1000</td>\n      <td>...</td>\n      <td>29</td>\n      <td>994</td>\n      <td>6</td>\n      <td>0</td>\n      <td>0</td>\n      <td>0</td>\n      <td>0</td>\n      <td>0</td>\n      <td>0</td>\n      <td>0</td>\n    </tr>\n    <tr>\n      <th>Sturnus vulgaris</th>\n      <td>1025</td>\n      <td>1025</td>\n      <td>1025</td>\n      <td>1025</td>\n      <td>1025</td>\n      <td>1025</td>\n      <td>210</td>\n      <td>1025</td>\n      <td>1025</td>\n      <td>1025</td>\n      <td>...</td>\n      <td>62</td>\n      <td>1015</td>\n      <td>10</td>\n      <td>0</td>\n      <td>0</td>\n      <td>0</td>\n      <td>0</td>\n      <td>0</td>\n      <td>0</td>\n      <td>0</td>\n    </tr>\n    <tr>\n      <th>Tetrao urogallus</th>\n      <td>1000</td>\n      <td>1000</td>\n      <td>1000</td>\n      <td>1000</td>\n      <td>1000</td>\n      <td>1000</td>\n      <td>78</td>\n      <td>1000</td>\n      <td>1000</td>\n      <td>1000</td>\n      <td>...</td>\n      <td>46</td>\n      <td>1000</td>\n      <td>0</td>\n      <td>0</td>\n      <td>0</td>\n      <td>0</td>\n      <td>0</td>\n      <td>0</td>\n      <td>0</td>\n      <td>0</td>\n    </tr>\n    <tr>\n      <th>Turdus merula</th>\n      <td>1025</td>\n      <td>1025</td>\n      <td>1025</td>\n      <td>1025</td>\n      <td>1025</td>\n      <td>1025</td>\n      <td>196</td>\n      <td>1025</td>\n      <td>1025</td>\n      <td>1025</td>\n      <td>...</td>\n      <td>76</td>\n      <td>1022</td>\n      <td>5</td>\n      <td>0</td>\n      <td>0</td>\n      <td>0</td>\n      <td>0</td>\n      <td>0</td>\n      <td>0</td>\n      <td>0</td>\n    </tr>\n    <tr>\n      <th>Turdus torquatus</th>\n      <td>1000</td>\n      <td>1000</td>\n      <td>1000</td>\n      <td>1000</td>\n      <td>1000</td>\n      <td>1000</td>\n      <td>219</td>\n      <td>1000</td>\n      <td>1000</td>\n      <td>1000</td>\n      <td>...</td>\n      <td>49</td>\n      <td>964</td>\n      <td>33</td>\n      <td>3</td>\n      <td>0</td>\n      <td>0</td>\n      <td>0</td>\n      <td>0</td>\n      <td>0</td>\n      <td>0</td>\n    </tr>\n    <tr>\n      <th>Turdus viscivorus</th>\n      <td>1025</td>\n      <td>1025</td>\n      <td>1025</td>\n      <td>1025</td>\n      <td>1025</td>\n      <td>1025</td>\n      <td>69</td>\n      <td>1025</td>\n      <td>1025</td>\n      <td>1025</td>\n      <td>...</td>\n      <td>61</td>\n      <td>1011</td>\n      <td>15</td>\n      <td>0</td>\n      <td>0</td>\n      <td>0</td>\n      <td>0</td>\n      <td>0</td>\n      <td>0</td>\n      <td>0</td>\n    </tr>\n  </tbody>\n</table>\n<p>30 rows × 54 columns</p>\n</div>"
     },
     "execution_count": 57,
     "metadata": {},
     "output_type": "execute_result"
    }
   ],
   "source": [
    "result.groupby(['Latin name']).count()"
   ],
   "metadata": {
    "collapsed": false,
    "ExecuteTime": {
     "end_time": "2024-01-04T19:06:14.127473400Z",
     "start_time": "2024-01-04T19:06:13.948869553Z"
    }
   },
   "id": "50ab0eb08f6c26bd"
  },
  {
   "cell_type": "code",
   "execution_count": null,
   "outputs": [],
   "source": [],
   "metadata": {
    "collapsed": false
   },
   "id": "e38e91af144dd296"
  }
 ],
 "metadata": {
  "kernelspec": {
   "display_name": "Python 3",
   "language": "python",
   "name": "python3"
  },
  "language_info": {
   "codemirror_mode": {
    "name": "ipython",
    "version": 2
   },
   "file_extension": ".py",
   "mimetype": "text/x-python",
   "name": "python",
   "nbconvert_exporter": "python",
   "pygments_lexer": "ipython2",
   "version": "2.7.6"
  }
 },
 "nbformat": 4,
 "nbformat_minor": 5
}
