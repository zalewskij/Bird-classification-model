{
 "cells": [
  {
   "cell_type": "code",
   "execution_count": 1,
   "outputs": [],
   "source": [
    "import pandas as pd\n",
    "from imblearn.over_sampling import RandomOverSampler\n",
    "import torch\n",
    "from birdclassification.preprocessing.filtering import filter_recordings_30\n",
    "from sklearn.model_selection import train_test_split\n",
    "from birdclassification.training.dataset import Recordings30\n",
    "\n",
    "df = pd.DataFrame({\n",
    "    'feature1': [1, 2, 3, 4, 5, 6, 7, 8, 9, 10, 11, 12, 13],\n",
    "    'target': [1, 1, 1, 1, 1, 0, 1, 1, 1, 1, 2, 2, 2]\n",
    "})\n",
    " \n",
    "X = df.drop('target', axis=1).values\n",
    "y = df['target'].values"
   ],
   "metadata": {
    "collapsed": false,
    "ExecuteTime": {
     "end_time": "2024-01-02T18:46:07.403089968Z",
     "start_time": "2024-01-02T18:46:05.415412324Z"
    }
   },
   "id": "22313a0e5d7d852a"
  },
  {
   "cell_type": "markdown",
   "source": [
    "## Initial distribution"
   ],
   "metadata": {
    "collapsed": false
   },
   "id": "6286b6be2317227a"
  },
  {
   "cell_type": "code",
   "execution_count": 2,
   "outputs": [
    {
     "data": {
      "text/plain": "     0  label\n0    1      1\n1    2      1\n2    3      1\n3    4      1\n4    5      1\n5    6      0\n6    7      1\n7    8      1\n8    9      1\n9   10      1\n10  11      2\n11  12      2\n12  13      2",
      "text/html": "<div>\n<style scoped>\n    .dataframe tbody tr th:only-of-type {\n        vertical-align: middle;\n    }\n\n    .dataframe tbody tr th {\n        vertical-align: top;\n    }\n\n    .dataframe thead th {\n        text-align: right;\n    }\n</style>\n<table border=\"1\" class=\"dataframe\">\n  <thead>\n    <tr style=\"text-align: right;\">\n      <th></th>\n      <th>0</th>\n      <th>label</th>\n    </tr>\n  </thead>\n  <tbody>\n    <tr>\n      <th>0</th>\n      <td>1</td>\n      <td>1</td>\n    </tr>\n    <tr>\n      <th>1</th>\n      <td>2</td>\n      <td>1</td>\n    </tr>\n    <tr>\n      <th>2</th>\n      <td>3</td>\n      <td>1</td>\n    </tr>\n    <tr>\n      <th>3</th>\n      <td>4</td>\n      <td>1</td>\n    </tr>\n    <tr>\n      <th>4</th>\n      <td>5</td>\n      <td>1</td>\n    </tr>\n    <tr>\n      <th>5</th>\n      <td>6</td>\n      <td>0</td>\n    </tr>\n    <tr>\n      <th>6</th>\n      <td>7</td>\n      <td>1</td>\n    </tr>\n    <tr>\n      <th>7</th>\n      <td>8</td>\n      <td>1</td>\n    </tr>\n    <tr>\n      <th>8</th>\n      <td>9</td>\n      <td>1</td>\n    </tr>\n    <tr>\n      <th>9</th>\n      <td>10</td>\n      <td>1</td>\n    </tr>\n    <tr>\n      <th>10</th>\n      <td>11</td>\n      <td>2</td>\n    </tr>\n    <tr>\n      <th>11</th>\n      <td>12</td>\n      <td>2</td>\n    </tr>\n    <tr>\n      <th>12</th>\n      <td>13</td>\n      <td>2</td>\n    </tr>\n  </tbody>\n</table>\n</div>"
     },
     "execution_count": 2,
     "metadata": {},
     "output_type": "execute_result"
    }
   ],
   "source": [
    "df = pd.DataFrame(X).assign(label = y)\n",
    "df"
   ],
   "metadata": {
    "collapsed": false,
    "ExecuteTime": {
     "end_time": "2024-01-02T18:46:07.418432823Z",
     "start_time": "2024-01-02T18:46:07.409550613Z"
    }
   },
   "id": "85d7ab4f7033e43a"
  },
  {
   "cell_type": "code",
   "execution_count": 3,
   "outputs": [
    {
     "data": {
      "text/plain": "       0\nlabel   \n0      1\n1      9\n2      3",
      "text/html": "<div>\n<style scoped>\n    .dataframe tbody tr th:only-of-type {\n        vertical-align: middle;\n    }\n\n    .dataframe tbody tr th {\n        vertical-align: top;\n    }\n\n    .dataframe thead th {\n        text-align: right;\n    }\n</style>\n<table border=\"1\" class=\"dataframe\">\n  <thead>\n    <tr style=\"text-align: right;\">\n      <th></th>\n      <th>0</th>\n    </tr>\n    <tr>\n      <th>label</th>\n      <th></th>\n    </tr>\n  </thead>\n  <tbody>\n    <tr>\n      <th>0</th>\n      <td>1</td>\n    </tr>\n    <tr>\n      <th>1</th>\n      <td>9</td>\n    </tr>\n    <tr>\n      <th>2</th>\n      <td>3</td>\n    </tr>\n  </tbody>\n</table>\n</div>"
     },
     "execution_count": 3,
     "metadata": {},
     "output_type": "execute_result"
    }
   ],
   "source": [
    "x = df.groupby(['label']).count()\n",
    "x"
   ],
   "metadata": {
    "collapsed": false,
    "ExecuteTime": {
     "end_time": "2024-01-02T18:46:07.441027422Z",
     "start_time": "2024-01-02T18:46:07.418293430Z"
    }
   },
   "id": "c158511ae3fb07a8"
  },
  {
   "cell_type": "markdown",
   "source": [
    "## Resampled distribution (oversample to majority class)"
   ],
   "metadata": {
    "collapsed": false
   },
   "id": "472d0b84b6930bdb"
  },
  {
   "cell_type": "code",
   "execution_count": 4,
   "outputs": [],
   "source": [
    "ros = RandomOverSampler(random_state=123, sampling_strategy='not majority')\n",
    "X_resampled, y_resampled = ros.fit_resample(X, y)"
   ],
   "metadata": {
    "collapsed": false,
    "ExecuteTime": {
     "end_time": "2024-01-02T18:46:07.482213068Z",
     "start_time": "2024-01-02T18:46:07.431093313Z"
    }
   },
   "id": "e7d924c534477ccd"
  },
  {
   "cell_type": "code",
   "execution_count": 5,
   "outputs": [
    {
     "data": {
      "text/plain": "     0  label\n0    1      1\n1    2      1\n2    3      1\n3    4      1\n4    5      1\n5    6      0\n6    7      1\n7    8      1\n8    9      1\n9   10      1\n10  11      2\n11  12      2\n12  13      2\n13   6      0\n14   6      0\n15   6      0\n16   6      0\n17   6      0\n18   6      0\n19   6      0\n20   6      0\n21  13      2\n22  12      2\n23  13      2\n24  13      2\n25  11      2\n26  13      2",
      "text/html": "<div>\n<style scoped>\n    .dataframe tbody tr th:only-of-type {\n        vertical-align: middle;\n    }\n\n    .dataframe tbody tr th {\n        vertical-align: top;\n    }\n\n    .dataframe thead th {\n        text-align: right;\n    }\n</style>\n<table border=\"1\" class=\"dataframe\">\n  <thead>\n    <tr style=\"text-align: right;\">\n      <th></th>\n      <th>0</th>\n      <th>label</th>\n    </tr>\n  </thead>\n  <tbody>\n    <tr>\n      <th>0</th>\n      <td>1</td>\n      <td>1</td>\n    </tr>\n    <tr>\n      <th>1</th>\n      <td>2</td>\n      <td>1</td>\n    </tr>\n    <tr>\n      <th>2</th>\n      <td>3</td>\n      <td>1</td>\n    </tr>\n    <tr>\n      <th>3</th>\n      <td>4</td>\n      <td>1</td>\n    </tr>\n    <tr>\n      <th>4</th>\n      <td>5</td>\n      <td>1</td>\n    </tr>\n    <tr>\n      <th>5</th>\n      <td>6</td>\n      <td>0</td>\n    </tr>\n    <tr>\n      <th>6</th>\n      <td>7</td>\n      <td>1</td>\n    </tr>\n    <tr>\n      <th>7</th>\n      <td>8</td>\n      <td>1</td>\n    </tr>\n    <tr>\n      <th>8</th>\n      <td>9</td>\n      <td>1</td>\n    </tr>\n    <tr>\n      <th>9</th>\n      <td>10</td>\n      <td>1</td>\n    </tr>\n    <tr>\n      <th>10</th>\n      <td>11</td>\n      <td>2</td>\n    </tr>\n    <tr>\n      <th>11</th>\n      <td>12</td>\n      <td>2</td>\n    </tr>\n    <tr>\n      <th>12</th>\n      <td>13</td>\n      <td>2</td>\n    </tr>\n    <tr>\n      <th>13</th>\n      <td>6</td>\n      <td>0</td>\n    </tr>\n    <tr>\n      <th>14</th>\n      <td>6</td>\n      <td>0</td>\n    </tr>\n    <tr>\n      <th>15</th>\n      <td>6</td>\n      <td>0</td>\n    </tr>\n    <tr>\n      <th>16</th>\n      <td>6</td>\n      <td>0</td>\n    </tr>\n    <tr>\n      <th>17</th>\n      <td>6</td>\n      <td>0</td>\n    </tr>\n    <tr>\n      <th>18</th>\n      <td>6</td>\n      <td>0</td>\n    </tr>\n    <tr>\n      <th>19</th>\n      <td>6</td>\n      <td>0</td>\n    </tr>\n    <tr>\n      <th>20</th>\n      <td>6</td>\n      <td>0</td>\n    </tr>\n    <tr>\n      <th>21</th>\n      <td>13</td>\n      <td>2</td>\n    </tr>\n    <tr>\n      <th>22</th>\n      <td>12</td>\n      <td>2</td>\n    </tr>\n    <tr>\n      <th>23</th>\n      <td>13</td>\n      <td>2</td>\n    </tr>\n    <tr>\n      <th>24</th>\n      <td>13</td>\n      <td>2</td>\n    </tr>\n    <tr>\n      <th>25</th>\n      <td>11</td>\n      <td>2</td>\n    </tr>\n    <tr>\n      <th>26</th>\n      <td>13</td>\n      <td>2</td>\n    </tr>\n  </tbody>\n</table>\n</div>"
     },
     "execution_count": 5,
     "metadata": {},
     "output_type": "execute_result"
    }
   ],
   "source": [
    "df_r = pd.DataFrame(X_resampled).assign(label = y_resampled)\n",
    "df_r"
   ],
   "metadata": {
    "collapsed": false,
    "ExecuteTime": {
     "end_time": "2024-01-02T18:46:07.483150169Z",
     "start_time": "2024-01-02T18:46:07.472534622Z"
    }
   },
   "id": "27a4ecf50c330b36"
  },
  {
   "cell_type": "code",
   "execution_count": 6,
   "outputs": [
    {
     "data": {
      "text/plain": "       0\nlabel   \n0      9\n1      9\n2      9",
      "text/html": "<div>\n<style scoped>\n    .dataframe tbody tr th:only-of-type {\n        vertical-align: middle;\n    }\n\n    .dataframe tbody tr th {\n        vertical-align: top;\n    }\n\n    .dataframe thead th {\n        text-align: right;\n    }\n</style>\n<table border=\"1\" class=\"dataframe\">\n  <thead>\n    <tr style=\"text-align: right;\">\n      <th></th>\n      <th>0</th>\n    </tr>\n    <tr>\n      <th>label</th>\n      <th></th>\n    </tr>\n  </thead>\n  <tbody>\n    <tr>\n      <th>0</th>\n      <td>9</td>\n    </tr>\n    <tr>\n      <th>1</th>\n      <td>9</td>\n    </tr>\n    <tr>\n      <th>2</th>\n      <td>9</td>\n    </tr>\n  </tbody>\n</table>\n</div>"
     },
     "execution_count": 6,
     "metadata": {},
     "output_type": "execute_result"
    }
   ],
   "source": [
    "x = df_r.groupby(['label']).count()\n",
    "x"
   ],
   "metadata": {
    "collapsed": false,
    "ExecuteTime": {
     "end_time": "2024-01-02T18:46:07.521935953Z",
     "start_time": "2024-01-02T18:46:07.472720092Z"
    }
   },
   "id": "2ef66494a54c8aa9"
  },
  {
   "cell_type": "markdown",
   "source": [
    "## Resampled distribution (dictionary)"
   ],
   "metadata": {
    "collapsed": false
   },
   "id": "ddac761708d41315"
  },
  {
   "cell_type": "markdown",
   "source": [
    "### Fixed dictionary"
   ],
   "metadata": {
    "collapsed": false
   },
   "id": "b7f3c01bf5cab545"
  },
  {
   "cell_type": "code",
   "execution_count": 7,
   "outputs": [],
   "source": [
    "dict = {0:9, 1:9, 2:5}\n",
    "\n",
    "ros = RandomOverSampler(random_state=123, sampling_strategy=dict)\n",
    "X_resampled, y_resampled = ros.fit_resample(X, y)"
   ],
   "metadata": {
    "collapsed": false,
    "ExecuteTime": {
     "end_time": "2024-01-02T18:46:07.524557287Z",
     "start_time": "2024-01-02T18:46:07.480978407Z"
    }
   },
   "id": "afec3254dd0e0173"
  },
  {
   "cell_type": "code",
   "execution_count": 8,
   "outputs": [
    {
     "data": {
      "text/plain": "     0  label\n0    1      1\n1    2      1\n2    3      1\n3    4      1\n4    5      1\n5    6      0\n6    7      1\n7    8      1\n8    9      1\n9   10      1\n10  11      2\n11  12      2\n12  13      2\n13   6      0\n14   6      0\n15   6      0\n16   6      0\n17   6      0\n18   6      0\n19   6      0\n20   6      0\n21  13      2\n22  12      2",
      "text/html": "<div>\n<style scoped>\n    .dataframe tbody tr th:only-of-type {\n        vertical-align: middle;\n    }\n\n    .dataframe tbody tr th {\n        vertical-align: top;\n    }\n\n    .dataframe thead th {\n        text-align: right;\n    }\n</style>\n<table border=\"1\" class=\"dataframe\">\n  <thead>\n    <tr style=\"text-align: right;\">\n      <th></th>\n      <th>0</th>\n      <th>label</th>\n    </tr>\n  </thead>\n  <tbody>\n    <tr>\n      <th>0</th>\n      <td>1</td>\n      <td>1</td>\n    </tr>\n    <tr>\n      <th>1</th>\n      <td>2</td>\n      <td>1</td>\n    </tr>\n    <tr>\n      <th>2</th>\n      <td>3</td>\n      <td>1</td>\n    </tr>\n    <tr>\n      <th>3</th>\n      <td>4</td>\n      <td>1</td>\n    </tr>\n    <tr>\n      <th>4</th>\n      <td>5</td>\n      <td>1</td>\n    </tr>\n    <tr>\n      <th>5</th>\n      <td>6</td>\n      <td>0</td>\n    </tr>\n    <tr>\n      <th>6</th>\n      <td>7</td>\n      <td>1</td>\n    </tr>\n    <tr>\n      <th>7</th>\n      <td>8</td>\n      <td>1</td>\n    </tr>\n    <tr>\n      <th>8</th>\n      <td>9</td>\n      <td>1</td>\n    </tr>\n    <tr>\n      <th>9</th>\n      <td>10</td>\n      <td>1</td>\n    </tr>\n    <tr>\n      <th>10</th>\n      <td>11</td>\n      <td>2</td>\n    </tr>\n    <tr>\n      <th>11</th>\n      <td>12</td>\n      <td>2</td>\n    </tr>\n    <tr>\n      <th>12</th>\n      <td>13</td>\n      <td>2</td>\n    </tr>\n    <tr>\n      <th>13</th>\n      <td>6</td>\n      <td>0</td>\n    </tr>\n    <tr>\n      <th>14</th>\n      <td>6</td>\n      <td>0</td>\n    </tr>\n    <tr>\n      <th>15</th>\n      <td>6</td>\n      <td>0</td>\n    </tr>\n    <tr>\n      <th>16</th>\n      <td>6</td>\n      <td>0</td>\n    </tr>\n    <tr>\n      <th>17</th>\n      <td>6</td>\n      <td>0</td>\n    </tr>\n    <tr>\n      <th>18</th>\n      <td>6</td>\n      <td>0</td>\n    </tr>\n    <tr>\n      <th>19</th>\n      <td>6</td>\n      <td>0</td>\n    </tr>\n    <tr>\n      <th>20</th>\n      <td>6</td>\n      <td>0</td>\n    </tr>\n    <tr>\n      <th>21</th>\n      <td>13</td>\n      <td>2</td>\n    </tr>\n    <tr>\n      <th>22</th>\n      <td>12</td>\n      <td>2</td>\n    </tr>\n  </tbody>\n</table>\n</div>"
     },
     "execution_count": 8,
     "metadata": {},
     "output_type": "execute_result"
    }
   ],
   "source": [
    "df_r = pd.DataFrame(X_resampled).assign(label = y_resampled)\n",
    "df_r"
   ],
   "metadata": {
    "collapsed": false,
    "ExecuteTime": {
     "end_time": "2024-01-02T18:46:07.575239884Z",
     "start_time": "2024-01-02T18:46:07.492769397Z"
    }
   },
   "id": "64cfd213b791d265"
  },
  {
   "cell_type": "code",
   "execution_count": 9,
   "outputs": [
    {
     "data": {
      "text/plain": "       0\nlabel   \n0      9\n1      9\n2      5",
      "text/html": "<div>\n<style scoped>\n    .dataframe tbody tr th:only-of-type {\n        vertical-align: middle;\n    }\n\n    .dataframe tbody tr th {\n        vertical-align: top;\n    }\n\n    .dataframe thead th {\n        text-align: right;\n    }\n</style>\n<table border=\"1\" class=\"dataframe\">\n  <thead>\n    <tr style=\"text-align: right;\">\n      <th></th>\n      <th>0</th>\n    </tr>\n    <tr>\n      <th>label</th>\n      <th></th>\n    </tr>\n  </thead>\n  <tbody>\n    <tr>\n      <th>0</th>\n      <td>9</td>\n    </tr>\n    <tr>\n      <th>1</th>\n      <td>9</td>\n    </tr>\n    <tr>\n      <th>2</th>\n      <td>5</td>\n    </tr>\n  </tbody>\n</table>\n</div>"
     },
     "execution_count": 9,
     "metadata": {},
     "output_type": "execute_result"
    }
   ],
   "source": [
    "x =df_r.groupby(['label']).count()\n",
    "x"
   ],
   "metadata": {
    "collapsed": false,
    "ExecuteTime": {
     "end_time": "2024-01-02T18:46:07.654424754Z",
     "start_time": "2024-01-02T18:46:07.510557566Z"
    }
   },
   "id": "8dc56b66a755bf6b"
  },
  {
   "cell_type": "markdown",
   "source": [
    "### Resample to max(number of elements in class, threshold n_sample)"
   ],
   "metadata": {
    "collapsed": false
   },
   "id": "3b01b726bb64b41f"
  },
  {
   "cell_type": "code",
   "execution_count": 10,
   "outputs": [
    {
     "data": {
      "text/plain": "{0: 5, 1: 9, 2: 5}"
     },
     "execution_count": 10,
     "metadata": {},
     "output_type": "execute_result"
    }
   ],
   "source": [
    "dist = df.groupby('label').count()\n",
    "n_sample = 5\n",
    "dist_dict = {}\n",
    "\n",
    "for i in range(len(dist.index)):\n",
    "    dist_dict[i] = max(dist.iloc[i, 0], n_sample)\n",
    "\n",
    "dist_dict"
   ],
   "metadata": {
    "collapsed": false,
    "ExecuteTime": {
     "end_time": "2024-01-02T18:46:07.655030608Z",
     "start_time": "2024-01-02T18:46:07.556582268Z"
    }
   },
   "id": "36398d615a8ce20c"
  },
  {
   "cell_type": "code",
   "execution_count": 11,
   "outputs": [],
   "source": [
    "ros = RandomOverSampler(random_state=123, sampling_strategy=dist_dict)\n",
    "X_resampled, y_resampled = ros.fit_resample(X, y)"
   ],
   "metadata": {
    "collapsed": false,
    "ExecuteTime": {
     "end_time": "2024-01-02T18:46:07.655272701Z",
     "start_time": "2024-01-02T18:46:07.556726520Z"
    }
   },
   "id": "1bed9f2d54a1ffb0"
  },
  {
   "cell_type": "code",
   "execution_count": 12,
   "outputs": [
    {
     "data": {
      "text/plain": "     0  label\n0    1      1\n1    2      1\n2    3      1\n3    4      1\n4    5      1\n5    6      0\n6    7      1\n7    8      1\n8    9      1\n9   10      1\n10  11      2\n11  12      2\n12  13      2\n13   6      0\n14   6      0\n15   6      0\n16   6      0\n17  13      2\n18  12      2",
      "text/html": "<div>\n<style scoped>\n    .dataframe tbody tr th:only-of-type {\n        vertical-align: middle;\n    }\n\n    .dataframe tbody tr th {\n        vertical-align: top;\n    }\n\n    .dataframe thead th {\n        text-align: right;\n    }\n</style>\n<table border=\"1\" class=\"dataframe\">\n  <thead>\n    <tr style=\"text-align: right;\">\n      <th></th>\n      <th>0</th>\n      <th>label</th>\n    </tr>\n  </thead>\n  <tbody>\n    <tr>\n      <th>0</th>\n      <td>1</td>\n      <td>1</td>\n    </tr>\n    <tr>\n      <th>1</th>\n      <td>2</td>\n      <td>1</td>\n    </tr>\n    <tr>\n      <th>2</th>\n      <td>3</td>\n      <td>1</td>\n    </tr>\n    <tr>\n      <th>3</th>\n      <td>4</td>\n      <td>1</td>\n    </tr>\n    <tr>\n      <th>4</th>\n      <td>5</td>\n      <td>1</td>\n    </tr>\n    <tr>\n      <th>5</th>\n      <td>6</td>\n      <td>0</td>\n    </tr>\n    <tr>\n      <th>6</th>\n      <td>7</td>\n      <td>1</td>\n    </tr>\n    <tr>\n      <th>7</th>\n      <td>8</td>\n      <td>1</td>\n    </tr>\n    <tr>\n      <th>8</th>\n      <td>9</td>\n      <td>1</td>\n    </tr>\n    <tr>\n      <th>9</th>\n      <td>10</td>\n      <td>1</td>\n    </tr>\n    <tr>\n      <th>10</th>\n      <td>11</td>\n      <td>2</td>\n    </tr>\n    <tr>\n      <th>11</th>\n      <td>12</td>\n      <td>2</td>\n    </tr>\n    <tr>\n      <th>12</th>\n      <td>13</td>\n      <td>2</td>\n    </tr>\n    <tr>\n      <th>13</th>\n      <td>6</td>\n      <td>0</td>\n    </tr>\n    <tr>\n      <th>14</th>\n      <td>6</td>\n      <td>0</td>\n    </tr>\n    <tr>\n      <th>15</th>\n      <td>6</td>\n      <td>0</td>\n    </tr>\n    <tr>\n      <th>16</th>\n      <td>6</td>\n      <td>0</td>\n    </tr>\n    <tr>\n      <th>17</th>\n      <td>13</td>\n      <td>2</td>\n    </tr>\n    <tr>\n      <th>18</th>\n      <td>12</td>\n      <td>2</td>\n    </tr>\n  </tbody>\n</table>\n</div>"
     },
     "execution_count": 12,
     "metadata": {},
     "output_type": "execute_result"
    }
   ],
   "source": [
    "df_r = pd.DataFrame(X_resampled).assign(label = y_resampled)\n",
    "df_r"
   ],
   "metadata": {
    "collapsed": false,
    "ExecuteTime": {
     "end_time": "2024-01-02T18:46:07.655995411Z",
     "start_time": "2024-01-02T18:46:07.556773638Z"
    }
   },
   "id": "7202a78e7c79d14e"
  },
  {
   "cell_type": "code",
   "execution_count": 13,
   "outputs": [
    {
     "data": {
      "text/plain": "       0\nlabel   \n0      5\n1      9\n2      5",
      "text/html": "<div>\n<style scoped>\n    .dataframe tbody tr th:only-of-type {\n        vertical-align: middle;\n    }\n\n    .dataframe tbody tr th {\n        vertical-align: top;\n    }\n\n    .dataframe thead th {\n        text-align: right;\n    }\n</style>\n<table border=\"1\" class=\"dataframe\">\n  <thead>\n    <tr style=\"text-align: right;\">\n      <th></th>\n      <th>0</th>\n    </tr>\n    <tr>\n      <th>label</th>\n      <th></th>\n    </tr>\n  </thead>\n  <tbody>\n    <tr>\n      <th>0</th>\n      <td>5</td>\n    </tr>\n    <tr>\n      <th>1</th>\n      <td>9</td>\n    </tr>\n    <tr>\n      <th>2</th>\n      <td>5</td>\n    </tr>\n  </tbody>\n</table>\n</div>"
     },
     "execution_count": 13,
     "metadata": {},
     "output_type": "execute_result"
    }
   ],
   "source": [
    "x =df_r.groupby(['label']).count()\n",
    "x"
   ],
   "metadata": {
    "collapsed": false,
    "ExecuteTime": {
     "end_time": "2024-01-02T18:46:07.696954587Z",
     "start_time": "2024-01-02T18:46:07.564508425Z"
    }
   },
   "id": "7d99bd4a42ff51c0"
  },
  {
   "cell_type": "markdown",
   "source": [
    "## Recording dataset"
   ],
   "metadata": {
    "collapsed": false
   },
   "id": "45fa39c903353082"
  },
  {
   "cell_type": "code",
   "execution_count": 14,
   "outputs": [
    {
     "name": "stderr",
     "output_type": "stream",
     "text": [
      "/home/jacek/Documents/PycharmProjects/Bird-classification-model/birdclassification/preprocessing/filtering.py:72: DtypeWarning: Columns (10,39,43,44,45,46,47,48) have mixed types. Specify dtype option on import or set low_memory=False.\n",
      "  recordings = pd.read_csv(filepath_recordings)\n"
     ]
    }
   ],
   "source": [
    "DEVICE = \"cuda\" if torch.cuda.is_available() else \"cpu\"\n",
    "SEED = 123\n",
    "#RECORDINGS_DIR = '/mnt/d/recordings_30/'\n",
    "RECORDINGS_DIR = '/media/jacek/E753-A120/recordings_287/'\n",
    "NOISES_DIR = '/path/to/noise/dataset'\n",
    "SAMPLE_RATE = 32000\n",
    "NUM_SAMPLES = SAMPLE_RATE * 1\n",
    "BATCH_SIZE = 32\n",
    "LEARNING_RATE = 0.0001\n",
    "EPOCHS = 5\n",
    "NUM_WORKERS = 8\n",
    "\n",
    "df = filter_recordings_30(\"../data/xeno_canto_recordings.csv\", \"../data/bird-list-extended.csv\")\n",
    "train_df, test_val_df = train_test_split(df, stratify=df['Latin name'], test_size=0.2, random_state = SEED)\n",
    "val_df, test_df = train_test_split(test_val_df, stratify=test_val_df['Latin name'], test_size=0.5, random_state = SEED)\n",
    "\n",
    "train_ds = Recordings30(train_df, recording_dir=RECORDINGS_DIR, device = DEVICE, random_fragment=True)\n",
    "val_ds = Recordings30(val_df, recording_dir=RECORDINGS_DIR, device = DEVICE)\n",
    "test_ds = Recordings30(test_df, recording_dir=RECORDINGS_DIR, device = DEVICE)"
   ],
   "metadata": {
    "collapsed": false,
    "ExecuteTime": {
     "end_time": "2024-01-02T18:46:14.429153949Z",
     "start_time": "2024-01-02T18:46:07.608574968Z"
    }
   },
   "id": "858010ce00561b7d"
  },
  {
   "cell_type": "code",
   "execution_count": 15,
   "outputs": [
    {
     "data": {
      "text/plain": "       level_0   index  Unnamed: 0      id      gen     sp        ssp  group  \\\n0            0       5           5  815762   Cygnus   olor        NaN  birds   \n1            1       6           6  808540   Cygnus   olor        NaN  birds   \n2            2       7           7  805048   Cygnus   olor        NaN  birds   \n3            3       8           8  804791   Cygnus   olor        NaN  birds   \n4            4       9           9  797609   Cygnus   olor        NaN  birds   \n...        ...     ...         ...     ...      ...    ...        ...    ...   \n41204    41205  296788      296788  108758  Columba  livia        NaN  birds   \n41205    41206  296789      296789   58488  Columba  livia        NaN  birds   \n41206    41207  296790      296790    6924  Columba  livia  domestica  birds   \n41207    41208  296791      296791  387816  Columba  livia        NaN  birds   \n41208    41209  296792      296792  323560  Columba  livia        NaN  birds   \n\n              en                   rec  ...      smp Unnamed: 44 Unnamed: 45  \\\n0      Mute Swan      Frédéric Cazaban  ...    44100         NaN         NaN   \n1      Mute Swan            Juha Saari  ...    44100         NaN         NaN   \n2      Mute Swan      Magnus Hellström  ...    44100         NaN         NaN   \n3      Mute Swan              Uku Paal  ...    44100         NaN         NaN   \n4      Mute Swan          Jorge Leitão  ...    44100         NaN         NaN   \n...          ...                   ...  ...      ...         ...         ...   \n41204  Rock Dove   Albert Lastukhin     ...  44100.0         NaN         NaN   \n41205  Rock Dove           Mike Nelson  ...  44100.0         NaN         NaN   \n41206  Rock Dove  Glauco Alves Pereira  ...  22050.0         NaN         NaN   \n41207  Rock Dove         johannes buhl  ...  44100.0         NaN         NaN   \n41208  Rock Dove      Alfonso Auerbach  ...  44100.0         NaN         NaN   \n\n       Unnamed: 46 Unnamed: 47 Unnamed: 48 Unnamed: 49 Unnamed: 50  \\\n0              NaN         NaN         NaN         NaN         NaN   \n1              NaN         NaN         NaN         NaN         NaN   \n2              NaN         NaN         NaN         NaN         NaN   \n3              NaN         NaN         NaN         NaN         NaN   \n4              NaN         NaN         NaN         NaN         NaN   \n...            ...         ...         ...         ...         ...   \n41204          NaN         NaN         NaN         NaN         NaN   \n41205          NaN         NaN         NaN         NaN         NaN   \n41206          NaN         NaN         NaN         NaN         NaN   \n41207          NaN         NaN         NaN         NaN         NaN   \n41208          NaN         NaN         NaN         NaN         NaN   \n\n      Unnamed: 51     Latin name  \n0             NaN    Cygnus olor  \n1             NaN    Cygnus olor  \n2             NaN    Cygnus olor  \n3             NaN    Cygnus olor  \n4             NaN    Cygnus olor  \n...           ...            ...  \n41204         NaN  Columba livia  \n41205         NaN  Columba livia  \n41206         NaN  Columba livia  \n41207         NaN  Columba livia  \n41208         NaN  Columba livia  \n\n[41209 rows x 55 columns]",
      "text/html": "<div>\n<style scoped>\n    .dataframe tbody tr th:only-of-type {\n        vertical-align: middle;\n    }\n\n    .dataframe tbody tr th {\n        vertical-align: top;\n    }\n\n    .dataframe thead th {\n        text-align: right;\n    }\n</style>\n<table border=\"1\" class=\"dataframe\">\n  <thead>\n    <tr style=\"text-align: right;\">\n      <th></th>\n      <th>level_0</th>\n      <th>index</th>\n      <th>Unnamed: 0</th>\n      <th>id</th>\n      <th>gen</th>\n      <th>sp</th>\n      <th>ssp</th>\n      <th>group</th>\n      <th>en</th>\n      <th>rec</th>\n      <th>...</th>\n      <th>smp</th>\n      <th>Unnamed: 44</th>\n      <th>Unnamed: 45</th>\n      <th>Unnamed: 46</th>\n      <th>Unnamed: 47</th>\n      <th>Unnamed: 48</th>\n      <th>Unnamed: 49</th>\n      <th>Unnamed: 50</th>\n      <th>Unnamed: 51</th>\n      <th>Latin name</th>\n    </tr>\n  </thead>\n  <tbody>\n    <tr>\n      <th>0</th>\n      <td>0</td>\n      <td>5</td>\n      <td>5</td>\n      <td>815762</td>\n      <td>Cygnus</td>\n      <td>olor</td>\n      <td>NaN</td>\n      <td>birds</td>\n      <td>Mute Swan</td>\n      <td>Frédéric Cazaban</td>\n      <td>...</td>\n      <td>44100</td>\n      <td>NaN</td>\n      <td>NaN</td>\n      <td>NaN</td>\n      <td>NaN</td>\n      <td>NaN</td>\n      <td>NaN</td>\n      <td>NaN</td>\n      <td>NaN</td>\n      <td>Cygnus olor</td>\n    </tr>\n    <tr>\n      <th>1</th>\n      <td>1</td>\n      <td>6</td>\n      <td>6</td>\n      <td>808540</td>\n      <td>Cygnus</td>\n      <td>olor</td>\n      <td>NaN</td>\n      <td>birds</td>\n      <td>Mute Swan</td>\n      <td>Juha Saari</td>\n      <td>...</td>\n      <td>44100</td>\n      <td>NaN</td>\n      <td>NaN</td>\n      <td>NaN</td>\n      <td>NaN</td>\n      <td>NaN</td>\n      <td>NaN</td>\n      <td>NaN</td>\n      <td>NaN</td>\n      <td>Cygnus olor</td>\n    </tr>\n    <tr>\n      <th>2</th>\n      <td>2</td>\n      <td>7</td>\n      <td>7</td>\n      <td>805048</td>\n      <td>Cygnus</td>\n      <td>olor</td>\n      <td>NaN</td>\n      <td>birds</td>\n      <td>Mute Swan</td>\n      <td>Magnus Hellström</td>\n      <td>...</td>\n      <td>44100</td>\n      <td>NaN</td>\n      <td>NaN</td>\n      <td>NaN</td>\n      <td>NaN</td>\n      <td>NaN</td>\n      <td>NaN</td>\n      <td>NaN</td>\n      <td>NaN</td>\n      <td>Cygnus olor</td>\n    </tr>\n    <tr>\n      <th>3</th>\n      <td>3</td>\n      <td>8</td>\n      <td>8</td>\n      <td>804791</td>\n      <td>Cygnus</td>\n      <td>olor</td>\n      <td>NaN</td>\n      <td>birds</td>\n      <td>Mute Swan</td>\n      <td>Uku Paal</td>\n      <td>...</td>\n      <td>44100</td>\n      <td>NaN</td>\n      <td>NaN</td>\n      <td>NaN</td>\n      <td>NaN</td>\n      <td>NaN</td>\n      <td>NaN</td>\n      <td>NaN</td>\n      <td>NaN</td>\n      <td>Cygnus olor</td>\n    </tr>\n    <tr>\n      <th>4</th>\n      <td>4</td>\n      <td>9</td>\n      <td>9</td>\n      <td>797609</td>\n      <td>Cygnus</td>\n      <td>olor</td>\n      <td>NaN</td>\n      <td>birds</td>\n      <td>Mute Swan</td>\n      <td>Jorge Leitão</td>\n      <td>...</td>\n      <td>44100</td>\n      <td>NaN</td>\n      <td>NaN</td>\n      <td>NaN</td>\n      <td>NaN</td>\n      <td>NaN</td>\n      <td>NaN</td>\n      <td>NaN</td>\n      <td>NaN</td>\n      <td>Cygnus olor</td>\n    </tr>\n    <tr>\n      <th>...</th>\n      <td>...</td>\n      <td>...</td>\n      <td>...</td>\n      <td>...</td>\n      <td>...</td>\n      <td>...</td>\n      <td>...</td>\n      <td>...</td>\n      <td>...</td>\n      <td>...</td>\n      <td>...</td>\n      <td>...</td>\n      <td>...</td>\n      <td>...</td>\n      <td>...</td>\n      <td>...</td>\n      <td>...</td>\n      <td>...</td>\n      <td>...</td>\n      <td>...</td>\n      <td>...</td>\n    </tr>\n    <tr>\n      <th>41204</th>\n      <td>41205</td>\n      <td>296788</td>\n      <td>296788</td>\n      <td>108758</td>\n      <td>Columba</td>\n      <td>livia</td>\n      <td>NaN</td>\n      <td>birds</td>\n      <td>Rock Dove</td>\n      <td>Albert Lastukhin</td>\n      <td>...</td>\n      <td>44100.0</td>\n      <td>NaN</td>\n      <td>NaN</td>\n      <td>NaN</td>\n      <td>NaN</td>\n      <td>NaN</td>\n      <td>NaN</td>\n      <td>NaN</td>\n      <td>NaN</td>\n      <td>Columba livia</td>\n    </tr>\n    <tr>\n      <th>41205</th>\n      <td>41206</td>\n      <td>296789</td>\n      <td>296789</td>\n      <td>58488</td>\n      <td>Columba</td>\n      <td>livia</td>\n      <td>NaN</td>\n      <td>birds</td>\n      <td>Rock Dove</td>\n      <td>Mike Nelson</td>\n      <td>...</td>\n      <td>44100.0</td>\n      <td>NaN</td>\n      <td>NaN</td>\n      <td>NaN</td>\n      <td>NaN</td>\n      <td>NaN</td>\n      <td>NaN</td>\n      <td>NaN</td>\n      <td>NaN</td>\n      <td>Columba livia</td>\n    </tr>\n    <tr>\n      <th>41206</th>\n      <td>41207</td>\n      <td>296790</td>\n      <td>296790</td>\n      <td>6924</td>\n      <td>Columba</td>\n      <td>livia</td>\n      <td>domestica</td>\n      <td>birds</td>\n      <td>Rock Dove</td>\n      <td>Glauco Alves Pereira</td>\n      <td>...</td>\n      <td>22050.0</td>\n      <td>NaN</td>\n      <td>NaN</td>\n      <td>NaN</td>\n      <td>NaN</td>\n      <td>NaN</td>\n      <td>NaN</td>\n      <td>NaN</td>\n      <td>NaN</td>\n      <td>Columba livia</td>\n    </tr>\n    <tr>\n      <th>41207</th>\n      <td>41208</td>\n      <td>296791</td>\n      <td>296791</td>\n      <td>387816</td>\n      <td>Columba</td>\n      <td>livia</td>\n      <td>NaN</td>\n      <td>birds</td>\n      <td>Rock Dove</td>\n      <td>johannes buhl</td>\n      <td>...</td>\n      <td>44100.0</td>\n      <td>NaN</td>\n      <td>NaN</td>\n      <td>NaN</td>\n      <td>NaN</td>\n      <td>NaN</td>\n      <td>NaN</td>\n      <td>NaN</td>\n      <td>NaN</td>\n      <td>Columba livia</td>\n    </tr>\n    <tr>\n      <th>41208</th>\n      <td>41209</td>\n      <td>296792</td>\n      <td>296792</td>\n      <td>323560</td>\n      <td>Columba</td>\n      <td>livia</td>\n      <td>NaN</td>\n      <td>birds</td>\n      <td>Rock Dove</td>\n      <td>Alfonso Auerbach</td>\n      <td>...</td>\n      <td>44100.0</td>\n      <td>NaN</td>\n      <td>NaN</td>\n      <td>NaN</td>\n      <td>NaN</td>\n      <td>NaN</td>\n      <td>NaN</td>\n      <td>NaN</td>\n      <td>NaN</td>\n      <td>Columba livia</td>\n    </tr>\n  </tbody>\n</table>\n<p>41209 rows × 55 columns</p>\n</div>"
     },
     "execution_count": 15,
     "metadata": {},
     "output_type": "execute_result"
    }
   ],
   "source": [
    "df"
   ],
   "metadata": {
    "collapsed": false,
    "ExecuteTime": {
     "end_time": "2024-01-02T18:46:14.471708098Z",
     "start_time": "2024-01-02T18:46:14.429312313Z"
    }
   },
   "id": "c9d331c3399facec"
  },
  {
   "cell_type": "code",
   "execution_count": 16,
   "outputs": [
    {
     "data": {
      "text/plain": "                       recordings number\nLatin name                              \nCiconia ciconia                      137\nTetrao urogallus                     150\nPhalacrocorax carbo                  210\nColumba livia                        218\nSternula albifrons                   356\nCygnus olor                          521\nPhasianus colchicus                  642\nCorvus frugilegus                    707\nApus apus                            708\nTurdus torquatus                     839\nLophophanes cristatus                934\nButeo buteo                          941\nGrus grus                            951\nPicus viridis                       1027\nAnas platyrhynchos                  1081\nPica pica                           1140\nTurdus viscivorus                   1197\nCorvus cornix                       1212\nAsio otus                           1265\nPhoenicurus ochruros                1334\nHirundo rustica                     1665\nSturnus vulgaris                    1703\nGarrulus glandarius                 1880\nCuculus canorus                     1942\nCarduelis carduelis                 2066\nCorvus corax                        2076\nDendrocopos major                   2454\nPasser domesticus                   2489\nAlauda arvensis                     2647\nTurdus merula                       6717",
      "text/html": "<div>\n<style scoped>\n    .dataframe tbody tr th:only-of-type {\n        vertical-align: middle;\n    }\n\n    .dataframe tbody tr th {\n        vertical-align: top;\n    }\n\n    .dataframe thead th {\n        text-align: right;\n    }\n</style>\n<table border=\"1\" class=\"dataframe\">\n  <thead>\n    <tr style=\"text-align: right;\">\n      <th></th>\n      <th>recordings number</th>\n    </tr>\n    <tr>\n      <th>Latin name</th>\n      <th></th>\n    </tr>\n  </thead>\n  <tbody>\n    <tr>\n      <th>Ciconia ciconia</th>\n      <td>137</td>\n    </tr>\n    <tr>\n      <th>Tetrao urogallus</th>\n      <td>150</td>\n    </tr>\n    <tr>\n      <th>Phalacrocorax carbo</th>\n      <td>210</td>\n    </tr>\n    <tr>\n      <th>Columba livia</th>\n      <td>218</td>\n    </tr>\n    <tr>\n      <th>Sternula albifrons</th>\n      <td>356</td>\n    </tr>\n    <tr>\n      <th>Cygnus olor</th>\n      <td>521</td>\n    </tr>\n    <tr>\n      <th>Phasianus colchicus</th>\n      <td>642</td>\n    </tr>\n    <tr>\n      <th>Corvus frugilegus</th>\n      <td>707</td>\n    </tr>\n    <tr>\n      <th>Apus apus</th>\n      <td>708</td>\n    </tr>\n    <tr>\n      <th>Turdus torquatus</th>\n      <td>839</td>\n    </tr>\n    <tr>\n      <th>Lophophanes cristatus</th>\n      <td>934</td>\n    </tr>\n    <tr>\n      <th>Buteo buteo</th>\n      <td>941</td>\n    </tr>\n    <tr>\n      <th>Grus grus</th>\n      <td>951</td>\n    </tr>\n    <tr>\n      <th>Picus viridis</th>\n      <td>1027</td>\n    </tr>\n    <tr>\n      <th>Anas platyrhynchos</th>\n      <td>1081</td>\n    </tr>\n    <tr>\n      <th>Pica pica</th>\n      <td>1140</td>\n    </tr>\n    <tr>\n      <th>Turdus viscivorus</th>\n      <td>1197</td>\n    </tr>\n    <tr>\n      <th>Corvus cornix</th>\n      <td>1212</td>\n    </tr>\n    <tr>\n      <th>Asio otus</th>\n      <td>1265</td>\n    </tr>\n    <tr>\n      <th>Phoenicurus ochruros</th>\n      <td>1334</td>\n    </tr>\n    <tr>\n      <th>Hirundo rustica</th>\n      <td>1665</td>\n    </tr>\n    <tr>\n      <th>Sturnus vulgaris</th>\n      <td>1703</td>\n    </tr>\n    <tr>\n      <th>Garrulus glandarius</th>\n      <td>1880</td>\n    </tr>\n    <tr>\n      <th>Cuculus canorus</th>\n      <td>1942</td>\n    </tr>\n    <tr>\n      <th>Carduelis carduelis</th>\n      <td>2066</td>\n    </tr>\n    <tr>\n      <th>Corvus corax</th>\n      <td>2076</td>\n    </tr>\n    <tr>\n      <th>Dendrocopos major</th>\n      <td>2454</td>\n    </tr>\n    <tr>\n      <th>Passer domesticus</th>\n      <td>2489</td>\n    </tr>\n    <tr>\n      <th>Alauda arvensis</th>\n      <td>2647</td>\n    </tr>\n    <tr>\n      <th>Turdus merula</th>\n      <td>6717</td>\n    </tr>\n  </tbody>\n</table>\n</div>"
     },
     "execution_count": 16,
     "metadata": {},
     "output_type": "execute_result"
    }
   ],
   "source": [
    "df_s = df[['Latin name', 'id']].astype(str)\n",
    "distribution_df = df_s.groupby('Latin name').count()\n",
    "distribution_df.columns = ['recordings number']\n",
    "distribution_df = distribution_df.sort_values('recordings number')\n",
    "distribution_df"
   ],
   "metadata": {
    "collapsed": false,
    "ExecuteTime": {
     "end_time": "2024-01-02T18:46:14.537878049Z",
     "start_time": "2024-01-02T18:46:14.475064853Z"
    }
   },
   "id": "3ad481f764cc5923"
  },
  {
   "cell_type": "code",
   "execution_count": 17,
   "outputs": [
    {
     "data": {
      "text/plain": "<Axes: ylabel='Frequency'>"
     },
     "execution_count": 17,
     "metadata": {},
     "output_type": "execute_result"
    },
    {
     "data": {
      "text/plain": "<Figure size 640x480 with 1 Axes>",
      "image/png": "[encoded data removed]"
     },
     "metadata": {},
     "output_type": "display_data"
    }
   ],
   "source": [
    "distribution_df.plot.hist(bins = 30)"
   ],
   "metadata": {
    "collapsed": false,
    "ExecuteTime": {
     "end_time": "2024-01-02T18:46:14.838889149Z",
     "start_time": "2024-01-02T18:46:14.516554644Z"
    }
   },
   "id": "841e36bdb4c15179"
  },
  {
   "cell_type": "code",
   "execution_count": 18,
   "outputs": [
    {
     "data": {
      "text/plain": "{'Alauda arvensis': 2647,\n 'Anas platyrhynchos': 2125,\n 'Apus apus': 2125,\n 'Asio otus': 2125,\n 'Buteo buteo': 2125,\n 'Carduelis carduelis': 2125,\n 'Ciconia ciconia': 2125,\n 'Columba livia': 2125,\n 'Corvus corax': 2125,\n 'Corvus cornix': 2125,\n 'Corvus frugilegus': 2125,\n 'Cuculus canorus': 2125,\n 'Cygnus olor': 2125,\n 'Dendrocopos major': 2454,\n 'Garrulus glandarius': 2125,\n 'Grus grus': 2125,\n 'Hirundo rustica': 2125,\n 'Lophophanes cristatus': 2125,\n 'Passer domesticus': 2489,\n 'Phalacrocorax carbo': 2125,\n 'Phasianus colchicus': 2125,\n 'Phoenicurus ochruros': 2125,\n 'Pica pica': 2125,\n 'Picus viridis': 2125,\n 'Sternula albifrons': 2125,\n 'Sturnus vulgaris': 2125,\n 'Tetrao urogallus': 2125,\n 'Turdus merula': 6717,\n 'Turdus torquatus': 2125,\n 'Turdus viscivorus': 2125}"
     },
     "execution_count": 18,
     "metadata": {},
     "output_type": "execute_result"
    }
   ],
   "source": [
    "dist = df.groupby('Latin name').count()\n",
    "n_sample = 2125\n",
    "dist_dict = {}\n",
    "\n",
    "for i in range(len(dist.index)):\n",
    "    dist_dict[train_ds.get_mapping()[i]] = max(dist.iloc[i, 0], n_sample)\n",
    "\n",
    "dist_dict"
   ],
   "metadata": {
    "collapsed": false,
    "ExecuteTime": {
     "end_time": "2024-01-02T18:46:15.026435007Z",
     "start_time": "2024-01-02T18:46:14.844103242Z"
    }
   },
   "id": "ae0c022c7c54d98a"
  },
  {
   "cell_type": "code",
   "execution_count": 19,
   "outputs": [],
   "source": [
    "X = df.drop('Latin name', axis=1).values\n",
    "y = df['Latin name'].values"
   ],
   "metadata": {
    "collapsed": false,
    "ExecuteTime": {
     "end_time": "2024-01-02T18:46:15.099164461Z",
     "start_time": "2024-01-02T18:46:15.029049475Z"
    }
   },
   "id": "656038c334c18a70"
  },
  {
   "cell_type": "code",
   "execution_count": 20,
   "outputs": [],
   "source": [
    "ros = RandomOverSampler(random_state=123, sampling_strategy=dist_dict)\n",
    "X_resampled, y_resampled = ros.fit_resample(X, y)"
   ],
   "metadata": {
    "collapsed": false,
    "ExecuteTime": {
     "end_time": "2024-01-02T18:46:15.282940291Z",
     "start_time": "2024-01-02T18:46:15.120843482Z"
    }
   },
   "id": "9ed63fd0db0d650d"
  },
  {
   "cell_type": "code",
   "execution_count": 21,
   "outputs": [
    {
     "data": {
      "text/plain": "      level_0   index Unnamed: 0      id     gen          sp  ssp  group  \\\n0           0       5          5  815762  Cygnus        olor  NaN  birds   \n1           1       6          6  808540  Cygnus        olor  NaN  birds   \n2           2       7          7  805048  Cygnus        olor  NaN  birds   \n3           3       8          8  804791  Cygnus        olor  NaN  birds   \n4           4       9          9  797609  Cygnus        olor  NaN  birds   \n...       ...     ...        ...     ...     ...         ...  ...    ...   \n69552   28203  219995     219995  680404  Turdus  viscivorus  NaN  birds   \n69553   27744  219536     219536  757177  Turdus  viscivorus  NaN  birds   \n69554   27897  219689     219689  560462  Turdus  viscivorus  NaN  birds   \n69555   28822  220614     220614  540124  Turdus  viscivorus  NaN  birds   \n69556   28212  220004     220004  672920  Turdus  viscivorus  NaN  birds   \n\n                  en                rec  ...    smp Unnamed: 44 Unnamed: 45  \\\n0          Mute Swan   Frédéric Cazaban  ...  44100         NaN         NaN   \n1          Mute Swan         Juha Saari  ...  44100         NaN         NaN   \n2          Mute Swan   Magnus Hellström  ...  44100         NaN         NaN   \n3          Mute Swan           Uku Paal  ...  44100         NaN         NaN   \n4          Mute Swan       Jorge Leitão  ...  44100         NaN         NaN   \n...              ...                ...  ...    ...         ...         ...   \n69552  Mistle Thrush              Sergi  ...  44100         NaN         NaN   \n69553  Mistle Thrush       Xavier Riera  ...  48000         NaN         NaN   \n69554  Mistle Thrush  Joost van Bruggen  ...  44100         NaN         NaN   \n69555  Mistle Thrush     Cédric PEIGNOT  ...  44100         NaN         NaN   \n69556  Mistle Thrush    Stanislas Wroza  ...  48000         NaN         NaN   \n\n      Unnamed: 46 Unnamed: 47 Unnamed: 48 Unnamed: 49 Unnamed: 50 Unnamed: 51  \\\n0             NaN         NaN         NaN         NaN         NaN         NaN   \n1             NaN         NaN         NaN         NaN         NaN         NaN   \n2             NaN         NaN         NaN         NaN         NaN         NaN   \n3             NaN         NaN         NaN         NaN         NaN         NaN   \n4             NaN         NaN         NaN         NaN         NaN         NaN   \n...           ...         ...         ...         ...         ...         ...   \n69552         NaN         NaN         NaN         NaN         NaN         NaN   \n69553         NaN         NaN         NaN         NaN         NaN         NaN   \n69554         NaN         NaN         NaN         NaN         NaN         NaN   \n69555         NaN         NaN         NaN         NaN         NaN         NaN   \n69556         NaN         NaN         NaN         NaN         NaN         NaN   \n\n              Latin name  \n0            Cygnus olor  \n1            Cygnus olor  \n2            Cygnus olor  \n3            Cygnus olor  \n4            Cygnus olor  \n...                  ...  \n69552  Turdus viscivorus  \n69553  Turdus viscivorus  \n69554  Turdus viscivorus  \n69555  Turdus viscivorus  \n69556  Turdus viscivorus  \n\n[69557 rows x 55 columns]",
      "text/html": "<div>\n<style scoped>\n    .dataframe tbody tr th:only-of-type {\n        vertical-align: middle;\n    }\n\n    .dataframe tbody tr th {\n        vertical-align: top;\n    }\n\n    .dataframe thead th {\n        text-align: right;\n    }\n</style>\n<table border=\"1\" class=\"dataframe\">\n  <thead>\n    <tr style=\"text-align: right;\">\n      <th></th>\n      <th>level_0</th>\n      <th>index</th>\n      <th>Unnamed: 0</th>\n      <th>id</th>\n      <th>gen</th>\n      <th>sp</th>\n      <th>ssp</th>\n      <th>group</th>\n      <th>en</th>\n      <th>rec</th>\n      <th>...</th>\n      <th>smp</th>\n      <th>Unnamed: 44</th>\n      <th>Unnamed: 45</th>\n      <th>Unnamed: 46</th>\n      <th>Unnamed: 47</th>\n      <th>Unnamed: 48</th>\n      <th>Unnamed: 49</th>\n      <th>Unnamed: 50</th>\n      <th>Unnamed: 51</th>\n      <th>Latin name</th>\n    </tr>\n  </thead>\n  <tbody>\n    <tr>\n      <th>0</th>\n      <td>0</td>\n      <td>5</td>\n      <td>5</td>\n      <td>815762</td>\n      <td>Cygnus</td>\n      <td>olor</td>\n      <td>NaN</td>\n      <td>birds</td>\n      <td>Mute Swan</td>\n      <td>Frédéric Cazaban</td>\n      <td>...</td>\n      <td>44100</td>\n      <td>NaN</td>\n      <td>NaN</td>\n      <td>NaN</td>\n      <td>NaN</td>\n      <td>NaN</td>\n      <td>NaN</td>\n      <td>NaN</td>\n      <td>NaN</td>\n      <td>Cygnus olor</td>\n    </tr>\n    <tr>\n      <th>1</th>\n      <td>1</td>\n      <td>6</td>\n      <td>6</td>\n      <td>808540</td>\n      <td>Cygnus</td>\n      <td>olor</td>\n      <td>NaN</td>\n      <td>birds</td>\n      <td>Mute Swan</td>\n      <td>Juha Saari</td>\n      <td>...</td>\n      <td>44100</td>\n      <td>NaN</td>\n      <td>NaN</td>\n      <td>NaN</td>\n      <td>NaN</td>\n      <td>NaN</td>\n      <td>NaN</td>\n      <td>NaN</td>\n      <td>NaN</td>\n      <td>Cygnus olor</td>\n    </tr>\n    <tr>\n      <th>2</th>\n      <td>2</td>\n      <td>7</td>\n      <td>7</td>\n      <td>805048</td>\n      <td>Cygnus</td>\n      <td>olor</td>\n      <td>NaN</td>\n      <td>birds</td>\n      <td>Mute Swan</td>\n      <td>Magnus Hellström</td>\n      <td>...</td>\n      <td>44100</td>\n      <td>NaN</td>\n      <td>NaN</td>\n      <td>NaN</td>\n      <td>NaN</td>\n      <td>NaN</td>\n      <td>NaN</td>\n      <td>NaN</td>\n      <td>NaN</td>\n      <td>Cygnus olor</td>\n    </tr>\n    <tr>\n      <th>3</th>\n      <td>3</td>\n      <td>8</td>\n      <td>8</td>\n      <td>804791</td>\n      <td>Cygnus</td>\n      <td>olor</td>\n      <td>NaN</td>\n      <td>birds</td>\n      <td>Mute Swan</td>\n      <td>Uku Paal</td>\n      <td>...</td>\n      <td>44100</td>\n      <td>NaN</td>\n      <td>NaN</td>\n      <td>NaN</td>\n      <td>NaN</td>\n      <td>NaN</td>\n      <td>NaN</td>\n      <td>NaN</td>\n      <td>NaN</td>\n      <td>Cygnus olor</td>\n    </tr>\n    <tr>\n      <th>4</th>\n      <td>4</td>\n      <td>9</td>\n      <td>9</td>\n      <td>797609</td>\n      <td>Cygnus</td>\n      <td>olor</td>\n      <td>NaN</td>\n      <td>birds</td>\n      <td>Mute Swan</td>\n      <td>Jorge Leitão</td>\n      <td>...</td>\n      <td>44100</td>\n      <td>NaN</td>\n      <td>NaN</td>\n      <td>NaN</td>\n      <td>NaN</td>\n      <td>NaN</td>\n      <td>NaN</td>\n      <td>NaN</td>\n      <td>NaN</td>\n      <td>Cygnus olor</td>\n    </tr>\n    <tr>\n      <th>...</th>\n      <td>...</td>\n      <td>...</td>\n      <td>...</td>\n      <td>...</td>\n      <td>...</td>\n      <td>...</td>\n      <td>...</td>\n      <td>...</td>\n      <td>...</td>\n      <td>...</td>\n      <td>...</td>\n      <td>...</td>\n      <td>...</td>\n      <td>...</td>\n      <td>...</td>\n      <td>...</td>\n      <td>...</td>\n      <td>...</td>\n      <td>...</td>\n      <td>...</td>\n      <td>...</td>\n    </tr>\n    <tr>\n      <th>69552</th>\n      <td>28203</td>\n      <td>219995</td>\n      <td>219995</td>\n      <td>680404</td>\n      <td>Turdus</td>\n      <td>viscivorus</td>\n      <td>NaN</td>\n      <td>birds</td>\n      <td>Mistle Thrush</td>\n      <td>Sergi</td>\n      <td>...</td>\n      <td>44100</td>\n      <td>NaN</td>\n      <td>NaN</td>\n      <td>NaN</td>\n      <td>NaN</td>\n      <td>NaN</td>\n      <td>NaN</td>\n      <td>NaN</td>\n      <td>NaN</td>\n      <td>Turdus viscivorus</td>\n    </tr>\n    <tr>\n      <th>69553</th>\n      <td>27744</td>\n      <td>219536</td>\n      <td>219536</td>\n      <td>757177</td>\n      <td>Turdus</td>\n      <td>viscivorus</td>\n      <td>NaN</td>\n      <td>birds</td>\n      <td>Mistle Thrush</td>\n      <td>Xavier Riera</td>\n      <td>...</td>\n      <td>48000</td>\n      <td>NaN</td>\n      <td>NaN</td>\n      <td>NaN</td>\n      <td>NaN</td>\n      <td>NaN</td>\n      <td>NaN</td>\n      <td>NaN</td>\n      <td>NaN</td>\n      <td>Turdus viscivorus</td>\n    </tr>\n    <tr>\n      <th>69554</th>\n      <td>27897</td>\n      <td>219689</td>\n      <td>219689</td>\n      <td>560462</td>\n      <td>Turdus</td>\n      <td>viscivorus</td>\n      <td>NaN</td>\n      <td>birds</td>\n      <td>Mistle Thrush</td>\n      <td>Joost van Bruggen</td>\n      <td>...</td>\n      <td>44100</td>\n      <td>NaN</td>\n      <td>NaN</td>\n      <td>NaN</td>\n      <td>NaN</td>\n      <td>NaN</td>\n      <td>NaN</td>\n      <td>NaN</td>\n      <td>NaN</td>\n      <td>Turdus viscivorus</td>\n    </tr>\n    <tr>\n      <th>69555</th>\n      <td>28822</td>\n      <td>220614</td>\n      <td>220614</td>\n      <td>540124</td>\n      <td>Turdus</td>\n      <td>viscivorus</td>\n      <td>NaN</td>\n      <td>birds</td>\n      <td>Mistle Thrush</td>\n      <td>Cédric PEIGNOT</td>\n      <td>...</td>\n      <td>44100</td>\n      <td>NaN</td>\n      <td>NaN</td>\n      <td>NaN</td>\n      <td>NaN</td>\n      <td>NaN</td>\n      <td>NaN</td>\n      <td>NaN</td>\n      <td>NaN</td>\n      <td>Turdus viscivorus</td>\n    </tr>\n    <tr>\n      <th>69556</th>\n      <td>28212</td>\n      <td>220004</td>\n      <td>220004</td>\n      <td>672920</td>\n      <td>Turdus</td>\n      <td>viscivorus</td>\n      <td>NaN</td>\n      <td>birds</td>\n      <td>Mistle Thrush</td>\n      <td>Stanislas Wroza</td>\n      <td>...</td>\n      <td>48000</td>\n      <td>NaN</td>\n      <td>NaN</td>\n      <td>NaN</td>\n      <td>NaN</td>\n      <td>NaN</td>\n      <td>NaN</td>\n      <td>NaN</td>\n      <td>NaN</td>\n      <td>Turdus viscivorus</td>\n    </tr>\n  </tbody>\n</table>\n<p>69557 rows × 55 columns</p>\n</div>"
     },
     "execution_count": 21,
     "metadata": {},
     "output_type": "execute_result"
    }
   ],
   "source": [
    "df_r = pd.DataFrame(X_resampled).assign(label = y_resampled)\n",
    "df_r.columns = df.columns\n",
    "df_r"
   ],
   "metadata": {
    "collapsed": false,
    "ExecuteTime": {
     "end_time": "2024-01-02T18:46:15.425160650Z",
     "start_time": "2024-01-02T18:46:15.356897521Z"
    }
   },
   "id": "ca4d57caf97f0474"
  },
  {
   "cell_type": "code",
   "execution_count": 22,
   "outputs": [
    {
     "data": {
      "text/plain": "                       recordings number\nLatin name                              \nGarrulus glandarius                 2125\nTetrao urogallus                    2125\nSturnus vulgaris                    2125\nSternula albifrons                  2125\nPicus viridis                       2125\nPica pica                           2125\nPhoenicurus ochruros                2125\nPhasianus colchicus                 2125\nPhalacrocorax carbo                 2125\nLophophanes cristatus               2125\nHirundo rustica                     2125\nGrus grus                           2125\nTurdus torquatus                    2125\nTurdus viscivorus                   2125\nCygnus olor                         2125\nCuculus canorus                     2125\nCorvus frugilegus                   2125\nCorvus cornix                       2125\nCorvus corax                        2125\nColumba livia                       2125\nCiconia ciconia                     2125\nCarduelis carduelis                 2125\nButeo buteo                         2125\nAsio otus                           2125\nApus apus                           2125\nAnas platyrhynchos                  2125\nDendrocopos major                   2454\nPasser domesticus                   2489\nAlauda arvensis                     2647\nTurdus merula                       6717",
      "text/html": "<div>\n<style scoped>\n    .dataframe tbody tr th:only-of-type {\n        vertical-align: middle;\n    }\n\n    .dataframe tbody tr th {\n        vertical-align: top;\n    }\n\n    .dataframe thead th {\n        text-align: right;\n    }\n</style>\n<table border=\"1\" class=\"dataframe\">\n  <thead>\n    <tr style=\"text-align: right;\">\n      <th></th>\n      <th>recordings number</th>\n    </tr>\n    <tr>\n      <th>Latin name</th>\n      <th></th>\n    </tr>\n  </thead>\n  <tbody>\n    <tr>\n      <th>Garrulus glandarius</th>\n      <td>2125</td>\n    </tr>\n    <tr>\n      <th>Tetrao urogallus</th>\n      <td>2125</td>\n    </tr>\n    <tr>\n      <th>Sturnus vulgaris</th>\n      <td>2125</td>\n    </tr>\n    <tr>\n      <th>Sternula albifrons</th>\n      <td>2125</td>\n    </tr>\n    <tr>\n      <th>Picus viridis</th>\n      <td>2125</td>\n    </tr>\n    <tr>\n      <th>Pica pica</th>\n      <td>2125</td>\n    </tr>\n    <tr>\n      <th>Phoenicurus ochruros</th>\n      <td>2125</td>\n    </tr>\n    <tr>\n      <th>Phasianus colchicus</th>\n      <td>2125</td>\n    </tr>\n    <tr>\n      <th>Phalacrocorax carbo</th>\n      <td>2125</td>\n    </tr>\n    <tr>\n      <th>Lophophanes cristatus</th>\n      <td>2125</td>\n    </tr>\n    <tr>\n      <th>Hirundo rustica</th>\n      <td>2125</td>\n    </tr>\n    <tr>\n      <th>Grus grus</th>\n      <td>2125</td>\n    </tr>\n    <tr>\n      <th>Turdus torquatus</th>\n      <td>2125</td>\n    </tr>\n    <tr>\n      <th>Turdus viscivorus</th>\n      <td>2125</td>\n    </tr>\n    <tr>\n      <th>Cygnus olor</th>\n      <td>2125</td>\n    </tr>\n    <tr>\n      <th>Cuculus canorus</th>\n      <td>2125</td>\n    </tr>\n    <tr>\n      <th>Corvus frugilegus</th>\n      <td>2125</td>\n    </tr>\n    <tr>\n      <th>Corvus cornix</th>\n      <td>2125</td>\n    </tr>\n    <tr>\n      <th>Corvus corax</th>\n      <td>2125</td>\n    </tr>\n    <tr>\n      <th>Columba livia</th>\n      <td>2125</td>\n    </tr>\n    <tr>\n      <th>Ciconia ciconia</th>\n      <td>2125</td>\n    </tr>\n    <tr>\n      <th>Carduelis carduelis</th>\n      <td>2125</td>\n    </tr>\n    <tr>\n      <th>Buteo buteo</th>\n      <td>2125</td>\n    </tr>\n    <tr>\n      <th>Asio otus</th>\n      <td>2125</td>\n    </tr>\n    <tr>\n      <th>Apus apus</th>\n      <td>2125</td>\n    </tr>\n    <tr>\n      <th>Anas platyrhynchos</th>\n      <td>2125</td>\n    </tr>\n    <tr>\n      <th>Dendrocopos major</th>\n      <td>2454</td>\n    </tr>\n    <tr>\n      <th>Passer domesticus</th>\n      <td>2489</td>\n    </tr>\n    <tr>\n      <th>Alauda arvensis</th>\n      <td>2647</td>\n    </tr>\n    <tr>\n      <th>Turdus merula</th>\n      <td>6717</td>\n    </tr>\n  </tbody>\n</table>\n</div>"
     },
     "execution_count": 22,
     "metadata": {},
     "output_type": "execute_result"
    }
   ],
   "source": [
    "df_s = df_r[['Latin name', 'id']].astype(str)\n",
    "distribution_df = df_s.groupby('Latin name').count()\n",
    "distribution_df.columns = ['recordings number']\n",
    "distribution_df = distribution_df.sort_values('recordings number')\n",
    "distribution_df"
   ],
   "metadata": {
    "collapsed": false,
    "ExecuteTime": {
     "end_time": "2024-01-02T18:46:15.557630157Z",
     "start_time": "2024-01-02T18:46:15.526443826Z"
    }
   },
   "id": "a7b6fdc5130655a9"
  },
  {
   "cell_type": "markdown",
   "source": [
    "## Use implemented function"
   ],
   "metadata": {
    "collapsed": false
   },
   "id": "c26f9312fc604728"
  },
  {
   "cell_type": "code",
   "execution_count": 23,
   "outputs": [],
   "source": [
    "from birdclassification.preprocessing.utils import oversample_dataframe"
   ],
   "metadata": {
    "collapsed": false,
    "ExecuteTime": {
     "end_time": "2024-01-02T18:46:15.562025269Z",
     "start_time": "2024-01-02T18:46:15.558610001Z"
    }
   },
   "id": "daf9b9399b2732c2"
  },
  {
   "cell_type": "code",
   "execution_count": 24,
   "outputs": [
    {
     "data": {
      "text/plain": "      level_0   index Unnamed: 0      id     gen          sp  ssp  group  \\\n0           0       5          5  815762  Cygnus        olor  NaN  birds   \n1           1       6          6  808540  Cygnus        olor  NaN  birds   \n2           2       7          7  805048  Cygnus        olor  NaN  birds   \n3           3       8          8  804791  Cygnus        olor  NaN  birds   \n4           4       9          9  797609  Cygnus        olor  NaN  birds   \n...       ...     ...        ...     ...     ...         ...  ...    ...   \n69552   28203  219995     219995  680404  Turdus  viscivorus  NaN  birds   \n69553   27744  219536     219536  757177  Turdus  viscivorus  NaN  birds   \n69554   27897  219689     219689  560462  Turdus  viscivorus  NaN  birds   \n69555   28822  220614     220614  540124  Turdus  viscivorus  NaN  birds   \n69556   28212  220004     220004  672920  Turdus  viscivorus  NaN  birds   \n\n                  en                rec  ...    smp Unnamed: 44 Unnamed: 45  \\\n0          Mute Swan   Frédéric Cazaban  ...  44100         NaN         NaN   \n1          Mute Swan         Juha Saari  ...  44100         NaN         NaN   \n2          Mute Swan   Magnus Hellström  ...  44100         NaN         NaN   \n3          Mute Swan           Uku Paal  ...  44100         NaN         NaN   \n4          Mute Swan       Jorge Leitão  ...  44100         NaN         NaN   \n...              ...                ...  ...    ...         ...         ...   \n69552  Mistle Thrush              Sergi  ...  44100         NaN         NaN   \n69553  Mistle Thrush       Xavier Riera  ...  48000         NaN         NaN   \n69554  Mistle Thrush  Joost van Bruggen  ...  44100         NaN         NaN   \n69555  Mistle Thrush     Cédric PEIGNOT  ...  44100         NaN         NaN   \n69556  Mistle Thrush    Stanislas Wroza  ...  48000         NaN         NaN   \n\n      Unnamed: 46 Unnamed: 47 Unnamed: 48 Unnamed: 49 Unnamed: 50 Unnamed: 51  \\\n0             NaN         NaN         NaN         NaN         NaN         NaN   \n1             NaN         NaN         NaN         NaN         NaN         NaN   \n2             NaN         NaN         NaN         NaN         NaN         NaN   \n3             NaN         NaN         NaN         NaN         NaN         NaN   \n4             NaN         NaN         NaN         NaN         NaN         NaN   \n...           ...         ...         ...         ...         ...         ...   \n69552         NaN         NaN         NaN         NaN         NaN         NaN   \n69553         NaN         NaN         NaN         NaN         NaN         NaN   \n69554         NaN         NaN         NaN         NaN         NaN         NaN   \n69555         NaN         NaN         NaN         NaN         NaN         NaN   \n69556         NaN         NaN         NaN         NaN         NaN         NaN   \n\n              Latin name  \n0            Cygnus olor  \n1            Cygnus olor  \n2            Cygnus olor  \n3            Cygnus olor  \n4            Cygnus olor  \n...                  ...  \n69552  Turdus viscivorus  \n69553  Turdus viscivorus  \n69554  Turdus viscivorus  \n69555  Turdus viscivorus  \n69556  Turdus viscivorus  \n\n[69557 rows x 55 columns]",
      "text/html": "<div>\n<style scoped>\n    .dataframe tbody tr th:only-of-type {\n        vertical-align: middle;\n    }\n\n    .dataframe tbody tr th {\n        vertical-align: top;\n    }\n\n    .dataframe thead th {\n        text-align: right;\n    }\n</style>\n<table border=\"1\" class=\"dataframe\">\n  <thead>\n    <tr style=\"text-align: right;\">\n      <th></th>\n      <th>level_0</th>\n      <th>index</th>\n      <th>Unnamed: 0</th>\n      <th>id</th>\n      <th>gen</th>\n      <th>sp</th>\n      <th>ssp</th>\n      <th>group</th>\n      <th>en</th>\n      <th>rec</th>\n      <th>...</th>\n      <th>smp</th>\n      <th>Unnamed: 44</th>\n      <th>Unnamed: 45</th>\n      <th>Unnamed: 46</th>\n      <th>Unnamed: 47</th>\n      <th>Unnamed: 48</th>\n      <th>Unnamed: 49</th>\n      <th>Unnamed: 50</th>\n      <th>Unnamed: 51</th>\n      <th>Latin name</th>\n    </tr>\n  </thead>\n  <tbody>\n    <tr>\n      <th>0</th>\n      <td>0</td>\n      <td>5</td>\n      <td>5</td>\n      <td>815762</td>\n      <td>Cygnus</td>\n      <td>olor</td>\n      <td>NaN</td>\n      <td>birds</td>\n      <td>Mute Swan</td>\n      <td>Frédéric Cazaban</td>\n      <td>...</td>\n      <td>44100</td>\n      <td>NaN</td>\n      <td>NaN</td>\n      <td>NaN</td>\n      <td>NaN</td>\n      <td>NaN</td>\n      <td>NaN</td>\n      <td>NaN</td>\n      <td>NaN</td>\n      <td>Cygnus olor</td>\n    </tr>\n    <tr>\n      <th>1</th>\n      <td>1</td>\n      <td>6</td>\n      <td>6</td>\n      <td>808540</td>\n      <td>Cygnus</td>\n      <td>olor</td>\n      <td>NaN</td>\n      <td>birds</td>\n      <td>Mute Swan</td>\n      <td>Juha Saari</td>\n      <td>...</td>\n      <td>44100</td>\n      <td>NaN</td>\n      <td>NaN</td>\n      <td>NaN</td>\n      <td>NaN</td>\n      <td>NaN</td>\n      <td>NaN</td>\n      <td>NaN</td>\n      <td>NaN</td>\n      <td>Cygnus olor</td>\n    </tr>\n    <tr>\n      <th>2</th>\n      <td>2</td>\n      <td>7</td>\n      <td>7</td>\n      <td>805048</td>\n      <td>Cygnus</td>\n      <td>olor</td>\n      <td>NaN</td>\n      <td>birds</td>\n      <td>Mute Swan</td>\n      <td>Magnus Hellström</td>\n      <td>...</td>\n      <td>44100</td>\n      <td>NaN</td>\n      <td>NaN</td>\n      <td>NaN</td>\n      <td>NaN</td>\n      <td>NaN</td>\n      <td>NaN</td>\n      <td>NaN</td>\n      <td>NaN</td>\n      <td>Cygnus olor</td>\n    </tr>\n    <tr>\n      <th>3</th>\n      <td>3</td>\n      <td>8</td>\n      <td>8</td>\n      <td>804791</td>\n      <td>Cygnus</td>\n      <td>olor</td>\n      <td>NaN</td>\n      <td>birds</td>\n      <td>Mute Swan</td>\n      <td>Uku Paal</td>\n      <td>...</td>\n      <td>44100</td>\n      <td>NaN</td>\n      <td>NaN</td>\n      <td>NaN</td>\n      <td>NaN</td>\n      <td>NaN</td>\n      <td>NaN</td>\n      <td>NaN</td>\n      <td>NaN</td>\n      <td>Cygnus olor</td>\n    </tr>\n    <tr>\n      <th>4</th>\n      <td>4</td>\n      <td>9</td>\n      <td>9</td>\n      <td>797609</td>\n      <td>Cygnus</td>\n      <td>olor</td>\n      <td>NaN</td>\n      <td>birds</td>\n      <td>Mute Swan</td>\n      <td>Jorge Leitão</td>\n      <td>...</td>\n      <td>44100</td>\n      <td>NaN</td>\n      <td>NaN</td>\n      <td>NaN</td>\n      <td>NaN</td>\n      <td>NaN</td>\n      <td>NaN</td>\n      <td>NaN</td>\n      <td>NaN</td>\n      <td>Cygnus olor</td>\n    </tr>\n    <tr>\n      <th>...</th>\n      <td>...</td>\n      <td>...</td>\n      <td>...</td>\n      <td>...</td>\n      <td>...</td>\n      <td>...</td>\n      <td>...</td>\n      <td>...</td>\n      <td>...</td>\n      <td>...</td>\n      <td>...</td>\n      <td>...</td>\n      <td>...</td>\n      <td>...</td>\n      <td>...</td>\n      <td>...</td>\n      <td>...</td>\n      <td>...</td>\n      <td>...</td>\n      <td>...</td>\n      <td>...</td>\n    </tr>\n    <tr>\n      <th>69552</th>\n      <td>28203</td>\n      <td>219995</td>\n      <td>219995</td>\n      <td>680404</td>\n      <td>Turdus</td>\n      <td>viscivorus</td>\n      <td>NaN</td>\n      <td>birds</td>\n      <td>Mistle Thrush</td>\n      <td>Sergi</td>\n      <td>...</td>\n      <td>44100</td>\n      <td>NaN</td>\n      <td>NaN</td>\n      <td>NaN</td>\n      <td>NaN</td>\n      <td>NaN</td>\n      <td>NaN</td>\n      <td>NaN</td>\n      <td>NaN</td>\n      <td>Turdus viscivorus</td>\n    </tr>\n    <tr>\n      <th>69553</th>\n      <td>27744</td>\n      <td>219536</td>\n      <td>219536</td>\n      <td>757177</td>\n      <td>Turdus</td>\n      <td>viscivorus</td>\n      <td>NaN</td>\n      <td>birds</td>\n      <td>Mistle Thrush</td>\n      <td>Xavier Riera</td>\n      <td>...</td>\n      <td>48000</td>\n      <td>NaN</td>\n      <td>NaN</td>\n      <td>NaN</td>\n      <td>NaN</td>\n      <td>NaN</td>\n      <td>NaN</td>\n      <td>NaN</td>\n      <td>NaN</td>\n      <td>Turdus viscivorus</td>\n    </tr>\n    <tr>\n      <th>69554</th>\n      <td>27897</td>\n      <td>219689</td>\n      <td>219689</td>\n      <td>560462</td>\n      <td>Turdus</td>\n      <td>viscivorus</td>\n      <td>NaN</td>\n      <td>birds</td>\n      <td>Mistle Thrush</td>\n      <td>Joost van Bruggen</td>\n      <td>...</td>\n      <td>44100</td>\n      <td>NaN</td>\n      <td>NaN</td>\n      <td>NaN</td>\n      <td>NaN</td>\n      <td>NaN</td>\n      <td>NaN</td>\n      <td>NaN</td>\n      <td>NaN</td>\n      <td>Turdus viscivorus</td>\n    </tr>\n    <tr>\n      <th>69555</th>\n      <td>28822</td>\n      <td>220614</td>\n      <td>220614</td>\n      <td>540124</td>\n      <td>Turdus</td>\n      <td>viscivorus</td>\n      <td>NaN</td>\n      <td>birds</td>\n      <td>Mistle Thrush</td>\n      <td>Cédric PEIGNOT</td>\n      <td>...</td>\n      <td>44100</td>\n      <td>NaN</td>\n      <td>NaN</td>\n      <td>NaN</td>\n      <td>NaN</td>\n      <td>NaN</td>\n      <td>NaN</td>\n      <td>NaN</td>\n      <td>NaN</td>\n      <td>Turdus viscivorus</td>\n    </tr>\n    <tr>\n      <th>69556</th>\n      <td>28212</td>\n      <td>220004</td>\n      <td>220004</td>\n      <td>672920</td>\n      <td>Turdus</td>\n      <td>viscivorus</td>\n      <td>NaN</td>\n      <td>birds</td>\n      <td>Mistle Thrush</td>\n      <td>Stanislas Wroza</td>\n      <td>...</td>\n      <td>48000</td>\n      <td>NaN</td>\n      <td>NaN</td>\n      <td>NaN</td>\n      <td>NaN</td>\n      <td>NaN</td>\n      <td>NaN</td>\n      <td>NaN</td>\n      <td>NaN</td>\n      <td>Turdus viscivorus</td>\n    </tr>\n  </tbody>\n</table>\n<p>69557 rows × 55 columns</p>\n</div>"
     },
     "execution_count": 24,
     "metadata": {},
     "output_type": "execute_result"
    }
   ],
   "source": [
    "result = oversample_dataframe(df, minimum_number_fo_samples= 2125, mapping = train_ds.get_mapping(), seed = SEED)\n",
    "result"
   ],
   "metadata": {
    "collapsed": false,
    "ExecuteTime": {
     "end_time": "2024-01-02T18:46:16.332710155Z",
     "start_time": "2024-01-02T18:46:15.562175338Z"
    }
   },
   "id": "9420c1f05a33b118"
  }
 ],
 "metadata": {
  "kernelspec": {
   "display_name": "Python 3",
   "language": "python",
   "name": "python3"
  },
  "language_info": {
   "codemirror_mode": {
    "name": "ipython",
    "version": 2
   },
   "file_extension": ".py",
   "mimetype": "text/x-python",
   "name": "python",
   "nbconvert_exporter": "python",
   "pygments_lexer": "ipython2",
   "version": "2.7.6"
  }
 },
 "nbformat": 4,
 "nbformat_minor": 5
}
