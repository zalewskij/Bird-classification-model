{
 "cells": [
  {
   "cell_type": "markdown",
   "id": "68726db873b8dce7",
   "metadata": {
    "collapsed": false
   },
   "source": [
    "# Classes and variables"
   ]
  },
  {
   "cell_type": "code",
   "execution_count": 1,
   "outputs": [],
   "source": [
    "from birdclassification.preprocessing.filtering import filter_recordings_30\n",
    "from torch.utils.data import DataLoader\n",
    "import torch\n",
    "from sklearn.model_selection import train_test_split\n",
    "from training.dataset import Recordings30\n",
    "from birdclassification.visualization.plots import plot_torch_spectrogram\n",
    "from training.cnn_training_torch.CNN_model import CNNNetwork\n",
    "from torchsummary import summary"
   ],
   "metadata": {
    "collapsed": false,
    "ExecuteTime": {
     "end_time": "2023-11-17T18:40:46.355601277Z",
     "start_time": "2023-11-17T18:40:43.901534350Z"
    }
   },
   "id": "1e1e43838f725aab"
  },
  {
   "cell_type": "code",
   "execution_count": 2,
   "outputs": [
    {
     "name": "stderr",
     "output_type": "stream",
     "text": [
      "/home/jacek/PycharmProjects/Bird-classification-model/venv/lib/python3.11/site-packages/torch/cuda/__init__.py:138: UserWarning: CUDA initialization: The NVIDIA driver on your system is too old (found version 11040). Please update your GPU driver by downloading and installing a new version from the URL: http://www.nvidia.com/Download/index.aspx Alternatively, go to: https://pytorch.org to install a PyTorch version that has been compiled with your version of the CUDA driver. (Triggered internally at ../c10/cuda/CUDAFunctions.cpp:108.)\n",
      "  return torch._C._cuda_getDeviceCount() > 0\n"
     ]
    }
   ],
   "source": [
    "if torch.cuda.is_available():\n",
    "    DEVICE = \"cuda\"\n",
    "else:\n",
    "    DEVICE = \"cpu\"\n",
    "    \n",
    "SEED = 123\n",
    "RECORDINGS_DIR = '/media/jacek/E753-A120/recordings_30/'\n",
    "NOISES_DIR = '/aaa/'\n",
    "\n",
    "SAMPLE_RATE = 32000\n",
    "NUM_SAMPLES = SAMPLE_RATE * 1\n",
    "BATCH_SIZE = 64"
   ],
   "metadata": {
    "collapsed": false,
    "ExecuteTime": {
     "end_time": "2023-11-17T18:40:47.821419827Z",
     "start_time": "2023-11-17T18:40:47.778415965Z"
    }
   },
   "id": "816e75a17dc17a2"
  },
  {
   "cell_type": "markdown",
   "source": [
    "# Prepare dataset and dataloaders"
   ],
   "metadata": {
    "collapsed": false
   },
   "id": "e2500b5a9a57f175"
  },
  {
   "cell_type": "code",
   "execution_count": 3,
   "outputs": [
    {
     "name": "stderr",
     "output_type": "stream",
     "text": [
      "/home/jacek/PycharmProjects/Bird-classification-model/birdclassification/preprocessing/filtering.py:48: DtypeWarning: Columns (10,39,43,44,45,46,47,48) have mixed types. Specify dtype option on import or set low_memory=False.\n",
      "  recordings = pd.read_csv(filepath_recordings)\n"
     ]
    }
   ],
   "source": [
    "df = filter_recordings_30(\"../../data/xeno_canto_recordings.csv\", \"../../data/bird-list-extended.csv\", )\n",
    "\n",
    "train_df, test_val_df = train_test_split(df, stratify=df['Latin name'], test_size=0.2, random_state = SEED)\n",
    "val_df, test_df = train_test_split(test_val_df, stratify=test_val_df['Latin name'], test_size=0.5, random_state = SEED)\n",
    "\n",
    "train_ds = Recordings30(train_df, recording_dir=RECORDINGS_DIR, noises_dir=NOISES_DIR, sample_rate=SAMPLE_RATE, device = DEVICE)\n",
    "val_ds = Recordings30(val_df, recording_dir=RECORDINGS_DIR, noises_dir=NOISES_DIR, device = DEVICE)\n",
    "test_ds = Recordings30(test_df, recording_dir=RECORDINGS_DIR, noises_dir=NOISES_DIR, device = DEVICE)\n",
    "\n",
    "train_dl  = DataLoader(train_ds, batch_size= BATCH_SIZE)\n",
    "val_dl  = DataLoader(val_ds, batch_size= BATCH_SIZE)\n",
    "test_dl  = DataLoader(test_ds, batch_size= BATCH_SIZE)"
   ],
   "metadata": {
    "collapsed": false,
    "ExecuteTime": {
     "end_time": "2023-11-17T18:40:58.468161450Z",
     "start_time": "2023-11-17T18:40:51.683125476Z"
    }
   },
   "id": "63a6e7eb0ea22a95"
  },
  {
   "cell_type": "code",
   "execution_count": 4,
   "outputs": [
    {
     "data": {
      "text/plain": "        index  Unnamed: 0      id      gen     sp        ssp  group  \\\n0           5           5  815762   Cygnus   olor        NaN  birds   \n1           6           6  808540   Cygnus   olor        NaN  birds   \n2           7           7  805048   Cygnus   olor        NaN  birds   \n3           8           8  804791   Cygnus   olor        NaN  birds   \n4           9           9  797609   Cygnus   olor        NaN  birds   \n...       ...         ...     ...      ...    ...        ...    ...   \n41205  296788      296788  108758  Columba  livia        NaN  birds   \n41206  296789      296789   58488  Columba  livia        NaN  birds   \n41207  296790      296790    6924  Columba  livia  domestica  birds   \n41208  296791      296791  387816  Columba  livia        NaN  birds   \n41209  296792      296792  323560  Columba  livia        NaN  birds   \n\n              en                   rec            cnt  ...      smp  \\\n0      Mute Swan      Frédéric Cazaban         France  ...    44100   \n1      Mute Swan            Juha Saari        Finland  ...    44100   \n2      Mute Swan      Magnus Hellström         Sweden  ...    44100   \n3      Mute Swan              Uku Paal        Estonia  ...    44100   \n4      Mute Swan          Jorge Leitão        Germany  ...    44100   \n...          ...                   ...            ...  ...      ...   \n41205  Rock Dove   Albert Lastukhin         Venezuela  ...  44100.0   \n41206  Rock Dove           Mike Nelson  United States  ...  44100.0   \n41207  Rock Dove  Glauco Alves Pereira         Brazil  ...  22050.0   \n41208  Rock Dove         johannes buhl        Germany  ...  44100.0   \n41209  Rock Dove      Alfonso Auerbach       Honduras  ...  44100.0   \n\n      Unnamed: 44  Unnamed: 45 Unnamed: 46 Unnamed: 47 Unnamed: 48  \\\n0             NaN          NaN         NaN         NaN         NaN   \n1             NaN          NaN         NaN         NaN         NaN   \n2             NaN          NaN         NaN         NaN         NaN   \n3             NaN          NaN         NaN         NaN         NaN   \n4             NaN          NaN         NaN         NaN         NaN   \n...           ...          ...         ...         ...         ...   \n41205         NaN          NaN         NaN         NaN         NaN   \n41206         NaN          NaN         NaN         NaN         NaN   \n41207         NaN          NaN         NaN         NaN         NaN   \n41208         NaN          NaN         NaN         NaN         NaN   \n41209         NaN          NaN         NaN         NaN         NaN   \n\n      Unnamed: 49 Unnamed: 50 Unnamed: 51     Latin name  \n0             NaN         NaN         NaN    Cygnus olor  \n1             NaN         NaN         NaN    Cygnus olor  \n2             NaN         NaN         NaN    Cygnus olor  \n3             NaN         NaN         NaN    Cygnus olor  \n4             NaN         NaN         NaN    Cygnus olor  \n...           ...         ...         ...            ...  \n41205         NaN         NaN         NaN  Columba livia  \n41206         NaN         NaN         NaN  Columba livia  \n41207         NaN         NaN         NaN  Columba livia  \n41208         NaN         NaN         NaN  Columba livia  \n41209         NaN         NaN         NaN  Columba livia  \n\n[41209 rows x 54 columns]",
      "text/html": "<div>\n<style scoped>\n    .dataframe tbody tr th:only-of-type {\n        vertical-align: middle;\n    }\n\n    .dataframe tbody tr th {\n        vertical-align: top;\n    }\n\n    .dataframe thead th {\n        text-align: right;\n    }\n</style>\n<table border=\"1\" class=\"dataframe\">\n  <thead>\n    <tr style=\"text-align: right;\">\n      <th></th>\n      <th>index</th>\n      <th>Unnamed: 0</th>\n      <th>id</th>\n      <th>gen</th>\n      <th>sp</th>\n      <th>ssp</th>\n      <th>group</th>\n      <th>en</th>\n      <th>rec</th>\n      <th>cnt</th>\n      <th>...</th>\n      <th>smp</th>\n      <th>Unnamed: 44</th>\n      <th>Unnamed: 45</th>\n      <th>Unnamed: 46</th>\n      <th>Unnamed: 47</th>\n      <th>Unnamed: 48</th>\n      <th>Unnamed: 49</th>\n      <th>Unnamed: 50</th>\n      <th>Unnamed: 51</th>\n      <th>Latin name</th>\n    </tr>\n  </thead>\n  <tbody>\n    <tr>\n      <th>0</th>\n      <td>5</td>\n      <td>5</td>\n      <td>815762</td>\n      <td>Cygnus</td>\n      <td>olor</td>\n      <td>NaN</td>\n      <td>birds</td>\n      <td>Mute Swan</td>\n      <td>Frédéric Cazaban</td>\n      <td>France</td>\n      <td>...</td>\n      <td>44100</td>\n      <td>NaN</td>\n      <td>NaN</td>\n      <td>NaN</td>\n      <td>NaN</td>\n      <td>NaN</td>\n      <td>NaN</td>\n      <td>NaN</td>\n      <td>NaN</td>\n      <td>Cygnus olor</td>\n    </tr>\n    <tr>\n      <th>1</th>\n      <td>6</td>\n      <td>6</td>\n      <td>808540</td>\n      <td>Cygnus</td>\n      <td>olor</td>\n      <td>NaN</td>\n      <td>birds</td>\n      <td>Mute Swan</td>\n      <td>Juha Saari</td>\n      <td>Finland</td>\n      <td>...</td>\n      <td>44100</td>\n      <td>NaN</td>\n      <td>NaN</td>\n      <td>NaN</td>\n      <td>NaN</td>\n      <td>NaN</td>\n      <td>NaN</td>\n      <td>NaN</td>\n      <td>NaN</td>\n      <td>Cygnus olor</td>\n    </tr>\n    <tr>\n      <th>2</th>\n      <td>7</td>\n      <td>7</td>\n      <td>805048</td>\n      <td>Cygnus</td>\n      <td>olor</td>\n      <td>NaN</td>\n      <td>birds</td>\n      <td>Mute Swan</td>\n      <td>Magnus Hellström</td>\n      <td>Sweden</td>\n      <td>...</td>\n      <td>44100</td>\n      <td>NaN</td>\n      <td>NaN</td>\n      <td>NaN</td>\n      <td>NaN</td>\n      <td>NaN</td>\n      <td>NaN</td>\n      <td>NaN</td>\n      <td>NaN</td>\n      <td>Cygnus olor</td>\n    </tr>\n    <tr>\n      <th>3</th>\n      <td>8</td>\n      <td>8</td>\n      <td>804791</td>\n      <td>Cygnus</td>\n      <td>olor</td>\n      <td>NaN</td>\n      <td>birds</td>\n      <td>Mute Swan</td>\n      <td>Uku Paal</td>\n      <td>Estonia</td>\n      <td>...</td>\n      <td>44100</td>\n      <td>NaN</td>\n      <td>NaN</td>\n      <td>NaN</td>\n      <td>NaN</td>\n      <td>NaN</td>\n      <td>NaN</td>\n      <td>NaN</td>\n      <td>NaN</td>\n      <td>Cygnus olor</td>\n    </tr>\n    <tr>\n      <th>4</th>\n      <td>9</td>\n      <td>9</td>\n      <td>797609</td>\n      <td>Cygnus</td>\n      <td>olor</td>\n      <td>NaN</td>\n      <td>birds</td>\n      <td>Mute Swan</td>\n      <td>Jorge Leitão</td>\n      <td>Germany</td>\n      <td>...</td>\n      <td>44100</td>\n      <td>NaN</td>\n      <td>NaN</td>\n      <td>NaN</td>\n      <td>NaN</td>\n      <td>NaN</td>\n      <td>NaN</td>\n      <td>NaN</td>\n      <td>NaN</td>\n      <td>Cygnus olor</td>\n    </tr>\n    <tr>\n      <th>...</th>\n      <td>...</td>\n      <td>...</td>\n      <td>...</td>\n      <td>...</td>\n      <td>...</td>\n      <td>...</td>\n      <td>...</td>\n      <td>...</td>\n      <td>...</td>\n      <td>...</td>\n      <td>...</td>\n      <td>...</td>\n      <td>...</td>\n      <td>...</td>\n      <td>...</td>\n      <td>...</td>\n      <td>...</td>\n      <td>...</td>\n      <td>...</td>\n      <td>...</td>\n      <td>...</td>\n    </tr>\n    <tr>\n      <th>41205</th>\n      <td>296788</td>\n      <td>296788</td>\n      <td>108758</td>\n      <td>Columba</td>\n      <td>livia</td>\n      <td>NaN</td>\n      <td>birds</td>\n      <td>Rock Dove</td>\n      <td>Albert Lastukhin</td>\n      <td>Venezuela</td>\n      <td>...</td>\n      <td>44100.0</td>\n      <td>NaN</td>\n      <td>NaN</td>\n      <td>NaN</td>\n      <td>NaN</td>\n      <td>NaN</td>\n      <td>NaN</td>\n      <td>NaN</td>\n      <td>NaN</td>\n      <td>Columba livia</td>\n    </tr>\n    <tr>\n      <th>41206</th>\n      <td>296789</td>\n      <td>296789</td>\n      <td>58488</td>\n      <td>Columba</td>\n      <td>livia</td>\n      <td>NaN</td>\n      <td>birds</td>\n      <td>Rock Dove</td>\n      <td>Mike Nelson</td>\n      <td>United States</td>\n      <td>...</td>\n      <td>44100.0</td>\n      <td>NaN</td>\n      <td>NaN</td>\n      <td>NaN</td>\n      <td>NaN</td>\n      <td>NaN</td>\n      <td>NaN</td>\n      <td>NaN</td>\n      <td>NaN</td>\n      <td>Columba livia</td>\n    </tr>\n    <tr>\n      <th>41207</th>\n      <td>296790</td>\n      <td>296790</td>\n      <td>6924</td>\n      <td>Columba</td>\n      <td>livia</td>\n      <td>domestica</td>\n      <td>birds</td>\n      <td>Rock Dove</td>\n      <td>Glauco Alves Pereira</td>\n      <td>Brazil</td>\n      <td>...</td>\n      <td>22050.0</td>\n      <td>NaN</td>\n      <td>NaN</td>\n      <td>NaN</td>\n      <td>NaN</td>\n      <td>NaN</td>\n      <td>NaN</td>\n      <td>NaN</td>\n      <td>NaN</td>\n      <td>Columba livia</td>\n    </tr>\n    <tr>\n      <th>41208</th>\n      <td>296791</td>\n      <td>296791</td>\n      <td>387816</td>\n      <td>Columba</td>\n      <td>livia</td>\n      <td>NaN</td>\n      <td>birds</td>\n      <td>Rock Dove</td>\n      <td>johannes buhl</td>\n      <td>Germany</td>\n      <td>...</td>\n      <td>44100.0</td>\n      <td>NaN</td>\n      <td>NaN</td>\n      <td>NaN</td>\n      <td>NaN</td>\n      <td>NaN</td>\n      <td>NaN</td>\n      <td>NaN</td>\n      <td>NaN</td>\n      <td>Columba livia</td>\n    </tr>\n    <tr>\n      <th>41209</th>\n      <td>296792</td>\n      <td>296792</td>\n      <td>323560</td>\n      <td>Columba</td>\n      <td>livia</td>\n      <td>NaN</td>\n      <td>birds</td>\n      <td>Rock Dove</td>\n      <td>Alfonso Auerbach</td>\n      <td>Honduras</td>\n      <td>...</td>\n      <td>44100.0</td>\n      <td>NaN</td>\n      <td>NaN</td>\n      <td>NaN</td>\n      <td>NaN</td>\n      <td>NaN</td>\n      <td>NaN</td>\n      <td>NaN</td>\n      <td>NaN</td>\n      <td>Columba livia</td>\n    </tr>\n  </tbody>\n</table>\n<p>41209 rows × 54 columns</p>\n</div>"
     },
     "execution_count": 4,
     "metadata": {},
     "output_type": "execute_result"
    }
   ],
   "source": [
    "df"
   ],
   "metadata": {
    "collapsed": false,
    "ExecuteTime": {
     "end_time": "2023-11-17T18:40:58.622884075Z",
     "start_time": "2023-11-17T18:40:58.471380161Z"
    }
   },
   "id": "b905b562a8b48543"
  },
  {
   "cell_type": "code",
   "execution_count": 4,
   "outputs": [
    {
     "name": "stdout",
     "output_type": "stream",
     "text": [
      "torch.Size([1, 422848])\n",
      "torch.Size([1, 422848])\n",
      "torch.Size([1, 96000])\n",
      "(64, 251)\n",
      "Function: 'forward', execution time: 1.1827356815338135\n"
     ]
    },
    {
     "data": {
      "text/plain": "<Figure size 640x480 with 1 Axes>",
      "image/png": "[encoded data removed]"
     },
     "metadata": {},
     "output_type": "display_data"
    }
   ],
   "source": [
    "from torchaudio import transforms\n",
    "from birdclassification.visualization.plots import plot_waveform\n",
    "audio, label = train_ds[0]\n",
    "plot_torch_spectrogram(audio)"
   ],
   "metadata": {
    "collapsed": false,
    "ExecuteTime": {
     "end_time": "2023-11-16T22:45:17.495897842Z",
     "start_time": "2023-11-16T22:45:16.061921750Z"
    }
   },
   "id": "4fa92856fc444764"
  },
  {
   "cell_type": "markdown",
   "source": [],
   "metadata": {
    "collapsed": false
   },
   "id": "268104dedd5e98ad"
  },
  {
   "cell_type": "code",
   "execution_count": 5,
   "outputs": [
    {
     "name": "stdout",
     "output_type": "stream",
     "text": [
      "input torch.Size([2, 1, 64, 251])\n",
      "conv1 torch.Size([2, 16, 33, 126])\n",
      "conv2 torch.Size([2, 32, 17, 64])\n",
      "conv3 torch.Size([2, 64, 9, 33])\n",
      "conv4 torch.Size([2, 128, 5, 17])\n",
      "flatten torch.Size([2, 10880])\n",
      "----------------------------------------------------------------\n",
      "        Layer (type)               Output Shape         Param #\n",
      "================================================================\n",
      "            Conv2d-1          [-1, 16, 66, 253]             160\n",
      "              ReLU-2          [-1, 16, 66, 253]               0\n",
      "         MaxPool2d-3          [-1, 16, 33, 126]               0\n",
      "            Conv2d-4          [-1, 32, 35, 128]           4,640\n",
      "              ReLU-5          [-1, 32, 35, 128]               0\n",
      "         MaxPool2d-6           [-1, 32, 17, 64]               0\n",
      "            Conv2d-7           [-1, 64, 19, 66]          18,496\n",
      "              ReLU-8           [-1, 64, 19, 66]               0\n",
      "         MaxPool2d-9            [-1, 64, 9, 33]               0\n",
      "           Conv2d-10          [-1, 128, 11, 35]          73,856\n",
      "             ReLU-11          [-1, 128, 11, 35]               0\n",
      "        MaxPool2d-12           [-1, 128, 5, 17]               0\n",
      "          Flatten-13                [-1, 10880]               0\n",
      "           Linear-14                   [-1, 30]         326,430\n",
      "          Softmax-15                   [-1, 30]               0\n",
      "================================================================\n",
      "Total params: 423,582\n",
      "Trainable params: 423,582\n",
      "Non-trainable params: 0\n",
      "----------------------------------------------------------------\n",
      "Input size (MB): 0.06\n",
      "Forward/backward pass size (MB): 9.33\n",
      "Params size (MB): 1.62\n",
      "Estimated Total Size (MB): 11.00\n",
      "----------------------------------------------------------------\n"
     ]
    }
   ],
   "source": [
    "cnn = CNNNetwork().to(DEVICE)\n",
    "summary(cnn, (1, 64, 251)) "
   ],
   "metadata": {
    "collapsed": false,
    "ExecuteTime": {
     "end_time": "2023-11-16T22:45:17.554236181Z",
     "start_time": "2023-11-16T22:45:17.495722613Z"
    }
   },
   "id": "ce99d90c296dcb74"
  },
  {
   "cell_type": "code",
   "execution_count": 6,
   "outputs": [],
   "source": [
    "optimizer = torch.optim.SGD(cnn.parameters(), lr=0.001, momentum=0.9)"
   ],
   "metadata": {
    "collapsed": false,
    "ExecuteTime": {
     "end_time": "2023-11-16T22:45:17.770404678Z",
     "start_time": "2023-11-16T22:45:17.528207331Z"
    }
   },
   "id": "af6db4b50b693d7f"
  },
  {
   "cell_type": "code",
   "execution_count": 7,
   "outputs": [],
   "source": [
    "loss_fn = torch.nn.CrossEntropyLoss()"
   ],
   "metadata": {
    "collapsed": false,
    "ExecuteTime": {
     "end_time": "2023-11-16T22:45:17.813098039Z",
     "start_time": "2023-11-16T22:45:17.812744058Z"
    }
   },
   "id": "970d2be83e28f5f9"
  },
  {
   "cell_type": "code",
   "execution_count": 8,
   "outputs": [
    {
     "name": "stderr",
     "output_type": "stream",
     "text": [
      "2023-11-16 23:45:18.375311: I tensorflow/core/util/port.cc:110] oneDNN custom operations are on. You may see slightly different numerical results due to floating-point round-off errors from different computation orders. To turn them off, set the environment variable `TF_ENABLE_ONEDNN_OPTS=0`.\n",
      "2023-11-16 23:45:18.411278: I tensorflow/tsl/cuda/cudart_stub.cc:28] Could not find cuda drivers on your machine, GPU will not be used.\n",
      "2023-11-16 23:45:18.682729: I tensorflow/core/platform/cpu_feature_guard.cc:182] This TensorFlow binary is optimized to use available CPU instructions in performance-critical operations.\n",
      "To enable the following instructions: AVX2 AVX512F AVX512_VNNI FMA, in other operations, rebuild TensorFlow with the appropriate compiler flags.\n",
      "2023-11-16 23:45:19.662260: W tensorflow/compiler/tf2tensorrt/utils/py_utils.cc:38] TF-TRT Warning: Could not find TensorRT\n"
     ]
    },
    {
     "name": "stdout",
     "output_type": "stream",
     "text": [
      "EPOCH 1:\n",
      "torch.Size([1, 422848])\n",
      "torch.Size([1, 422848])\n",
      "torch.Size([1, 96000])\n",
      "(64, 251)\n",
      "Function: 'forward', execution time: 0.034882545471191406\n",
      "torch.Size([2, 448832])\n",
      "torch.Size([1, 448832])\n",
      "torch.Size([1, 96000])\n",
      "(64, 251)\n",
      "Function: 'forward', execution time: 0.04292178153991699\n",
      "torch.Size([2, 2010432])\n",
      "torch.Size([1, 2010432])\n",
      "torch.Size([1, 96000])\n",
      "(64, 251)\n",
      "Function: 'forward', execution time: 0.1873464584350586\n",
      "torch.Size([1, 203840])\n",
      "torch.Size([1, 203840])\n",
      "torch.Size([1, 96000])\n",
      "(64, 251)\n",
      "Function: 'forward', execution time: 0.017304182052612305\n",
      "torch.Size([2, 1028032])\n",
      "torch.Size([1, 1028032])\n",
      "torch.Size([1, 96000])\n",
      "(64, 251)\n",
      "Function: 'forward', execution time: 0.08642840385437012\n",
      "torch.Size([2, 5618624])\n",
      "torch.Size([1, 5618624])\n",
      "torch.Size([1, 96000])\n",
      "(64, 251)\n",
      "Function: 'forward', execution time: 0.4611234664916992\n",
      "torch.Size([1, 945856])\n",
      "torch.Size([1, 945856])\n",
      "torch.Size([1, 96000])\n",
      "(64, 251)\n",
      "Function: 'forward', execution time: 0.07503557205200195\n",
      "torch.Size([2, 1409600])\n",
      "torch.Size([1, 1409600])\n",
      "torch.Size([1, 96000])\n",
      "(64, 251)\n",
      "Function: 'forward', execution time: 0.11461639404296875\n",
      "torch.Size([2, 3386944])\n",
      "torch.Size([1, 3386944])\n",
      "torch.Size([1, 96000])\n",
      "(64, 251)\n",
      "Function: 'forward', execution time: 0.2836174964904785\n",
      "torch.Size([1, 137984])\n",
      "torch.Size([1, 137984])\n",
      "torch.Size([1, 96000])\n",
      "(64, 251)\n",
      "Function: 'forward', execution time: 0.013214111328125\n",
      "torch.Size([2, 871232])\n",
      "torch.Size([1, 871232])\n",
      "torch.Size([1, 96000])\n",
      "(64, 251)\n",
      "Function: 'forward', execution time: 0.07427668571472168\n",
      "torch.Size([2, 731200])\n",
      "torch.Size([1, 731200])\n",
      "torch.Size([1, 96000])\n",
      "(64, 251)\n",
      "Function: 'forward', execution time: 0.06235980987548828\n",
      "torch.Size([1, 1921984])\n",
      "torch.Size([1, 1921984])\n",
      "torch.Size([1, 96000])\n",
      "(64, 251)\n",
      "Function: 'forward', execution time: 0.15262627601623535\n",
      "torch.Size([2, 1412672])\n",
      "torch.Size([1, 1412672])\n",
      "torch.Size([1, 96000])\n",
      "(64, 251)\n",
      "Function: 'forward', execution time: 0.11284494400024414\n",
      "torch.Size([2, 458560])\n",
      "torch.Size([1, 458560])\n",
      "torch.Size([1, 96000])\n",
      "(64, 251)\n",
      "Function: 'forward', execution time: 0.03801918029785156\n",
      "torch.Size([2, 322368])\n",
      "torch.Size([1, 322368])\n",
      "torch.Size([1, 96000])\n",
      "(64, 251)\n",
      "Function: 'forward', execution time: 0.02816152572631836\n",
      "torch.Size([2, 5308352])\n",
      "torch.Size([1, 5308352])\n",
      "torch.Size([1, 96000])\n",
      "(64, 251)\n",
      "Function: 'forward', execution time: 0.44819045066833496\n",
      "torch.Size([2, 504128])\n",
      "torch.Size([1, 504128])\n",
      "torch.Size([1, 96000])\n",
      "(64, 251)\n",
      "Function: 'forward', execution time: 0.04385685920715332\n",
      "torch.Size([1, 6875584])\n",
      "torch.Size([1, 6875584])\n",
      "torch.Size([1, 96000])\n",
      "(64, 251)\n",
      "Function: 'forward', execution time: 0.5461742877960205\n",
      "torch.Size([2, 177600])\n",
      "torch.Size([1, 177600])\n",
      "torch.Size([1, 96000])\n",
      "(64, 251)\n",
      "Function: 'forward', execution time: 0.017393827438354492\n",
      "torch.Size([2, 428096])\n",
      "torch.Size([1, 428096])\n",
      "torch.Size([1, 96000])\n",
      "(64, 251)\n",
      "Function: 'forward', execution time: 0.038483381271362305\n",
      "torch.Size([2, 3247552])\n",
      "torch.Size([1, 3247552])\n",
      "torch.Size([1, 96000])\n",
      "(64, 251)\n",
      "Function: 'forward', execution time: 0.26677393913269043\n",
      "torch.Size([1, 1061952])\n",
      "torch.Size([1, 1061952])\n",
      "torch.Size([1, 96000])\n",
      "(64, 251)\n",
      "Function: 'forward', execution time: 0.08331918716430664\n",
      "torch.Size([1, 3066816])\n",
      "torch.Size([1, 3066816])\n",
      "torch.Size([1, 96000])\n",
      "(64, 251)\n",
      "Function: 'forward', execution time: 0.2373485565185547\n",
      "torch.Size([1, 389760])\n",
      "torch.Size([1, 389760])\n",
      "torch.Size([1, 96000])\n",
      "(64, 251)\n",
      "Function: 'forward', execution time: 0.03212928771972656\n",
      "torch.Size([2, 576576])\n",
      "torch.Size([1, 576576])\n",
      "torch.Size([1, 96000])\n",
      "(64, 251)\n",
      "Function: 'forward', execution time: 0.048442840576171875\n",
      "torch.Size([2, 69312])\n",
      "torch.Size([1, 69312])\n",
      "torch.Size([1, 69312])\n",
      "(64, 181)\n",
      "Function: 'forward', execution time: 0.007798910140991211\n",
      "torch.Size([1, 12656832])\n",
      "torch.Size([1, 12656832])\n",
      "torch.Size([1, 96000])\n",
      "(64, 251)\n",
      "Function: 'forward', execution time: 2.0135600566864014\n",
      "torch.Size([2, 1302208])\n",
      "torch.Size([1, 1302208])\n",
      "torch.Size([1, 96000])\n",
      "(64, 251)\n",
      "Function: 'forward', execution time: 0.10714030265808105\n",
      "torch.Size([2, 834560])\n",
      "torch.Size([1, 834560])\n",
      "torch.Size([1, 96000])\n",
      "(64, 251)\n",
      "Function: 'forward', execution time: 0.07088541984558105\n",
      "torch.Size([2, 80960])\n",
      "torch.Size([1, 80960])\n",
      "torch.Size([1, 80960])\n",
      "(64, 211)\n",
      "Function: 'forward', execution time: 0.009156942367553711\n",
      "torch.Size([2, 1521600])\n",
      "torch.Size([1, 1521600])\n",
      "torch.Size([1, 96000])\n",
      "(64, 251)\n",
      "Function: 'forward', execution time: 0.12439537048339844\n",
      "torch.Size([2, 4539456])\n",
      "torch.Size([1, 4539456])\n",
      "torch.Size([1, 96000])\n",
      "(64, 251)\n",
      "Function: 'forward', execution time: 0.3782792091369629\n",
      "torch.Size([2, 448704])\n",
      "torch.Size([1, 448704])\n",
      "torch.Size([1, 96000])\n",
      "(64, 251)\n",
      "Function: 'forward', execution time: 0.03896164894104004\n",
      "torch.Size([1, 78656])\n",
      "torch.Size([1, 78656])\n",
      "torch.Size([1, 78656])\n",
      "(64, 205)\n",
      "Function: 'forward', execution time: 0.001967906951904297\n",
      "torch.Size([2, 606848])\n",
      "torch.Size([1, 606848])\n",
      "torch.Size([1, 96000])\n",
      "(64, 251)\n",
      "Function: 'forward', execution time: 0.05121660232543945\n",
      "torch.Size([2, 706368])\n",
      "torch.Size([1, 706368])\n",
      "torch.Size([1, 96000])\n",
      "(64, 251)\n",
      "Function: 'forward', execution time: 0.0602571964263916\n",
      "torch.Size([1, 485440])\n",
      "torch.Size([1, 485440])\n",
      "torch.Size([1, 96000])\n",
      "(64, 251)\n",
      "Function: 'forward', execution time: 0.04108691215515137\n",
      "torch.Size([2, 463936])\n",
      "torch.Size([1, 463936])\n",
      "torch.Size([1, 96000])\n",
      "(64, 251)\n",
      "Function: 'forward', execution time: 0.04106879234313965\n",
      "torch.Size([1, 371712])\n",
      "torch.Size([1, 371712])\n",
      "torch.Size([1, 96000])\n",
      "(64, 251)\n",
      "Function: 'forward', execution time: 0.03060126304626465\n",
      "torch.Size([2, 27815872])\n",
      "torch.Size([1, 27815872])\n",
      "torch.Size([1, 96000])\n",
      "(64, 251)\n",
      "Function: 'forward', execution time: 2.4131293296813965\n",
      "torch.Size([2, 308864])\n",
      "torch.Size([1, 308864])\n",
      "torch.Size([1, 96000])\n",
      "(64, 251)\n",
      "Function: 'forward', execution time: 0.004541873931884766\n",
      "torch.Size([2, 676544])\n",
      "torch.Size([1, 676544])\n",
      "torch.Size([1, 96000])\n",
      "(64, 251)\n",
      "Function: 'forward', execution time: 0.0567319393157959\n",
      "torch.Size([2, 10496832])\n",
      "torch.Size([1, 10496832])\n",
      "torch.Size([1, 96000])\n",
      "(64, 251)\n",
      "Function: 'forward', execution time: 0.8699166774749756\n",
      "torch.Size([1, 561856])\n",
      "torch.Size([1, 561856])\n",
      "torch.Size([1, 96000])\n",
      "(64, 251)\n",
      "Function: 'forward', execution time: 0.04503369331359863\n",
      "torch.Size([1, 574912])\n",
      "torch.Size([1, 574912])\n",
      "torch.Size([1, 96000])\n",
      "(64, 251)\n",
      "Function: 'forward', execution time: 0.04648566246032715\n",
      "torch.Size([2, 1713216])\n",
      "torch.Size([1, 1713216])\n",
      "torch.Size([1, 96000])\n",
      "(64, 251)\n",
      "Function: 'forward', execution time: 0.26828527450561523\n",
      "torch.Size([2, 1041664])\n",
      "torch.Size([1, 1041664])\n",
      "torch.Size([1, 96000])\n",
      "(64, 251)\n",
      "Function: 'forward', execution time: 0.08364105224609375\n",
      "torch.Size([2, 179520])\n",
      "torch.Size([1, 179520])\n",
      "torch.Size([1, 96000])\n",
      "(64, 251)\n",
      "Function: 'forward', execution time: 0.015946149826049805\n",
      "torch.Size([1, 3295424])\n",
      "torch.Size([1, 3295424])\n",
      "torch.Size([1, 96000])\n",
      "(64, 251)\n",
      "Function: 'forward', execution time: 0.2630159854888916\n",
      "torch.Size([2, 1136704])\n",
      "torch.Size([1, 1136704])\n",
      "torch.Size([1, 96000])\n",
      "(64, 251)\n",
      "Function: 'forward', execution time: 0.09384942054748535\n",
      "torch.Size([2, 322240])\n",
      "torch.Size([1, 322240])\n",
      "torch.Size([1, 96000])\n",
      "(64, 251)\n",
      "Function: 'forward', execution time: 0.029615163803100586\n",
      "torch.Size([2, 1654592])\n",
      "torch.Size([1, 1654592])\n",
      "torch.Size([1, 96000])\n",
      "(64, 251)\n",
      "Function: 'forward', execution time: 0.138380765914917\n",
      "torch.Size([2, 6085696])\n",
      "torch.Size([1, 6085696])\n",
      "torch.Size([1, 96000])\n",
      "(64, 251)\n",
      "Function: 'forward', execution time: 0.5042924880981445\n",
      "torch.Size([2, 3047616])\n",
      "torch.Size([1, 3047616])\n",
      "torch.Size([1, 96000])\n",
      "(64, 251)\n",
      "Function: 'forward', execution time: 0.25498366355895996\n",
      "torch.Size([2, 2325184])\n",
      "torch.Size([1, 2325184])\n",
      "torch.Size([1, 96000])\n",
      "(64, 251)\n",
      "Function: 'forward', execution time: 0.16379642486572266\n",
      "torch.Size([2, 3851328])\n",
      "torch.Size([1, 3851328])\n",
      "torch.Size([1, 96000])\n",
      "(64, 251)\n",
      "Function: 'forward', execution time: 0.31990480422973633\n",
      "torch.Size([2, 453824])\n",
      "torch.Size([1, 453824])\n",
      "torch.Size([1, 96000])\n",
      "(64, 251)\n",
      "Function: 'forward', execution time: 0.039980411529541016\n",
      "torch.Size([2, 1485760])\n",
      "torch.Size([1, 1485760])\n",
      "torch.Size([1, 96000])\n",
      "(64, 251)\n",
      "Function: 'forward', execution time: 0.12335824966430664\n",
      "torch.Size([2, 6198976])\n",
      "torch.Size([1, 6198976])\n",
      "torch.Size([1, 96000])\n",
      "(64, 251)\n",
      "Function: 'forward', execution time: 0.5154979228973389\n",
      "torch.Size([2, 4483008])\n",
      "torch.Size([1, 4483008])\n",
      "torch.Size([1, 96000])\n",
      "(64, 251)\n",
      "Function: 'forward', execution time: 0.37038445472717285\n",
      "torch.Size([1, 235520])\n",
      "torch.Size([1, 235520])\n",
      "torch.Size([1, 96000])\n",
      "(64, 251)\n",
      "Function: 'forward', execution time: 0.02105545997619629\n",
      "torch.Size([2, 1477888])\n",
      "torch.Size([1, 1477888])\n",
      "torch.Size([1, 96000])\n",
      "(64, 251)\n",
      "Function: 'forward', execution time: 0.12173748016357422\n",
      "torch.Size([2, 387776])\n",
      "torch.Size([1, 387776])\n",
      "torch.Size([1, 96000])\n",
      "(64, 251)\n",
      "Function: 'forward', execution time: 0.04008340835571289\n"
     ]
    },
    {
     "ename": "RuntimeError",
     "evalue": "stack expects each tensor to be equal size, but got [64, 251] at entry 0 and [64, 181] at entry 26",
     "output_type": "error",
     "traceback": [
      "\u001B[0;31m---------------------------------------------------------------------------\u001B[0m",
      "\u001B[0;31mRuntimeError\u001B[0m                              Traceback (most recent call last)",
      "Cell \u001B[0;32mIn[8], line 21\u001B[0m\n\u001B[1;32m     19\u001B[0m \u001B[38;5;66;03m# Make sure gradient tracking is on, and do a pass over the data\u001B[39;00m\n\u001B[1;32m     20\u001B[0m cnn\u001B[38;5;241m.\u001B[39mtrain(\u001B[38;5;28;01mTrue\u001B[39;00m)\n\u001B[0;32m---> 21\u001B[0m avg_loss \u001B[38;5;241m=\u001B[39m \u001B[43mtrain_one_epoch\u001B[49m\u001B[43m(\u001B[49m\u001B[43mepoch_number\u001B[49m\u001B[43m,\u001B[49m\u001B[43m \u001B[49m\u001B[43mwriter\u001B[49m\u001B[43m,\u001B[49m\u001B[43m \u001B[49m\u001B[43mtrain_dl\u001B[49m\u001B[43m,\u001B[49m\u001B[43m \u001B[49m\u001B[43moptimizer\u001B[49m\u001B[43m,\u001B[49m\u001B[43m \u001B[49m\u001B[43mloss_fn\u001B[49m\u001B[43m,\u001B[49m\u001B[43m \u001B[49m\u001B[43mcnn\u001B[49m\u001B[43m)\u001B[49m\n\u001B[1;32m     23\u001B[0m \u001B[38;5;66;03m# Set the model to evaluation mode, disabling dropout and using population \u001B[39;00m\n\u001B[1;32m     24\u001B[0m \u001B[38;5;66;03m# statistics for batch normalization.\u001B[39;00m\n\u001B[1;32m     25\u001B[0m cnn\u001B[38;5;241m.\u001B[39meval()\n",
      "File \u001B[0;32m~/PycharmProjects/Bird-classification-model/training/training_utils.py:8\u001B[0m, in \u001B[0;36mtrain_one_epoch\u001B[0;34m(epoch_index, tb_writer, training_loader, optimizer, loss_fn, model)\u001B[0m\n\u001B[1;32m      5\u001B[0m running_loss \u001B[38;5;241m=\u001B[39m \u001B[38;5;241m0.\u001B[39m\n\u001B[1;32m      6\u001B[0m last_loss \u001B[38;5;241m=\u001B[39m \u001B[38;5;241m0.\u001B[39m\n\u001B[0;32m----> 8\u001B[0m \u001B[43m\u001B[49m\u001B[38;5;28;43;01mfor\u001B[39;49;00m\u001B[43m \u001B[49m\u001B[43mi\u001B[49m\u001B[43m,\u001B[49m\u001B[43m \u001B[49m\u001B[43mdata\u001B[49m\u001B[43m \u001B[49m\u001B[38;5;129;43;01min\u001B[39;49;00m\u001B[43m \u001B[49m\u001B[38;5;28;43menumerate\u001B[39;49m\u001B[43m(\u001B[49m\u001B[43mtraining_loader\u001B[49m\u001B[43m)\u001B[49m\u001B[43m:\u001B[49m\n\u001B[1;32m      9\u001B[0m \u001B[43m    \u001B[49m\u001B[43minputs\u001B[49m\u001B[43m,\u001B[49m\u001B[43m \u001B[49m\u001B[43mlabels\u001B[49m\u001B[43m \u001B[49m\u001B[38;5;241;43m=\u001B[39;49m\u001B[43m \u001B[49m\u001B[43mdata\u001B[49m\n\u001B[1;32m     11\u001B[0m \u001B[43m    \u001B[49m\u001B[38;5;66;43;03m# Zero your gradients for every batch!\u001B[39;49;00m\n",
      "File \u001B[0;32m~/PycharmProjects/Bird-classification-model/venv/lib/python3.11/site-packages/torch/utils/data/dataloader.py:630\u001B[0m, in \u001B[0;36m_BaseDataLoaderIter.__next__\u001B[0;34m(self)\u001B[0m\n\u001B[1;32m    627\u001B[0m \u001B[38;5;28;01mif\u001B[39;00m \u001B[38;5;28mself\u001B[39m\u001B[38;5;241m.\u001B[39m_sampler_iter \u001B[38;5;129;01mis\u001B[39;00m \u001B[38;5;28;01mNone\u001B[39;00m:\n\u001B[1;32m    628\u001B[0m     \u001B[38;5;66;03m# TODO(https://github.com/pytorch/pytorch/issues/76750)\u001B[39;00m\n\u001B[1;32m    629\u001B[0m     \u001B[38;5;28mself\u001B[39m\u001B[38;5;241m.\u001B[39m_reset()  \u001B[38;5;66;03m# type: ignore[call-arg]\u001B[39;00m\n\u001B[0;32m--> 630\u001B[0m data \u001B[38;5;241m=\u001B[39m \u001B[38;5;28;43mself\u001B[39;49m\u001B[38;5;241;43m.\u001B[39;49m\u001B[43m_next_data\u001B[49m\u001B[43m(\u001B[49m\u001B[43m)\u001B[49m\n\u001B[1;32m    631\u001B[0m \u001B[38;5;28mself\u001B[39m\u001B[38;5;241m.\u001B[39m_num_yielded \u001B[38;5;241m+\u001B[39m\u001B[38;5;241m=\u001B[39m \u001B[38;5;241m1\u001B[39m\n\u001B[1;32m    632\u001B[0m \u001B[38;5;28;01mif\u001B[39;00m \u001B[38;5;28mself\u001B[39m\u001B[38;5;241m.\u001B[39m_dataset_kind \u001B[38;5;241m==\u001B[39m _DatasetKind\u001B[38;5;241m.\u001B[39mIterable \u001B[38;5;129;01mand\u001B[39;00m \\\n\u001B[1;32m    633\u001B[0m         \u001B[38;5;28mself\u001B[39m\u001B[38;5;241m.\u001B[39m_IterableDataset_len_called \u001B[38;5;129;01mis\u001B[39;00m \u001B[38;5;129;01mnot\u001B[39;00m \u001B[38;5;28;01mNone\u001B[39;00m \u001B[38;5;129;01mand\u001B[39;00m \\\n\u001B[1;32m    634\u001B[0m         \u001B[38;5;28mself\u001B[39m\u001B[38;5;241m.\u001B[39m_num_yielded \u001B[38;5;241m>\u001B[39m \u001B[38;5;28mself\u001B[39m\u001B[38;5;241m.\u001B[39m_IterableDataset_len_called:\n",
      "File \u001B[0;32m~/PycharmProjects/Bird-classification-model/venv/lib/python3.11/site-packages/torch/utils/data/dataloader.py:674\u001B[0m, in \u001B[0;36m_SingleProcessDataLoaderIter._next_data\u001B[0;34m(self)\u001B[0m\n\u001B[1;32m    672\u001B[0m \u001B[38;5;28;01mdef\u001B[39;00m \u001B[38;5;21m_next_data\u001B[39m(\u001B[38;5;28mself\u001B[39m):\n\u001B[1;32m    673\u001B[0m     index \u001B[38;5;241m=\u001B[39m \u001B[38;5;28mself\u001B[39m\u001B[38;5;241m.\u001B[39m_next_index()  \u001B[38;5;66;03m# may raise StopIteration\u001B[39;00m\n\u001B[0;32m--> 674\u001B[0m     data \u001B[38;5;241m=\u001B[39m \u001B[38;5;28;43mself\u001B[39;49m\u001B[38;5;241;43m.\u001B[39;49m\u001B[43m_dataset_fetcher\u001B[49m\u001B[38;5;241;43m.\u001B[39;49m\u001B[43mfetch\u001B[49m\u001B[43m(\u001B[49m\u001B[43mindex\u001B[49m\u001B[43m)\u001B[49m  \u001B[38;5;66;03m# may raise StopIteration\u001B[39;00m\n\u001B[1;32m    675\u001B[0m     \u001B[38;5;28;01mif\u001B[39;00m \u001B[38;5;28mself\u001B[39m\u001B[38;5;241m.\u001B[39m_pin_memory:\n\u001B[1;32m    676\u001B[0m         data \u001B[38;5;241m=\u001B[39m _utils\u001B[38;5;241m.\u001B[39mpin_memory\u001B[38;5;241m.\u001B[39mpin_memory(data, \u001B[38;5;28mself\u001B[39m\u001B[38;5;241m.\u001B[39m_pin_memory_device)\n",
      "File \u001B[0;32m~/PycharmProjects/Bird-classification-model/venv/lib/python3.11/site-packages/torch/utils/data/_utils/fetch.py:54\u001B[0m, in \u001B[0;36m_MapDatasetFetcher.fetch\u001B[0;34m(self, possibly_batched_index)\u001B[0m\n\u001B[1;32m     52\u001B[0m \u001B[38;5;28;01melse\u001B[39;00m:\n\u001B[1;32m     53\u001B[0m     data \u001B[38;5;241m=\u001B[39m \u001B[38;5;28mself\u001B[39m\u001B[38;5;241m.\u001B[39mdataset[possibly_batched_index]\n\u001B[0;32m---> 54\u001B[0m \u001B[38;5;28;01mreturn\u001B[39;00m \u001B[38;5;28;43mself\u001B[39;49m\u001B[38;5;241;43m.\u001B[39;49m\u001B[43mcollate_fn\u001B[49m\u001B[43m(\u001B[49m\u001B[43mdata\u001B[49m\u001B[43m)\u001B[49m\n",
      "File \u001B[0;32m~/PycharmProjects/Bird-classification-model/venv/lib/python3.11/site-packages/torch/utils/data/_utils/collate.py:265\u001B[0m, in \u001B[0;36mdefault_collate\u001B[0;34m(batch)\u001B[0m\n\u001B[1;32m    204\u001B[0m \u001B[38;5;28;01mdef\u001B[39;00m \u001B[38;5;21mdefault_collate\u001B[39m(batch):\n\u001B[1;32m    205\u001B[0m \u001B[38;5;250m    \u001B[39m\u001B[38;5;124mr\u001B[39m\u001B[38;5;124;03m\"\"\"\u001B[39;00m\n\u001B[1;32m    206\u001B[0m \u001B[38;5;124;03m        Function that takes in a batch of data and puts the elements within the batch\u001B[39;00m\n\u001B[1;32m    207\u001B[0m \u001B[38;5;124;03m        into a tensor with an additional outer dimension - batch size. The exact output type can be\u001B[39;00m\n\u001B[0;32m   (...)\u001B[0m\n\u001B[1;32m    263\u001B[0m \u001B[38;5;124;03m            >>> default_collate(batch)  # Handle `CustomType` automatically\u001B[39;00m\n\u001B[1;32m    264\u001B[0m \u001B[38;5;124;03m    \"\"\"\u001B[39;00m\n\u001B[0;32m--> 265\u001B[0m     \u001B[38;5;28;01mreturn\u001B[39;00m \u001B[43mcollate\u001B[49m\u001B[43m(\u001B[49m\u001B[43mbatch\u001B[49m\u001B[43m,\u001B[49m\u001B[43m \u001B[49m\u001B[43mcollate_fn_map\u001B[49m\u001B[38;5;241;43m=\u001B[39;49m\u001B[43mdefault_collate_fn_map\u001B[49m\u001B[43m)\u001B[49m\n",
      "File \u001B[0;32m~/PycharmProjects/Bird-classification-model/venv/lib/python3.11/site-packages/torch/utils/data/_utils/collate.py:142\u001B[0m, in \u001B[0;36mcollate\u001B[0;34m(batch, collate_fn_map)\u001B[0m\n\u001B[1;32m    139\u001B[0m transposed \u001B[38;5;241m=\u001B[39m \u001B[38;5;28mlist\u001B[39m(\u001B[38;5;28mzip\u001B[39m(\u001B[38;5;241m*\u001B[39mbatch))  \u001B[38;5;66;03m# It may be accessed twice, so we use a list.\u001B[39;00m\n\u001B[1;32m    141\u001B[0m \u001B[38;5;28;01mif\u001B[39;00m \u001B[38;5;28misinstance\u001B[39m(elem, \u001B[38;5;28mtuple\u001B[39m):\n\u001B[0;32m--> 142\u001B[0m     \u001B[38;5;28;01mreturn\u001B[39;00m \u001B[43m[\u001B[49m\u001B[43mcollate\u001B[49m\u001B[43m(\u001B[49m\u001B[43msamples\u001B[49m\u001B[43m,\u001B[49m\u001B[43m \u001B[49m\u001B[43mcollate_fn_map\u001B[49m\u001B[38;5;241;43m=\u001B[39;49m\u001B[43mcollate_fn_map\u001B[49m\u001B[43m)\u001B[49m\u001B[43m \u001B[49m\u001B[38;5;28;43;01mfor\u001B[39;49;00m\u001B[43m \u001B[49m\u001B[43msamples\u001B[49m\u001B[43m \u001B[49m\u001B[38;5;129;43;01min\u001B[39;49;00m\u001B[43m \u001B[49m\u001B[43mtransposed\u001B[49m\u001B[43m]\u001B[49m  \u001B[38;5;66;03m# Backwards compatibility.\u001B[39;00m\n\u001B[1;32m    143\u001B[0m \u001B[38;5;28;01melse\u001B[39;00m:\n\u001B[1;32m    144\u001B[0m     \u001B[38;5;28;01mtry\u001B[39;00m:\n",
      "File \u001B[0;32m~/PycharmProjects/Bird-classification-model/venv/lib/python3.11/site-packages/torch/utils/data/_utils/collate.py:142\u001B[0m, in \u001B[0;36m<listcomp>\u001B[0;34m(.0)\u001B[0m\n\u001B[1;32m    139\u001B[0m transposed \u001B[38;5;241m=\u001B[39m \u001B[38;5;28mlist\u001B[39m(\u001B[38;5;28mzip\u001B[39m(\u001B[38;5;241m*\u001B[39mbatch))  \u001B[38;5;66;03m# It may be accessed twice, so we use a list.\u001B[39;00m\n\u001B[1;32m    141\u001B[0m \u001B[38;5;28;01mif\u001B[39;00m \u001B[38;5;28misinstance\u001B[39m(elem, \u001B[38;5;28mtuple\u001B[39m):\n\u001B[0;32m--> 142\u001B[0m     \u001B[38;5;28;01mreturn\u001B[39;00m [\u001B[43mcollate\u001B[49m\u001B[43m(\u001B[49m\u001B[43msamples\u001B[49m\u001B[43m,\u001B[49m\u001B[43m \u001B[49m\u001B[43mcollate_fn_map\u001B[49m\u001B[38;5;241;43m=\u001B[39;49m\u001B[43mcollate_fn_map\u001B[49m\u001B[43m)\u001B[49m \u001B[38;5;28;01mfor\u001B[39;00m samples \u001B[38;5;129;01min\u001B[39;00m transposed]  \u001B[38;5;66;03m# Backwards compatibility.\u001B[39;00m\n\u001B[1;32m    143\u001B[0m \u001B[38;5;28;01melse\u001B[39;00m:\n\u001B[1;32m    144\u001B[0m     \u001B[38;5;28;01mtry\u001B[39;00m:\n",
      "File \u001B[0;32m~/PycharmProjects/Bird-classification-model/venv/lib/python3.11/site-packages/torch/utils/data/_utils/collate.py:119\u001B[0m, in \u001B[0;36mcollate\u001B[0;34m(batch, collate_fn_map)\u001B[0m\n\u001B[1;32m    117\u001B[0m \u001B[38;5;28;01mif\u001B[39;00m collate_fn_map \u001B[38;5;129;01mis\u001B[39;00m \u001B[38;5;129;01mnot\u001B[39;00m \u001B[38;5;28;01mNone\u001B[39;00m:\n\u001B[1;32m    118\u001B[0m     \u001B[38;5;28;01mif\u001B[39;00m elem_type \u001B[38;5;129;01min\u001B[39;00m collate_fn_map:\n\u001B[0;32m--> 119\u001B[0m         \u001B[38;5;28;01mreturn\u001B[39;00m \u001B[43mcollate_fn_map\u001B[49m\u001B[43m[\u001B[49m\u001B[43melem_type\u001B[49m\u001B[43m]\u001B[49m\u001B[43m(\u001B[49m\u001B[43mbatch\u001B[49m\u001B[43m,\u001B[49m\u001B[43m \u001B[49m\u001B[43mcollate_fn_map\u001B[49m\u001B[38;5;241;43m=\u001B[39;49m\u001B[43mcollate_fn_map\u001B[49m\u001B[43m)\u001B[49m\n\u001B[1;32m    121\u001B[0m     \u001B[38;5;28;01mfor\u001B[39;00m collate_type \u001B[38;5;129;01min\u001B[39;00m collate_fn_map:\n\u001B[1;32m    122\u001B[0m         \u001B[38;5;28;01mif\u001B[39;00m \u001B[38;5;28misinstance\u001B[39m(elem, collate_type):\n",
      "File \u001B[0;32m~/PycharmProjects/Bird-classification-model/venv/lib/python3.11/site-packages/torch/utils/data/_utils/collate.py:171\u001B[0m, in \u001B[0;36mcollate_numpy_array_fn\u001B[0;34m(batch, collate_fn_map)\u001B[0m\n\u001B[1;32m    168\u001B[0m \u001B[38;5;28;01mif\u001B[39;00m np_str_obj_array_pattern\u001B[38;5;241m.\u001B[39msearch(elem\u001B[38;5;241m.\u001B[39mdtype\u001B[38;5;241m.\u001B[39mstr) \u001B[38;5;129;01mis\u001B[39;00m \u001B[38;5;129;01mnot\u001B[39;00m \u001B[38;5;28;01mNone\u001B[39;00m:\n\u001B[1;32m    169\u001B[0m     \u001B[38;5;28;01mraise\u001B[39;00m \u001B[38;5;167;01mTypeError\u001B[39;00m(default_collate_err_msg_format\u001B[38;5;241m.\u001B[39mformat(elem\u001B[38;5;241m.\u001B[39mdtype))\n\u001B[0;32m--> 171\u001B[0m \u001B[38;5;28;01mreturn\u001B[39;00m \u001B[43mcollate\u001B[49m\u001B[43m(\u001B[49m\u001B[43m[\u001B[49m\u001B[43mtorch\u001B[49m\u001B[38;5;241;43m.\u001B[39;49m\u001B[43mas_tensor\u001B[49m\u001B[43m(\u001B[49m\u001B[43mb\u001B[49m\u001B[43m)\u001B[49m\u001B[43m \u001B[49m\u001B[38;5;28;43;01mfor\u001B[39;49;00m\u001B[43m \u001B[49m\u001B[43mb\u001B[49m\u001B[43m \u001B[49m\u001B[38;5;129;43;01min\u001B[39;49;00m\u001B[43m \u001B[49m\u001B[43mbatch\u001B[49m\u001B[43m]\u001B[49m\u001B[43m,\u001B[49m\u001B[43m \u001B[49m\u001B[43mcollate_fn_map\u001B[49m\u001B[38;5;241;43m=\u001B[39;49m\u001B[43mcollate_fn_map\u001B[49m\u001B[43m)\u001B[49m\n",
      "File \u001B[0;32m~/PycharmProjects/Bird-classification-model/venv/lib/python3.11/site-packages/torch/utils/data/_utils/collate.py:119\u001B[0m, in \u001B[0;36mcollate\u001B[0;34m(batch, collate_fn_map)\u001B[0m\n\u001B[1;32m    117\u001B[0m \u001B[38;5;28;01mif\u001B[39;00m collate_fn_map \u001B[38;5;129;01mis\u001B[39;00m \u001B[38;5;129;01mnot\u001B[39;00m \u001B[38;5;28;01mNone\u001B[39;00m:\n\u001B[1;32m    118\u001B[0m     \u001B[38;5;28;01mif\u001B[39;00m elem_type \u001B[38;5;129;01min\u001B[39;00m collate_fn_map:\n\u001B[0;32m--> 119\u001B[0m         \u001B[38;5;28;01mreturn\u001B[39;00m \u001B[43mcollate_fn_map\u001B[49m\u001B[43m[\u001B[49m\u001B[43melem_type\u001B[49m\u001B[43m]\u001B[49m\u001B[43m(\u001B[49m\u001B[43mbatch\u001B[49m\u001B[43m,\u001B[49m\u001B[43m \u001B[49m\u001B[43mcollate_fn_map\u001B[49m\u001B[38;5;241;43m=\u001B[39;49m\u001B[43mcollate_fn_map\u001B[49m\u001B[43m)\u001B[49m\n\u001B[1;32m    121\u001B[0m     \u001B[38;5;28;01mfor\u001B[39;00m collate_type \u001B[38;5;129;01min\u001B[39;00m collate_fn_map:\n\u001B[1;32m    122\u001B[0m         \u001B[38;5;28;01mif\u001B[39;00m \u001B[38;5;28misinstance\u001B[39m(elem, collate_type):\n",
      "File \u001B[0;32m~/PycharmProjects/Bird-classification-model/venv/lib/python3.11/site-packages/torch/utils/data/_utils/collate.py:162\u001B[0m, in \u001B[0;36mcollate_tensor_fn\u001B[0;34m(batch, collate_fn_map)\u001B[0m\n\u001B[1;32m    160\u001B[0m     storage \u001B[38;5;241m=\u001B[39m elem\u001B[38;5;241m.\u001B[39m_typed_storage()\u001B[38;5;241m.\u001B[39m_new_shared(numel, device\u001B[38;5;241m=\u001B[39melem\u001B[38;5;241m.\u001B[39mdevice)\n\u001B[1;32m    161\u001B[0m     out \u001B[38;5;241m=\u001B[39m elem\u001B[38;5;241m.\u001B[39mnew(storage)\u001B[38;5;241m.\u001B[39mresize_(\u001B[38;5;28mlen\u001B[39m(batch), \u001B[38;5;241m*\u001B[39m\u001B[38;5;28mlist\u001B[39m(elem\u001B[38;5;241m.\u001B[39msize()))\n\u001B[0;32m--> 162\u001B[0m \u001B[38;5;28;01mreturn\u001B[39;00m \u001B[43mtorch\u001B[49m\u001B[38;5;241;43m.\u001B[39;49m\u001B[43mstack\u001B[49m\u001B[43m(\u001B[49m\u001B[43mbatch\u001B[49m\u001B[43m,\u001B[49m\u001B[43m \u001B[49m\u001B[38;5;241;43m0\u001B[39;49m\u001B[43m,\u001B[49m\u001B[43m \u001B[49m\u001B[43mout\u001B[49m\u001B[38;5;241;43m=\u001B[39;49m\u001B[43mout\u001B[49m\u001B[43m)\u001B[49m\n",
      "\u001B[0;31mRuntimeError\u001B[0m: stack expects each tensor to be equal size, but got [64, 251] at entry 0 and [64, 181] at entry 26"
     ]
    }
   ],
   "source": [
    "from datetime import datetime\n",
    "import sys\n",
    "from training.training_utils import train_one_epoch\n",
    "from torch.utils.tensorboard import SummaryWriter\n",
    "from training.validation_metrics import calculate_metric\n",
    "from sklearn.metrics import f1_score\n",
    "\n",
    "timestamp = datetime.now().strftime('%Y%m%d_%H%M%S')\n",
    "writer = SummaryWriter(f'logs/fashion_trainer_{timestamp}')\n",
    "epoch_number = 0\n",
    "\n",
    "EPOCHS = 7\n",
    "\n",
    "best_vloss = sys.float_info.max\n",
    "\n",
    "for epoch in range(EPOCHS):\n",
    "    print('EPOCH {}:'.format(epoch_number + 1))\n",
    "    \n",
    "    # Make sure gradient tracking is on, and do a pass over the data\n",
    "    cnn.train(True)\n",
    "    avg_loss = train_one_epoch(epoch_number, writer, train_dl, optimizer, loss_fn, cnn)\n",
    "    \n",
    "    # Set the model to evaluation mode, disabling dropout and using population \n",
    "    # statistics for batch normalization.\n",
    "    cnn.eval()\n",
    "    running_vloss = 0.0\n",
    "\n",
    "    # Disable gradient computation and reduce memory consumption.\n",
    "    with torch.no_grad():\n",
    "        for i, vdata in enumerate(val_dl):\n",
    "            vinputs, vlabels = vdata\n",
    "            voutputs = cnn(vinputs)\n",
    "            vloss = loss_fn(voutputs, vlabels)\n",
    "            running_vloss += vloss\n",
    "    \n",
    "    avg_vloss = running_vloss / (i + 1)\n",
    "    print(\"#############################################################\")\n",
    "    print(\"Epoch results:\")\n",
    "    print(f'Loss train {avg_loss} valid loss: {avg_vloss}')\n",
    "    validation_f1_score = calculate_metric(cnn, val_dl, metric=f1_score)\n",
    "    train_f1_score = None\n",
    "    print(f'F1 score train {train_f1_score} valid f1 score {validation_f1_score}')\n",
    "    print(\"#############################################################\\n\\n\")\n",
    "    \n",
    "    # Log the running loss averaged per batch\n",
    "    # for both training and validation\n",
    "    writer.add_scalars('Training vs. Validation Loss',\n",
    "                    { 'Training' : avg_loss, 'Validation' : avg_vloss },\n",
    "                    epoch_number + 1)\n",
    "    \n",
    "    \n",
    "    writer.add_scalars('Macro_averaged_f1_score',\n",
    "                    { 'Validation' : validation_f1_score},\n",
    "                    epoch_number + 1)\n",
    "    \n",
    "    writer.flush()\n",
    "    \n",
    "    # Track best performance, and save the model's state\n",
    "    if avg_vloss < best_vloss:\n",
    "        best_vloss = avg_vloss\n",
    "        model_path = f'model_{timestamp}_{epoch_number}'\n",
    "        torch.save(cnn.state_dict(), model_path)\n",
    "    \n",
    "    epoch_number += 1"
   ],
   "metadata": {
    "collapsed": false,
    "ExecuteTime": {
     "end_time": "2023-11-16T22:45:38.382783638Z",
     "start_time": "2023-11-16T22:45:17.812919380Z"
    }
   },
   "id": "3d4d6b60baba8699"
  },
  {
   "cell_type": "markdown",
   "source": [
    "## Tests"
   ],
   "metadata": {
    "collapsed": false
   },
   "id": "d140231a0259701c"
  },
  {
   "cell_type": "code",
   "execution_count": null,
   "outputs": [],
   "source": [
    "for i in range(200):\n",
    "    audio, label = train_ds[i]\n",
    "    print(i,\": \", audio.shape)"
   ],
   "metadata": {
    "collapsed": false,
    "ExecuteTime": {
     "start_time": "2023-11-16T22:45:38.385487948Z"
    }
   },
   "id": "b10817059f8b0bb9"
  },
  {
   "cell_type": "code",
   "execution_count": null,
   "outputs": [],
   "source": [
    "df = filter_recordings_30(filepath_recordings='../../data/xeno_canto_recordings.csv', filepath_bird_list='../../data/bird-list-extended.csv')\n",
    "df['filepath'] = df.apply(lambda x: f\"{RECORDINGS_DIR}{x['Latin name']}/{str(x['id'])}.mp3\", axis=1)"
   ],
   "metadata": {
    "collapsed": false,
    "ExecuteTime": {
     "start_time": "2023-11-16T22:45:38.387545425Z"
    }
   },
   "id": "1f3a381430a4687b"
  },
  {
   "cell_type": "code",
   "execution_count": null,
   "outputs": [],
   "source": [
    "df['filepath']"
   ],
   "metadata": {
    "collapsed": false,
    "ExecuteTime": {
     "start_time": "2023-11-16T22:45:38.389210043Z"
    }
   },
   "id": "af0daaf8bd117879"
  },
  {
   "cell_type": "code",
   "execution_count": 7,
   "outputs": [
    {
     "data": {
      "text/plain": "41210"
     },
     "execution_count": 7,
     "metadata": {},
     "output_type": "execute_result"
    }
   ],
   "source": [
    "len(train_df.index) + len(test_df.index) +len(val_df.index) "
   ],
   "metadata": {
    "collapsed": false,
    "ExecuteTime": {
     "end_time": "2023-11-16T22:47:06.468539155Z",
     "start_time": "2023-11-16T22:47:06.450135838Z"
    }
   },
   "id": "3960e6d75bedc4a5"
  },
  {
   "cell_type": "code",
   "execution_count": 6,
   "outputs": [
    {
     "name": "stdout",
     "output_type": "stream",
     "text": [
      "0\n",
      "500\n",
      "1000\n",
      "1500\n",
      "2000\n",
      "2500\n",
      "3000\n",
      "3500\n",
      "Problems at index 3691 with file: /media/jacek/E753-A120/recordings_30/Phoenicurus ochruros/603925.mp3\n",
      "4000\n",
      "4500\n",
      "Problems at index 4633 with file: /media/jacek/E753-A120/recordings_30/Alauda arvensis/397007.mp3\n",
      "5000\n",
      "5500\n",
      "6000\n",
      "6500\n",
      "7000\n",
      "7500\n",
      "8000\n",
      "8500\n",
      "9000\n",
      "9500\n",
      "10000\n",
      "10500\n",
      "11000\n",
      "Problems at index 11015 with file: /media/jacek/E753-A120/recordings_30/Alauda arvensis/818118.mp3\n",
      "Problems at index 11398 with file: /media/jacek/E753-A120/recordings_30/Apus apus/484956.mp3\n",
      "11500\n",
      "12000\n",
      "12500\n",
      "13000\n",
      "Problems at index 13386 with file: /media/jacek/E753-A120/recordings_30/Turdus merula/489252.mp3\n",
      "13500\n",
      "14000\n",
      "14500\n",
      "15000\n",
      "15500\n",
      "16000\n",
      "16500\n",
      "17000\n",
      "17500\n",
      "18000\n",
      "Problems at index 18147 with file: /media/jacek/E753-A120/recordings_30/Turdus merula/594306.mp3\n",
      "18500\n",
      "19000\n",
      "Problems at index 19058 with file: /media/jacek/E753-A120/recordings_30/Apus apus/810161.mp3\n",
      "19500\n",
      "20000\n",
      "20500\n",
      "21000\n",
      "21500\n",
      "22000\n",
      "22500\n",
      "23000\n",
      "23500\n",
      "24000\n",
      "24500\n",
      "25000\n",
      "25500\n",
      "26000\n",
      "26500\n",
      "27000\n",
      "27500\n",
      "28000\n",
      "28500\n",
      "29000\n",
      "29500\n",
      "Problems at index 29961 with file: /media/jacek/E753-A120/recordings_30/Apus apus/651693.mp3\n",
      "30000\n",
      "30500\n",
      "31000\n",
      "31500\n",
      "32000\n",
      "32500\n"
     ]
    }
   ],
   "source": [
    "for i in range(train_ds.__len__()):\n",
    "    if i%500 == 0:\n",
    "        print(i)\n",
    "    try:\n",
    "        audio, label, filepath = train_ds[i]\n",
    "    except:\n",
    "        print(f\"Problems at index {i} with file: {train_ds.get_filepath(i)}\")\n",
    "        \n",
    "    "
   ],
   "metadata": {
    "collapsed": false,
    "ExecuteTime": {
     "end_time": "2023-11-17T02:34:54.397238664Z",
     "start_time": "2023-11-17T00:16:27.037673921Z"
    }
   },
   "id": "e5b5b81e5b121d65"
  },
  {
   "cell_type": "code",
   "execution_count": 4,
   "outputs": [
    {
     "name": "stdout",
     "output_type": "stream",
     "text": [
      "0\n",
      "500\n",
      "1000\n",
      "1500\n",
      "2000\n",
      "2500\n",
      "3000\n",
      "3500\n",
      "4000\n"
     ]
    }
   ],
   "source": [
    "for i in range(test_ds.__len__()):\n",
    "    if i%500 == 0:\n",
    "        print(i)\n",
    "    try:\n",
    "        audio, label, filepath = test_ds[i]\n",
    "    except:\n",
    "        print(f\"Problems at index {i} with file: {test_ds.get_filepath(i)}\")\n",
    "        "
   ],
   "metadata": {
    "collapsed": false,
    "ExecuteTime": {
     "end_time": "2023-11-16T23:58:58.214672736Z",
     "start_time": "2023-11-16T23:42:23.002613549Z"
    }
   },
   "id": "6bf17803c91b88f9"
  },
  {
   "cell_type": "code",
   "execution_count": 5,
   "outputs": [
    {
     "name": "stdout",
     "output_type": "stream",
     "text": [
      "0\n",
      "500\n",
      "1000\n",
      "1500\n",
      "2000\n",
      "2500\n",
      "3000\n",
      "3500\n",
      "4000\n"
     ]
    }
   ],
   "source": [
    "for i in range(val_ds.__len__()):\n",
    "    if i%500 == 0:\n",
    "        print(i)\n",
    "    try:\n",
    "        audio, label, filepath = val_ds[i]\n",
    "    except:\n",
    "        print(f\"Problems at index {i} with file: {val_ds.get_filepath(i)}\")\n",
    "        "
   ],
   "metadata": {
    "collapsed": false,
    "ExecuteTime": {
     "end_time": "2023-11-17T00:16:27.035042065Z",
     "start_time": "2023-11-16T23:58:58.256777884Z"
    }
   },
   "id": "a2d4da2316ff4178"
  },
  {
   "cell_type": "code",
   "execution_count": null,
   "outputs": [],
   "source": [],
   "metadata": {
    "collapsed": false
   },
   "id": "7c854225e692a044"
  },
  {
   "cell_type": "code",
   "execution_count": null,
   "outputs": [],
   "source": [],
   "metadata": {
    "collapsed": false
   },
   "id": "2a7a4bb2904754ab"
  },
  {
   "cell_type": "code",
   "execution_count": null,
   "outputs": [],
   "source": [],
   "metadata": {
    "collapsed": false
   },
   "id": "6531f8daf939e1a5"
  },
  {
   "cell_type": "code",
   "execution_count": null,
   "outputs": [],
   "source": [],
   "metadata": {
    "collapsed": false
   },
   "id": "17712bcc3bae75d0"
  },
  {
   "cell_type": "code",
   "execution_count": 4,
   "outputs": [
    {
     "name": "stdout",
     "output_type": "stream",
     "text": [
      "0\n",
      "500\n",
      "1000\n",
      "1500\n",
      "2000\n",
      "2500\n",
      "3000\n",
      "3500\n",
      "4000\n",
      "4500\n",
      "5000\n",
      "5500\n",
      "6000\n",
      "6500\n",
      "7000\n",
      "7500\n",
      "8000\n",
      "8500\n",
      "9000\n",
      "9500\n",
      "10000\n",
      "10500\n",
      "11000\n",
      "Problems at index 11015 with file: /media/jacek/E753-A120/recordings_30/Alauda arvensis/818118.mp3\n",
      "11500\n",
      "12000\n",
      "12500\n",
      "13000\n",
      "13500\n",
      "14000\n",
      "14500\n",
      "15000\n",
      "15500\n",
      "16000\n",
      "16500\n",
      "17000\n",
      "17500\n",
      "18000\n",
      "18500\n",
      "19000\n",
      "19500\n",
      "20000\n",
      "20500\n",
      "21000\n",
      "21500\n",
      "22000\n",
      "22500\n",
      "23000\n",
      "23500\n",
      "24000\n",
      "24500\n",
      "25000\n",
      "25500\n",
      "26000\n",
      "26500\n",
      "27000\n",
      "27500\n",
      "28000\n",
      "28500\n",
      "29000\n",
      "29500\n",
      "30000\n",
      "30500\n",
      "31000\n",
      "31500\n",
      "32000\n",
      "32500\n"
     ]
    }
   ],
   "source": [
    "for i in range(train_ds.__len__()):\n",
    "    if i%500 == 0:\n",
    "        print(i)\n",
    "    try:\n",
    "        audio, label, filepath = train_ds[i]\n",
    "    except:\n",
    "        print(f\"Problems at index {i} with file: {train_ds.get_filepath(i)}\")"
   ],
   "metadata": {
    "collapsed": false,
    "ExecuteTime": {
     "end_time": "2023-11-17T12:43:45.786089418Z",
     "start_time": "2023-11-17T10:22:30.008361702Z"
    }
   },
   "id": "e82dd07babe58411"
  }
 ],
 "metadata": {
  "kernelspec": {
   "display_name": "Python 3 (ipykernel)",
   "language": "python",
   "name": "python3"
  },
  "language_info": {
   "codemirror_mode": {
    "name": "ipython",
    "version": 3
   },
   "file_extension": ".py",
   "mimetype": "text/x-python",
   "name": "python",
   "nbconvert_exporter": "python",
   "pygments_lexer": "ipython3",
   "version": "3.11.0rc1"
  }
 },
 "nbformat": 4,
 "nbformat_minor": 5
}
