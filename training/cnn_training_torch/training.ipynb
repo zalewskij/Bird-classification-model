{
 "cells": [
  {
   "cell_type": "markdown",
   "id": "68726db873b8dce7",
   "metadata": {
    "collapsed": false
   },
   "source": [
    "# Classes and variables"
   ]
  },
  {
   "cell_type": "code",
   "execution_count": null,
   "id": "1e1e43838f725aab",
   "metadata": {
    "ExecuteTime": {
     "end_time": "2023-11-21T00:12:26.272138111Z",
     "start_time": "2023-11-21T00:12:23.732199357Z"
    },
    "collapsed": false
   },
   "outputs": [],
   "source": [
    "from birdclassification.preprocessing.filtering import filter_recordings_30\n",
    "from torch.utils.data import DataLoader\n",
    "import torch\n",
    "from sklearn.model_selection import train_test_split\n",
    "from training.dataset import Recordings30\n",
    "from birdclassification.visualization.plots import plot_torch_spectrogram\n",
    "from training.cnn_training_torch.CNN_model import CNNNetwork\n",
    "from torchsummary import summary"
   ]
  },
  {
   "cell_type": "code",
   "execution_count": null,
   "id": "816e75a17dc17a2",
   "metadata": {
    "ExecuteTime": {
     "end_time": "2023-11-21T00:12:26.333782066Z",
     "start_time": "2023-11-21T00:12:26.318148832Z"
    },
    "collapsed": false
   },
   "outputs": [],
   "source": [
    "DEVICE = 'cuda' if torch.cuda.is_available() else 'cpu'\n",
    "\n",
    "SEED = 123\n",
    "RECORDINGS_DIR = '/mnt/d/recordings_30/'\n",
    "NOISES_DIR = '/aaa/'\n",
    "\n",
    "SAMPLE_RATE = 32000\n",
    "NUM_SAMPLES = SAMPLE_RATE * 1\n",
    "BATCH_SIZE = 32\n",
    "NUM_WORKERS = 8\n",
    "\n",
    "LEARNING_RATE = 0.0001\n",
    "EPOCHS = 5"
   ]
  },
  {
   "cell_type": "markdown",
   "id": "e2500b5a9a57f175",
   "metadata": {
    "collapsed": false
   },
   "source": [
    "# Prepare dataset and dataloaders, visualize dataset"
   ]
  },
  {
   "cell_type": "code",
   "execution_count": null,
   "id": "63a6e7eb0ea22a95",
   "metadata": {
    "ExecuteTime": {
     "end_time": "2023-11-21T00:12:32.621068038Z",
     "start_time": "2023-11-21T00:12:26.318628302Z"
    },
    "collapsed": false
   },
   "outputs": [],
   "source": [
    "df = filter_recordings_30(\"../../data/xeno_canto_recordings.csv\", \"../../data/bird-list-extended.csv\", )\n",
    "\n",
    "#subset for test purpose\n",
    "# df = df.sample(frac = 0.1, random_state=SEED)\n",
    "\n",
    "train_df, test_val_df = train_test_split(df, stratify=df['Latin name'], test_size=0.2, random_state = SEED)\n",
    "val_df, test_df = train_test_split(test_val_df, stratify=test_val_df['Latin name'], test_size=0.5, random_state = SEED)\n",
    "\n",
    "train_ds = Recordings30(train_df, recording_dir=RECORDINGS_DIR, noises_dir=NOISES_DIR, sample_rate=SAMPLE_RATE, device = DEVICE)\n",
    "val_ds = Recordings30(val_df, recording_dir=RECORDINGS_DIR, noises_dir=NOISES_DIR, sample_rate = 32000, device = DEVICE)\n",
    "test_ds = Recordings30(test_df, recording_dir=RECORDINGS_DIR, noises_dir=NOISES_DIR,sample_rate = 32000,device = DEVICE)\n",
    "\n",
    "train_dl  = DataLoader(train_ds, batch_size=BATCH_SIZE, num_workers=NUM_WORKERS)\n",
    "val_dl  = DataLoader(val_ds, batch_size=BATCH_SIZE, num_workers=NUM_WORKERS)\n",
    "test_dl  = DataLoader(test_ds, batch_size=BATCH_SIZE, num_workers=NUM_WORKERS)"
   ]
  },
  {
   "cell_type": "code",
   "execution_count": null,
   "id": "c61c612cd209e56d",
   "metadata": {
    "ExecuteTime": {
     "end_time": "2023-11-21T00:14:21.742990903Z",
     "start_time": "2023-11-21T00:12:32.622505320Z"
    },
    "collapsed": false
   },
   "outputs": [],
   "source": [
    "train_ds.visualize_dataset(3207,5)"
   ]
  },
  {
   "cell_type": "markdown",
   "id": "5dc7af23f048046c",
   "metadata": {
    "collapsed": false
   },
   "source": [
    "# Prepare a model, loss functions"
   ]
  },
  {
   "cell_type": "code",
   "execution_count": null,
   "id": "ce99d90c296dcb74",
   "metadata": {
    "ExecuteTime": {
     "start_time": "2023-11-21T00:14:21.656201808Z"
    },
    "collapsed": false
   },
   "outputs": [],
   "source": [
    "cnn = CNNNetwork().to(DEVICE)\n",
    "summary(cnn, (1, 64, 251)) "
   ]
  },
  {
   "cell_type": "code",
   "execution_count": null,
   "id": "51da132857d56e87",
   "metadata": {
    "ExecuteTime": {
     "start_time": "2023-11-21T19:10:07.895087253Z"
    },
    "collapsed": false
   },
   "outputs": [],
   "source": [
    "cnn.eval()"
   ]
  },
  {
   "cell_type": "code",
   "execution_count": null,
   "id": "fc0c61402a5f18de",
   "metadata": {
    "ExecuteTime": {
     "end_time": "2023-11-21T00:14:22.175624750Z",
     "start_time": "2023-11-21T00:14:21.700289440Z"
    },
    "collapsed": false
   },
   "outputs": [],
   "source": [
    "loss_fn = torch.nn.CrossEntropyLoss()\n",
    "optimizer = torch.optim.Adam(cnn.parameters(),\n",
    "                             lr=LEARNING_RATE)"
   ]
  },
  {
   "cell_type": "markdown",
   "id": "2380e0608b51937c",
   "metadata": {
    "collapsed": false
   },
   "source": [
    "# Train loop"
   ]
  },
  {
   "cell_type": "code",
   "execution_count": null,
   "id": "3d4d6b60baba8699",
   "metadata": {
    "ExecuteTime": {
     "end_time": "2023-11-21T14:31:37.528952437Z",
     "start_time": "2023-11-21T00:14:22.177572930Z"
    },
    "collapsed": false
   },
   "outputs": [],
   "source": [
    "from datetime import datetime\n",
    "import sys\n",
    "from training.training_utils import train_one_epoch\n",
    "from torch.utils.tensorboard import SummaryWriter\n",
    "from training.validation_metrics import calculate_metric\n",
    "from sklearn.metrics import f1_score\n",
    "\n",
    "timestamp = datetime.now().strftime('%Y%m%d_%H%M%S')\n",
    "writer = SummaryWriter(f'logs/fashion_trainer_{timestamp}')\n",
    "epoch_number = 0\n",
    "\n",
    "best_vloss = sys.float_info.max\n",
    "\n",
    "for epoch in range(EPOCHS):\n",
    "    print('EPOCH {}:'.format(epoch_number + 1))\n",
    "    \n",
    "    # Make sure gradient tracking is on, and do a pass over the data\n",
    "    cnn.train(True)\n",
    "    avg_loss = train_one_epoch(epoch_number, writer, train_dl, optimizer, loss_fn, cnn, DEVICE)\n",
    "\n",
    "    # Set the model to evaluation mode, disabling dropout and using population \n",
    "    # statistics for batch normalization.\n",
    "    cnn.eval()\n",
    "    running_vloss = 0.0\n",
    "\n",
    "    # Disable gradient computation and reduce memory consumption.\n",
    "    with torch.no_grad():\n",
    "        for i, vdata in enumerate(val_dl):\n",
    "            vinputs, vlabels = vdata\n",
    "            vinputs = torch.unsqueeze(vinputs, dim=1).to(DEVICE)\n",
    "            voutputs = cnn(vinputs)\n",
    "            vloss = loss_fn(voutputs, vlabels.to(DEVICE))\n",
    "            running_vloss += vloss\n",
    "    \n",
    "    avg_vloss = running_vloss / (i + 1)\n",
    "    print(\"#############################################################\")\n",
    "    print(\"Epoch results:\")\n",
    "    print(f'Loss train {avg_loss} valid loss: {avg_vloss}')\n",
    "    validation_f1_score = calculate_metric(cnn, val_dl, DEVICE, metric=f1_score)\n",
    "    train_f1_score = None\n",
    "    print(f'F1 score train {train_f1_score} valid f1 score {validation_f1_score}')\n",
    "    print(\"#############################################################\\n\\n\")\n",
    "    \n",
    "    # Log the running loss averaged per batch\n",
    "    # for both training and validation\n",
    "    writer.add_scalars('Training vs. Validation Loss',\n",
    "                    { 'Training' : avg_loss, 'Validation' : avg_vloss },\n",
    "                    epoch_number + 1)\n",
    "    \n",
    "    \n",
    "    writer.add_scalars('Macro_averaged_f1_score',\n",
    "                    { 'Validation' : validation_f1_score},\n",
    "                    epoch_number + 1)\n",
    "    \n",
    "    writer.flush()\n",
    "    \n",
    "    # Track best performance, and save the model's state\n",
    "    if avg_vloss < best_vloss:\n",
    "        best_vloss = avg_vloss\n",
    "        model_path = f'model_{timestamp}_{epoch_number}'\n",
    "        torch.save(cnn.state_dict(), model_path)\n",
    "    \n",
    "    epoch_number += 1"
   ]
  },
  {
   "cell_type": "markdown",
   "id": "d06f71feecd3bda2",
   "metadata": {
    "collapsed": false
   },
   "source": [
    "# Save the model"
   ]
  },
  {
   "cell_type": "code",
   "execution_count": null,
   "id": "48662bbc67b9c3ba",
   "metadata": {
    "ExecuteTime": {
     "end_time": "2023-11-21T18:10:25.959808049Z",
     "start_time": "2023-11-21T18:10:25.914461016Z"
    },
    "collapsed": false
   },
   "outputs": [],
   "source": [
    "torch.save(cnn.state_dict(), \"../saved_models/cnn_1.pt\")"
   ]
  }
 ],
 "metadata": {
  "kernelspec": {
   "display_name": "Python 3 (ipykernel)",
   "language": "python",
   "name": "python3"
  },
  "language_info": {
   "codemirror_mode": {
    "name": "ipython",
    "version": 3
   },
   "file_extension": ".py",
   "mimetype": "text/x-python",
   "name": "python",
   "nbconvert_exporter": "python",
   "pygments_lexer": "ipython3",
   "version": "3.10.12"
  }
 },
 "nbformat": 4,
 "nbformat_minor": 5
}
