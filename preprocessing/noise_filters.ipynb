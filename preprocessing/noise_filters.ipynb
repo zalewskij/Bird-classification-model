{
 "cells": [
  {
   "cell_type": "markdown",
   "metadata": {},
   "source": [
    "## Noise reduction\n"
   ]
  },
  {
   "cell_type": "code",
   "execution_count": null,
   "metadata": {},
   "outputs": [],
   "source": [
    "from scipy import signal\n",
    "import matplotlib.pyplot as plt\n",
    "import numpy as np\n",
    "import librosa\n",
    "from visualization.plots import plot_waveform\n",
    "from preprocessing.filtering import filter_recordings_30\n",
    "from preprocessing.noise_filters import bandpass\n",
    "import noisereduce as nr"
   ]
  },
  {
   "cell_type": "markdown",
   "metadata": {},
   "source": [
    "### Low pass filter response\n",
    "\n",
    "##### Intuition behind the filter response plot:\n",
    "1. Lower frequencies gain is 0dB\n",
    "2. While frequencies below above 10^2 [rad/s] (cut-off frequency) are silenced (negative gain)"
   ]
  },
  {
   "cell_type": "code",
   "execution_count": null,
   "metadata": {},
   "outputs": [],
   "source": [
    "b, a = signal.butter(4, 100, 'low', analog=True)\n",
    "w, h = signal.freqs(b, a)\n",
    "plt.semilogx(w, 20 * np.log10(abs(h)))\n",
    "plt.title('Butterworth filter frequency response')\n",
    "plt.xlabel('Frequency [radians / second]')\n",
    "plt.ylabel('Amplitude [dB]')\n",
    "plt.margins(0, 0.1)\n",
    "plt.grid(which='both', axis='both')\n",
    "plt.axvline(100, color='green') # cutoff frequency\n",
    "plt.show()"
   ]
  },
  {
   "cell_type": "markdown",
   "metadata": {},
   "source": [
    "### Test on 10Hz signal\n",
    "\n",
    "##### Testing the low-pass filter\n",
    "1. Create a signal of 10Hz (signal) and 20Hz (noise)\n",
    "2. Apply filter to retrieve the signal"
   ]
  },
  {
   "cell_type": "code",
   "execution_count": null,
   "metadata": {},
   "outputs": [],
   "source": [
    "t = np.linspace(0, 1, 1000, False)  # 1 second\n",
    "sig = np.sin(2*np.pi*10*t) + np.sin(2*np.pi*20*t)\n",
    "fig, (ax1, ax2) = plt.subplots(2, 1, sharex=True)\n",
    "ax1.plot(t, sig)\n",
    "ax1.set_title('10 Hz and 20 Hz sinusoids')\n",
    "ax1.axis([0, 1, -2, 2])\n",
    "\n",
    "sos = signal.butter(10, 15, 'hp', fs=1000, output='sos')\n",
    "filtered = signal.sosfilt(sos, sig)\n",
    "ax2.plot(t, filtered)\n",
    "ax2.set_title('After 15 Hz high-pass filter')\n",
    "ax2.axis([0, 1, -2, 2])\n",
    "ax2.set_xlabel('Time [seconds]')\n",
    "plt.tight_layout()\n",
    "plt.show()"
   ]
  },
  {
   "cell_type": "markdown",
   "metadata": {},
   "source": [
    "### Test of the bird recordings (band pass filter)"
   ]
  },
  {
   "cell_type": "code",
   "execution_count": null,
   "metadata": {},
   "outputs": [],
   "source": [
    "df = filter_recordings_30()\n",
    "df"
   ]
  },
  {
   "cell_type": "code",
   "execution_count": null,
   "metadata": {},
   "outputs": [],
   "source": [
    "sample = df.sample(100, random_state=0)\n",
    "sample"
   ]
  },
  {
   "cell_type": "code",
   "execution_count": null,
   "metadata": {},
   "outputs": [],
   "source": [
    "for i in range (10):\n",
    "     filename = f\"{sample.iloc[i]['id']}.mp3\"\n",
    "     latin_name = f\"{sample.iloc[i]['Latin name']}\"\n",
    "     also = f\"{sample.iloc[i]['also']}\"\n",
    "     quality = f\"{sample.iloc[i]['q']}\"\n",
    "     sig ,sr = librosa.load(f\"/media/jacek/E753-A120/recordings_30/{filename}\", sr=None)\n",
    "     print(f\"filename: {filename}\\n latin name: {latin_name}\\n also: {also}\\n quality: {quality}\\n\")\n",
    "     \n",
    "     print(\"Source\")\n",
    "     plot_waveform(sig, sr)\n",
    "     print(\"\\n\")\n",
    "     \n",
    "     print(\"Bandpass\")\n",
    "     sos = signal.butter(10, 50, 'hp', fs=1000, output='sos')\n",
    "     filtered = bandpass(sig, [500, 20000], sr)\n",
    "     plot_waveform(filtered, sr)\n",
    "     print(\"\\n\")\n",
    "     \n",
    "     print(\"Stationary noise reduction\")\n",
    "     filtered = nr.reduce_noise(y = sig, sr = sr, n_std_thresh_stationary = 1.5, stationary = True)\n",
    "     plot_waveform(filtered, sr)\n",
    "     print(\"\\n\")\n",
    "        \n",
    "     print(\"Non-Stationary noise reduction\")\n",
    "     filtered = nr.reduce_noise(y = sig, sr = sr, thresh_n_mult_nonstationary = 2,stationary = False)\n",
    "     plot_waveform(filtered, sr)\n",
    "     print(\"\\n\")\n",
    "     \n",
    "  \n"
   ]
  },
  {
   "cell_type": "code",
   "execution_count": null,
   "metadata": {},
   "outputs": [],
   "source": []
  }
 ],
 "metadata": {
  "kernelspec": {
   "display_name": "Python 3 (ipykernel)",
   "language": "python",
   "name": "python3"
  },
  "language_info": {
   "codemirror_mode": {
    "name": "ipython",
    "version": 3
   },
   "file_extension": ".py",
   "mimetype": "text/x-python",
   "name": "python",
   "nbconvert_exporter": "python",
   "pygments_lexer": "ipython3",
   "version": "3.10.12"
  }
 },
 "nbformat": 4,
 "nbformat_minor": 1
}
