{
 "cells": [
  {
   "cell_type": "markdown",
   "source": [
    "# Load a sample, select a part of the waveform to be used as a filter"
   ],
   "metadata": {
    "collapsed": false
   }
  },
  {
   "cell_type": "code",
   "execution_count": null,
   "outputs": [],
   "source": [
    "import soundfile as sf\n",
    "from visualization.plots import plot_waveform\n",
    "import IPython.display as ipd\n",
    "import librosa\n",
    "import matplotlib.pyplot as plt\n",
    "%matplotlib inline"
   ],
   "metadata": {
    "collapsed": false
   }
  },
  {
   "cell_type": "code",
   "execution_count": null,
   "metadata": {},
   "outputs": [],
   "source": [
    "SAMPLE_RATE = 44100\n",
    "\n",
    "x_1, sr = sf.read('../test_recordings/myszołów_szum.mp3')\n",
    "x=x_1[:,0] #get only one channel\n",
    "x = librosa.resample(x, orig_sr=sr, target_sr=SAMPLE_RATE)\n",
    "#x, sr = librosa.load('../test_recordings/myszołów_szum.mp3')\n",
    "plot_waveform(x, sr)"
   ]
  },
  {
   "cell_type": "markdown",
   "source": [],
   "metadata": {
    "collapsed": false
   }
  },
  {
   "cell_type": "code",
   "execution_count": null,
   "metadata": {},
   "outputs": [],
   "source": [
    "#plot_waveform(x=x[90800:113000],sr=sr)\n",
    "plot_waveform(x[201000:220000], sr = SAMPLE_RATE)"
   ]
  },
  {
   "cell_type": "markdown",
   "source": [
    "\n",
    "\n",
    "\n",
    "\n",
    "\n",
    "# Matched filter on the recording\n"
   ],
   "metadata": {
    "collapsed": false
   }
  },
  {
   "cell_type": "code",
   "execution_count": null,
   "outputs": [],
   "source": [
    "from utils import matched_filter\n",
    "f = x[201000:220000]\n",
    "matched_filter(x, SAMPLE_RATE, f)"
   ],
   "metadata": {
    "collapsed": false
   }
  },
  {
   "cell_type": "code",
   "execution_count": null,
   "outputs": [],
   "source": [
    "from preprocessing.filtering import Filtering\n",
    "import pandas as pd\n",
    "\n",
    "df = pd.read_csv(\"../data-scrapping/data/xeno_canto_recordings.csv\")\n",
    "df = Filtering.filter_by_species(df, gen = 'buteo', sp = 'buteo')\n",
    "df"
   ],
   "metadata": {
    "collapsed": false
   }
  },
  {
   "cell_type": "markdown",
   "source": [],
   "metadata": {
    "collapsed": false
   }
  },
  {
   "cell_type": "markdown",
   "source": [
    "## Myszołów - resample + match filter"
   ],
   "metadata": {
    "collapsed": false
   }
  },
  {
   "cell_type": "code",
   "execution_count": null,
   "outputs": [],
   "source": [
    "for i in df['id'].iloc[:25]:\n",
    "   x_1, sr = sf.read(f'/media/jacek/E753-A120/xeno-canto/{i}.mp3')\n",
    "   try:\n",
    "      x=x_1[:,0] #get only one channel\n",
    "   except:\n",
    "      x = x_1\n",
    "\n",
    "   x = librosa.resample(x, orig_sr=sr, target_sr=SAMPLE_RATE)\n",
    "   matched_filter(x, SAMPLE_RATE, f)\n",
    "   plt.show()\n",
    "   print(f\"id: {i}, length: {len(x)} type: {x.dtype} sampling_rate: {SAMPLE_RATE}\")"
   ],
   "metadata": {
    "collapsed": false
   }
  },
  {
   "cell_type": "markdown",
   "source": [
    "## Drozd śpiewak"
   ],
   "metadata": {
    "collapsed": false
   }
  },
  {
   "cell_type": "code",
   "execution_count": null,
   "outputs": [],
   "source": [
    "from preprocessing.filtering import Filtering\n",
    "import pandas as pd\n",
    "\n",
    "df = pd.read_csv(\"../data-scrapping/data/xeno_canto_recordings.csv\")\n",
    "df = Filtering.filter_by_species(df, gen = 'Turdus', sp = 'philomelos')\n",
    "df"
   ],
   "metadata": {
    "collapsed": false
   }
  },
  {
   "cell_type": "code",
   "execution_count": null,
   "outputs": [],
   "source": [
    "SAMPLE_RATE = 44100\n",
    "i = df['id'].iloc[2]\n",
    "x_1, sr = sf.read(f'/media/jacek/E753-A120/xeno-canto/{i}.mp3')\n",
    "try:\n",
    "   x=x_1[:,0] #get only one channel\n",
    "except:\n",
    "   x = x_1\n",
    "\n",
    "x = librosa.resample(x, orig_sr=sr, target_sr=SAMPLE_RATE)\n",
    "plot_waveform(x, SAMPLE_RATE)\n"
   ],
   "metadata": {
    "collapsed": false
   }
  }
 ],
 "metadata": {
  "kernelspec": {
   "display_name": "Python 3",
   "language": "python",
   "name": "python3"
  },
  "language_info": {
   "codemirror_mode": {
    "name": "ipython",
    "version": 3
   },
   "file_extension": ".py",
   "mimetype": "text/x-python",
   "name": "python",
   "nbconvert_exporter": "python",
   "pygments_lexer": "ipython3",
   "version": "3.8.5"
  }
 },
 "nbformat": 4,
 "nbformat_minor": 4
}
