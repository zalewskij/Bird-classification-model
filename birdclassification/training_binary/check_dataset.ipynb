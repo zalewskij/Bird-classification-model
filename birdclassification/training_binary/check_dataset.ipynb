{
 "cells": [
  {
   "cell_type": "code",
   "execution_count": null,
   "id": "initial_id",
   "metadata": {
    "collapsed": true
   },
   "outputs": [],
   "source": [
    "import torch\n",
    "import pandas as pd\n",
    "from birdclassification.training_binary.dataset_binary import BinaryDataset\n",
    "\n",
    "SAMPLE_RATE = 32000\n",
    "DEVICE = 'cuda' if torch.cuda.is_available() else 'cpu'"
   ]
  },
  {
   "cell_type": "code",
   "execution_count": null,
   "outputs": [],
   "source": [
    "df = pd.read_csv(\"/Users/zosia/Desktop/data.csv\")\n",
    "\n",
    "dataset = BinaryDataset(df, not_bird_dir=\"/Users/zosia/Desktop/NotBirds\", bird_dir=\"/Users/zosia/Desktop/recordings_30\", sample_rate=SAMPLE_RATE, device=DEVICE)"
   ],
   "metadata": {
    "collapsed": false
   },
   "id": "2583b56e241f38c4"
  },
  {
   "cell_type": "code",
   "execution_count": null,
   "outputs": [],
   "source": [
    "dataset.visualize_dataset(0, 5)\n",
    "dataset.get_filepath(1)"
   ],
   "metadata": {
    "collapsed": false
   },
   "id": "64700d6ce7458d5c"
  },
  {
   "cell_type": "code",
   "execution_count": null,
   "outputs": [],
   "source": [],
   "metadata": {
    "collapsed": false
   },
   "id": "74ff87f6f9eb6493"
  }
 ],
 "metadata": {
  "kernelspec": {
   "display_name": "Python 3",
   "language": "python",
   "name": "python3"
  },
  "language_info": {
   "codemirror_mode": {
    "name": "ipython",
    "version": 2
   },
   "file_extension": ".py",
   "mimetype": "text/x-python",
   "name": "python",
   "nbconvert_exporter": "python",
   "pygments_lexer": "ipython2",
   "version": "2.7.6"
  }
 },
 "nbformat": 4,
 "nbformat_minor": 5
}
