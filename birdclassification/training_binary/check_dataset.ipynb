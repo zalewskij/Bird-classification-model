{
 "cells": [
  {
   "cell_type": "markdown",
   "source": [
    "### Binary Classifier set"
   ],
   "metadata": {
    "collapsed": false
   },
   "id": "93db98e23d719755"
  },
  {
   "cell_type": "code",
   "execution_count": null,
   "outputs": [],
   "source": [
    "import torch\n",
    "import pandas as pd\n",
    "from birdclassification.training_binary.dataset import BinaryDataset\n",
    "from birdclassification.preprocessing.noises_dataset import NoisesDataset\n",
    "import random\n",
    "\n",
    "SAMPLE_RATE = 32000\n",
    "DEVICE = 'cuda' if torch.cuda.is_available() else 'cpu'\n",
    "NOISES_DIR = \"/Users/zosia/Desktop/NotBirds\" "
   ],
   "metadata": {
    "collapsed": false
   },
   "id": "initial_id"
  },
  {
   "cell_type": "code",
   "execution_count": null,
   "outputs": [],
   "source": [
    "df = pd.read_csv(\"/Users/zosia/Desktop/data.csv\")\n",
    "\n",
    "dataset = BinaryDataset(df, not_bird_dir=NOISES_DIR, bird_dir=\"/Users/zosia/Desktop/recordings_30\", noises_dir='', sample_rate=SAMPLE_RATE, device=DEVICE)"
   ],
   "metadata": {
    "collapsed": false
   },
   "id": "2583b56e241f38c4"
  },
  {
   "cell_type": "code",
   "execution_count": null,
   "outputs": [],
   "source": [
    "index = random.randint(0, dataset.__len__() - 1)\n",
    "dataset.visualize_dataset(index, 2)\n",
    "index = random.randint(0, dataset.__len__() - 1)\n",
    "dataset.visualize_dataset(index, 2)"
   ],
   "metadata": {
    "collapsed": false
   },
   "id": "64700d6ce7458d5c"
  },
  {
   "cell_type": "markdown",
   "source": [
    "### Augmentation set"
   ],
   "metadata": {
    "collapsed": false
   },
   "id": "818885c95e0012af"
  },
  {
   "cell_type": "code",
   "execution_count": null,
   "outputs": [],
   "source": [
    "noises_df = pd.read_csv(\"/Users/zosia/Desktop/noises.csv\")\n",
    "noises_dataset = NoisesDataset(df=noises_df, recordings__dir=NOISES_DIR, sample_rate=SAMPLE_RATE)"
   ],
   "metadata": {
    "collapsed": false
   },
   "id": "a52556bb85eeb09f"
  },
  {
   "cell_type": "code",
   "execution_count": null,
   "outputs": [],
   "source": [
    "dataset.visualize_dataset(0, 5)"
   ],
   "metadata": {
    "collapsed": false
   },
   "id": "f9ac308c2535ba6c"
  }
 ],
 "metadata": {
  "kernelspec": {
   "display_name": "Python 3",
   "language": "python",
   "name": "python3"
  },
  "language_info": {
   "codemirror_mode": {
    "name": "ipython",
    "version": 2
   },
   "file_extension": ".py",
   "mimetype": "text/x-python",
   "name": "python",
   "nbconvert_exporter": "python",
   "pygments_lexer": "ipython2",
   "version": "2.7.6"
  }
 },
 "nbformat": 4,
 "nbformat_minor": 5
}
