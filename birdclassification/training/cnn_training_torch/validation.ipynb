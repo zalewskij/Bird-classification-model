{
 "cells": [
  {
   "cell_type": "markdown",
   "id": "f130015da0732434",
   "metadata": {
    "collapsed": false
   },
   "source": [
    "# Load model"
   ]
  },
  {
   "cell_type": "code",
   "execution_count": 1,
   "id": "f251e6be7220e116",
   "metadata": {
    "ExecuteTime": {
     "end_time": "2023-11-26T15:34:51.260886758Z",
     "start_time": "2023-11-26T15:34:44.879265303Z"
    },
    "collapsed": false
   },
   "outputs": [
    {
     "name": "stderr",
     "output_type": "stream",
     "text": [
      "/home/piotr/.local/lib/python3.10/site-packages/tqdm/auto.py:21: TqdmWarning: IProgress not found. Please update jupyter and ipywidgets. See https://ipywidgets.readthedocs.io/en/stable/user_install.html\n",
      "  from .autonotebook import tqdm as notebook_tqdm\n"
     ]
    }
   ],
   "source": [
    "from birdclassification.preprocessing.filtering import filter_recordings_30\n",
    "from torch.utils.data import DataLoader\n",
    "import torch\n",
    "from sklearn.model_selection import train_test_split\n",
    "from birdclassification.training.dataset import Recordings30\n",
    "from birdclassification.training.cnn_training_torch.CNN_model import CNNNetwork\n",
    "import pandas as pd\n",
    "import matplotlib.pyplot as plt\n",
    "import seaborn as sns\n",
    "from sklearn.metrics import balanced_accuracy_score, accuracy_score, confusion_matrix, classification_report"
   ]
  },
  {
   "cell_type": "code",
   "execution_count": 2,
   "id": "initial_id",
   "metadata": {
    "ExecuteTime": {
     "end_time": "2023-11-26T15:34:51.318669238Z",
     "start_time": "2023-11-26T15:34:51.267733057Z"
    },
    "collapsed": false
   },
   "outputs": [
    {
     "data": {
      "text/plain": [
       "<All keys matched successfully>"
      ]
     },
     "execution_count": 2,
     "metadata": {},
     "output_type": "execute_result"
    }
   ],
   "source": [
    "PATH = '../saved_models/cnn_1.pt'\n",
    "cnn = CNNNetwork()\n",
    "cnn.load_state_dict(torch.load(PATH))"
   ]
  },
  {
   "cell_type": "code",
   "execution_count": 3,
   "id": "4fea66771e709683",
   "metadata": {
    "ExecuteTime": {
     "end_time": "2023-11-26T15:34:51.323483539Z",
     "start_time": "2023-11-26T15:34:51.317644810Z"
    },
    "collapsed": false
   },
   "outputs": [
    {
     "data": {
      "text/plain": [
       "CNNNetwork(\n",
       "  (conv1): Sequential(\n",
       "    (0): Conv2d(1, 16, kernel_size=(3, 3), stride=(1, 1), padding=(2, 2))\n",
       "    (1): ReLU()\n",
       "    (2): MaxPool2d(kernel_size=2, stride=2, padding=0, dilation=1, ceil_mode=False)\n",
       "  )\n",
       "  (conv2): Sequential(\n",
       "    (0): Conv2d(16, 32, kernel_size=(3, 3), stride=(1, 1), padding=(2, 2))\n",
       "    (1): ReLU()\n",
       "    (2): MaxPool2d(kernel_size=2, stride=2, padding=0, dilation=1, ceil_mode=False)\n",
       "  )\n",
       "  (conv3): Sequential(\n",
       "    (0): Conv2d(32, 64, kernel_size=(3, 3), stride=(1, 1), padding=(2, 2))\n",
       "    (1): ReLU()\n",
       "    (2): MaxPool2d(kernel_size=2, stride=2, padding=0, dilation=1, ceil_mode=False)\n",
       "  )\n",
       "  (conv4): Sequential(\n",
       "    (0): Conv2d(64, 128, kernel_size=(3, 3), stride=(1, 1), padding=(2, 2))\n",
       "    (1): ReLU()\n",
       "    (2): MaxPool2d(kernel_size=2, stride=2, padding=0, dilation=1, ceil_mode=False)\n",
       "  )\n",
       "  (flatten): Flatten(start_dim=1, end_dim=-1)\n",
       "  (linear): Linear(in_features=10880, out_features=30, bias=True)\n",
       ")"
      ]
     },
     "execution_count": 3,
     "metadata": {},
     "output_type": "execute_result"
    }
   ],
   "source": [
    "cnn.eval()"
   ]
  },
  {
   "cell_type": "markdown",
   "id": "fe23910ba1116e42",
   "metadata": {
    "collapsed": false
   },
   "source": [
    "# Prepare dataset"
   ]
  },
  {
   "cell_type": "code",
   "execution_count": 4,
   "id": "52a8e93fb157111",
   "metadata": {
    "ExecuteTime": {
     "end_time": "2023-11-26T15:35:15.409826439Z",
     "start_time": "2023-11-26T15:35:15.340003043Z"
    },
    "collapsed": false
   },
   "outputs": [],
   "source": [
    "# DEVICE = torch.device(\"cuda\" if torch.cuda.is_available() else \"cpu\")\n",
    "DEVICE = \"cuda\" if torch.cuda.is_available() else \"cpu\"\n",
    "SEED = 123\n",
    "RECORDINGS_DIR = '/mnt/d/recordings_30/' #'/media/jacek/E753-A120/recordings_30/'\n",
    "NOISES_DIR = '/path/to/noise/dataset'\n",
    "SAMPLE_RATE = 32000\n",
    "NUM_SAMPLES = SAMPLE_RATE * 1\n",
    "BATCH_SIZE = 32\n",
    "LEARNING_RATE = 0.0001\n",
    "EPOCHS = 5\n",
    "NUM_WORKERS = 8"
   ]
  },
  {
   "cell_type": "code",
   "execution_count": 5,
   "id": "29d4534e8e1cef03",
   "metadata": {
    "ExecuteTime": {
     "end_time": "2023-11-26T15:35:26.996689542Z",
     "start_time": "2023-11-26T15:35:19.640324Z"
    },
    "collapsed": false
   },
   "outputs": [
    {
     "name": "stderr",
     "output_type": "stream",
     "text": [
      "/home/piotr/thesis/Bird-classification-model/birdclassification/preprocessing/filtering.py:72: DtypeWarning: Columns (10,39,43,44,45,46,47,48) have mixed types. Specify dtype option on import or set low_memory=False.\n",
      "  recordings = pd.read_csv(filepath_recordings)\n"
     ]
    }
   ],
   "source": [
    "df = filter_recordings_30(\"../../../data/xeno_canto_recordings.csv\", \"../../../data/bird-list-extended.csv\", )\n",
    "\n",
    "train_df, test_val_df = train_test_split(df, stratify=df['Latin name'], test_size=0.2, random_state = SEED)\n",
    "val_df, test_df = train_test_split(test_val_df, stratify=test_val_df['Latin name'], test_size=0.5, random_state = SEED)\n",
    "\n",
    "train_ds = Recordings30(train_df, recording_dir=RECORDINGS_DIR, noises_dir=NOISES_DIR, sample_rate=SAMPLE_RATE, device = DEVICE)\n",
    "val_ds = Recordings30(val_df, recording_dir=RECORDINGS_DIR, noises_dir=NOISES_DIR, sample_rate = 32000, device = DEVICE)\n",
    "test_ds = Recordings30(test_df, recording_dir=RECORDINGS_DIR, noises_dir=NOISES_DIR,sample_rate = 32000,device = DEVICE)\n",
    "\n",
    "train_dl  = DataLoader(train_ds, batch_size= BATCH_SIZE, num_workers=NUM_WORKERS)\n",
    "val_dl  = DataLoader(val_ds, batch_size= BATCH_SIZE, num_workers=NUM_WORKERS)\n",
    "test_dl  = DataLoader(test_ds, batch_size= BATCH_SIZE, num_workers=NUM_WORKERS)"
   ]
  },
  {
   "cell_type": "markdown",
   "id": "797ea3071a5e9987",
   "metadata": {
    "collapsed": false
   },
   "source": [
    "# Validation"
   ]
  },
  {
   "cell_type": "code",
   "execution_count": 6,
   "id": "3b92925251f5ea08",
   "metadata": {
    "ExecuteTime": {
     "end_time": "2023-11-26T15:35:27.013737848Z",
     "start_time": "2023-11-26T15:35:26.998432790Z"
    },
    "collapsed": false
   },
   "outputs": [],
   "source": [
    "from birdclassification.training.validation_metrics import calculate_metric\n",
    "from sklearn.metrics import f1_score, precision_score\n",
    "import numpy as np"
   ]
  },
  {
   "cell_type": "code",
   "execution_count": 7,
   "id": "c6cc3b84bbcca3e4",
   "metadata": {
    "ExecuteTime": {
     "end_time": "2023-11-26T15:35:27.069415440Z",
     "start_time": "2023-11-26T15:35:27.003774374Z"
    },
    "collapsed": false
   },
   "outputs": [
    {
     "data": {
      "text/plain": [
       "{0: 'Alauda arvensis',\n",
       " 1: 'Anas platyrhynchos',\n",
       " 2: 'Apus apus',\n",
       " 3: 'Asio otus',\n",
       " 4: 'Buteo buteo',\n",
       " 5: 'Carduelis carduelis',\n",
       " 6: 'Ciconia ciconia',\n",
       " 7: 'Columba livia',\n",
       " 8: 'Corvus corax',\n",
       " 9: 'Corvus cornix',\n",
       " 10: 'Corvus frugilegus',\n",
       " 11: 'Cuculus canorus',\n",
       " 12: 'Cygnus olor',\n",
       " 13: 'Dendrocopos major',\n",
       " 14: 'Garrulus glandarius',\n",
       " 15: 'Grus grus',\n",
       " 16: 'Hirundo rustica',\n",
       " 17: 'Lophophanes cristatus',\n",
       " 18: 'Passer domesticus',\n",
       " 19: 'Phalacrocorax carbo',\n",
       " 20: 'Phasianus colchicus',\n",
       " 21: 'Phoenicurus ochruros',\n",
       " 22: 'Pica pica',\n",
       " 23: 'Picus viridis',\n",
       " 24: 'Sternula albifrons',\n",
       " 25: 'Sturnus vulgaris',\n",
       " 26: 'Tetrao urogallus',\n",
       " 27: 'Turdus merula',\n",
       " 28: 'Turdus torquatus',\n",
       " 29: 'Turdus viscivorus'}"
      ]
     },
     "execution_count": 7,
     "metadata": {},
     "output_type": "execute_result"
    }
   ],
   "source": [
    "train_ds.get_mapping()"
   ]
  },
  {
   "cell_type": "code",
   "execution_count": 8,
   "id": "77c691917c9e3367",
   "metadata": {
    "ExecuteTime": {
     "end_time": "2023-11-21T22:54:11.386909382Z",
     "start_time": "2023-11-21T22:47:38.475391556Z"
    },
    "collapsed": false
   },
   "outputs": [
    {
     "data": {
      "text/plain": [
       "0.5051342377832662"
      ]
     },
     "execution_count": 8,
     "metadata": {},
     "output_type": "execute_result"
    }
   ],
   "source": [
    "f1_score = calculate_metric(cnn, val_dl, device=DEVICE, metric=lambda x, y: f1_score(x, y, average='macro'))\n",
    "f1_score"
   ]
  },
  {
   "cell_type": "code",
   "execution_count": 9,
   "id": "7532fa5d1fca8f22",
   "metadata": {
    "ExecuteTime": {
     "end_time": "2023-11-21T23:25:29.512923980Z",
     "start_time": "2023-11-21T23:19:49.938938705Z"
    },
    "collapsed": false
   },
   "outputs": [
    {
     "data": {
      "text/plain": [
       "0.5804280546740362"
      ]
     },
     "execution_count": 9,
     "metadata": {},
     "output_type": "execute_result"
    }
   ],
   "source": [
    "precision = calculate_metric(cnn, val_dl, device=DEVICE, metric=lambda x, y: precision_score(x, y, average='macro'))\n",
    "precision"
   ]
  },
  {
   "cell_type": "code",
   "execution_count": 10,
   "id": "a5e4983173af7f12",
   "metadata": {
    "ExecuteTime": {
     "end_time": "2023-11-21T23:07:33.367507712Z",
     "start_time": "2023-11-21T23:02:29.731905267Z"
    },
    "collapsed": false
   },
   "outputs": [
    {
     "data": {
      "text/plain": [
       "'              precision    recall  f1-score   support\\n\\n         0.0       0.71      0.87      0.78       265\\n         1.0       0.74      0.63      0.68       108\\n         2.0       0.77      0.75      0.76        71\\n         3.0       0.58      0.24      0.34       127\\n         4.0       0.60      0.67      0.63        94\\n         5.0       0.10      0.05      0.07       206\\n         6.0       0.70      0.50      0.58        14\\n         7.0       0.67      0.45      0.54        22\\n         8.0       0.48      0.88      0.62       207\\n         9.0       0.49      0.36      0.42       121\\n        10.0       0.48      0.69      0.57        70\\n        11.0       0.35      0.86      0.49       195\\n        12.0       0.19      0.27      0.22        52\\n        13.0       0.85      0.62      0.72       246\\n        14.0       0.38      0.44      0.41       188\\n        15.0       0.41      0.07      0.12        95\\n        16.0       0.75      0.57      0.65       166\\n        17.0       0.78      0.65      0.71        94\\n        18.0       0.51      0.29      0.37       249\\n        19.0       0.50      0.24      0.32        21\\n        20.0       0.72      0.64      0.68        64\\n        21.0       0.80      0.58      0.67       133\\n        22.0       0.29      0.13      0.18       114\\n        23.0       0.78      0.67      0.72       103\\n        24.0       0.83      0.42      0.56        36\\n        25.0       0.21      0.22      0.21       170\\n        26.0       0.75      0.20      0.32        15\\n        27.0       0.67      0.78      0.72       672\\n        28.0       0.67      0.31      0.42        84\\n        29.0       0.66      0.71      0.68       119\\n\\n    accuracy                           0.56      4121\\n   macro avg       0.58      0.49      0.51      4121\\nweighted avg       0.57      0.56      0.54      4121\\n'"
      ]
     },
     "execution_count": 10,
     "metadata": {},
     "output_type": "execute_result"
    }
   ],
   "source": [
    "classification = calculate_metric(cnn, val_dl, device=DEVICE, metric=classification_report)\n",
    "classification"
   ]
  },
  {
   "cell_type": "code",
   "execution_count": 12,
   "id": "56d17110a869795b",
   "metadata": {
    "ExecuteTime": {
     "end_time": "2023-11-26T15:40:36.710477243Z",
     "start_time": "2023-11-26T15:35:37.819642267Z"
    },
    "collapsed": false
   },
   "outputs": [
    {
     "name": "stdout",
     "output_type": "stream",
     "text": [
      "Unexpected exception formatting exception. Falling back to standard exception\n"
     ]
    },
    {
     "name": "stderr",
     "output_type": "stream",
     "text": [
      "Traceback (most recent call last):\n",
      "  File \"/home/piotr/.local/lib/python3.10/site-packages/IPython/core/interactiveshell.py\", line 3526, in run_code\n",
      "    exec(code_obj, self.user_global_ns, self.user_ns)\n",
      "  File \"/tmp/ipykernel_1345/875642692.py\", line 1, in <module>\n",
      "    confusion_matrix = calculate_metric(cnn, val_dl, device=DEVICE, metric=confusion_matrix)\n",
      "  File \"/home/piotr/thesis/Bird-classification-model/birdclassification/training/validation_metrics.py\", line 187, in calculate_metric\n",
      "  File \"/home/piotr/.local/lib/python3.10/site-packages/torch/utils/data/dataloader.py\", line 630, in __next__\n",
      "    data = self._next_data()\n",
      "  File \"/home/piotr/.local/lib/python3.10/site-packages/torch/utils/data/dataloader.py\", line 1328, in _next_data\n",
      "    idx, data = self._get_data()\n",
      "  File \"/home/piotr/.local/lib/python3.10/site-packages/torch/utils/data/dataloader.py\", line 1294, in _get_data\n",
      "    success, data = self._try_get_data()\n",
      "  File \"/home/piotr/.local/lib/python3.10/site-packages/torch/utils/data/dataloader.py\", line 1132, in _try_get_data\n",
      "    data = self._data_queue.get(timeout=timeout)\n",
      "  File \"/usr/lib/python3.10/multiprocessing/queues.py\", line 113, in get\n",
      "    if not self._poll(timeout):\n",
      "  File \"/usr/lib/python3.10/multiprocessing/connection.py\", line 257, in poll\n",
      "    return self._poll(timeout)\n",
      "  File \"/usr/lib/python3.10/multiprocessing/connection.py\", line 424, in _poll\n",
      "    r = wait([self], timeout)\n",
      "  File \"/usr/lib/python3.10/multiprocessing/connection.py\", line 931, in wait\n",
      "    ready = selector.select(timeout)\n",
      "  File \"/usr/lib/python3.10/selectors.py\", line 416, in select\n",
      "    fd_event_list = self._selector.poll(timeout)\n",
      "KeyboardInterrupt\n",
      "\n",
      "During handling of the above exception, another exception occurred:\n",
      "\n",
      "Traceback (most recent call last):\n",
      "  File \"/home/piotr/.local/lib/python3.10/site-packages/IPython/core/interactiveshell.py\", line 2120, in showtraceback\n",
      "    stb = self.InteractiveTB.structured_traceback(\n",
      "  File \"/home/piotr/.local/lib/python3.10/site-packages/IPython/core/ultratb.py\", line 1435, in structured_traceback\n",
      "    return FormattedTB.structured_traceback(\n",
      "  File \"/home/piotr/.local/lib/python3.10/site-packages/IPython/core/ultratb.py\", line 1326, in structured_traceback\n",
      "    return VerboseTB.structured_traceback(\n",
      "  File \"/home/piotr/.local/lib/python3.10/site-packages/IPython/core/ultratb.py\", line 1173, in structured_traceback\n",
      "    formatted_exception = self.format_exception_as_a_whole(etype, evalue, etb, number_of_lines_of_context,\n",
      "  File \"/home/piotr/.local/lib/python3.10/site-packages/IPython/core/ultratb.py\", line 1088, in format_exception_as_a_whole\n",
      "    frames.append(self.format_record(record))\n",
      "  File \"/home/piotr/.local/lib/python3.10/site-packages/IPython/core/ultratb.py\", line 970, in format_record\n",
      "    frame_info.lines, Colors, self.has_colors, lvals\n",
      "  File \"/home/piotr/.local/lib/python3.10/site-packages/IPython/core/ultratb.py\", line 792, in lines\n",
      "    return self._sd.lines\n",
      "  File \"/home/piotr/.local/lib/python3.10/site-packages/stack_data/utils.py\", line 144, in cached_property_wrapper\n",
      "    value = obj.__dict__[self.func.__name__] = self.func(obj)\n",
      "  File \"/home/piotr/.local/lib/python3.10/site-packages/stack_data/core.py\", line 734, in lines\n",
      "    pieces = self.included_pieces\n",
      "  File \"/home/piotr/.local/lib/python3.10/site-packages/stack_data/utils.py\", line 144, in cached_property_wrapper\n",
      "    value = obj.__dict__[self.func.__name__] = self.func(obj)\n",
      "  File \"/home/piotr/.local/lib/python3.10/site-packages/stack_data/core.py\", line 681, in included_pieces\n",
      "    pos = scope_pieces.index(self.executing_piece)\n",
      "  File \"/home/piotr/.local/lib/python3.10/site-packages/stack_data/utils.py\", line 144, in cached_property_wrapper\n",
      "    value = obj.__dict__[self.func.__name__] = self.func(obj)\n",
      "  File \"/home/piotr/.local/lib/python3.10/site-packages/stack_data/core.py\", line 660, in executing_piece\n",
      "    return only(\n",
      "  File \"/home/piotr/.local/lib/python3.10/site-packages/executing/executing.py\", line 190, in only\n",
      "    raise NotOneValueFound('Expected one value, found 0')\n",
      "executing.executing.NotOneValueFound: Expected one value, found 0\n"
     ]
    }
   ],
   "source": [
    "confusion_matrix = calculate_metric(cnn, val_dl, device=DEVICE, metric=confusion_matrix) # BUGGGGG"
   ]
  },
  {
   "cell_type": "code",
   "execution_count": null,
   "id": "5c04bc98b828b0f4",
   "metadata": {
    "ExecuteTime": {
     "end_time": "2023-11-26T15:57:17.276447226Z",
     "start_time": "2023-11-26T15:57:15.064944289Z"
    },
    "collapsed": false
   },
   "outputs": [],
   "source": [
    "cm = confusion_matrix\n",
    "cm = cm.astype('float') / cm.sum(axis=1)[:, np.newaxis]\n",
    "df_cm = pd.DataFrame(cm)\n",
    "df_cm.columns = train_ds.get_mapping().values()\n",
    "df_cm.index = train_ds.get_mapping().values()\n",
    "plt.figure(figsize = (40,40))\n",
    "s = sns.heatmap(df_cm, annot=True, cmap = 'binary', fmt='.2f')\n",
    "s.set_xlabel('True label', fontsize=24, labelpad=70)\n",
    "s.set_ylabel('Prediction', fontsize=24, labelpad=70)\n",
    "# s.set_title(\"Confusion matrix of predictions\")"
   ]
  }
 ],
 "metadata": {
  "kernelspec": {
   "display_name": "Python 3",
   "language": "python",
   "name": "python3"
  },
  "language_info": {
   "codemirror_mode": {
    "name": "ipython",
    "version": 3
   },
   "file_extension": ".py",
   "mimetype": "text/x-python",
   "name": "python",
   "nbconvert_exporter": "python",
   "pygments_lexer": "ipython3",
   "version": "3.10.12"
  }
 },
 "nbformat": 4,
 "nbformat_minor": 5
}
