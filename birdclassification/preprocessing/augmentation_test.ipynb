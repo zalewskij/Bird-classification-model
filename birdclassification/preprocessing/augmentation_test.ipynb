{
 "cells": [
  {
   "cell_type": "markdown",
   "metadata": {},
   "source": [
    "## Adding noise to audio clips\n",
    "<https://medium.com/analytics-vidhya/adding-noise-to-audio-clips-5d8cee24ccb81>\n",
    "\n",
    "Things to test:\\\n",
    "<https://github.com/iver56/audiomentations>\n",
    "<https://pytorch.org/audio/main/tutorials/audio_data_augmentation_tutorial.html>"
   ]
  },
  {
   "cell_type": "code",
   "execution_count": null,
   "metadata": {
    "ExecuteTime": {
     "end_time": "2023-09-10T19:04:02.515625210Z",
     "start_time": "2023-09-10T19:04:02.026164296Z"
    }
   },
   "outputs": [],
   "source": [
    "import librosa\n",
    "import matplotlib.pyplot as plt\n",
    "import IPython\n",
    "import numpy as np\n",
    "import augmentation as Augmentation"
   ]
  },
  {
   "cell_type": "code",
   "execution_count": null,
   "metadata": {
    "ExecuteTime": {
     "end_time": "2023-09-10T19:04:02.574304904Z",
     "start_time": "2023-09-10T19:04:02.558704292Z"
    }
   },
   "outputs": [],
   "source": [
    "def print_audio(signal, sr):\n",
    "    print(plt.plot(signal), end='\\n')\n",
    "    print(f\"Sampling rate = {sr}\", end = '\\n')\n",
    "    display(IPython.display.Audio(signal, rate = sr))\n"
   ]
  },
  {
   "cell_type": "markdown",
   "metadata": {},
   "source": [
    "### Original file"
   ]
  },
  {
   "cell_type": "code",
   "execution_count": null,
   "metadata": {
    "ExecuteTime": {
     "end_time": "2023-09-10T19:04:04.123040056Z",
     "start_time": "2023-09-10T19:04:02.558998176Z"
    }
   },
   "outputs": [],
   "source": [
    "signal, sr = librosa.load('../test_recordings/XC828343 - Tawny Owl - Strix aluco.wav')\n",
    "print_audio(signal, sr)"
   ]
  },
  {
   "cell_type": "markdown",
   "metadata": {},
   "source": [
    "### Gaussian noise (white noise)"
   ]
  },
  {
   "cell_type": "code",
   "execution_count": null,
   "metadata": {
    "ExecuteTime": {
     "end_time": "2023-09-10T19:04:04.603523834Z",
     "start_time": "2023-09-10T19:04:04.126308307Z"
    }
   },
   "outputs": [],
   "source": [
    "noisy_signal = Augmentation.add_white_noise(signal, 0.7)\n",
    "print_audio(noisy_signal, sr)"
   ]
  },
  {
   "cell_type": "markdown",
   "metadata": {},
   "source": [
    "### Time stretch"
   ]
  },
  {
   "cell_type": "code",
   "execution_count": null,
   "metadata": {
    "ExecuteTime": {
     "end_time": "2023-09-10T19:04:05.428984091Z",
     "start_time": "2023-09-10T19:04:04.607251645Z"
    }
   },
   "outputs": [],
   "source": [
    "stretched_signal = Augmentation.time_stretch(signal, 0.5)\n",
    "print_audio(stretched_signal, sr)"
   ]
  },
  {
   "cell_type": "markdown",
   "metadata": {},
   "source": [
    "### Pitch shifting"
   ]
  },
  {
   "cell_type": "code",
   "execution_count": null,
   "metadata": {
    "ExecuteTime": {
     "end_time": "2023-09-10T19:04:05.952731913Z",
     "start_time": "2023-09-10T19:04:05.432293856Z"
    }
   },
   "outputs": [],
   "source": [
    "pitch_shifted_signal = Augmentation.pitch_scale(signal,sr, 2)\n",
    "print_audio(pitch_shifted_signal, sr)"
   ]
  },
  {
   "cell_type": "markdown",
   "metadata": {},
   "source": [
    "### Invert polarity"
   ]
  },
  {
   "cell_type": "code",
   "execution_count": null,
   "metadata": {
    "ExecuteTime": {
     "end_time": "2023-09-10T19:04:06.299438279Z",
     "start_time": "2023-09-10T19:04:05.966347804Z"
    }
   },
   "outputs": [],
   "source": [
    "pitch_shifted_signal = Augmentation.invert_polarity(signal)\n",
    "print_audio(pitch_shifted_signal, sr)"
   ]
  },
  {
   "cell_type": "markdown",
   "metadata": {},
   "source": [
    "### Random gain"
   ]
  },
  {
   "cell_type": "code",
   "execution_count": null,
   "metadata": {
    "ExecuteTime": {
     "end_time": "2023-09-10T19:07:13.666272662Z",
     "start_time": "2023-09-10T19:07:13.239333767Z"
    }
   },
   "outputs": [],
   "source": [
    "random_gain_signal = Augmentation.random_gain(signal, 12, 15)\n",
    "print_audio(random_gain_signal, sr)"
   ]
  },
  {
   "cell_type": "markdown",
   "metadata": {},
   "source": []
  },
  {
   "cell_type": "markdown",
   "metadata": {},
   "source": [
    "### Background noise"
   ]
  },
  {
   "cell_type": "code",
   "execution_count": null,
   "metadata": {},
   "outputs": [],
   "source": [
    "noise, sr = librosa.load('../test_recordings/barking.wav')\n",
    "print_audio(noise, sr)"
   ]
  },
  {
   "cell_type": "code",
   "execution_count": null,
   "metadata": {},
   "outputs": [],
   "source": [
    "noisy_signal = Augmentation.add_background_noise(signal, noise, 1)\n",
    "print_audio(noisy_signal, sr)"
   ]
  },
  {
   "cell_type": "markdown",
   "metadata": {
    "collapsed": false
   },
   "source": [
    "### Time Shift"
   ]
  },
  {
   "cell_type": "code",
   "execution_count": null,
   "metadata": {
    "collapsed": false
   },
   "outputs": [],
   "source": [
    "noisy_signal = Augmentation.time_shift(signal)\n",
    "print_audio(noisy_signal, sr)"
   ]
  },
  {
   "cell_type": "markdown",
   "metadata": {
    "collapsed": false
   },
   "source": [
    "### Random Chunk"
   ]
  },
  {
   "cell_type": "code",
   "execution_count": null,
   "metadata": {
    "collapsed": false
   },
   "outputs": [],
   "source": [
    "noisy_signal = Augmentation.random_chunk(signal, sr, 6)\n",
    "print_audio(noisy_signal, sr)"
   ]
  },
  {
   "cell_type": "markdown",
   "metadata": {
    "collapsed": false
   },
   "source": [
    "### Random partial stretching in time and frequency"
   ]
  },
  {
   "cell_type": "code",
   "execution_count": null,
   "metadata": {
    "collapsed": false
   },
   "outputs": [],
   "source": [
    "noisy_signal = Augmentation.partial_time_and_pitch_stretching(signal, sr, 0.5, 4, 0.05, 0.25, 1, 1)\n",
    "print_audio(noisy_signal, sr)"
   ]
  },
  {
   "cell_type": "code",
   "execution_count": null,
   "metadata": {
    "collapsed": false
   },
   "outputs": [],
   "source": []
  }
 ],
 "metadata": {
  "kernelspec": {
   "display_name": "Python 3 (ipykernel)",
   "language": "python",
   "name": "python3"
  },
  "language_info": {
   "codemirror_mode": {
    "name": "ipython",
    "version": 3
   },
   "file_extension": ".py",
   "mimetype": "text/x-python",
   "name": "python",
   "nbconvert_exporter": "python",
   "pygments_lexer": "ipython3",
   "version": "3.10.12"
  }
 },
 "nbformat": 4,
 "nbformat_minor": 1
}
